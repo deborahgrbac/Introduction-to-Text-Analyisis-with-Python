{
 "cells": [
  {
   "cell_type": "markdown",
   "id": "90df7485-b141-43e2-ba3f-3d688fd48add",
   "metadata": {},
   "source": [
    "Kernel?"
   ]
  },
  {
   "cell_type": "code",
   "execution_count": null,
   "id": "c2e76aac-029c-4fcf-946d-e4da7b0b810c",
   "metadata": {},
   "outputs": [],
   "source": []
  }
 ],
 "metadata": {
  "kernelspec": {
   "display_name": "Python 3 (ipykernel)",
   "language": "python",
   "name": "python3"
  },
  "language_info": {
   "codemirror_mode": {
    "name": "ipython",
    "version": 3
   },
   "file_extension": ".py",
   "mimetype": "text/x-python",
   "name": "python",
   "nbconvert_exporter": "python",
   "pygments_lexer": "ipython3",
   "version": "3.13.5"
  }
 },
 "nbformat": 4,
 "nbformat_minor": 5
}
