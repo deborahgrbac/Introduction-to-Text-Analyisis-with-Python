{
 "cells": [
  {
   "cell_type": "markdown",
   "id": "d153b0c4",
   "metadata": {},
   "source": [
    "### Credits:\n",
    "\n",
    "<img align=\"left\" src=\"https://ithaka-labs.s3.amazonaws.com/static-files/images/tdm/tdmdocs/CC_BY.png\"><br />\n",
    "\n",
    "This notebook is created by Zhuo Chen based on the notebooks created by [Nathan Kelber](http://nkelber.com) under [Creative Commons CC BY License](https://creativecommons.org/licenses/by/4.0/)<br />\n",
    "For questions/comments/improvements, email zhuo.chen@ithaka.org or nathan.kelber@ithaka.org<br />\n",
    "\n",
    "Reused and modified for internal use at Università Cattolica del Sacro Cuore di Milano, by Deborah Grbac, email deborah.grbac@unicatt.it and Valentina Schiariti, email valentina.schiariti@unicatt.it, released under CC BY License.\n",
    "\n",
    "This repository is founded on **Constellate notebooks**. The original Jupyter notebooks repository was designed by the educators at **ITHAKA's Constellate project**. The project was sunset on July 1, 2025. This current repository uses and resuses Constellate notebooks as Open Educational Resources (OER), free for re-use under a Creative Commons CC BY License.\n",
    "___\n"
   ]
  },
  {
   "cell_type": "markdown",
   "id": "1f81c2fd",
   "metadata": {},
   "source": [
    "# Python Intermediate 3\n",
    "\n",
    "**Description:** This notebook describes how to:\n",
    "* Use the Python `pathLib` library to manipulate files\n",
    "\n",
    "**Use Case:** For Learners (Detailed explanation, not ideal for researchers)\n",
    "\n",
    "**Difficulty:** Intermediate\n",
    "\n",
    "**Completion Time:** 90 minutes\n",
    "\n",
    "**Knowledge Required:** \n",
    "* Python Basics ([Start Python Basics I](../Python-basics/python-basics-1.ipynb))\n",
    "\n",
    "**Knowledge Recommended:**\n",
    "* [Python Intermediate 1](./python-intermediate-1.ipynb)\n",
    "* [Python Intermediate 2](./python-intermediate-2.ipynb)\n",
    "\n",
    "**Data Format:** Text (.txt)\n",
    "\n",
    "**Libraries Used:** `pathlib`\n",
    "\n",
    "**Research Pipeline:** None\n",
    "___"
   ]
  },
  {
   "cell_type": "code",
   "execution_count": 1,
   "id": "ee421b45",
   "metadata": {
    "execution": {
     "iopub.execute_input": "2025-05-30T19:54:20.563293Z",
     "iopub.status.busy": "2025-05-30T19:54:20.563019Z",
     "iopub.status.idle": "2025-05-30T19:54:21.589423Z",
     "shell.execute_reply": "2025-05-30T19:54:21.588893Z",
     "shell.execute_reply.started": "2025-05-30T19:54:20.563274Z"
    },
    "tags": []
   },
   "outputs": [],
   "source": [
    "# Import pathlib library and the Path class\n",
    "from pathlib import Path\n",
    "\n",
    "# Import a tokenizer\n",
    "from nltk.tokenize import TreebankWordTokenizer\n",
    "\n",
    "# Import a Counter Objects for counting words\n",
    "from collections import Counter\n",
    "\n",
    "# Load the NLTK stopwords list\n",
    "from nltk.corpus import stopwords\n",
    "stop_words = stopwords.words('english')\n",
    "\n",
    "# Import the CSV module\n",
    "import csv\n",
    "\n",
    "# Import libraries for making wordclouds\n",
    "from wordcloud import WordCloud\n",
    "import numpy as np\n",
    "import matplotlib as mpl\n",
    "import matplotlib.pyplot as plt\n",
    "from PIL import Image"
   ]
  },
  {
   "cell_type": "code",
   "execution_count": 2,
   "id": "ba24d992",
   "metadata": {
    "execution": {
     "iopub.execute_input": "2025-05-30T19:54:27.723492Z",
     "iopub.status.busy": "2025-05-30T19:54:27.722914Z",
     "iopub.status.idle": "2025-05-30T19:54:28.302762Z",
     "shell.execute_reply": "2025-05-30T19:54:28.302294Z",
     "shell.execute_reply.started": "2025-05-30T19:54:27.723471Z"
    },
    "tags": []
   },
   "outputs": [
    {
     "name": "stdout",
     "output_type": "stream",
     "text": [
      "Sample files ready.\n"
     ]
    }
   ],
   "source": [
    "### Download Sample Files for this Lesson\n",
    "import urllib.request\n",
    "from pathlib import Path #this creates a path that points to a file \n",
    "\n",
    "# Check if a data folder exists. If not, create it.\n",
    "data_folder = Path('./data/') #this it creates a path in the current directory (the \"./\n",
    "data_folder.mkdir(exist_ok=True) #this creates the directory; the arguments says that if the directory already exist is fine and should not vide you an error\n",
    "\n",
    "download_urls = [\n",
    "    'https://ithaka-labs.s3.amazonaws.com/static-files/images/tdm/tdmdocs/sample.txt',\n",
    "    'https://ithaka-labs.s3.amazonaws.com/static-files/images/tdm/tdmdocs/books.zip',\n",
    "    'https://ithaka-labs.s3.amazonaws.com/static-files/images/tdm/tdmdocs/sample_cloud.png'\n",
    "] #we download the files\n",
    "#this is a zip file\n",
    "\n",
    "for url in download_urls:\n",
    "    urllib.request.urlretrieve(url, './data/' + Path(url).name)\n",
    "\n",
    "import zipfile\n",
    "with zipfile.ZipFile(\"./data/books.zip\", \"r\") as zip_ref:\n",
    "    zip_ref.extractall(\"./data/books\") #this section is used to extract the files in the zip file\n",
    "\n",
    "bookzip_path = Path.cwd() / 'data' / 'books.zip'\n",
    "bookzip_path.unlink()\n",
    "\n",
    "print('Sample files ready.')"
   ]
  },
  {
   "cell_type": "markdown",
   "id": "6efc5027-f756-4e6d-9421-f6ce5bd3cbee",
   "metadata": {},
   "source": [
    "## A tree structure of filesystem\n",
    "<center><img src='https://ithaka-labs.s3.amazonaws.com/static-files/images/tdm/tdmdocs/filesystem_tree.png' width=700></center>"
   ]
  },
  {
   "cell_type": "markdown",
   "id": "59d74569",
   "metadata": {},
   "source": [
    "## An Introduction to `pathlib`\n",
    "\n",
    "Python Intermediate 2 describes the way to open, read, and write files. The built-in module `pathlib` is the best way to connect to the file system so your code can work seamlessly with files and directories, even across different operating systems. For example, `pathlib` can help you accomplish tasks like:\n",
    "\n",
    "* Find whether a particular file or directory already exists\n",
    "* Simplify the code for reading and writing to files\n",
    "* Find information about a file, including its extension\n",
    "* Iterate a process over a large group of files in a directory (including subdirectories)"
   ]
  },
  {
   "cell_type": "markdown",
   "id": "24fad475",
   "metadata": {},
   "source": [
    "### The `pathlib` module improves on `os`: \n",
    "\n",
    "Python also includes an older module named `os` for working with filepaths. The `os` module is not deprecated, but most Python programmers will tell you to move to the newer module. The `os` module treats paths as strings which leads to a lot of issues, especially when working with different operating systems. `pathlib` has a much nicer syntax for things like joining paths, creating directories, stemming paths, finding parents, and iterating over files. Ultimately, many of the same tasks can be done with `os`, but the code is often longer and the syntax tends to be more difficult to read and write. If you are using someone else's code that contains `os` in it, it is worth learning `os` to understand the code. For most practical purposes, however, `pathlib` is superior and it is a good idea to write new code using `pathlib` instead of `os`."
   ]
  },
  {
   "cell_type": "markdown",
   "id": "04539cb4",
   "metadata": {},
   "source": [
    "## Finding and Defining Paths\n",
    "\n",
    "We can find the current working directory by using the `.cwd()` method. (This is similar to the unix command `pwd`.)"
   ]
  },
  {
   "cell_type": "code",
   "execution_count": 8,
   "id": "fb1ad93e",
   "metadata": {
    "execution": {
     "iopub.execute_input": "2025-05-27T10:46:51.461027Z",
     "iopub.status.busy": "2025-05-27T10:46:51.460745Z",
     "iopub.status.idle": "2025-05-27T10:46:51.464498Z",
     "shell.execute_reply": "2025-05-27T10:46:51.464003Z",
     "shell.execute_reply.started": "2025-05-27T10:46:51.461007Z"
    },
    "tags": []
   },
   "outputs": [
    {
     "data": {
      "text/plain": [
       "PosixPath('/home/jovyan/constellate-notebooks/Python-intermediate')"
      ]
     },
     "execution_count": 8,
     "metadata": {},
     "output_type": "execute_result"
    }
   ],
   "source": [
    "# Get the current working directory\n",
    "Path.cwd()"
   ]
  },
  {
   "cell_type": "markdown",
   "id": "6a5ec9d3",
   "metadata": {},
   "source": [
    "Since Constellate runs on a linux server, we will get an path object that is a PosixPath. The directories will end in forward slashes `/`, whereas on a windows machine a path will use backward slashes, e.g. `C:\\Windows\\`.\n",
    "\n",
    "We can create a path object at any time by using an assignment statement and passing a string into the `Path()` function. The path can be **absolute**, starting at the root of the operating system filesystem, or it can be **relative**, starting from the current working directory."
   ]
  },
  {
   "cell_type": "code",
   "execution_count": 6,
   "id": "45816e1f",
   "metadata": {
    "execution": {
     "iopub.execute_input": "2025-05-29T14:29:42.264566Z",
     "iopub.status.busy": "2025-05-29T14:29:42.264055Z",
     "iopub.status.idle": "2025-05-29T14:29:42.266917Z",
     "shell.execute_reply": "2025-05-29T14:29:42.266460Z",
     "shell.execute_reply.started": "2025-05-29T14:29:42.264548Z"
    },
    "tags": []
   },
   "outputs": [],
   "source": [
    "# Create a path object based on a string from a relative path\n",
    "file_path = Path('./data/sample.txt') #creating a path object"
   ]
  },
  {
   "cell_type": "markdown",
   "id": "be169c88",
   "metadata": {},
   "source": [
    "We have created a path object, not simply a string. The path object has a lot more flexibility than a traditional string (like what is used in the `os` module). It allows us to create code that is easier to adapt for different operating systems since we do not have to be concerned about formatting the string with slashes in the correct direction and other technical issues that diverge from one operating system to another."
   ]
  },
  {
   "cell_type": "code",
   "execution_count": 7,
   "id": "a4385cc6",
   "metadata": {
    "execution": {
     "iopub.execute_input": "2025-05-29T14:29:44.986090Z",
     "iopub.status.busy": "2025-05-29T14:29:44.985820Z",
     "iopub.status.idle": "2025-05-29T14:29:44.990958Z",
     "shell.execute_reply": "2025-05-29T14:29:44.990514Z",
     "shell.execute_reply.started": "2025-05-29T14:29:44.986073Z"
    },
    "tags": []
   },
   "outputs": [
    {
     "data": {
      "text/plain": [
       "pathlib.PosixPath"
      ]
     },
     "execution_count": 7,
     "metadata": {},
     "output_type": "execute_result"
    }
   ],
   "source": [
    "# We have created a Path object, not simply a string\n",
    "type(file_path)"
   ]
  },
  {
   "cell_type": "markdown",
   "id": "0947205b",
   "metadata": {},
   "source": [
    "We can also use the `print()` function on the path object."
   ]
  },
  {
   "cell_type": "code",
   "execution_count": 11,
   "id": "3b32a318",
   "metadata": {
    "execution": {
     "iopub.execute_input": "2025-05-27T10:48:07.614895Z",
     "iopub.status.busy": "2025-05-27T10:48:07.614629Z",
     "iopub.status.idle": "2025-05-27T10:48:07.617728Z",
     "shell.execute_reply": "2025-05-27T10:48:07.617249Z",
     "shell.execute_reply.started": "2025-05-27T10:48:07.614877Z"
    },
    "tags": []
   },
   "outputs": [
    {
     "name": "stdout",
     "output_type": "stream",
     "text": [
      "data/sample.txt\n"
     ]
    }
   ],
   "source": [
    "# Print out the path object\n",
    "print(file_path)"
   ]
  },
  {
   "cell_type": "markdown",
   "id": "11ba94dc",
   "metadata": {},
   "source": [
    "The `.resolve()` method will take a relative path object and create an abolute path object. The absolute path is the full path from the root of the filesystem. On a Mac or Linux, this is simply `/`. On a Windows computer, it is usually `C:\\`."
   ]
  },
  {
   "cell_type": "code",
   "execution_count": 12,
   "id": "a458e236",
   "metadata": {
    "execution": {
     "iopub.execute_input": "2025-05-27T10:49:06.452091Z",
     "iopub.status.busy": "2025-05-27T10:49:06.451824Z",
     "iopub.status.idle": "2025-05-27T10:49:06.455749Z",
     "shell.execute_reply": "2025-05-27T10:49:06.455250Z",
     "shell.execute_reply.started": "2025-05-27T10:49:06.452073Z"
    }
   },
   "outputs": [
    {
     "data": {
      "text/plain": [
       "PosixPath('/home/jovyan/constellate-notebooks/Python-intermediate/data/sample.txt')"
      ]
     },
     "execution_count": 12,
     "metadata": {},
     "output_type": "execute_result"
    }
   ],
   "source": [
    "# Getting the full path using .resolve()\n",
    "# Returns a path object\n",
    "\n",
    "file_path.resolve() #all the way from the rooth directory to the file"
   ]
  },
  {
   "cell_type": "markdown",
   "id": "4a62f54b",
   "metadata": {},
   "source": [
    "We can also build a path based on strings separated by slashes. (This is a much more readable way to join paths than the `os` module.)"
   ]
  },
  {
   "cell_type": "code",
   "execution_count": 4,
   "id": "5cd59aee",
   "metadata": {
    "execution": {
     "iopub.execute_input": "2025-05-30T19:54:59.036108Z",
     "iopub.status.busy": "2025-05-30T19:54:59.035601Z",
     "iopub.status.idle": "2025-05-30T19:54:59.038911Z",
     "shell.execute_reply": "2025-05-30T19:54:59.038479Z",
     "shell.execute_reply.started": "2025-05-30T19:54:59.036090Z"
    },
    "tags": []
   },
   "outputs": [
    {
     "name": "stdout",
     "output_type": "stream",
     "text": [
      "/home/jovyan/constellate-notebooks/Python-intermediate/data/sample.txt\n"
     ]
    }
   ],
   "source": [
    "# Building another path off the current working directory\n",
    "# Using the slash notation\n",
    "\n",
    "file_path = Path.cwd() / 'data' / 'sample.txt'\n",
    "print(file_path)"
   ]
  },
  {
   "cell_type": "markdown",
   "id": "b37f5bfc",
   "metadata": {},
   "source": [
    "When we create a path object, there is no check to make sure it points to an actual file or directory. We can check if the path exists with the `.exists()` method."
   ]
  },
  {
   "cell_type": "code",
   "execution_count": 14,
   "id": "714b31d2",
   "metadata": {
    "execution": {
     "iopub.execute_input": "2025-05-27T10:49:49.251825Z",
     "iopub.status.busy": "2025-05-27T10:49:49.251558Z",
     "iopub.status.idle": "2025-05-27T10:49:49.255267Z",
     "shell.execute_reply": "2025-05-27T10:49:49.254765Z",
     "shell.execute_reply.started": "2025-05-27T10:49:49.251807Z"
    },
    "tags": []
   },
   "outputs": [
    {
     "data": {
      "text/plain": [
       "True"
      ]
     },
     "execution_count": 14,
     "metadata": {},
     "output_type": "execute_result"
    }
   ],
   "source": [
    "# Check if the path exists\n",
    "# Works for files and directories\n",
    "file_path.exists()"
   ]
  },
  {
   "cell_type": "markdown",
   "id": "80bfecf6",
   "metadata": {},
   "source": [
    "<h3 style=\"color:red; display:inline\">Coding Challenge! &lt; / &gt; </h3>\n",
    "\n",
    "Create a new path object `new_path` that points to a file called `sample.html` in the `data` folder. Confirm the file does not exist using the `.exists()` method."
   ]
  },
  {
   "cell_type": "code",
   "execution_count": 24,
   "id": "8fbc1419",
   "metadata": {
    "execution": {
     "iopub.execute_input": "2025-05-27T11:00:14.171538Z",
     "iopub.status.busy": "2025-05-27T11:00:14.171279Z",
     "iopub.status.idle": "2025-05-27T11:00:14.174083Z",
     "shell.execute_reply": "2025-05-27T11:00:14.173643Z",
     "shell.execute_reply.started": "2025-05-27T11:00:14.171518Z"
    }
   },
   "outputs": [],
   "source": [
    "# Checking if data/sample.html exists\n",
    "# Call the new path object new_path\n",
    "new_path = Path.cwd()/ 'data' / 'sample.html'"
   ]
  },
  {
   "cell_type": "code",
   "execution_count": 25,
   "id": "10447bef-8abe-496e-b90b-0cf86424d7a6",
   "metadata": {
    "execution": {
     "iopub.execute_input": "2025-05-27T11:00:16.101905Z",
     "iopub.status.busy": "2025-05-27T11:00:16.101641Z",
     "iopub.status.idle": "2025-05-27T11:00:16.105148Z",
     "shell.execute_reply": "2025-05-27T11:00:16.104754Z",
     "shell.execute_reply.started": "2025-05-27T11:00:16.101885Z"
    }
   },
   "outputs": [
    {
     "data": {
      "text/plain": [
       "False"
      ]
     },
     "execution_count": 25,
     "metadata": {},
     "output_type": "execute_result"
    }
   ],
   "source": [
    "new_path.exists()"
   ]
  },
  {
   "cell_type": "code",
   "execution_count": 28,
   "id": "cd0d5d0c-8804-4f53-9897-3e29e7a49755",
   "metadata": {
    "execution": {
     "iopub.execute_input": "2025-05-27T11:01:03.026048Z",
     "iopub.status.busy": "2025-05-27T11:01:03.025489Z",
     "iopub.status.idle": "2025-05-27T11:01:03.028377Z",
     "shell.execute_reply": "2025-05-27T11:01:03.027948Z",
     "shell.execute_reply.started": "2025-05-27T11:01:03.026024Z"
    }
   },
   "outputs": [],
   "source": [
    "new_path1 = Path('./data/sample.html')"
   ]
  },
  {
   "cell_type": "code",
   "execution_count": 30,
   "id": "ddfef8c8-d44c-4bd5-9036-77d9a5cc9970",
   "metadata": {
    "execution": {
     "iopub.execute_input": "2025-05-27T11:03:05.833232Z",
     "iopub.status.busy": "2025-05-27T11:03:05.832959Z",
     "iopub.status.idle": "2025-05-27T11:03:05.836808Z",
     "shell.execute_reply": "2025-05-27T11:03:05.836316Z",
     "shell.execute_reply.started": "2025-05-27T11:03:05.833211Z"
    }
   },
   "outputs": [
    {
     "data": {
      "text/plain": [
       "False"
      ]
     },
     "execution_count": 30,
     "metadata": {},
     "output_type": "execute_result"
    }
   ],
   "source": [
    "new_path1.exists()"
   ]
  },
  {
   "cell_type": "markdown",
   "id": "bf6c7669-26d7-469e-a2ec-96fef6fdbbb1",
   "metadata": {
    "tags": []
   },
   "source": [
    "Now, let's get a better understanding of the relative path and the absolute path. First, let's create a `test.txt` file in the current directory and write some text in it. \n",
    "\n",
    "Let's open the file and read in the data. "
   ]
  },
  {
   "cell_type": "code",
   "execution_count": 32,
   "id": "0f180e7d-cd52-4892-bd4c-4879e9385810",
   "metadata": {
    "execution": {
     "iopub.execute_input": "2025-05-27T11:07:01.273847Z",
     "iopub.status.busy": "2025-05-27T11:07:01.273355Z",
     "iopub.status.idle": "2025-05-27T11:07:01.277093Z",
     "shell.execute_reply": "2025-05-27T11:07:01.276566Z",
     "shell.execute_reply.started": "2025-05-27T11:07:01.273829Z"
    },
    "tags": []
   },
   "outputs": [
    {
     "name": "stdout",
     "output_type": "stream",
     "text": [
      "This is a test\n",
      "also this is a test\n"
     ]
    }
   ],
   "source": [
    "# Open the text file and read the data\n",
    "with open('test.txt', 'r') as f: #open the file in read mode\n",
    "    print(f.read())"
   ]
  },
  {
   "cell_type": "markdown",
   "id": "f86947f4-874d-4ab9-82e9-56461d1254f4",
   "metadata": {},
   "source": [
    "Next, let's delete the `test.txt` file and create a `test.txt` file in the parent directory of the current directory `constellate-notebooks`. If you try to open the file with the same code from the previous code cell, what will happen? "
   ]
  },
  {
   "cell_type": "code",
   "execution_count": 5,
   "id": "a3e22aee-f8f5-411d-aa24-bb284325fa2d",
   "metadata": {
    "execution": {
     "iopub.execute_input": "2025-05-30T19:55:04.243481Z",
     "iopub.status.busy": "2025-05-30T19:55:04.242932Z",
     "iopub.status.idle": "2025-05-30T19:55:04.296807Z",
     "shell.execute_reply": "2025-05-30T19:55:04.296165Z",
     "shell.execute_reply.started": "2025-05-30T19:55:04.243463Z"
    },
    "tags": []
   },
   "outputs": [
    {
     "ename": "FileNotFoundError",
     "evalue": "[Errno 2] No such file or directory: 'test.txt'",
     "output_type": "error",
     "traceback": [
      "\u001b[0;31m---------------------------------------------------------------------------\u001b[0m",
      "\u001b[0;31mFileNotFoundError\u001b[0m                         Traceback (most recent call last)",
      "Cell \u001b[0;32mIn[5], line 2\u001b[0m\n\u001b[1;32m      1\u001b[0m \u001b[38;5;66;03m# Open the test file in the parent directory using the same code\u001b[39;00m\n\u001b[0;32m----> 2\u001b[0m \u001b[38;5;28;01mwith\u001b[39;00m \u001b[38;5;28;43mopen\u001b[39;49m\u001b[43m(\u001b[49m\u001b[38;5;124;43m'\u001b[39;49m\u001b[38;5;124;43mtest.txt\u001b[39;49m\u001b[38;5;124;43m'\u001b[39;49m\u001b[43m,\u001b[49m\u001b[43m \u001b[49m\u001b[38;5;124;43m'\u001b[39;49m\u001b[38;5;124;43mr\u001b[39;49m\u001b[38;5;124;43m'\u001b[39;49m\u001b[43m)\u001b[49m \u001b[38;5;28;01mas\u001b[39;00m f:\n\u001b[1;32m      3\u001b[0m     \u001b[38;5;28mprint\u001b[39m(f\u001b[38;5;241m.\u001b[39mread())\n",
      "File \u001b[0;32m/opt/conda/lib/python3.11/site-packages/IPython/core/interactiveshell.py:284\u001b[0m, in \u001b[0;36m_modified_open\u001b[0;34m(file, *args, **kwargs)\u001b[0m\n\u001b[1;32m    277\u001b[0m \u001b[38;5;28;01mif\u001b[39;00m file \u001b[38;5;129;01min\u001b[39;00m {\u001b[38;5;241m0\u001b[39m, \u001b[38;5;241m1\u001b[39m, \u001b[38;5;241m2\u001b[39m}:\n\u001b[1;32m    278\u001b[0m     \u001b[38;5;28;01mraise\u001b[39;00m \u001b[38;5;167;01mValueError\u001b[39;00m(\n\u001b[1;32m    279\u001b[0m         \u001b[38;5;124mf\u001b[39m\u001b[38;5;124m\"\u001b[39m\u001b[38;5;124mIPython won\u001b[39m\u001b[38;5;124m'\u001b[39m\u001b[38;5;124mt let you open fd=\u001b[39m\u001b[38;5;132;01m{\u001b[39;00mfile\u001b[38;5;132;01m}\u001b[39;00m\u001b[38;5;124m by default \u001b[39m\u001b[38;5;124m\"\u001b[39m\n\u001b[1;32m    280\u001b[0m         \u001b[38;5;124m\"\u001b[39m\u001b[38;5;124mas it is likely to crash IPython. If you know what you are doing, \u001b[39m\u001b[38;5;124m\"\u001b[39m\n\u001b[1;32m    281\u001b[0m         \u001b[38;5;124m\"\u001b[39m\u001b[38;5;124myou can use builtins\u001b[39m\u001b[38;5;124m'\u001b[39m\u001b[38;5;124m open.\u001b[39m\u001b[38;5;124m\"\u001b[39m\n\u001b[1;32m    282\u001b[0m     )\n\u001b[0;32m--> 284\u001b[0m \u001b[38;5;28;01mreturn\u001b[39;00m \u001b[43mio_open\u001b[49m\u001b[43m(\u001b[49m\u001b[43mfile\u001b[49m\u001b[43m,\u001b[49m\u001b[43m \u001b[49m\u001b[38;5;241;43m*\u001b[39;49m\u001b[43margs\u001b[49m\u001b[43m,\u001b[49m\u001b[43m \u001b[49m\u001b[38;5;241;43m*\u001b[39;49m\u001b[38;5;241;43m*\u001b[39;49m\u001b[43mkwargs\u001b[49m\u001b[43m)\u001b[49m\n",
      "\u001b[0;31mFileNotFoundError\u001b[0m: [Errno 2] No such file or directory: 'test.txt'"
     ]
    }
   ],
   "source": [
    "# Open the test file in the parent directory using the same code\n",
    "with open('test.txt', 'r') as f:\n",
    "    print(f.read())"
   ]
  },
  {
   "cell_type": "markdown",
   "id": "063d0e08-845d-4170-a16d-995f13f84861",
   "metadata": {},
   "source": [
    "One thing you could do is to give the absolute path instead."
   ]
  },
  {
   "cell_type": "code",
   "execution_count": null,
   "id": "eb161528-ef3e-44df-9565-ea0062b6926e",
   "metadata": {
    "tags": []
   },
   "outputs": [],
   "source": [
    "# Open the test file using the absolute path\n",
    "with open('/home/jovyan/constellate-notebooks/test.txt', 'r') as f:\n",
    "    print(f.read())"
   ]
  },
  {
   "cell_type": "markdown",
   "id": "4eb03101-3611-4b7b-b09a-9412e3bddfe7",
   "metadata": {},
   "source": [
    "Or, you can use the relative path in the following way. "
   ]
  },
  {
   "cell_type": "code",
   "execution_count": null,
   "id": "040dc9bc-99a5-4d32-8eb3-4a319c2846e9",
   "metadata": {
    "tags": []
   },
   "outputs": [],
   "source": [
    "# Open the test file using the relative path\n",
    "with open('../test.txt', 'r') as f:\n",
    "    print(f.read())"
   ]
  },
  {
   "cell_type": "markdown",
   "id": "9499ce56",
   "metadata": {},
   "source": [
    "## Checking if a Path Points to an Existing File or Directory\n",
    "\n",
    "| Method | Effect |\n",
    "|---|---|\n",
    "| `.is_file()` | Return a Boolean True/False if the path points at an existing file |\n",
    "| `.is_dir()` | Return a Boolean True/False if the path points at an existing directory |"
   ]
  },
  {
   "cell_type": "code",
   "execution_count": 34,
   "id": "c1b288b9",
   "metadata": {
    "execution": {
     "iopub.execute_input": "2025-05-27T11:54:32.484384Z",
     "iopub.status.busy": "2025-05-27T11:54:32.484112Z",
     "iopub.status.idle": "2025-05-27T11:54:32.487753Z",
     "shell.execute_reply": "2025-05-27T11:54:32.487302Z",
     "shell.execute_reply.started": "2025-05-27T11:54:32.484366Z"
    }
   },
   "outputs": [
    {
     "data": {
      "text/plain": [
       "True"
      ]
     },
     "execution_count": 34,
     "metadata": {},
     "output_type": "execute_result"
    }
   ],
   "source": [
    "# Check whether path is a file\n",
    "# Returns a Boolean\n",
    "\n",
    "file_path.is_file()"
   ]
  },
  {
   "cell_type": "code",
   "execution_count": 35,
   "id": "5e6052e9",
   "metadata": {
    "execution": {
     "iopub.execute_input": "2025-05-27T11:54:42.622627Z",
     "iopub.status.busy": "2025-05-27T11:54:42.622370Z",
     "iopub.status.idle": "2025-05-27T11:54:42.625978Z",
     "shell.execute_reply": "2025-05-27T11:54:42.625509Z",
     "shell.execute_reply.started": "2025-05-27T11:54:42.622609Z"
    }
   },
   "outputs": [
    {
     "data": {
      "text/plain": [
       "False"
      ]
     },
     "execution_count": 35,
     "metadata": {},
     "output_type": "execute_result"
    }
   ],
   "source": [
    "# Check whether path is a directory\n",
    "# Returns a Boolean\n",
    "\n",
    "file_path.is_dir()"
   ]
  },
  {
   "cell_type": "markdown",
   "id": "b6f96eb8",
   "metadata": {},
   "source": [
    "## Path Attributes\n",
    "\n",
    "A path object also has useful attributes. Unlike the methods above which end in parentheses `()`, attributes do not use parentheses. (We can think of a method as function, since it ends in `()`, that additionally takes an object before the dot notation. These functions usually transform or do some kind of action that may need take arguments in the parentheses. An attribute, on the other hand, is more like a property of the object so it does not require parentheses.)\n",
    "\n",
    "| Attribute | Information Returned |\n",
    "|---|---|\n",
    "| `.parent` | Return a path object for the parent directory |\n",
    "| `.parents`[x] | Return a path object for parents x generations higher |\n",
    "| `.name` | Return a string containing the file name with extension |\n",
    "| `.stem` | Return a string containing the file name without extension |\n",
    "| `.suffix` | Return a string containing the file extension |"
   ]
  },
  {
   "cell_type": "code",
   "execution_count": 8,
   "id": "0e164920",
   "metadata": {
    "execution": {
     "iopub.execute_input": "2025-05-29T14:29:52.798103Z",
     "iopub.status.busy": "2025-05-29T14:29:52.797820Z",
     "iopub.status.idle": "2025-05-29T14:29:52.801690Z",
     "shell.execute_reply": "2025-05-29T14:29:52.801183Z",
     "shell.execute_reply.started": "2025-05-29T14:29:52.798084Z"
    },
    "scrolled": true
   },
   "outputs": [
    {
     "data": {
      "text/plain": [
       "PosixPath('data')"
      ]
     },
     "execution_count": 8,
     "metadata": {},
     "output_type": "execute_result"
    }
   ],
   "source": [
    "# Get the parent of the path\n",
    "# Returns a path object\n",
    "\n",
    "file_path.parent"
   ]
  },
  {
   "cell_type": "code",
   "execution_count": 9,
   "id": "33e2fc52",
   "metadata": {
    "execution": {
     "iopub.execute_input": "2025-05-29T14:29:58.855952Z",
     "iopub.status.busy": "2025-05-29T14:29:58.855668Z",
     "iopub.status.idle": "2025-05-29T14:29:58.859432Z",
     "shell.execute_reply": "2025-05-29T14:29:58.858929Z",
     "shell.execute_reply.started": "2025-05-29T14:29:58.855932Z"
    },
    "tags": []
   },
   "outputs": [
    {
     "data": {
      "text/plain": [
       "PosixPath('.')"
      ]
     },
     "execution_count": 9,
     "metadata": {},
     "output_type": "execute_result"
    }
   ],
   "source": [
    "# Finding the grandparent of the path using .parent twice\n",
    "# Returns a path object\n",
    "# If the path was specified from a relative path, \n",
    "# you may need to use .resolve() to get the absolute path first\n",
    "\n",
    "file_path.parent.parent"
   ]
  },
  {
   "cell_type": "code",
   "execution_count": 3,
   "id": "1da8790c",
   "metadata": {
    "execution": {
     "iopub.execute_input": "2025-05-30T19:54:36.243262Z",
     "iopub.status.busy": "2025-05-30T19:54:36.242678Z",
     "iopub.status.idle": "2025-05-30T19:54:36.477459Z",
     "shell.execute_reply": "2025-05-30T19:54:36.476803Z",
     "shell.execute_reply.started": "2025-05-30T19:54:36.243238Z"
    },
    "tags": []
   },
   "outputs": [
    {
     "ename": "NameError",
     "evalue": "name 'file_path' is not defined",
     "output_type": "error",
     "traceback": [
      "\u001b[0;31m---------------------------------------------------------------------------\u001b[0m",
      "\u001b[0;31mNameError\u001b[0m                                 Traceback (most recent call last)",
      "Cell \u001b[0;32mIn[3], line 5\u001b[0m\n\u001b[1;32m      1\u001b[0m \u001b[38;5;66;03m# Getting even deeper into the path\u001b[39;00m\n\u001b[1;32m      2\u001b[0m \u001b[38;5;66;03m# Finding the grandparent of the full path using parents with index\u001b[39;00m\n\u001b[1;32m      3\u001b[0m \u001b[38;5;66;03m# Returns a path object\u001b[39;00m\n\u001b[0;32m----> 5\u001b[0m \u001b[43mfile_path\u001b[49m\u001b[38;5;241m.\u001b[39mparents[\u001b[38;5;241m2\u001b[39m] \u001b[38;5;66;03m# Try changing the index\u001b[39;00m\n",
      "\u001b[0;31mNameError\u001b[0m: name 'file_path' is not defined"
     ]
    }
   ],
   "source": [
    "# Getting even deeper into the path\n",
    "# Finding the grandparent of the full path using parents with index\n",
    "# Returns a path object\n",
    "\n",
    "file_path.parents[2] # Try changing the index"
   ]
  },
  {
   "cell_type": "code",
   "execution_count": 12,
   "id": "8e6bad5f",
   "metadata": {
    "execution": {
     "iopub.execute_input": "2025-05-29T14:30:22.872281Z",
     "iopub.status.busy": "2025-05-29T14:30:22.872003Z",
     "iopub.status.idle": "2025-05-29T14:30:22.875622Z",
     "shell.execute_reply": "2025-05-29T14:30:22.875093Z",
     "shell.execute_reply.started": "2025-05-29T14:30:22.872263Z"
    }
   },
   "outputs": [
    {
     "data": {
      "text/plain": [
       "'sample.txt'"
      ]
     },
     "execution_count": 12,
     "metadata": {},
     "output_type": "execute_result"
    }
   ],
   "source": [
    "# Return just the name of the file or folder\n",
    "# Returns a string\n",
    "file_path.name"
   ]
  },
  {
   "cell_type": "code",
   "execution_count": 11,
   "id": "133c9678",
   "metadata": {
    "execution": {
     "iopub.execute_input": "2025-05-29T14:30:18.459112Z",
     "iopub.status.busy": "2025-05-29T14:30:18.458838Z",
     "iopub.status.idle": "2025-05-29T14:30:18.462581Z",
     "shell.execute_reply": "2025-05-29T14:30:18.462074Z",
     "shell.execute_reply.started": "2025-05-29T14:30:18.459095Z"
    }
   },
   "outputs": [
    {
     "data": {
      "text/plain": [
       "'sample'"
      ]
     },
     "execution_count": 11,
     "metadata": {},
     "output_type": "execute_result"
    }
   ],
   "source": [
    "# Return just the name of the file without extension\n",
    "# Returns a string\n",
    "\n",
    "file_path.stem"
   ]
  },
  {
   "cell_type": "code",
   "execution_count": 10,
   "id": "fec88445",
   "metadata": {
    "execution": {
     "iopub.execute_input": "2025-05-29T14:30:13.114248Z",
     "iopub.status.busy": "2025-05-29T14:30:13.113727Z",
     "iopub.status.idle": "2025-05-29T14:30:13.117451Z",
     "shell.execute_reply": "2025-05-29T14:30:13.116961Z",
     "shell.execute_reply.started": "2025-05-29T14:30:13.114225Z"
    }
   },
   "outputs": [
    {
     "data": {
      "text/plain": [
       "'.txt'"
      ]
     },
     "execution_count": 10,
     "metadata": {},
     "output_type": "execute_result"
    }
   ],
   "source": [
    "# Return just the extension/suffix\n",
    "# Returns a string\n",
    "\n",
    "file_path.suffix"
   ]
  },
  {
   "cell_type": "markdown",
   "id": "1f04c2a7",
   "metadata": {},
   "source": [
    "## Creating Files and Directories\n",
    "\n",
    "To create a new file or directory, first create the desired path object then use the appropriate method:\n",
    "\n",
    "* `.touch()` will create a new file\n",
    "* `.mkdir()` will create a new directory"
   ]
  },
  {
   "cell_type": "code",
   "execution_count": 36,
   "id": "3ab484d2",
   "metadata": {
    "execution": {
     "iopub.execute_input": "2025-05-27T12:00:42.109611Z",
     "iopub.status.busy": "2025-05-27T12:00:42.109112Z",
     "iopub.status.idle": "2025-05-27T12:00:42.112255Z",
     "shell.execute_reply": "2025-05-27T12:00:42.111763Z",
     "shell.execute_reply.started": "2025-05-27T12:00:42.109589Z"
    },
    "tags": []
   },
   "outputs": [],
   "source": [
    "# Create a new file\n",
    "\n",
    "new_file_path = Path.cwd() / 'data' / 'new_file.txt'\n",
    "new_file_path.touch()"
   ]
  },
  {
   "cell_type": "code",
   "execution_count": 37,
   "id": "7fcf10f2",
   "metadata": {
    "execution": {
     "iopub.execute_input": "2025-05-27T12:01:06.354915Z",
     "iopub.status.busy": "2025-05-27T12:01:06.354653Z",
     "iopub.status.idle": "2025-05-27T12:01:06.357828Z",
     "shell.execute_reply": "2025-05-27T12:01:06.357357Z",
     "shell.execute_reply.started": "2025-05-27T12:01:06.354899Z"
    }
   },
   "outputs": [],
   "source": [
    "# Create a new directory\n",
    "\n",
    "new_dir_path = Path.cwd() / 'data' / 'new_directory'\n",
    "\n",
    "# Create the directory\n",
    "new_dir_path.mkdir(exist_ok = True) # The exist_ok = True parameter does not raise errors if directory exists"
   ]
  },
  {
   "cell_type": "markdown",
   "id": "5de58c0d",
   "metadata": {},
   "source": [
    "## Removing Files and Directories\n",
    "\n",
    "To remove a file or directory, first create the path object then use the appropriate method:\n",
    "\n",
    "* `.unlink()` will delete a file\n",
    "* `.rmdir()` will delete a directory\n"
   ]
  },
  {
   "cell_type": "code",
   "execution_count": 38,
   "id": "d0d1deec",
   "metadata": {
    "execution": {
     "iopub.execute_input": "2025-05-27T12:02:37.086295Z",
     "iopub.status.busy": "2025-05-27T12:02:37.085800Z",
     "iopub.status.idle": "2025-05-27T12:02:37.088844Z",
     "shell.execute_reply": "2025-05-27T12:02:37.088223Z",
     "shell.execute_reply.started": "2025-05-27T12:02:37.086278Z"
    },
    "tags": []
   },
   "outputs": [],
   "source": [
    "# Remove a file\n",
    "\n",
    "new_file_path.unlink()"
   ]
  },
  {
   "cell_type": "code",
   "execution_count": 39,
   "id": "51605098",
   "metadata": {
    "execution": {
     "iopub.execute_input": "2025-05-27T12:02:42.928952Z",
     "iopub.status.busy": "2025-05-27T12:02:42.928413Z",
     "iopub.status.idle": "2025-05-27T12:02:42.931462Z",
     "shell.execute_reply": "2025-05-27T12:02:42.930962Z",
     "shell.execute_reply.started": "2025-05-27T12:02:42.928934Z"
    }
   },
   "outputs": [],
   "source": [
    "# Remove a directory\n",
    "\n",
    "new_dir_path.rmdir()"
   ]
  },
  {
   "cell_type": "markdown",
   "id": "2b8c529c",
   "metadata": {},
   "source": [
    "**Note: There is no method in Pathlib to recursively delete directories. In that case, you may want to import the module `shutil` and use the `.rmtree()` method: `shutil.rmtree(path)`.**"
   ]
  },
  {
   "cell_type": "markdown",
   "id": "3abffb1f",
   "metadata": {},
   "source": [
    "## Rename a File or Directory\n",
    "\n",
    "To rename a file, you will need two path objects: the original path object and a new path object with the new name. The syntax looks like:\n",
    "\n",
    "`old_path.rename(new_path)`"
   ]
  },
  {
   "cell_type": "code",
   "execution_count": 16,
   "id": "9af25abd",
   "metadata": {
    "execution": {
     "iopub.execute_input": "2025-05-29T14:37:08.761084Z",
     "iopub.status.busy": "2025-05-29T14:37:08.760531Z",
     "iopub.status.idle": "2025-05-29T14:37:08.763683Z",
     "shell.execute_reply": "2025-05-29T14:37:08.763252Z",
     "shell.execute_reply.started": "2025-05-29T14:37:08.761065Z"
    }
   },
   "outputs": [],
   "source": [
    "# Create an original file for this example\n",
    "\n",
    "old_path = Path.cwd() / 'data' / 'original_file.txt'\n",
    "old_path.touch()"
   ]
  },
  {
   "cell_type": "code",
   "execution_count": 17,
   "id": "06c402b8",
   "metadata": {
    "execution": {
     "iopub.execute_input": "2025-05-29T14:37:38.046605Z",
     "iopub.status.busy": "2025-05-29T14:37:38.046334Z",
     "iopub.status.idle": "2025-05-29T14:37:38.050296Z",
     "shell.execute_reply": "2025-05-29T14:37:38.049910Z",
     "shell.execute_reply.started": "2025-05-29T14:37:38.046588Z"
    }
   },
   "outputs": [
    {
     "data": {
      "text/plain": [
       "PosixPath('/home/jovyan/constellate-notebooks/Python-intermediate/data/renamed_file.txt')"
      ]
     },
     "execution_count": 17,
     "metadata": {},
     "output_type": "execute_result"
    }
   ],
   "source": [
    "# Rename the original file with `.rename()`\n",
    "# On Windows, if the renamed file already exists an error will occur\n",
    "# On Unix, if the renamed file already exists the file will be overwritten silently\n",
    "\n",
    "new_path = Path.cwd() / 'data' / 'renamed_file.txt'\n",
    "old_path.rename(new_path)"
   ]
  },
  {
   "cell_type": "markdown",
   "id": "bcf394c3",
   "metadata": {},
   "source": [
    "## Open, Read, and Write to Text Files\n",
    "\n",
    "Path objects work with the context manager `with open`. Instead of passing a string into the `open()` function, we can add the path object onto the front of a `.open()` method."
   ]
  },
  {
   "cell_type": "code",
   "execution_count": 18,
   "id": "56cf8f73",
   "metadata": {
    "execution": {
     "iopub.execute_input": "2025-05-29T14:39:39.987620Z",
     "iopub.status.busy": "2025-05-29T14:39:39.987125Z",
     "iopub.status.idle": "2025-05-29T14:39:39.990643Z",
     "shell.execute_reply": "2025-05-29T14:39:39.990183Z",
     "shell.execute_reply.started": "2025-05-29T14:39:39.987601Z"
    }
   },
   "outputs": [
    {
     "name": "stdout",
     "output_type": "stream",
     "text": [
      "A text file can have many words in it\n",
      "These words are written on the second line\n",
      "Third line\n",
      "Fourth line\n",
      "Fifth line\n",
      "Sixth line\n",
      "Seventh line\n",
      "Eighth line\n",
      "Ninth line\n",
      "Tenth line. This is the end of the text file!\n"
     ]
    }
   ],
   "source": [
    "# Opening the file with a context manager\n",
    "# and the `.open()` method\n",
    "# The 'r', read only mode, argument is optional with `.open()`\n",
    "\n",
    "with file_path.open() as f: #the pathobject. open() method\n",
    "    print(f.read())"
   ]
  },
  {
   "cell_type": "markdown",
   "id": "ae0448cb",
   "metadata": {},
   "source": [
    "<h3 style=\"color:red; display:inline\">Coding Challenge! &lt; / &gt; </h3>\n",
    "\n",
    "In the directory `data/books/`, there is a copy of Bram Stoker's Dracula from Project Gutenberg called `dracula_bram_stoker.txt`. Create a path object pointing to the file. Then open the file and print out the first 5000 characters.\n",
    "\n",
    "For a tougher challenge, print out the first 500 lines. (The `.readlines()` method will return a list whose elements are each line of the document.)"
   ]
  },
  {
   "cell_type": "code",
   "execution_count": 25,
   "id": "f5653c63",
   "metadata": {
    "execution": {
     "iopub.execute_input": "2025-05-29T14:50:04.624393Z",
     "iopub.status.busy": "2025-05-29T14:50:04.623882Z",
     "iopub.status.idle": "2025-05-29T14:50:04.627416Z",
     "shell.execute_reply": "2025-05-29T14:50:04.626979Z",
     "shell.execute_reply.started": "2025-05-29T14:50:04.624375Z"
    },
    "tags": []
   },
   "outputs": [
    {
     "name": "stdout",
     "output_type": "stream",
     "text": [
      "﻿The Project Gutenberg eBook of Dracula, by Bram Stoker\n",
      "\n",
      "This eBook is for the use of anyone anywhere in the United States and\n",
      "most other parts of the world at no cost and with almost no restrictions\n",
      "whatsoever. You may copy it, give it away or re-use it under the terms\n",
      "of the Project Gutenberg License included with this eBook or online at\n",
      "www.gutenberg.org. If you are not located in the United States, you\n",
      "will have to check the laws of the country where you are located before\n",
      "using this eBook.\n",
      "\n"
     ]
    }
   ],
   "source": [
    "# Print out 5000 characters of Bram Stoker's Dracula\n",
    "dracula_book = Path.cwd() / \"data\" / \"books\"/ \"dracula_bram_stoker.txt\" #create the path object\n",
    "with dracula_book.open() as f:\n",
    "    print(f.read(500)) #the argument here it says to \"read\" 5000 bytes of data"
   ]
  },
  {
   "cell_type": "code",
   "execution_count": null,
   "id": "5fa91b37",
   "metadata": {},
   "outputs": [],
   "source": [
    "# Print out 500 lines of Bram Stoker's Dracula\n"
   ]
  },
  {
   "cell_type": "markdown",
   "id": "d678a19b",
   "metadata": {},
   "source": [
    "## Quickly Reading or Writing a File\n",
    "\n",
    "If you are reading a small text file, then there is an even shorter way to read the file using a path object: `.read_text()`. This method opens the file, creates a string from the file object contents, and then closes the file object automatically."
   ]
  },
  {
   "cell_type": "code",
   "execution_count": 6,
   "id": "03822adc",
   "metadata": {
    "execution": {
     "iopub.execute_input": "2025-05-30T19:56:19.952567Z",
     "iopub.status.busy": "2025-05-30T19:56:19.952259Z",
     "iopub.status.idle": "2025-05-30T19:56:19.956068Z",
     "shell.execute_reply": "2025-05-30T19:56:19.955557Z",
     "shell.execute_reply.started": "2025-05-30T19:56:19.952547Z"
    }
   },
   "outputs": [
    {
     "name": "stdout",
     "output_type": "stream",
     "text": [
      "A text file can have many words in it\n",
      "These words are written on the second line\n",
      "Third line\n",
      "Fourth line\n",
      "Fifth line\n",
      "Sixth line\n",
      "Seventh line\n",
      "Eighth line\n",
      "Ninth line\n",
      "Tenth line. This is the end of the text file!\n"
     ]
    }
   ],
   "source": [
    "# Using the read_text method\n",
    "# Returns a string\n",
    "print(file_path.read_text())"
   ]
  },
  {
   "cell_type": "markdown",
   "id": "f4987421",
   "metadata": {},
   "source": [
    "There is also a fast method for writing to a file using a path object: `.write_text()`. This method opens the file object in write mode, writes a string to the file, and then closes it automatically. *Be careful with this method since it will overwrite any existing files!*"
   ]
  },
  {
   "cell_type": "code",
   "execution_count": 7,
   "id": "c63210d0",
   "metadata": {
    "execution": {
     "iopub.execute_input": "2025-05-30T19:56:56.684181Z",
     "iopub.status.busy": "2025-05-30T19:56:56.683634Z",
     "iopub.status.idle": "2025-05-30T19:56:56.687532Z",
     "shell.execute_reply": "2025-05-30T19:56:56.687044Z",
     "shell.execute_reply.started": "2025-05-30T19:56:56.684162Z"
    }
   },
   "outputs": [
    {
     "name": "stdout",
     "output_type": "stream",
     "text": [
      "Hello World!\n"
     ]
    }
   ],
   "source": [
    "# Create a new file\n",
    "\n",
    "new_file_path = Path.cwd() / 'data' / 'new_file.txt'\n",
    "\n",
    "# Write to a file\n",
    "# This overwrites the file if it already exists\n",
    "\n",
    "new_file_path.write_text('Hello World!')\n",
    "print(new_file_path.read_text())"
   ]
  },
  {
   "cell_type": "markdown",
   "id": "b1db96f1",
   "metadata": {},
   "source": [
    "<h4 style=\"color:red; display:inline\">Coding Challenge! &lt; / &gt; </h4>\n",
    "\n",
    "Create a new file and add Shakespeare's Sonnet VI from the `sonnet_string`.\n",
    "   \n",
    "For a greater challenge, write a program that will print the line numbers at the beginner of each line.\n",
    "\n",
    "For an even greater challenge, print out the rhyme scheme at the end of each line: `ababcdcdefefgg`"
   ]
  },
  {
   "cell_type": "code",
   "execution_count": null,
   "id": "3164588b",
   "metadata": {},
   "outputs": [],
   "source": [
    "# Create a file that contains the sonnet string below\n",
    "# Open the file and print it out line by line\n",
    "# At the beginning of each line, print the appropriate line number\n",
    "\n",
    "shakespeare_sonnet_path = Path.cwd()/\"data\"/\"sonnet_string.txt\"\n",
    "\n",
    "sonnet_string = \"\"\"Then let not winter's ragged hand deface,\n",
    "In thee thy summer, ere thou be distilled:\n",
    "Make sweet some vial; treasure thou some place\n",
    "With beauty's treasure ere it be self-killed.\n",
    "That use is not forbidden usury,\n",
    "Which happies those that pay the willing loan;\n",
    "That's for thy self to breed another thee,\n",
    "Or ten times happier, be it ten for one;\n",
    "Ten times thy self were happier than thou art,\n",
    "If ten of thine ten times refigured thee:\n",
    "Then what could death do if thou shouldst depart,\n",
    "Leaving thee living in posterity?\n",
    "   Be not self-willed, for thou art much too fair\n",
    "   To be death's conquest and make worms thine heir.\"\"\"\n"
   ]
  },
  {
   "cell_type": "markdown",
   "id": "3c76e0b1",
   "metadata": {},
   "source": [
    "## Gathering a List of Files with `.iterdir()` and `.rglob()`\n",
    "It is common to gather a list of files in a directory (or set of directories) in order to excecute code on each one at a time. If all the files are in a single directory, then"
   ]
  },
  {
   "cell_type": "code",
   "execution_count": 8,
   "id": "665a8107",
   "metadata": {
    "execution": {
     "iopub.execute_input": "2025-05-30T20:00:58.389144Z",
     "iopub.status.busy": "2025-05-30T20:00:58.388868Z",
     "iopub.status.idle": "2025-05-30T20:00:58.392456Z",
     "shell.execute_reply": "2025-05-30T20:00:58.392033Z",
     "shell.execute_reply.started": "2025-05-30T20:00:58.389123Z"
    }
   },
   "outputs": [
    {
     "name": "stdout",
     "output_type": "stream",
     "text": [
      "/home/jovyan/constellate-notebooks/Python-intermediate/data/books/dracula_bram_stoker.txt\n",
      "/home/jovyan/constellate-notebooks/Python-intermediate/data/books/alice_in_wonderland_lewis_carroll.txt\n",
      "/home/jovyan/constellate-notebooks/Python-intermediate/data/books/moby_dick_herman_melville.txt\n",
      "/home/jovyan/constellate-notebooks/Python-intermediate/data/books/100_years_of_solitude.png\n",
      "/home/jovyan/constellate-notebooks/Python-intermediate/data/books/little_women_louisa_m_alcott.txt\n",
      "/home/jovyan/constellate-notebooks/Python-intermediate/data/books/a_room_with_a_view_e_m_forster.txt\n",
      "/home/jovyan/constellate-notebooks/Python-intermediate/data/books/middlemarch_george_eliot.txt\n",
      "/home/jovyan/constellate-notebooks/Python-intermediate/data/books/adventures_of_sherlock_holmes_a_conan_doyle.txt\n",
      "/home/jovyan/constellate-notebooks/Python-intermediate/data/books/.ipynb_checkpoints\n",
      "/home/jovyan/constellate-notebooks/Python-intermediate/data/books/more_books\n",
      "/home/jovyan/constellate-notebooks/Python-intermediate/data/books/pride_and_prejudice_jane_austen.txt\n"
     ]
    }
   ],
   "source": [
    "# Use .iterdir() to iterate over files in a directory\n",
    "\n",
    "input_dir = Path.cwd() / 'data' / 'books'\n",
    "for file in input_dir.iterdir():\n",
    "    print(file)"
   ]
  },
  {
   "cell_type": "code",
   "execution_count": 9,
   "id": "4cc3b7ba",
   "metadata": {
    "execution": {
     "iopub.execute_input": "2025-05-30T20:01:33.243328Z",
     "iopub.status.busy": "2025-05-30T20:01:33.242783Z",
     "iopub.status.idle": "2025-05-30T20:01:33.246215Z",
     "shell.execute_reply": "2025-05-30T20:01:33.245802Z",
     "shell.execute_reply.started": "2025-05-30T20:01:33.243304Z"
    },
    "tags": []
   },
   "outputs": [
    {
     "name": "stdout",
     "output_type": "stream",
     "text": [
      "/home/jovyan/constellate-notebooks/Python-intermediate/data/books/dracula_bram_stoker.txt\n",
      "/home/jovyan/constellate-notebooks/Python-intermediate/data/books/alice_in_wonderland_lewis_carroll.txt\n",
      "/home/jovyan/constellate-notebooks/Python-intermediate/data/books/moby_dick_herman_melville.txt\n",
      "/home/jovyan/constellate-notebooks/Python-intermediate/data/books/little_women_louisa_m_alcott.txt\n",
      "/home/jovyan/constellate-notebooks/Python-intermediate/data/books/a_room_with_a_view_e_m_forster.txt\n",
      "/home/jovyan/constellate-notebooks/Python-intermediate/data/books/middlemarch_george_eliot.txt\n",
      "/home/jovyan/constellate-notebooks/Python-intermediate/data/books/adventures_of_sherlock_holmes_a_conan_doyle.txt\n",
      "/home/jovyan/constellate-notebooks/Python-intermediate/data/books/pride_and_prejudice_jane_austen.txt\n"
     ]
    }
   ],
   "source": [
    "# Use .iterdir() to iterate over files in a directory\n",
    "# Checking for a particular extension\n",
    "# Only works for a single directory!\n",
    "\n",
    "for file in input_dir.iterdir():\n",
    "    if file.suffix == '.txt':\n",
    "        print(file)"
   ]
  },
  {
   "cell_type": "markdown",
   "id": "853f03dd",
   "metadata": {},
   "source": [
    "The `.iterdir()` method will work on a single directory, but if you have multiple nested directories then you can use the `.rglob()` method. Be careful with this method, however, since if there are a lot of nested folders it could take a very long time to process the whole directory tree."
   ]
  },
  {
   "cell_type": "code",
   "execution_count": 10,
   "id": "15d631e2",
   "metadata": {
    "execution": {
     "iopub.execute_input": "2025-05-30T20:04:33.429780Z",
     "iopub.status.busy": "2025-05-30T20:04:33.429511Z",
     "iopub.status.idle": "2025-05-30T20:04:33.433523Z",
     "shell.execute_reply": "2025-05-30T20:04:33.433000Z",
     "shell.execute_reply.started": "2025-05-30T20:04:33.429761Z"
    }
   },
   "outputs": [
    {
     "name": "stdout",
     "output_type": "stream",
     "text": [
      "/home/jovyan/constellate-notebooks/Python-intermediate/data/books/dracula_bram_stoker.txt\n",
      "/home/jovyan/constellate-notebooks/Python-intermediate/data/books/alice_in_wonderland_lewis_carroll.txt\n",
      "/home/jovyan/constellate-notebooks/Python-intermediate/data/books/moby_dick_herman_melville.txt\n",
      "/home/jovyan/constellate-notebooks/Python-intermediate/data/books/little_women_louisa_m_alcott.txt\n",
      "/home/jovyan/constellate-notebooks/Python-intermediate/data/books/a_room_with_a_view_e_m_forster.txt\n",
      "/home/jovyan/constellate-notebooks/Python-intermediate/data/books/middlemarch_george_eliot.txt\n",
      "/home/jovyan/constellate-notebooks/Python-intermediate/data/books/adventures_of_sherlock_holmes_a_conan_doyle.txt\n",
      "/home/jovyan/constellate-notebooks/Python-intermediate/data/books/pride_and_prejudice_jane_austen.txt\n",
      "/home/jovyan/constellate-notebooks/Python-intermediate/data/books/.ipynb_checkpoints/dracula_bram_stoker-checkpoint.txt\n",
      "/home/jovyan/constellate-notebooks/Python-intermediate/data/books/more_books/frankenstein_mary_wollstonecraft_shelley.txt\n"
     ]
    }
   ],
   "source": [
    "# Use glob to iterate over all files including subfolders\n",
    "\n",
    "for file in input_dir.rglob(\"*.txt\"): #this looks at any txt files in the folder and the subfolders as well\n",
    "    print(file)"
   ]
  },
  {
   "cell_type": "markdown",
   "id": "f325ee76",
   "metadata": {},
   "source": [
    "## Examples"
   ]
  },
  {
   "cell_type": "markdown",
   "id": "be98781d",
   "metadata": {},
   "source": [
    "### Tokenize a Directory of Texts and Find Most Common Words"
   ]
  },
  {
   "cell_type": "code",
   "execution_count": null,
   "id": "e70fe334",
   "metadata": {},
   "outputs": [],
   "source": [
    "def tokenize_and_count(text):\n",
    "    \"\"\"Take in a string and convert into a list of token strings.\n",
    "    Remove symbol tokens. Remove common tokens using a stop_words list.\n",
    "    Then convert those token strings into a Counter object.\"\"\"\n",
    "    tokens = TreebankWordTokenizer().tokenize(text)\n",
    "    cleaned_tokens = []\n",
    "    for token in tokens:\n",
    "        token = token.lower()\n",
    "        if token in stop_words:\n",
    "            continue\n",
    "        if not token.isalpha():\n",
    "            continue\n",
    "        cleaned_tokens.append(token)\n",
    "    counts = Counter(cleaned_tokens)\n",
    "    return counts"
   ]
  },
  {
   "cell_type": "code",
   "execution_count": null,
   "id": "cfde4d21",
   "metadata": {},
   "outputs": [],
   "source": [
    "# Print out the 20 most common words in each text\n",
    "\n",
    "for file in input_dir.iterdir():\n",
    "    if file.suffix == '.txt':\n",
    "         with file.open() as f:\n",
    "                contents = f.read()\n",
    "                counts = tokenize_and_count(contents)\n",
    "                most_common = counts.most_common(20)\n",
    "                print(file.name)\n",
    "                for (token, count) in most_common:\n",
    "                    print(token.ljust(15), count)"
   ]
  },
  {
   "cell_type": "markdown",
   "id": "02b58bd9",
   "metadata": {},
   "source": [
    "### Word Clouds for a Directory of Text Files"
   ]
  },
  {
   "cell_type": "code",
   "execution_count": null,
   "id": "11e6be76",
   "metadata": {
    "tags": []
   },
   "outputs": [],
   "source": [
    "# Define how a wordcloud should look\n",
    "\n",
    "def make_cloud(counts):\n",
    "    # Adding a mask shape of a cloud to your word cloud\n",
    "    # By default, the shape will be a rectangle\n",
    "    # You can specify any shape you like based on an image file\n",
    "    cloud_mask = np.array(Image.open('./data/sample_cloud.png')) # Specifies the location of the mask shape\n",
    "    cloud_mask = np.where(cloud_mask > 3, 255, cloud_mask) # this line will take all values greater than 3 and make them 255 (white)\n",
    "    \n",
    "    ### Specify word cloud details\n",
    "    wordcloud = WordCloud(\n",
    "        width = 800, # Change the pixel width of the image if blurry\n",
    "        height = 600, # Change the pixel height of the image if blurry\n",
    "        background_color = \"white\", # Change the background color\n",
    "        colormap = 'viridis', # The colors of the words, see https://matplotlib.org/stable/tutorials/colors/colormaps.html\n",
    "        max_words = 150, # Change the max number of words shown\n",
    "        min_font_size = 4, # Do not show small text\n",
    "    \n",
    "    # Add a shape and outline (known as a mask) to your wordcloud\n",
    "        contour_color = 'blue', # The outline color of your mask shape\n",
    "        mask = cloud_mask, # \n",
    "        contour_width = 1\n",
    "    ).generate_from_frequencies(counts)\n",
    "\n",
    "    mpl.rcParams['figure.figsize'] = (20,20) # Change the image size displayed\n",
    "    plt.imshow(wordcloud, interpolation='bilinear')\n",
    "    plt.axis(\"off\")\n",
    "    plt.show()"
   ]
  },
  {
   "cell_type": "code",
   "execution_count": null,
   "id": "a7629e98",
   "metadata": {},
   "outputs": [],
   "source": [
    "# Create a single wordcloud\n",
    "\n",
    "text_path = Path.cwd() / 'data' / 'books' / 'alice_in_wonderland_lewis_carroll.txt'\n",
    "with text_path.open() as f:\n",
    "    contents = f.read()\n",
    "    counts = tokenize_and_count(contents)\n",
    "    make_cloud(counts)"
   ]
  },
  {
   "cell_type": "code",
   "execution_count": null,
   "id": "9d7033a2",
   "metadata": {},
   "outputs": [],
   "source": [
    "# Create wordclouds for every text in the directory\n",
    "\n",
    "for file in input_dir.iterdir():\n",
    "    if file.suffix == '.txt':\n",
    "         with file.open() as f:\n",
    "                contents = f.read()\n",
    "                counts = tokenize_and_count(contents)\n",
    "                make_cloud(counts)"
   ]
  },
  {
   "cell_type": "markdown",
   "id": "b383030c",
   "metadata": {},
   "source": [
    "___\n",
    "## Lesson Complete\n",
    "\n",
    "Congratulations! You have completed *Python Intermediate 3*.\n",
    "\n",
    "### Start Next Lesson: [Python Intermediate 4](./python-intermediate-4.ipynb)\n",
    "\n",
    "### Exercise Solutions\n",
    "Here are a few solutions for exercises in this lesson."
   ]
  },
  {
   "cell_type": "code",
   "execution_count": null,
   "id": "75545e34",
   "metadata": {},
   "outputs": [],
   "source": [
    "# Checking if data/sample.html exists\n",
    "new_path = Path.cwd() / 'data' / 'sample.html'\n",
    "new_path.exists()"
   ]
  },
  {
   "cell_type": "code",
   "execution_count": null,
   "id": "449bfca4",
   "metadata": {},
   "outputs": [],
   "source": [
    "# Print out 5000 characters of Bram Stoker's Dracula\n",
    "dracula_path = Path.cwd() / 'data' / 'books' / 'dracula_bram_stoker.txt'\n",
    "\n",
    "with dracula_path.open() as f:\n",
    "    contents = f.read()\n",
    "    print(contents[:5000])"
   ]
  },
  {
   "cell_type": "code",
   "execution_count": null,
   "id": "bccb2a22",
   "metadata": {},
   "outputs": [],
   "source": [
    "# Print out 500 lines of Bram Stoker's Dracula\n",
    "\n",
    "dracula_path = Path.cwd() / 'data' / 'books' / 'dracula_bram_stoker.txt'\n",
    "\n",
    "with dracula_path.open() as f:\n",
    "    contents = f.readlines()\n",
    "    shortened = contents[:500]\n",
    "    for line in shortened:\n",
    "        print(line, end='')"
   ]
  },
  {
   "cell_type": "code",
   "execution_count": null,
   "id": "2088503f",
   "metadata": {
    "tags": []
   },
   "outputs": [],
   "source": [
    "# Create a file that contains the sonnet string below\n",
    "# Open the file and print it out line by line\n",
    "# At the beginning of each line, print the appropriate line number\n",
    "\n",
    "sonnet_string = \"\"\"Then let not winter's ragged hand deface,\n",
    "In thee thy summer, ere thou be distilled:\n",
    "Make sweet some vial; treasure thou some place\n",
    "With beauty's treasure ere it be self-killed.\n",
    "That use is not forbidden usury,\n",
    "Which happies those that pay the willing loan;\n",
    "That's for thy self to breed another thee,\n",
    "Or ten times happier, be it ten for one;\n",
    "Ten times thy self were happier than thou art,\n",
    "If ten of thine ten times refigured thee:\n",
    "Then what could death do if thou shouldst depart,\n",
    "Leaving thee living in posterity?\n",
    "   Be not self-willed, for thou art much too fair\n",
    "   To be death's conquest and make worms thine heir.\"\"\"\n",
    "\n",
    "# Create the file\n",
    "new_file = Path.cwd() / 'data' / 'sonnet.txt'\n",
    "new_file.write_text(sonnet_string)\n",
    "\n",
    "# Keeping track of lines and rhymes\n",
    "i = 0\n",
    "rhyme = 'ababcdcdefefgg'\n",
    "\n",
    "# Read and print the sonnet line by line\n",
    "\n",
    "with new_file.open() as f:\n",
    "    for line in f:\n",
    "        print(i+1, line[:-1], rhyme[i]) # The final character in each line is a linebreak so we slice it off\n",
    "        i += 1"
   ]
  }
 ],
 "metadata": {
  "kernelspec": {
   "display_name": "Python 3 (ipykernel)",
   "language": "python",
   "name": "python3"
  },
  "language_info": {
   "codemirror_mode": {
    "name": "ipython",
    "version": 3
   },
   "file_extension": ".py",
   "mimetype": "text/x-python",
   "name": "python",
   "nbconvert_exporter": "python",
   "pygments_lexer": "ipython3",
   "version": "3.13.5"
  },
  "toc": {
   "base_numbering": 1,
   "nav_menu": {},
   "number_sections": true,
   "sideBar": true,
   "skip_h1_title": true,
   "title_cell": "Table of Contents",
   "title_sidebar": "Contents",
   "toc_cell": false,
   "toc_position": {
    "height": "calc(100% - 180px)",
    "left": "10px",
    "top": "150px",
    "width": "384px"
   },
   "toc_section_display": true,
   "toc_window_display": false
  }
 },
 "nbformat": 4,
 "nbformat_minor": 5
}
