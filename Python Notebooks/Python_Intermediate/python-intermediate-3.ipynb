{
 "cells": [
  {
   "cell_type": "markdown",
   "id": "d153b0c4",
   "metadata": {
    "jp-MarkdownHeadingCollapsed": true
   },
   "source": [
    "### Credits:\n",
    "\n",
    "<img align=\"left\" src=\"https://ithaka-labs.s3.amazonaws.com/static-files/images/tdm/tdmdocs/CC_BY.png\"><br />\n",
    "\n",
    "This notebook is created by Zhuo Chen based on the notebooks created by [Nathan Kelber](http://nkelber.com) under [Creative Commons CC BY License](https://creativecommons.org/licenses/by/4.0/)<br />\n",
    "For questions/comments/improvements, email zhuo.chen@ithaka.org or nathan.kelber@ithaka.org<br />\n",
    "\n",
    "Reused and modified for internal use at Università Cattolica del Sacro Cuore di Milano, by Deborah Grbac, email deborah.grbac@unicatt.it and Valentina Schiariti, email valentina.schiariti-collaboratore@unicatt.it, released under CC BY License.\n",
    "\n",
    "This repository is founded on **Constellate notebooks**. The original Jupyter notebooks repository was designed by the educators at **ITHAKA's Constellate project**. The project was sunset on July 1, 2025. This current repository uses and resuses Constellate notebooks as Open Educational Resources (OER), free for re-use under a Creative Commons CC BY License.\n",
    "___\n"
   ]
  },
  {
   "attachments": {},
   "cell_type": "markdown",
   "id": "1f81c2fd",
   "metadata": {},
   "source": [
    "# Python Intermediate 3\n",
    "\n",
    "**Description:** This notebook describes how to:\n",
    "* The Python `pathLib` library;\n",
    "* What are directories and files’ paths (absolute and relative path)\n",
    "* How to use files’ paths to manipulate, organize and analyze files\n",
    "\n",
    "This is Part 3 of 5 in the *Python Intermediate* series that will prepare you to do text analysis using the Python programming language.\n",
    "\n",
    "**Note**: Running this notebook locally will give you full control to test, modify, and save your work. We strongly recommend downloading it before you begin.\n",
    "\n",
    "___"
   ]
  },
  {
   "cell_type": "code",
   "execution_count": 2,
   "id": "ba24d992",
   "metadata": {
    "tags": []
   },
   "outputs": [
    {
     "name": "stdout",
     "output_type": "stream",
     "text": [
      "Sample files ready.\n"
     ]
    }
   ],
   "source": [
    "### Download Sample Files for this Lesson\n",
    "import urllib.request\n",
    "from pathlib import Path #this creates a path that points to a file \n",
    "\n",
    "# Check if a data folder exists. If not, create it.\n",
    "data_folder = Path('./data/') #this it creates a path in the current directory (the \"./\n",
    "data_folder.mkdir(exist_ok=True) #this creates the directory; the arguments says that if the directory already exist is fine and should not give an error\n",
    "\n",
    "download_urls = [\n",
    "    'https://ithaka-labs.s3.amazonaws.com/static-files/images/tdm/tdmdocs/sample.txt',\n",
    "    'https://ithaka-labs.s3.amazonaws.com/static-files/images/tdm/tdmdocs/books.zip',\n",
    "    'https://ithaka-labs.s3.amazonaws.com/static-files/images/tdm/tdmdocs/sample_cloud.png'\n",
    "] #we download the files\n",
    "#this is a zip file\n",
    "\n",
    "for url in download_urls:\n",
    "    urllib.request.urlretrieve(url, './data/' + Path(url).name)\n",
    "\n",
    "import zipfile\n",
    "with zipfile.ZipFile(\"./data/books.zip\", \"r\") as zip_ref:\n",
    "    zip_ref.extractall(\"./data/books\") #this section is used to extract the files in the zip file\n",
    "\n",
    "bookzip_path = Path.cwd() / 'data' / 'books.zip'\n",
    "bookzip_path.unlink()\n",
    "\n",
    "print('Sample files ready.')"
   ]
  },
  {
   "cell_type": "markdown",
   "id": "6efc5027-f756-4e6d-9421-f6ce5bd3cbee",
   "metadata": {
    "jp-MarkdownHeadingCollapsed": true
   },
   "source": [
    "## A tree structure of filesystem\n",
    "<center><img src='https://ithaka-labs.s3.amazonaws.com/static-files/images/tdm/tdmdocs/filesystem_tree.png' width=700></center>"
   ]
  },
  {
   "cell_type": "markdown",
   "id": "59d74569",
   "metadata": {},
   "source": [
    "## An Introduction to `pathlib`\n",
    "\n",
    "Python Intermediate 2 describes the way to open, read, and write files. The built-in module `pathlib` is the best way to connect to the file system so your code can work seamlessly with files and directories, even across different operating systems. For example, `pathlib` can help you accomplish tasks like:\n",
    "\n",
    "* Find whether a particular file or directory already exists\n",
    "* Simplify the code for reading and writing to files\n",
    "* Find information about a file, including its extension\n",
    "* Iterate a process over a large group of files in a directory (including subdirectories)"
   ]
  },
  {
   "cell_type": "markdown",
   "id": "04539cb4",
   "metadata": {},
   "source": [
    "## Finding and Defining Paths\n",
    "\n",
    "We can find the current working directory by using the `.cwd()` method. (This is similar to the unix command `pwd`.)"
   ]
  },
  {
   "cell_type": "code",
   "execution_count": 38,
   "id": "fb1ad93e",
   "metadata": {
    "tags": []
   },
   "outputs": [
    {
     "data": {
      "text/plain": [
       "WindowsPath('C:/Users/Utente/Introduction-to-Text-Analyisis-with-Python/Python Notebooks/Python_Intermediate')"
      ]
     },
     "execution_count": 38,
     "metadata": {},
     "output_type": "execute_result"
    }
   ],
   "source": [
    "# Get the current working directory\n",
    "Path.cwd()"
   ]
  },
  {
   "cell_type": "markdown",
   "id": "6a5ec9d3",
   "metadata": {},
   "source": [
    "This is similar to how we view file paths on the computer with the only difference that it has forward slashes `/`, whereas on a windows machine a path will use backward slashes, e.g. `C:\\Windows\\`.\n",
    "\n",
    "We can create a path object at any time by using an assignment statement and passing a string into the `Path()` function. \n",
    "\n",
    "To do this, we can either use the **absolute path** seen previously that starts at the root of the operating system filesystem, or we can simplify by using the **relative path** if the files are in our current working directory.\n",
    "See this example:"
   ]
  },
  {
   "cell_type": "code",
   "execution_count": 39,
   "id": "45816e1f",
   "metadata": {
    "tags": []
   },
   "outputs": [],
   "source": [
    "# Create a path object based on a string from a relative path\n",
    "file_path = Path('./data/sample.txt') "
   ]
  },
  {
   "cell_type": "markdown",
   "id": "be169c88",
   "metadata": {},
   "source": [
    "The `.` at the beggining refers to the current directory. If the file is not in your current directory but in a parent directory you can't refer to the current directory in this way. You will need to either refer to the file using the absolute path or put as many dots (`.`) as the number of level up in the parent directories: "
   ]
  },
  {
   "cell_type": "code",
   "execution_count": 40,
   "id": "eb161528-ef3e-44df-9565-ea0062b6926e",
   "metadata": {
    "tags": []
   },
   "outputs": [
    {
     "name": "stdout",
     "output_type": "stream",
     "text": [
      "test test test\n"
     ]
    }
   ],
   "source": [
    "# Open the test file using the absolute path\n",
    "with open('/Users/Utente/Introduction-to-Text-Analyisis-with-Python/Python Notebooks/test.txt', 'r') as f:\n",
    "    print(f.read())"
   ]
  },
  {
   "cell_type": "code",
   "execution_count": 41,
   "id": "040dc9bc-99a5-4d32-8eb3-4a319c2846e9",
   "metadata": {
    "tags": []
   },
   "outputs": [
    {
     "name": "stdout",
     "output_type": "stream",
     "text": [
      "test test test\n"
     ]
    }
   ],
   "source": [
    "# Open the test file using the relative path\n",
    "with open('../test.txt', 'r') as f:\n",
    "    print(f.read())"
   ]
  },
  {
   "cell_type": "markdown",
   "id": "a07740f4-a3ab-4f4c-a15b-3a33fc7674e3",
   "metadata": {},
   "source": [
    "We have created a **path object**, not simply a string. The path object has a lot more flexibility than a traditional string (as shown by the `type()` function). It allows us to create code that is easier to adapt for different operating systems since we do not have to be concerned about formatting the string with slashes in the correct direction and other technical issues that diverge from one operating system to another."
   ]
  },
  {
   "cell_type": "code",
   "execution_count": 42,
   "id": "a4385cc6",
   "metadata": {
    "tags": []
   },
   "outputs": [
    {
     "data": {
      "text/plain": [
       "pathlib._local.WindowsPath"
      ]
     },
     "execution_count": 42,
     "metadata": {},
     "output_type": "execute_result"
    }
   ],
   "source": [
    "# We have created a Path object, not simply a string\n",
    "type(file_path)"
   ]
  },
  {
   "cell_type": "markdown",
   "id": "0947205b",
   "metadata": {},
   "source": [
    "We can also use the `print()` function on the path object."
   ]
  },
  {
   "cell_type": "code",
   "execution_count": 43,
   "id": "3b32a318",
   "metadata": {
    "tags": []
   },
   "outputs": [
    {
     "name": "stdout",
     "output_type": "stream",
     "text": [
      "data\\sample.txt\n"
     ]
    }
   ],
   "source": [
    "# Print out the path object\n",
    "print(file_path)"
   ]
  },
  {
   "cell_type": "markdown",
   "id": "11ba94dc",
   "metadata": {},
   "source": [
    "The `.resolve()` method will take a relative path object and create an abolute path object. The absolute path is the full path from the root of the filesystem. On a Mac or Linux, this is simply `/`. On a Windows computer, it is usually `C:\\`."
   ]
  },
  {
   "cell_type": "code",
   "execution_count": 44,
   "id": "a458e236",
   "metadata": {},
   "outputs": [
    {
     "data": {
      "text/plain": [
       "WindowsPath('C:/Users/Utente/Introduction-to-Text-Analyisis-with-Python/Python Notebooks/Python_Intermediate/data/sample.txt')"
      ]
     },
     "execution_count": 44,
     "metadata": {},
     "output_type": "execute_result"
    }
   ],
   "source": [
    "# Getting the full path using .resolve()\n",
    "# Returns a path object\n",
    "\n",
    "file_path.resolve() #all the way from the rooth directory to the file"
   ]
  },
  {
   "cell_type": "markdown",
   "id": "4a62f54b",
   "metadata": {},
   "source": [
    "We can also build a path based on strings separated by slashes."
   ]
  },
  {
   "cell_type": "code",
   "execution_count": 45,
   "id": "5cd59aee",
   "metadata": {
    "tags": []
   },
   "outputs": [
    {
     "name": "stdout",
     "output_type": "stream",
     "text": [
      "C:\\Users\\Utente\\Introduction-to-Text-Analyisis-with-Python\\Python Notebooks\\Python_Intermediate\\data\\sample.txt\n"
     ]
    }
   ],
   "source": [
    "# Building another path off the current working directory\n",
    "# Using the slash notation\n",
    "\n",
    "file_path = Path.cwd() / 'data' / 'sample.txt'\n",
    "print(file_path)"
   ]
  },
  {
   "cell_type": "markdown",
   "id": "9499ce56",
   "metadata": {},
   "source": [
    "## Checking if a Path Points to an Existing File or Directory\n",
    "\n",
    "| Method | Effect |\n",
    "|---|---|\n",
    "| `.is_file()` | Return a Boolean True/False if the path points at an existing file |\n",
    "| `.is_dir()` | Return a Boolean True/False if the path points at an existing directory |"
   ]
  },
  {
   "cell_type": "code",
   "execution_count": 46,
   "id": "c1b288b9",
   "metadata": {
    "scrolled": true
   },
   "outputs": [
    {
     "data": {
      "text/plain": [
       "True"
      ]
     },
     "execution_count": 46,
     "metadata": {},
     "output_type": "execute_result"
    }
   ],
   "source": [
    "# Check whether path is a file\n",
    "# Returns a Boolean\n",
    "\n",
    "file_path.is_file()"
   ]
  },
  {
   "cell_type": "code",
   "execution_count": 47,
   "id": "5e6052e9",
   "metadata": {},
   "outputs": [
    {
     "data": {
      "text/plain": [
       "False"
      ]
     },
     "execution_count": 47,
     "metadata": {},
     "output_type": "execute_result"
    }
   ],
   "source": [
    "# Check whether path is a directory\n",
    "# Returns a Boolean\n",
    "\n",
    "file_path.is_dir()"
   ]
  },
  {
   "cell_type": "markdown",
   "id": "b6f96eb8",
   "metadata": {},
   "source": [
    "## Path Attributes\n",
    "\n",
    "A path object also has useful attributes. Unlike the methods above which end in parentheses `()`, attributes do not use parentheses. (We can think of a method as function, since it ends in `()`, that additionally takes an object before the dot notation. These functions usually transform or do some kind of action that may need take arguments in the parentheses. An attribute, on the other hand, is more like a property of the object so it does not require parentheses.)\n",
    "\n",
    "| Attribute | Information Returned |\n",
    "|---|---|\n",
    "| `.parent` | Return a path object for the parent directory |\n",
    "| `.parents`[x] | Return a path object for parents x generations higher |\n",
    "| `.name` | Return a string containing the file name with extension |\n",
    "| `.stem` | Return a string containing the file name without extension |\n",
    "| `.suffix` | Return a string containing the file extension |"
   ]
  },
  {
   "cell_type": "code",
   "execution_count": 48,
   "id": "0e164920",
   "metadata": {},
   "outputs": [
    {
     "data": {
      "text/plain": [
       "WindowsPath('C:/Users/Utente/Introduction-to-Text-Analyisis-with-Python/Python Notebooks/Python_Intermediate/data')"
      ]
     },
     "execution_count": 48,
     "metadata": {},
     "output_type": "execute_result"
    }
   ],
   "source": [
    "# Get the parent of the path\n",
    "# Returns a path object\n",
    "\n",
    "file_path.parent"
   ]
  },
  {
   "cell_type": "code",
   "execution_count": 49,
   "id": "33e2fc52",
   "metadata": {
    "tags": []
   },
   "outputs": [
    {
     "data": {
      "text/plain": [
       "WindowsPath('C:/Users/Utente/Introduction-to-Text-Analyisis-with-Python/Python Notebooks/Python_Intermediate')"
      ]
     },
     "execution_count": 49,
     "metadata": {},
     "output_type": "execute_result"
    }
   ],
   "source": [
    "# Finding the grandparent of the path using .parent twice\n",
    "# Returns a path object\n",
    "# If the path was specified from a relative path, \n",
    "# you may need to use .resolve() to get the absolute path first\n",
    "\n",
    "file_path.parent.parent"
   ]
  },
  {
   "cell_type": "code",
   "execution_count": 50,
   "id": "1da8790c",
   "metadata": {
    "tags": []
   },
   "outputs": [
    {
     "data": {
      "text/plain": [
       "WindowsPath('C:/Users/Utente/Introduction-to-Text-Analyisis-with-Python/Python Notebooks')"
      ]
     },
     "execution_count": 50,
     "metadata": {},
     "output_type": "execute_result"
    }
   ],
   "source": [
    "# Getting even deeper into the path\n",
    "# Finding the grandparent of the full path using parents with index\n",
    "# Returns a path object\n",
    "\n",
    "file_path.parents[2] # Try changing the index"
   ]
  },
  {
   "cell_type": "code",
   "execution_count": 51,
   "id": "8e6bad5f",
   "metadata": {},
   "outputs": [
    {
     "data": {
      "text/plain": [
       "'sample.txt'"
      ]
     },
     "execution_count": 51,
     "metadata": {},
     "output_type": "execute_result"
    }
   ],
   "source": [
    "# Return just the name of the file or folder\n",
    "# Returns a string\n",
    "file_path.name"
   ]
  },
  {
   "cell_type": "code",
   "execution_count": 52,
   "id": "133c9678",
   "metadata": {},
   "outputs": [
    {
     "data": {
      "text/plain": [
       "'sample'"
      ]
     },
     "execution_count": 52,
     "metadata": {},
     "output_type": "execute_result"
    }
   ],
   "source": [
    "# Return just the name of the file without extension\n",
    "# Returns a string\n",
    "\n",
    "file_path.stem"
   ]
  },
  {
   "cell_type": "code",
   "execution_count": 53,
   "id": "fec88445",
   "metadata": {},
   "outputs": [
    {
     "data": {
      "text/plain": [
       "'.txt'"
      ]
     },
     "execution_count": 53,
     "metadata": {},
     "output_type": "execute_result"
    }
   ],
   "source": [
    "# Return just the extension/suffix\n",
    "# Returns a string\n",
    "\n",
    "file_path.suffix"
   ]
  },
  {
   "cell_type": "markdown",
   "id": "1f04c2a7",
   "metadata": {},
   "source": [
    "## Creating Files and Directories\n",
    "\n",
    "To create a new file or directory, first create the desired path object then use the appropriate method:\n",
    "\n",
    "* `.touch()` will create a new file\n",
    "* `.mkdir()` will create a new directory"
   ]
  },
  {
   "cell_type": "code",
   "execution_count": 54,
   "id": "3ab484d2",
   "metadata": {
    "tags": []
   },
   "outputs": [],
   "source": [
    "# Create a new file\n",
    "new_file_path = Path.cwd() / 'data' / 'new_file.txt'\n",
    "new_file_path.touch()"
   ]
  },
  {
   "cell_type": "code",
   "execution_count": 55,
   "id": "7fcf10f2",
   "metadata": {},
   "outputs": [],
   "source": [
    "# Create a new directory\n",
    "new_dir_path = Path.cwd() / 'data' / 'new_directory'\n",
    "new_dir_path.mkdir(exist_ok = True) \n",
    "# The \"exist_ok=True\" parameter allows to not raise errors if directory exists"
   ]
  },
  {
   "cell_type": "markdown",
   "id": "5de58c0d",
   "metadata": {},
   "source": [
    "## Removing Files and Directories\n",
    "\n",
    "To remove a file or directory, first create the path object then use the appropriate method:\n",
    "\n",
    "* `.unlink()` will delete a file\n",
    "* `.rmdir()` will delete a directory\n"
   ]
  },
  {
   "cell_type": "code",
   "execution_count": 56,
   "id": "d0d1deec",
   "metadata": {
    "tags": []
   },
   "outputs": [],
   "source": [
    "# Remove a file\n",
    "new_file_path.unlink()"
   ]
  },
  {
   "cell_type": "code",
   "execution_count": 57,
   "id": "51605098",
   "metadata": {},
   "outputs": [],
   "source": [
    "# Remove a directory\n",
    "new_dir_path.rmdir()"
   ]
  },
  {
   "cell_type": "markdown",
   "id": "3abffb1f",
   "metadata": {},
   "source": [
    "## Rename a File or Directory\n",
    "\n",
    "To rename a file, you will need two path objects: the original path object and a new path object with the new name. The syntax looks like:\n",
    "\n",
    "`old_path.rename(new_path)`"
   ]
  },
  {
   "cell_type": "code",
   "execution_count": 58,
   "id": "9af25abd",
   "metadata": {},
   "outputs": [],
   "source": [
    "# Create an original file for this example\n",
    "\n",
    "old_path = Path.cwd() / 'data' / 'original_file.txt'\n",
    "old_path.touch()"
   ]
  },
  {
   "cell_type": "code",
   "execution_count": null,
   "id": "06c402b8",
   "metadata": {},
   "outputs": [],
   "source": [
    "# Rename the original file with `.rename()`\n",
    "# On Windows, if the renamed file already exists an error will occur\n",
    "# On Unix, if the renamed file already exists the file will be overwritten silently\n",
    "\n",
    "new_path = Path.cwd() / 'data' / 'renamed_file.txt'\n",
    "old_path.rename(new_path)"
   ]
  },
  {
   "cell_type": "markdown",
   "id": "bcf394c3",
   "metadata": {},
   "source": [
    "## Open, Read, and Write to Text Files\n",
    "\n",
    "Path objects work with the context manager `with open`. Instead of passing a string into the `open()` function, we can add the path object onto the front of a `.open()` method."
   ]
  },
  {
   "cell_type": "code",
   "execution_count": 60,
   "id": "56cf8f73",
   "metadata": {},
   "outputs": [
    {
     "name": "stdout",
     "output_type": "stream",
     "text": [
      "A text file can have many words in it\n",
      "These words are written on the second line\n",
      "Third line\n",
      "Fourth line\n",
      "Fifth line\n",
      "Sixth line\n",
      "Seventh line\n",
      "Eighth line\n",
      "Ninth line\n",
      "Tenth line. This is the end of the text file!\n"
     ]
    }
   ],
   "source": [
    "# Opening the file with a context manager\n",
    "# and the `.open()` method\n",
    "# The 'r', read only mode, argument is optional with `.open()`\n",
    "\n",
    "with file_path.open() as f: #the pathobject. open() method\n",
    "    print(f.read())"
   ]
  },
  {
   "cell_type": "markdown",
   "id": "d678a19b",
   "metadata": {},
   "source": [
    "## Quickly Reading or Writing a File\n",
    "\n",
    "If you are reading a small text file, then there is an even shorter way to read the file using a path object: `.read_text()`. This method opens the file, creates a string from the file object contents, and then closes the file object automatically."
   ]
  },
  {
   "cell_type": "code",
   "execution_count": 61,
   "id": "03822adc",
   "metadata": {},
   "outputs": [
    {
     "name": "stdout",
     "output_type": "stream",
     "text": [
      "A text file can have many words in it\n",
      "These words are written on the second line\n",
      "Third line\n",
      "Fourth line\n",
      "Fifth line\n",
      "Sixth line\n",
      "Seventh line\n",
      "Eighth line\n",
      "Ninth line\n",
      "Tenth line. This is the end of the text file!\n"
     ]
    }
   ],
   "source": [
    "# Using the read_text method\n",
    "# Returns a string\n",
    "print(file_path.read_text())"
   ]
  },
  {
   "cell_type": "markdown",
   "id": "f4987421",
   "metadata": {},
   "source": [
    "There is also a fast method for writing to a file using a path object: `.write_text()`. This method opens the file object in write mode, writes a string to the file, and then closes it automatically. *Be careful with this method since it will overwrite any existing files!*"
   ]
  },
  {
   "cell_type": "code",
   "execution_count": 62,
   "id": "c63210d0",
   "metadata": {},
   "outputs": [
    {
     "name": "stdout",
     "output_type": "stream",
     "text": [
      "Hello World!\n"
     ]
    }
   ],
   "source": [
    "# Create a new file\n",
    "\n",
    "new_file_path = Path.cwd() / 'data' / 'new_file.txt'\n",
    "\n",
    "# Write to a file\n",
    "# This overwrites the file if it already exists\n",
    "\n",
    "new_file_path.write_text('Hello World!')\n",
    "print(new_file_path.read_text())"
   ]
  },
  {
   "cell_type": "markdown",
   "id": "3c76e0b1",
   "metadata": {},
   "source": [
    "## Gathering a List of Files with `.iterdir()` and `.rglob()`\n",
    "It is common to gather a list of files in a directory (or set of directories) in order to excecute code on each one at a time. If all the files are in a single directory, then"
   ]
  },
  {
   "cell_type": "code",
   "execution_count": 21,
   "id": "665a8107",
   "metadata": {},
   "outputs": [
    {
     "name": "stdout",
     "output_type": "stream",
     "text": [
      "C:\\Users\\Utente\\Introduction-to-Text-Analyisis-with-Python\\Python Notebooks\\Python_Intermediate\\data\\books\\100_years_of_solitude.png\n",
      "C:\\Users\\Utente\\Introduction-to-Text-Analyisis-with-Python\\Python Notebooks\\Python_Intermediate\\data\\books\\adventures_of_sherlock_holmes_a_conan_doyle.txt\n",
      "C:\\Users\\Utente\\Introduction-to-Text-Analyisis-with-Python\\Python Notebooks\\Python_Intermediate\\data\\books\\alice_in_wonderland_lewis_carroll.txt\n",
      "C:\\Users\\Utente\\Introduction-to-Text-Analyisis-with-Python\\Python Notebooks\\Python_Intermediate\\data\\books\\a_room_with_a_view_e_m_forster.txt\n",
      "C:\\Users\\Utente\\Introduction-to-Text-Analyisis-with-Python\\Python Notebooks\\Python_Intermediate\\data\\books\\dracula_bram_stoker.txt\n",
      "C:\\Users\\Utente\\Introduction-to-Text-Analyisis-with-Python\\Python Notebooks\\Python_Intermediate\\data\\books\\little_women_louisa_m_alcott.txt\n",
      "C:\\Users\\Utente\\Introduction-to-Text-Analyisis-with-Python\\Python Notebooks\\Python_Intermediate\\data\\books\\middlemarch_george_eliot.txt\n",
      "C:\\Users\\Utente\\Introduction-to-Text-Analyisis-with-Python\\Python Notebooks\\Python_Intermediate\\data\\books\\moby_dick_herman_melville.txt\n",
      "C:\\Users\\Utente\\Introduction-to-Text-Analyisis-with-Python\\Python Notebooks\\Python_Intermediate\\data\\books\\more_books\n",
      "C:\\Users\\Utente\\Introduction-to-Text-Analyisis-with-Python\\Python Notebooks\\Python_Intermediate\\data\\books\\pride_and_prejudice_jane_austen.txt\n"
     ]
    }
   ],
   "source": [
    "# Use .iterdir() to iterate over files in a directory\n",
    "\n",
    "input_dir = Path.cwd() / 'data' / 'books'\n",
    "for file in input_dir.iterdir():\n",
    "    print(file)"
   ]
  },
  {
   "cell_type": "code",
   "execution_count": 9,
   "id": "4cc3b7ba",
   "metadata": {
    "execution": {
     "iopub.execute_input": "2025-05-30T20:01:33.243328Z",
     "iopub.status.busy": "2025-05-30T20:01:33.242783Z",
     "iopub.status.idle": "2025-05-30T20:01:33.246215Z",
     "shell.execute_reply": "2025-05-30T20:01:33.245802Z",
     "shell.execute_reply.started": "2025-05-30T20:01:33.243304Z"
    },
    "tags": []
   },
   "outputs": [
    {
     "name": "stdout",
     "output_type": "stream",
     "text": [
      "/home/jovyan/constellate-notebooks/Python-intermediate/data/books/dracula_bram_stoker.txt\n",
      "/home/jovyan/constellate-notebooks/Python-intermediate/data/books/alice_in_wonderland_lewis_carroll.txt\n",
      "/home/jovyan/constellate-notebooks/Python-intermediate/data/books/moby_dick_herman_melville.txt\n",
      "/home/jovyan/constellate-notebooks/Python-intermediate/data/books/little_women_louisa_m_alcott.txt\n",
      "/home/jovyan/constellate-notebooks/Python-intermediate/data/books/a_room_with_a_view_e_m_forster.txt\n",
      "/home/jovyan/constellate-notebooks/Python-intermediate/data/books/middlemarch_george_eliot.txt\n",
      "/home/jovyan/constellate-notebooks/Python-intermediate/data/books/adventures_of_sherlock_holmes_a_conan_doyle.txt\n",
      "/home/jovyan/constellate-notebooks/Python-intermediate/data/books/pride_and_prejudice_jane_austen.txt\n"
     ]
    }
   ],
   "source": [
    "# Use .iterdir() to iterate over files in a directory\n",
    "# Checking for a particular extension\n",
    "# Only works for a single directory!\n",
    "\n",
    "for file in input_dir.iterdir():\n",
    "    if file.suffix == '.txt':\n",
    "        print(file)"
   ]
  },
  {
   "cell_type": "markdown",
   "id": "853f03dd",
   "metadata": {},
   "source": [
    "The `.iterdir()` method will work on a single directory, but if you have multiple nested directories then you can use the `.rglob()` method. Be careful with this method, however, since if there are a lot of nested folders it could take a very long time to process the whole directory tree."
   ]
  },
  {
   "cell_type": "code",
   "execution_count": 24,
   "id": "15d631e2",
   "metadata": {},
   "outputs": [
    {
     "name": "stdout",
     "output_type": "stream",
     "text": [
      "C:\\Users\\Utente\\Introduction-to-Text-Analyisis-with-Python\\Python Notebooks\\Python_Intermediate\\data\\books\\adventures_of_sherlock_holmes_a_conan_doyle.txt\n",
      "C:\\Users\\Utente\\Introduction-to-Text-Analyisis-with-Python\\Python Notebooks\\Python_Intermediate\\data\\books\\alice_in_wonderland_lewis_carroll.txt\n",
      "C:\\Users\\Utente\\Introduction-to-Text-Analyisis-with-Python\\Python Notebooks\\Python_Intermediate\\data\\books\\a_room_with_a_view_e_m_forster.txt\n",
      "C:\\Users\\Utente\\Introduction-to-Text-Analyisis-with-Python\\Python Notebooks\\Python_Intermediate\\data\\books\\dracula_bram_stoker.txt\n",
      "C:\\Users\\Utente\\Introduction-to-Text-Analyisis-with-Python\\Python Notebooks\\Python_Intermediate\\data\\books\\little_women_louisa_m_alcott.txt\n",
      "C:\\Users\\Utente\\Introduction-to-Text-Analyisis-with-Python\\Python Notebooks\\Python_Intermediate\\data\\books\\middlemarch_george_eliot.txt\n",
      "C:\\Users\\Utente\\Introduction-to-Text-Analyisis-with-Python\\Python Notebooks\\Python_Intermediate\\data\\books\\moby_dick_herman_melville.txt\n",
      "C:\\Users\\Utente\\Introduction-to-Text-Analyisis-with-Python\\Python Notebooks\\Python_Intermediate\\data\\books\\pride_and_prejudice_jane_austen.txt\n",
      "C:\\Users\\Utente\\Introduction-to-Text-Analyisis-with-Python\\Python Notebooks\\Python_Intermediate\\data\\books\\more_books\\frankenstein_mary_wollstonecraft_shelley.txt\n"
     ]
    }
   ],
   "source": [
    "# Use glob to iterate over all files including subfolders\n",
    "\n",
    "for file in input_dir.rglob(\"*.txt\"): \n",
    "    print(file)"
   ]
  },
  {
   "cell_type": "markdown",
   "id": "9a88068b-df21-4b86-aad3-4a0609d0ad3e",
   "metadata": {},
   "source": [
    "___\n",
    "\n",
    "# Lesson Complete"
   ]
  }
 ],
 "metadata": {
  "kernelspec": {
   "display_name": "Python 3 (ipykernel)",
   "language": "python",
   "name": "python3"
  },
  "language_info": {
   "codemirror_mode": {
    "name": "ipython",
    "version": 3
   },
   "file_extension": ".py",
   "mimetype": "text/x-python",
   "name": "python",
   "nbconvert_exporter": "python",
   "pygments_lexer": "ipython3",
   "version": "3.13.5"
  },
  "toc": {
   "base_numbering": 1,
   "nav_menu": {},
   "number_sections": true,
   "sideBar": true,
   "skip_h1_title": true,
   "title_cell": "Table of Contents",
   "title_sidebar": "Contents",
   "toc_cell": false,
   "toc_position": {
    "height": "calc(100% - 180px)",
    "left": "10px",
    "top": "150px",
    "width": "384px"
   },
   "toc_section_display": true,
   "toc_window_display": false
  }
 },
 "nbformat": 4,
 "nbformat_minor": 5
}
