{
 "cells": [
  {
   "cell_type": "markdown",
   "id": "0c95ea0b-3aa5-408d-b71d-e6ca28f30f55",
   "metadata": {},
   "source": [
    "### Credits:\n",
    "\n",
    "<img align=\"left\" src=\"https://ithaka-labs.s3.amazonaws.com/static-files/images/tdm/tdmdocs/CC_BY.png\"><br />\n",
    "\n",
    "This notebook is created by Zhuo Chen based on the notebooks created by [Nathan Kelber](http://nkelber.com) under [Creative Commons CC BY License](https://creativecommons.org/licenses/by/4.0/)<br />\n",
    "For questions/comments/improvements, email zhuo.chen@ithaka.org or nathan.kelber@ithaka.org<br />\n",
    "\n",
    "Reused and modified for internal use at Università Cattolica del Sacro Cuore di Milano, by Deborah Grbac, email deborah.grbac@unicatt.it and Valentina Schiariti, email valentina.schiariti-collaboratore@unicatt.it, released under CC BY License.\n",
    "\n",
    "This repository is founded on **Constellate notebooks**. The original Jupyter notebooks repository was designed by the educators at **ITHAKA's Constellate project**. The project was sunset on July 1, 2025. This current repository uses and resuses Constellate notebooks as Open Educational Resources (OER), free for re-use under a Creative Commons CC BY License.\n",
    "___\n"
   ]
  },
  {
   "cell_type": "markdown",
   "id": "c101f26b",
   "metadata": {},
   "source": [
    "# Python Intermediate 5\n",
    "\n",
    "**Description:** This notebook describes:\n",
    "* What is a generator\n",
    "* How to write a generator comprehension\n",
    "* The advantages of using a generator\n",
    " \n",
    "\n",
    "This is part 5 of 5 in the series *Python Intermediate* that will prepare you to do text analysis using the Python programming language. \n",
    "\n",
    "**Note**: Running this notebook locally will give you full control to test, modify, and save your work. We strongly recommend downloading it before you begin.\n",
    "___"
   ]
  },
  {
   "cell_type": "markdown",
   "id": "334fa8aa",
   "metadata": {},
   "source": [
    "# What is a generator?\n",
    "\n",
    "## A quick review of iterables in Python\n",
    "Any Python object that allows its members to be iterated over in a for-loop is an **iterable**. Strings, lists, sets and dictionaries are all iterables. "
   ]
  },
  {
   "cell_type": "code",
   "execution_count": 2,
   "id": "912ae57b",
   "metadata": {
    "tags": []
   },
   "outputs": [
    {
     "name": "stdout",
     "output_type": "stream",
     "text": [
      "1\n",
      "2\n",
      "3\n"
     ]
    }
   ],
   "source": [
    "# Use a for loop to iterate over a list\n",
    "ls = [1, 2, 3]\n",
    "for num in ls:\n",
    "    print(num)"
   ]
  },
  {
   "cell_type": "code",
   "execution_count": 3,
   "id": "3c09c371",
   "metadata": {
    "tags": []
   },
   "outputs": [
    {
     "name": "stdout",
     "output_type": "stream",
     "text": [
      "a\n",
      "b\n",
      "c\n"
     ]
    }
   ],
   "source": [
    "# Use a for loop to iterate over a string\n",
    "s = 'abc'\n",
    "for l in s:\n",
    "    print(l)"
   ]
  },
  {
   "cell_type": "markdown",
   "id": "1fe038b6",
   "metadata": {},
   "source": [
    "## Iterator\n",
    "An **iterator** is an object that can be created from an iterable that allows access to the elements of the iterable **one at a time**, remembering its position as you go.\n",
    "\n",
    "Python has a built-in function `iter()` which takes an **iterable** and returns an **iterator**. The iterator can be used to iterate over the input iterable."
   ]
  },
  {
   "cell_type": "code",
   "execution_count": 7,
   "id": "76d631f5",
   "metadata": {
    "tags": []
   },
   "outputs": [
    {
     "data": {
      "text/plain": [
       "list_iterator"
      ]
     },
     "execution_count": 7,
     "metadata": {},
     "output_type": "execute_result"
    }
   ],
   "source": [
    "# Use the built-in iter function to create an iterator out of the list stored in ls\n",
    "my_ls = iter(ls)\n",
    "type(my_ls)"
   ]
  },
  {
   "cell_type": "markdown",
   "id": "53f1221e",
   "metadata": {},
   "source": [
    "To access the values in the original list from this iterator, we need to use the `next()` function to get one value at a time."
   ]
  },
  {
   "cell_type": "code",
   "execution_count": 8,
   "id": "28163250",
   "metadata": {
    "tags": []
   },
   "outputs": [
    {
     "data": {
      "text/plain": [
       "1"
      ]
     },
     "execution_count": 8,
     "metadata": {},
     "output_type": "execute_result"
    }
   ],
   "source": [
    "# Use next() to get the first element from the list\n",
    "next(my_ls)"
   ]
  },
  {
   "cell_type": "code",
   "execution_count": 9,
   "id": "b678e8df",
   "metadata": {
    "tags": []
   },
   "outputs": [
    {
     "data": {
      "text/plain": [
       "2"
      ]
     },
     "execution_count": 9,
     "metadata": {},
     "output_type": "execute_result"
    }
   ],
   "source": [
    "# Use next() to get the second element from the list\n",
    "next(my_ls)"
   ]
  },
  {
   "cell_type": "markdown",
   "id": "3a2f9bba",
   "metadata": {},
   "source": [
    "# Generator\n",
    "We can create an iterator by defining a **generator** in the following way:"
   ]
  },
  {
   "cell_type": "code",
   "execution_count": 13,
   "id": "813f9963-88d9-45ba-8058-77c9c3d79562",
   "metadata": {
    "tags": []
   },
   "outputs": [],
   "source": [
    "# Define a very simple generator\n",
    "def simple_gen():\n",
    "    yield 1\n",
    "    yield 2\n",
    "    yield 3"
   ]
  },
  {
   "cell_type": "markdown",
   "id": "1a652d41-f5ad-43bf-9043-03cc78f8c300",
   "metadata": {},
   "source": [
    "You can use a for loop to iterate through the items in an iterator created by a generator. In this sense, an iterator is also an iterable in Python. "
   ]
  },
  {
   "cell_type": "code",
   "execution_count": 14,
   "id": "99f89532-3b9e-4609-91c3-6f30848cd85b",
   "metadata": {
    "tags": []
   },
   "outputs": [
    {
     "name": "stdout",
     "output_type": "stream",
     "text": [
      "1\n",
      "2\n",
      "3\n"
     ]
    }
   ],
   "source": [
    "# Use a for loop to iterate through the items \n",
    "# and print them out\n",
    "for i in simple_gen():\n",
    "    print(i)"
   ]
  },
  {
   "cell_type": "markdown",
   "id": "18673550-f2fa-4958-86f8-a0f559b7a47d",
   "metadata": {},
   "source": [
    "You can use the `next()` function to see that this simple generator actually yields one item at a time. "
   ]
  },
  {
   "cell_type": "code",
   "execution_count": 15,
   "id": "37b87e34-3448-49d1-a68c-403e6bd9db08",
   "metadata": {
    "tags": []
   },
   "outputs": [],
   "source": [
    "# Assignt the iterator to a variable\n",
    "gen = simple_gen()"
   ]
  },
  {
   "cell_type": "code",
   "execution_count": 16,
   "id": "a566325f-f154-40e1-b80c-30f778c1bb05",
   "metadata": {
    "tags": []
   },
   "outputs": [
    {
     "data": {
      "text/plain": [
       "1"
      ]
     },
     "execution_count": 16,
     "metadata": {},
     "output_type": "execute_result"
    }
   ],
   "source": [
    "# yield the first item\n",
    "next(gen)"
   ]
  },
  {
   "cell_type": "code",
   "execution_count": 17,
   "id": "b216c19c-ed1b-40ca-88bb-c6dce9628132",
   "metadata": {
    "tags": []
   },
   "outputs": [
    {
     "data": {
      "text/plain": [
       "2"
      ]
     },
     "execution_count": 17,
     "metadata": {},
     "output_type": "execute_result"
    }
   ],
   "source": [
    "# yield the second item\n",
    "next(gen)"
   ]
  },
  {
   "cell_type": "code",
   "execution_count": 18,
   "id": "73812689-6360-4c81-ad2a-ace27b3fb7fd",
   "metadata": {
    "tags": []
   },
   "outputs": [
    {
     "data": {
      "text/plain": [
       "3"
      ]
     },
     "execution_count": 18,
     "metadata": {},
     "output_type": "execute_result"
    }
   ],
   "source": [
    "# yield the third item\n",
    "next(gen)"
   ]
  },
  {
   "cell_type": "markdown",
   "id": "4df76322-5dac-41c9-94d3-4dbedb3328ea",
   "metadata": {},
   "source": [
    "## Lists and generators\n",
    "\n",
    "On the surface, generators look like ordinary functions, but they are actually very different. Let's use a simple example to understand the difference. "
   ]
  },
  {
   "cell_type": "code",
   "execution_count": 19,
   "id": "03e04e6d",
   "metadata": {
    "tags": []
   },
   "outputs": [
    {
     "data": {
      "text/plain": [
       "[2, 4, 6]"
      ]
     },
     "execution_count": 19,
     "metadata": {},
     "output_type": "execute_result"
    }
   ],
   "source": [
    "# Create a Python function which takes a list of numbers\n",
    "\n",
    "def two_times(ls):\n",
    "    \"\"\"takes in a list of numbers and return a list of numbers, each of which\n",
    "    is two times of the numbers in the input list\"\"\"\n",
    "    new_ls = []\n",
    "    for n in ls:\n",
    "        new_ls.append(2*n) #returns a list of numbers, each of which is two times the number of the original list\n",
    "    return new_ls \n",
    "\n",
    "two_times([1, 2, 3])"
   ]
  },
  {
   "cell_type": "markdown",
   "id": "d40c1600",
   "metadata": {},
   "source": [
    "If we feed a list of numbers to this function, we get a new list back. Most importantly, the entire new list of numbers is stored in the memory.\n"
   ]
  },
  {
   "cell_type": "markdown",
   "id": "fdbb4009",
   "metadata": {},
   "source": [
    "We can also create a Python generator to give us the same sequence of values. Note that a generator uses the `yield` statement. "
   ]
  },
  {
   "cell_type": "code",
   "execution_count": 20,
   "id": "eb4d3f4e",
   "metadata": {
    "tags": []
   },
   "outputs": [],
   "source": [
    "# Create a Python generator\n",
    "\n",
    "def gen(ls): \n",
    "    \"\"\"takes in a list of numbers and create a generator which produces a list of numbers, \n",
    "    each of which is two times of the numbers in the input list\"\"\"\n",
    "    for n in ls:\n",
    "        yield 2*n \n",
    "        \n",
    "my_gen = gen([1, 2, 3]) "
   ]
  },
  {
   "cell_type": "markdown",
   "id": "6f36756e",
   "metadata": {},
   "source": [
    "Since a generator creates an iterator, the values will be yielded one at a time. "
   ]
  },
  {
   "cell_type": "code",
   "execution_count": 21,
   "id": "766c7e9b",
   "metadata": {},
   "outputs": [
    {
     "data": {
      "text/plain": [
       "2"
      ]
     },
     "execution_count": 21,
     "metadata": {},
     "output_type": "execute_result"
    }
   ],
   "source": [
    "# Use next () to yield one element from the iterable at a time\n",
    "next(my_gen) "
   ]
  },
  {
   "cell_type": "code",
   "execution_count": 22,
   "id": "087a3574",
   "metadata": {},
   "outputs": [
    {
     "data": {
      "text/plain": [
       "4"
      ]
     },
     "execution_count": 22,
     "metadata": {},
     "output_type": "execute_result"
    }
   ],
   "source": [
    "# Use next () to yield one element from the iterable at a time\n",
    "next(my_gen)"
   ]
  },
  {
   "cell_type": "code",
   "execution_count": 23,
   "id": "bbefe73a",
   "metadata": {},
   "outputs": [
    {
     "data": {
      "text/plain": [
       "6"
      ]
     },
     "execution_count": 23,
     "metadata": {},
     "output_type": "execute_result"
    }
   ],
   "source": [
    "# Use next () to yield one element from the iterable at a time\n",
    "next(my_gen)"
   ]
  },
  {
   "cell_type": "markdown",
   "id": "926c3b26",
   "metadata": {},
   "source": [
    "The generator is exhausted when all the items have been used. If we use `next()` function again, Python returns a `StopIteration` error."
   ]
  },
  {
   "cell_type": "code",
   "execution_count": 24,
   "id": "7725e928",
   "metadata": {},
   "outputs": [
    {
     "ename": "StopIteration",
     "evalue": "",
     "output_type": "error",
     "traceback": [
      "\u001b[31m---------------------------------------------------------------------------\u001b[39m",
      "\u001b[31mStopIteration\u001b[39m                             Traceback (most recent call last)",
      "\u001b[36mCell\u001b[39m\u001b[36m \u001b[39m\u001b[32mIn[24]\u001b[39m\u001b[32m, line 2\u001b[39m\n\u001b[32m      1\u001b[39m \u001b[38;5;66;03m# Use next () to yield one element from the iterable at a time\u001b[39;00m\n\u001b[32m----> \u001b[39m\u001b[32m2\u001b[39m \u001b[38;5;28;43mnext\u001b[39;49m\u001b[43m(\u001b[49m\u001b[43mmy_gen\u001b[49m\u001b[43m)\u001b[49m\n",
      "\u001b[31mStopIteration\u001b[39m: "
     ]
    }
   ],
   "source": [
    "# Use next () to yield one element from the iterable at a time\n",
    "next(my_gen)"
   ]
  },
  {
   "cell_type": "markdown",
   "id": "da4c7de0-2fb2-47a6-b226-c805bc265776",
   "metadata": {},
   "source": [
    "### Take aways\n",
    "When we used a for loop to create a new list, the new list **stores all of its members**. We can access any of its members via indexing. \n",
    "\n",
    "A generator, however, does not store any items. What it stores are the instructions for how to generate each of its members as well as the iteration state (noticable when we use the `next( )` function). For example, if a generator has generated its first member, it knows that it should generate its second member the next time. \n",
    "\n",
    "\n",
    "## The built-in generators\n",
    "Python has some built-in generators. You may not be aware of it, but you have actually used a built-in generator in the Python Basics series. It is the `enumerate()` function. "
   ]
  },
  {
   "cell_type": "code",
   "execution_count": 26,
   "id": "7d24cb33-5af5-481b-9813-7bea6f4d346b",
   "metadata": {
    "tags": []
   },
   "outputs": [
    {
     "name": "stdout",
     "output_type": "stream",
     "text": [
      "1\n",
      "4\n"
     ]
    }
   ],
   "source": [
    "# An example from Python basics 3 \n",
    "# which uses enumerate()\n",
    "staff = ['Tara Richards',\n",
    " 'John Smith',\n",
    " 'Justin Douglas',\n",
    " 'Lauren Marquez',\n",
    " 'John Smith']\n",
    "\n",
    "# Use the enumerate function\n",
    "for index, name in enumerate(staff):\n",
    "    if name == 'John Smith': #this is a tuple\n",
    "        print(index)"
   ]
  },
  {
   "cell_type": "code",
   "execution_count": 27,
   "id": "c90433b4-9ca3-4de0-836c-6b95ca57c747",
   "metadata": {
    "tags": []
   },
   "outputs": [],
   "source": [
    "# Confirm that enumerate() is a generator\n",
    "staff_gen = enumerate(staff)"
   ]
  },
  {
   "cell_type": "code",
   "execution_count": 28,
   "id": "9dd98c8b-52cd-4301-9841-4f82dce43686",
   "metadata": {
    "tags": []
   },
   "outputs": [
    {
     "data": {
      "text/plain": [
       "(0, 'Tara Richards')"
      ]
     },
     "execution_count": 28,
     "metadata": {},
     "output_type": "execute_result"
    }
   ],
   "source": [
    "# yield the first item\n",
    "next(staff_gen) "
   ]
  },
  {
   "cell_type": "code",
   "execution_count": 29,
   "id": "b0406891-47e0-4fdc-a779-be94b895c51b",
   "metadata": {
    "tags": []
   },
   "outputs": [
    {
     "data": {
      "text/plain": [
       "(1, 'John Smith')"
      ]
     },
     "execution_count": 29,
     "metadata": {},
     "output_type": "execute_result"
    }
   ],
   "source": [
    "# yield the second item\n",
    "next(staff_gen) "
   ]
  },
  {
   "cell_type": "markdown",
   "id": "7ff05854",
   "metadata": {},
   "source": [
    "# Generator comprehension"
   ]
  },
  {
   "cell_type": "markdown",
   "id": "4809c639",
   "metadata": {},
   "source": [
    "Python provides a shorter way to define a generator function, that is, generator comprehensions.\n",
    "Generator comprehensions basically have the same syntax as list comprehensions, except that they use parentheses `()` instead of hard brackets `[]`.\n",
    "\n",
    "Let's first quickly review how to write a list comprehension."
   ]
  },
  {
   "cell_type": "code",
   "execution_count": 30,
   "id": "8a7cd0ce",
   "metadata": {
    "tags": []
   },
   "outputs": [
    {
     "name": "stdout",
     "output_type": "stream",
     "text": [
      "[6, 7, 8, 9]\n"
     ]
    }
   ],
   "source": [
    "# Create a list comprehension using hard brackets []\n",
    "numbers = [5,6,7,8,9]\n",
    "new_list = [num for num in numbers if num > 5]\n",
    "print(new_list)"
   ]
  },
  {
   "cell_type": "markdown",
   "id": "46a49539-203c-4ca5-92c2-0837a5cc28a4",
   "metadata": {},
   "source": [
    "Then, let's create a generator which will generate the same sequence of values as the new list above, but only one at a time.  "
   ]
  },
  {
   "cell_type": "code",
   "execution_count": 31,
   "id": "2654a034",
   "metadata": {
    "tags": []
   },
   "outputs": [],
   "source": [
    "# Create a generator using parentheses\n",
    "new_gen = (num for num in numbers if num > 5)"
   ]
  },
  {
   "cell_type": "code",
   "execution_count": 32,
   "id": "bd6d1db4",
   "metadata": {
    "tags": []
   },
   "outputs": [
    {
     "data": {
      "text/plain": [
       "6"
      ]
     },
     "execution_count": 32,
     "metadata": {},
     "output_type": "execute_result"
    }
   ],
   "source": [
    "# Yield the values one at a time\n",
    "next(new_gen)"
   ]
  },
  {
   "cell_type": "code",
   "execution_count": 33,
   "id": "67333087",
   "metadata": {
    "tags": []
   },
   "outputs": [
    {
     "data": {
      "text/plain": [
       "7"
      ]
     },
     "execution_count": 33,
     "metadata": {},
     "output_type": "execute_result"
    }
   ],
   "source": [
    "next(new_gen)"
   ]
  },
  {
   "cell_type": "code",
   "execution_count": 34,
   "id": "833e9d5f",
   "metadata": {
    "tags": []
   },
   "outputs": [
    {
     "data": {
      "text/plain": [
       "8"
      ]
     },
     "execution_count": 34,
     "metadata": {},
     "output_type": "execute_result"
    }
   ],
   "source": [
    "next(new_gen)"
   ]
  },
  {
   "cell_type": "code",
   "execution_count": 35,
   "id": "2fb36a34",
   "metadata": {
    "tags": []
   },
   "outputs": [
    {
     "data": {
      "text/plain": [
       "9"
      ]
     },
     "execution_count": 35,
     "metadata": {},
     "output_type": "execute_result"
    }
   ],
   "source": [
    "next(new_gen)"
   ]
  },
  {
   "cell_type": "markdown",
   "id": "2aee743d-e0f2-4f0d-84a1-6f8eb55d7f7f",
   "metadata": {},
   "source": [
    "Recall that list comprehension can create a list based on any kind of iterables in Python. This is true for generator comprehension as well. In the previous example, we created a generator based on a list. In the code cell, let's create a generator based on a dictionary using generator comprehension."
   ]
  },
  {
   "cell_type": "code",
   "execution_count": 37,
   "id": "1f59b30b-57be-42c1-a722-a2922aaa7810",
   "metadata": {
    "tags": []
   },
   "outputs": [],
   "source": [
    "# Create a generator based on a dictionary using \n",
    "# generator comprehension\n",
    "contacts ={\n",
    " 'Amanda Bennett': 'Engineer, electrical',\n",
    " 'Bryan Miller': 'Radiation protection practitioner',\n",
    " 'Christopher Garrison': 'Planning and development surveyor',\n",
    " 'Debra Allen': 'Intelligence analyst',\n",
    " 'Donna Decker': 'Architect',\n",
    " 'Heather Bullock': 'Media planner',\n",
    " 'Jason Brown': 'Energy manager',\n",
    " 'Jason Soto': 'Lighting technician, broadcasting/film/video',\n",
    " 'Marissa Munoz': 'Further education lecturer',\n",
    " 'Matthew Mccall': 'Chief Technology Officer',\n",
    " 'Michael Norman': 'Translator',\n",
    " 'Nicole Leblanc': 'Financial controller',\n",
    " 'Noah Delgado': 'Engineer, land',\n",
    " 'Rachel Charles': 'Physicist, medical',\n",
    " 'Stephanie Petty': 'Architect'}\n",
    "\n",
    "contact_gen = (name for name, occupation in contacts.items() if 'Engineer' in occupation)"
   ]
  },
  {
   "cell_type": "code",
   "execution_count": 38,
   "id": "74fb9932-89b8-48c2-b074-33db6f940f1c",
   "metadata": {
    "tags": []
   },
   "outputs": [
    {
     "data": {
      "text/plain": [
       "'Amanda Bennett'"
      ]
     },
     "execution_count": 38,
     "metadata": {},
     "output_type": "execute_result"
    }
   ],
   "source": [
    "# Yield the first item\n",
    "next(contact_gen)"
   ]
  },
  {
   "cell_type": "code",
   "execution_count": 39,
   "id": "fab3e591-3fbf-4a0a-813b-d377f1fdfcd6",
   "metadata": {
    "tags": []
   },
   "outputs": [
    {
     "data": {
      "text/plain": [
       "'Noah Delgado'"
      ]
     },
     "execution_count": 39,
     "metadata": {},
     "output_type": "execute_result"
    }
   ],
   "source": [
    "# Yield the second item\n",
    "next(contact_gen)"
   ]
  },
  {
   "cell_type": "markdown",
   "id": "6dc812d0",
   "metadata": {},
   "source": [
    "# The advantages of generators"
   ]
  },
  {
   "cell_type": "markdown",
   "id": "36300a75",
   "metadata": {},
   "source": [
    "Generators do not hold the entire result in the memory. It yields one item at a time. Because a generator only has to yield one item at a time, it can lead to significant savings in memory usage. "
   ]
  },
  {
   "cell_type": "code",
   "execution_count": 40,
   "id": "53f8ee32",
   "metadata": {
    "tags": []
   },
   "outputs": [
    {
     "name": "stdout",
     "output_type": "stream",
     "text": [
      "List comprehension memory usage:  85176\n",
      "Generator comprehension memory usage:  192\n"
     ]
    }
   ],
   "source": [
    "# Demonstrate the memory size difference of \n",
    "# a list comprehension vs generator comprehension\n",
    "\n",
    "# Import getsizeof which measures memory usage in bytes\n",
    "from sys import getsizeof\n",
    "  \n",
    "list_comprehension = [i for i in range(10000)]\n",
    "generator_comprehension = (i for i in range(10000))\n",
    "  \n",
    "# Print the size of the list comprehension\n",
    "print('List comprehension memory usage: ', getsizeof(list_comprehension))\n",
    "\n",
    "# Print the size of the generator comprehension\n",
    "print('Generator comprehension memory usage: ', getsizeof(generator_comprehension))"
   ]
  },
  {
   "cell_type": "markdown",
   "id": "0eb687c8",
   "metadata": {},
   "source": [
    "Since a generator occupies less memory, using a generator instead of a normal iterable like a list can lead to a performace boost. This advantage in performance is especially helpful when you have a really big dataset with hundreds of thousands of items or even millions of items to loop through. "
   ]
  },
  {
   "cell_type": "code",
   "execution_count": 41,
   "id": "c6fea538",
   "metadata": {
    "tags": []
   },
   "outputs": [],
   "source": [
    "# import the time module to calculate the processing time\n",
    "import time"
   ]
  },
  {
   "cell_type": "code",
   "execution_count": 42,
   "id": "f911bd89",
   "metadata": {
    "tags": []
   },
   "outputs": [
    {
     "name": "stdout",
     "output_type": "stream",
     "text": [
      "62.5\n"
     ]
    }
   ],
   "source": [
    "# Calculate the processing time in milliseconds when we create a list with 1m items\n",
    "def ml(n):\n",
    "    ls = []\n",
    "    for i in range(n):\n",
    "        ls.append(i)\n",
    "    return ls\n",
    "\n",
    "start = time.process_time()*1000\n",
    "ml(1000000)\n",
    "end = time.process_time()*1000\n",
    "print(end - start)"
   ]
  },
  {
   "cell_type": "code",
   "execution_count": 43,
   "id": "fee82492",
   "metadata": {
    "tags": []
   },
   "outputs": [
    {
     "name": "stdout",
     "output_type": "stream",
     "text": [
      "0.0\n"
     ]
    }
   ],
   "source": [
    "# Calculate the processing time in milliseconds when we create a generator with 1m items\n",
    "def ml_gen(n):\n",
    "    for i in range(n):\n",
    "        yield i\n",
    "        \n",
    "start = time.process_time()*1000\n",
    "ml_gen(1000000)\n",
    "end = time.process_time()*1000\n",
    "print(end - start)"
   ]
  },
  {
   "cell_type": "markdown",
   "id": "e789dd63",
   "metadata": {},
   "source": [
    "Using a generator makes sense in scenarios where loading an entire list, dictionary, or set could fill all available memory. This could be because each item is large, the list is large, or both. \n",
    "\n",
    "If you want to take one item at a time, do a lot of calculations based on that item, and then move on to the next item, then use a generator. \n",
    "\n",
    "## Using a generator on files\n",
    "We can look at the following variations of code in which we create generators in order to read through a sample.txt file that we have created in a subfolder called data, using the following poem as its content: \n",
    "\n",
    "The sun dips low, the sky turns gold, <br />\n",
    "Whispers of evening softly unfold. <br />\n",
    "Shadows stretch, the world grows still, <br />\n",
    "Night descends over the quiet hill. <br />"
   ]
  },
  {
   "cell_type": "code",
   "execution_count": 65,
   "id": "bece50e0-9b0f-4005-a3a0-232d180a64e9",
   "metadata": {},
   "outputs": [
    {
     "data": {
      "text/plain": [
       "'The sun dips low, the sky turns gold,\\n'"
      ]
     },
     "execution_count": 65,
     "metadata": {},
     "output_type": "execute_result"
    }
   ],
   "source": [
    "from pathlib import Path #import files\n",
    "def my_file_gen(path): #define a generation fuction\n",
    "    file_path = Path(path)\n",
    "    with file_path.open() as f:\n",
    "        for line in f:\n",
    "            yield line\n",
    "sample_file_path = Path(\"./data/sample.txt\") #creating a path object\n",
    "sample_file_gen = my_file_gen(sample_file_path)\n",
    "next(sample_file_gen) #result in the first line"
   ]
  },
  {
   "cell_type": "code",
   "execution_count": 66,
   "id": "230b7063-f507-45e0-a892-5df9b0f84434",
   "metadata": {},
   "outputs": [
    {
     "data": {
      "text/plain": [
       "'Whispers of evening softly unfold.\\n'"
      ]
     },
     "execution_count": 66,
     "metadata": {},
     "output_type": "execute_result"
    }
   ],
   "source": [
    "next(sample_file_gen) #result in the second line"
   ]
  },
  {
   "cell_type": "code",
   "execution_count": 67,
   "id": "244f929a-484b-42d3-99c4-2519dc267222",
   "metadata": {},
   "outputs": [
    {
     "name": "stdout",
     "output_type": "stream",
     "text": [
      "The sun dips low, the sky turns gold,\n",
      "\n",
      "Whispers of evening softly unfold.\n",
      "\n",
      "Shadows stretch, the world grows still\n",
      "\n",
      "Night descends over the quiet hill.\n",
      "the end\n"
     ]
    }
   ],
   "source": [
    "sample_file_path = Path(\"./data/sample.txt\") #creating a path object\n",
    "gen_poem = (line for line in sample_file_path.open())\n",
    "\n",
    "while True: \n",
    "    try:\n",
    "        print(next(gen_poem))\n",
    "    except StopIteration:\n",
    "        print(\"the end\")\n",
    "        break"
   ]
  },
  {
   "cell_type": "markdown",
   "id": "e68d43e7",
   "metadata": {},
   "source": [
    "___\n",
    "## Lesson Complete"
   ]
  }
 ],
 "metadata": {
  "kernelspec": {
   "display_name": "Python 3 (ipykernel)",
   "language": "python",
   "name": "python3"
  },
  "language_info": {
   "codemirror_mode": {
    "name": "ipython",
    "version": 3
   },
   "file_extension": ".py",
   "mimetype": "text/x-python",
   "name": "python",
   "nbconvert_exporter": "python",
   "pygments_lexer": "ipython3",
   "version": "3.13.5"
  },
  "toc": {
   "base_numbering": 1,
   "nav_menu": {},
   "number_sections": true,
   "sideBar": true,
   "skip_h1_title": false,
   "title_cell": "Table of Contents",
   "title_sidebar": "Contents",
   "toc_cell": false,
   "toc_position": {},
   "toc_section_display": true,
   "toc_window_display": false
  }
 },
 "nbformat": 4,
 "nbformat_minor": 5
}
