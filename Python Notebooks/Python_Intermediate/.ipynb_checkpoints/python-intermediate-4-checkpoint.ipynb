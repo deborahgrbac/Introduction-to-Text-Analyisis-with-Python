{
 "cells": [
  {
   "cell_type": "markdown",
   "id": "a42006a6",
   "metadata": {},
   "source": [
    "<img align=\"left\" src=\"https://ithaka-labs.s3.amazonaws.com/static-files/images/tdm/tdmdocs/CC_BY.png\"><br />\n",
    "\n",
    "Created by Zhuo Chen and [Nathan Kelber](http://nkelber.com) for [JSTOR Labs](https://labs.jstor.org/) under [Creative Commons CC BY License](https://creativecommons.org/licenses/by/4.0/)<br />\n",
    "For questions/comments/improvements, email zhuo.chen@ithaka.org or nathan.kelber@ithaka.org.<br />"
   ]
  },
  {
   "cell_type": "markdown",
   "id": "8bab4952",
   "metadata": {},
   "source": [
    "# Python Intermediate 4\n",
    "\n",
    "**Description:** \n",
    "This notebook defines:\n",
    "* Object-oriented programming (OOP), classes, objects\n",
    "* Attributes, methods and constructors\n",
    "* The difference between functional programming and OOP\n",
    "* Why OOP is useful\n",
    "\n",
    "This notebook teaches\n",
    "* How to write a class\n",
    "* How to create objects using a class \n",
    "* How to inherit attributes and methods from a parent class to a child class\n",
    "\n",
    "**Use Case:** For learners (detailed explanation)\n",
    "\n",
    "**Difficulty:** Intermediate\n",
    "\n",
    "**Completion Time:** 90 minutes\n",
    "\n",
    "**Knowledge Required:**\n",
    "\n",
    "* Python Basics Series ([Start Python Basics 1](../Python-basics/python-basics-1.ipynb))\n",
    "    \n",
    "**Knowledge Recommended:** None\n",
    "\n",
    "**Data Format:** None\n",
    "\n",
    "**Libraries Used:** None\n",
    "\n",
    "**Research Pipeline:** None\n"
   ]
  },
  {
   "cell_type": "markdown",
   "id": "2b6c8706",
   "metadata": {},
   "source": [
    "## Classes and objects\n",
    "\n",
    "Object-oriented programming (OOP) is a programming paradigm that relies on the concept of **classes** and **objects**. To understand OOP, we will need to understand **classes** and **objects**.\n",
    "\n",
    "To make the concepts of **classes** and **objects** more concrete, let's use a simple example. \n"
   ]
  },
  {
   "cell_type": "markdown",
   "id": "aed0d3f7",
   "metadata": {},
   "source": [
    "Suppose you are looking to buy a house. You keep a record of the houses you are interested in in order to compare them.\n",
    "\n",
    " |                |      |  \n",
    " |----------------|:-----| \n",
    " |**bedroom**     |3    | \n",
    " |**bathroom**        |1.5    | \n",
    " |**price**        | 600000 | \n",
    " |**sqft**     |1500    | \n",
    " |**price_per_sqft**|def price_per_sqft (600000, 1500):<br>&emsp;$~~~$price_per_sqft = 600000 / 1500<br>&emsp;$~~~$return price_per_sqft|\n",
    "    \n",
    " |                |      |  \n",
    " |----------------|:-----| \n",
    " |**bedroom**     |4    | \n",
    " |**bathroom**        |2    | \n",
    "  |**price**        | 800000| \n",
    " |**sqft**     |2000    | \n",
    " |**price_per_sqft**|def price_per_sqft (800000, 2000):<br>&emsp;$~~~$price_per_sqft = 800000 / 2000<br>&emsp;$~~~$return price_per_sqft|"
   ]
  },
  {
   "cell_type": "markdown",
   "id": "3f57c64a",
   "metadata": {},
   "source": [
    "For each house, you create a record. The record contains two kinds of information:\n",
    "\n",
    "* **attributes** - the properties of the house such as number of bedrooms, number of bathrooms, prices, and square footage\n",
    "* **methods** - the functions that analyze the houses properties and return new values, such as `price_per_sqft`\n",
    "\n",
    "Python has a better way to organize such a collection of information: **objects**. "
   ]
  },
  {
   "cell_type": "markdown",
   "id": "1ba05ee6",
   "metadata": {},
   "source": [
    "## What is an object?\n",
    "\n",
    "An **object** is basically a collection of attributes and functions. With such a collection of information, an **object** can be used to represent anything, e.g. a person, a dog, a school, etc. \n",
    "\n",
    "Coming back to our example, we are using the **object** below to represent `house1`. Of course, depending on what attributes and functions you want to include, you may represent `house1` with a different set of information stored in the **object**. In our scenario, we choose to use the number of bedrooms, the number of bathrooms, the price of the house and a function that calculates and returns the price per square foot to represent `house1`. Let's assign this object to the variable ```house1```.\n",
    "\n",
    "<img src=\"https://ithaka-labs.s3.amazonaws.com/static-files/images/tdm/tdmdocs/PythonIntermediate4_House1.png\" width=\"650\" height=\"300\" />\n",
    "\n",
    "We have created another **object** representing `house2`. Let's assign the object to the variable ```house2```.\n",
    "\n",
    "<img src=\"https://ithaka-labs.s3.amazonaws.com/static-files/images/tdm/tdmdocs/PythonIntermediate4_House2.png\" width=\"650\" height =\"300\" />\n",
    "\n",
    "The two objects we have created to represent `house1` and `house2` are similar. They have the same set of **attributes**, e.g. number of bedrooms, number of bathrooms, house price, number of square feet, and they have the same set of **methods**, e.g. a function that calculates and returns the price per square foot. The objects are like two variants of a similar recipe.\n",
    "\n",
    "Now, if the objects are created based on the same recipe, it will be ideal if we can write out that recipe and then use it to produce the same kind of objects. In the house-buying scenario, for example, you will want as many objects as there are houses you are interested in! The question now becomes: how do we write that recipe? This is exactly where **classes** come in. "
   ]
  },
  {
   "cell_type": "markdown",
   "id": "a6bfe502",
   "metadata": {
    "jp-MarkdownHeadingCollapsed": true
   },
   "source": [
    "## What is a class?\n",
    "\n",
    "A **class** is an abstract blueprint from which we create individual instances of **objects**. it is the \"recipie\" to create an object\n",
    "\n",
    "|                |      |  \n",
    " |----------------|:-----| \n",
    " |**bedroom**        | | \n",
    " |**bathroom**     |    | \n",
    " |**price**        |    | \n",
    " |**sqft**     |    | \n",
    " |**price_per_sqft**|def price_per_sqft (price, sqft):<br>&emsp;$~~~$price_per_sqft = price / sqft<br>&emsp;$~~~$return price_per_sqft|\n",
    " \n",
    " Notice that the values assigned to the four variables, i.e. bedroom, bathroom, price, sqft, are not specified in this class. This is because a **class** does not refer to any specific **object**. A **class** refers to a broad category of **objects**. Here in the house-buying scenario, our **class** refers to the category of houses. The **class** specifies what attributes the houses have and also what functions operate on these houses."
   ]
  },
  {
   "cell_type": "markdown",
   "id": "fc400e05",
   "metadata": {},
   "source": [
    "## Creating a Class in Python\n",
    "\n",
    "Now, let's write some codes to create our house **class**! "
   ]
  },
  {
   "cell_type": "code",
   "execution_count": 1,
   "id": "fe0ae60c",
   "metadata": {
    "execution": {
     "iopub.execute_input": "2025-06-16T11:06:10.903988Z",
     "iopub.status.busy": "2025-06-16T11:06:10.903446Z",
     "iopub.status.idle": "2025-06-16T11:06:10.909066Z",
     "shell.execute_reply": "2025-06-16T11:06:10.908656Z",
     "shell.execute_reply.started": "2025-06-16T11:06:10.903969Z"
    }
   },
   "outputs": [],
   "source": [
    "# Create a class named 'House'\n",
    "class House: #this uses \"CamelCase\"\n",
    "    \"\"\"A simple class that models a house\"\"\" #this is the docstring (not necessary but good practice to know what the class is about)\n",
    "    \n",
    "    def __init__(self, bedroom, bathroom, price, sqft): # constructor --> this has 2 underscores!\n",
    "        \"\"\"Initialize any new instances of class House with the following attributes\"\"\"\n",
    "        self.bedroom = bedroom      ## instance attribute\n",
    "        self.bathroom = bathroom    ## instance attribute\n",
    "        self.price = price          ## instance attribute\n",
    "        self.sqft = sqft            ## instance attribute\n",
    "    \n",
    "    def price_per_sqft(self): ## instance method\n",
    "        \"\"\"Calculates the price per square foot based on price and square footage\"\"\"\n",
    "        price_per_sqft = self.price / self.sqft\n",
    "        return price_per_sqft"
   ]
  },
  {
   "cell_type": "markdown",
   "id": "c637d06b",
   "metadata": {},
   "source": [
    "By convention, a class name in Python starts with a capital letter and follows **CamelCase**. (Each word uses a capital letter unlike variable names that use lowercasing with **snake_case**.) We will use: `House`. Like a function definition, it is a good practice to include a docstring that describes the class. These docstrings are returned when using the `help()` function.\n",
    "\n",
    "Next, we define a special function called `__init__` that defines the attributes for the instances of the `House` class. (Make sure to always use two underscores before and after.) The `__init__` function *initializes* the instances of a class and has the special name of *constructor*. It determines what attributes will be initialized when an instance of the class `House` is created. The first parameter for `__init__` must be `self`. Then we can define any number of additional parameters.\n",
    "\n",
    "In our `__init__` function, we then set a number of **instance variables** prefixed with `self.`. This makes them available for each instance in our class. Here we have:\n",
    "\n",
    "```\n",
    "self.bedroom = bedroom     \n",
    "self.bathroom = bathroom    \n",
    "self.price = price      \n",
    "self.sqft = sqft\n",
    "```\n",
    "\n",
    "Conventionally, the argument names and variables names are the same. Each argument passed is transformed into an attribute of a given instance by use of these assignment statements. \n",
    "\n",
    "Finally, we define an additional function: `price_per_sqft`. Again, for any function in the class definition, we include the parameter: `self`. This function will become a method we can call with dot notation on a particular instance of the class `House`. Note that the `price_per_sqft` definition uses `self.price` and `self.sqft`, not the parameters `price` and `sqft`. Our function concludes by returning the `price_per_sqft`."
   ]
  },
  {
   "cell_type": "markdown",
   "id": "7e626beb",
   "metadata": {},
   "source": [
    "We create a particular **instance** of the `House` class by using an assignment statement. We call the `House` class like a function and pass in the corresponding required arguments that match the parameters in the `House` definition. Note: The `self` parameter is ignored. The first argument passed will be `bedroom`, then `bathroom`, etc."
   ]
  },
  {
   "cell_type": "code",
   "execution_count": 2,
   "id": "bf37e870",
   "metadata": {
    "execution": {
     "iopub.execute_input": "2025-06-16T11:07:38.903541Z",
     "iopub.status.busy": "2025-06-16T11:07:38.903010Z",
     "iopub.status.idle": "2025-06-16T11:07:38.905918Z",
     "shell.execute_reply": "2025-06-16T11:07:38.905500Z",
     "shell.execute_reply.started": "2025-06-16T11:07:38.903521Z"
    }
   },
   "outputs": [],
   "source": [
    "# Create an object house1\n",
    "# Each argument corresponds to an attribute: \n",
    "# bedroom, bathroom, price, sqft\n",
    "\n",
    "house1 = House(3, 1.5, 600_000, 1500) "
   ]
  },
  {
   "cell_type": "markdown",
   "id": "81e132fb",
   "metadata": {},
   "source": [
    "We can access the attributes of `house1` using dot notation. Since these are attributes (kind of like object properties), they do not require parentheses `()` at the end."
   ]
  },
  {
   "cell_type": "code",
   "execution_count": 4,
   "id": "cf4419bf",
   "metadata": {
    "execution": {
     "iopub.execute_input": "2025-06-04T13:20:13.939009Z",
     "iopub.status.busy": "2025-06-04T13:20:13.938481Z",
     "iopub.status.idle": "2025-06-04T13:20:13.943521Z",
     "shell.execute_reply": "2025-06-04T13:20:13.943091Z",
     "shell.execute_reply.started": "2025-06-04T13:20:13.938991Z"
    },
    "scrolled": true
   },
   "outputs": [
    {
     "data": {
      "text/plain": [
       "3"
      ]
     },
     "execution_count": 4,
     "metadata": {},
     "output_type": "execute_result"
    }
   ],
   "source": [
    "# Get the value of the attribute bedroom of house1\n",
    "house1.bedroom"
   ]
  },
  {
   "cell_type": "code",
   "execution_count": 5,
   "id": "9fdb94c2",
   "metadata": {
    "execution": {
     "iopub.execute_input": "2025-06-04T13:20:45.225484Z",
     "iopub.status.busy": "2025-06-04T13:20:45.225140Z",
     "iopub.status.idle": "2025-06-04T13:20:45.229551Z",
     "shell.execute_reply": "2025-06-04T13:20:45.228945Z",
     "shell.execute_reply.started": "2025-06-04T13:20:45.225462Z"
    }
   },
   "outputs": [
    {
     "data": {
      "text/plain": [
       "1.5"
      ]
     },
     "execution_count": 5,
     "metadata": {},
     "output_type": "execute_result"
    }
   ],
   "source": [
    "# Get the value of the attribute bathroom of house1\n",
    "house1.bathroom"
   ]
  },
  {
   "cell_type": "code",
   "execution_count": 6,
   "id": "ece0c3ee",
   "metadata": {
    "execution": {
     "iopub.execute_input": "2025-06-04T13:20:47.366200Z",
     "iopub.status.busy": "2025-06-04T13:20:47.365587Z",
     "iopub.status.idle": "2025-06-04T13:20:47.370053Z",
     "shell.execute_reply": "2025-06-04T13:20:47.369400Z",
     "shell.execute_reply.started": "2025-06-04T13:20:47.366178Z"
    }
   },
   "outputs": [
    {
     "data": {
      "text/plain": [
       "600000"
      ]
     },
     "execution_count": 6,
     "metadata": {},
     "output_type": "execute_result"
    }
   ],
   "source": [
    "# Get the value of the attribute price of house1\n",
    "house1.price"
   ]
  },
  {
   "cell_type": "code",
   "execution_count": 7,
   "id": "cc59b721",
   "metadata": {
    "execution": {
     "iopub.execute_input": "2025-06-04T13:20:50.225669Z",
     "iopub.status.busy": "2025-06-04T13:20:50.225385Z",
     "iopub.status.idle": "2025-06-04T13:20:50.229245Z",
     "shell.execute_reply": "2025-06-04T13:20:50.228663Z",
     "shell.execute_reply.started": "2025-06-04T13:20:50.225653Z"
    }
   },
   "outputs": [
    {
     "data": {
      "text/plain": [
       "1500"
      ]
     },
     "execution_count": 7,
     "metadata": {},
     "output_type": "execute_result"
    }
   ],
   "source": [
    "# Get the value of the attribute sqft of house1\n",
    "house1.sqft"
   ]
  },
  {
   "cell_type": "markdown",
   "id": "e5d23afd",
   "metadata": {},
   "source": [
    "We can also access the `.price_per_sqft()` method using dot notation. A method is a function and can require parameters, so it always includes parentheses (even if no argument is passed)."
   ]
  },
  {
   "cell_type": "code",
   "execution_count": 7,
   "id": "2b7a9e93",
   "metadata": {
    "execution": {
     "iopub.execute_input": "2024-10-01T12:40:13.890838Z",
     "iopub.status.busy": "2024-10-01T12:40:13.890512Z",
     "iopub.status.idle": "2024-10-01T12:40:13.894883Z",
     "shell.execute_reply": "2024-10-01T12:40:13.894221Z",
     "shell.execute_reply.started": "2024-10-01T12:40:13.890817Z"
    }
   },
   "outputs": [
    {
     "data": {
      "text/plain": [
       "400.0"
      ]
     },
     "execution_count": 7,
     "metadata": {},
     "output_type": "execute_result"
    }
   ],
   "source": [
    "# Use the method price_per_sqft of house1\n",
    "house1.price_per_sqft()"
   ]
  },
  {
   "cell_type": "code",
   "execution_count": 8,
   "id": "a691128a",
   "metadata": {
    "execution": {
     "iopub.execute_input": "2024-10-01T16:21:22.599627Z",
     "iopub.status.busy": "2024-10-01T16:21:22.599065Z",
     "iopub.status.idle": "2024-10-01T16:21:22.602184Z",
     "shell.execute_reply": "2024-10-01T16:21:22.601639Z",
     "shell.execute_reply.started": "2024-10-01T16:21:22.599605Z"
    }
   },
   "outputs": [],
   "source": [
    "# Create an object house2\n",
    "house2 = House(4, 2, 800_000, 2000)"
   ]
  },
  {
   "cell_type": "code",
   "execution_count": 9,
   "id": "d9eeb8c5",
   "metadata": {
    "execution": {
     "iopub.execute_input": "2024-10-01T16:21:24.806187Z",
     "iopub.status.busy": "2024-10-01T16:21:24.805662Z",
     "iopub.status.idle": "2024-10-01T16:21:24.809325Z",
     "shell.execute_reply": "2024-10-01T16:21:24.808888Z",
     "shell.execute_reply.started": "2024-10-01T16:21:24.806165Z"
    },
    "scrolled": true
   },
   "outputs": [
    {
     "data": {
      "text/plain": [
       "4"
      ]
     },
     "execution_count": 9,
     "metadata": {},
     "output_type": "execute_result"
    }
   ],
   "source": [
    "# Get the value of the attribute bedroom of house2\n",
    "house2.bedroom"
   ]
  },
  {
   "cell_type": "markdown",
   "id": "8096687a",
   "metadata": {},
   "source": [
    "### Modifying an instance attribute"
   ]
  },
  {
   "cell_type": "code",
   "execution_count": 11,
   "id": "43699894",
   "metadata": {
    "execution": {
     "iopub.execute_input": "2025-06-04T13:35:32.461469Z",
     "iopub.status.busy": "2025-06-04T13:35:32.461086Z",
     "iopub.status.idle": "2025-06-04T13:35:32.464797Z",
     "shell.execute_reply": "2025-06-04T13:35:32.464330Z",
     "shell.execute_reply.started": "2025-06-04T13:35:32.461451Z"
    }
   },
   "outputs": [
    {
     "data": {
      "text/plain": [
       "700000"
      ]
     },
     "execution_count": 11,
     "metadata": {},
     "output_type": "execute_result"
    }
   ],
   "source": [
    "# Modify an existing instance attribute by assigning a new value\n",
    "house1.price = 700_000 #we are overwiting the value\n",
    "house1.price"
   ]
  },
  {
   "cell_type": "markdown",
   "id": "9d36e74d",
   "metadata": {},
   "source": [
    "We can also add a new attribute to an existing instance, even if the attribute was not defined in the class's constructor (the `__init__` definition)."
   ]
  },
  {
   "cell_type": "code",
   "execution_count": 12,
   "id": "109d34f9",
   "metadata": {
    "execution": {
     "iopub.execute_input": "2025-06-04T13:35:39.225049Z",
     "iopub.status.busy": "2025-06-04T13:35:39.224542Z",
     "iopub.status.idle": "2025-06-04T13:35:39.228597Z",
     "shell.execute_reply": "2025-06-04T13:35:39.228077Z",
     "shell.execute_reply.started": "2025-06-04T13:35:39.225030Z"
    }
   },
   "outputs": [
    {
     "data": {
      "text/plain": [
       "3000"
      ]
     },
     "execution_count": 12,
     "metadata": {},
     "output_type": "execute_result"
    }
   ],
   "source": [
    "# Create a new instance attribute and assign a value to it\n",
    "house1.lot_size = 3000\n",
    "house1.lot_size"
   ]
  },
  {
   "cell_type": "markdown",
   "id": "49cc84b7",
   "metadata": {},
   "source": [
    "But it will only be available for that instance and not any other instances of the class."
   ]
  },
  {
   "cell_type": "code",
   "execution_count": 10,
   "id": "38962871",
   "metadata": {
    "execution": {
     "iopub.execute_input": "2025-06-04T13:29:31.695666Z",
     "iopub.status.busy": "2025-06-04T13:29:31.695390Z",
     "iopub.status.idle": "2025-06-04T13:29:31.811885Z",
     "shell.execute_reply": "2025-06-04T13:29:31.811334Z",
     "shell.execute_reply.started": "2025-06-04T13:29:31.695650Z"
    },
    "scrolled": true
   },
   "outputs": [
    {
     "ename": "NameError",
     "evalue": "name 'house2' is not defined",
     "output_type": "error",
     "traceback": [
      "\u001b[0;31m---------------------------------------------------------------------------\u001b[0m",
      "\u001b[0;31mNameError\u001b[0m                                 Traceback (most recent call last)",
      "Cell \u001b[0;32mIn[10], line 3\u001b[0m\n\u001b[1;32m      1\u001b[0m \u001b[38;5;66;03m# The instance attribute is specific to the object house1\u001b[39;00m\n\u001b[1;32m      2\u001b[0m \u001b[38;5;66;03m# house2 was not initialized with a `lot_size` attribute\u001b[39;00m\n\u001b[0;32m----> 3\u001b[0m \u001b[43mhouse2\u001b[49m\u001b[38;5;241m.\u001b[39mlot_size\n",
      "\u001b[0;31mNameError\u001b[0m: name 'house2' is not defined"
     ]
    }
   ],
   "source": [
    "# The instance attribute is specific to the object house1\n",
    "# house2 was not initialized with a `lot_size` attribute\n",
    "house2.lot_size"
   ]
  },
  {
   "cell_type": "markdown",
   "id": "ce8d0bb4",
   "metadata": {},
   "source": [
    "If there is a property that you want to store in an instance attribute, but not every house has a value for that property (due to missing information, for instance), you could set the default value to a null value `None`. For those houses which have a non-null value for that property, the value you pass in will override the null value. "
   ]
  },
  {
   "cell_type": "code",
   "execution_count": 6,
   "id": "30fc9850",
   "metadata": {
    "execution": {
     "iopub.execute_input": "2025-06-16T13:51:25.611138Z",
     "iopub.status.busy": "2025-06-16T13:51:25.610636Z",
     "iopub.status.idle": "2025-06-16T13:51:25.614267Z",
     "shell.execute_reply": "2025-06-16T13:51:25.613874Z",
     "shell.execute_reply.started": "2025-06-16T13:51:25.611117Z"
    },
    "tags": []
   },
   "outputs": [],
   "source": [
    "# Create a class House with lot_size set to None by default\n",
    "class House:\n",
    "    \"\"\"A simple class that models a house\"\"\"\n",
    "    \n",
    "    def __init__(self, bedroom, bathroom, price, sqft, lot_size = None): ## constructor\n",
    "        \"\"\"Initialize any new instances of class House with the following attributes\"\"\"\n",
    "        self.bedroom = bedroom      ## instance attribute\n",
    "        self.bathroom = bathroom    ## instance attribute\n",
    "        self.price = price          ## instance attribute\n",
    "        self.sqft = sqft            ## instance attribute\n",
    "        self.lot_size = lot_size    ## instance attribute\n",
    "        \n",
    "    def price_per_sqft(self): ## instance method\n",
    "        \"\"\"Calculates the price per square foot based on price and square footage\"\"\"\n",
    "        price_per_sqft = self.price / self.sqft\n",
    "        return price_per_sqft"
   ]
  },
  {
   "cell_type": "code",
   "execution_count": 7,
   "id": "4e818f97",
   "metadata": {
    "execution": {
     "iopub.execute_input": "2025-06-16T13:51:28.414643Z",
     "iopub.status.busy": "2025-06-16T13:51:28.414166Z",
     "iopub.status.idle": "2025-06-16T13:51:28.416938Z",
     "shell.execute_reply": "2025-06-16T13:51:28.416515Z",
     "shell.execute_reply.started": "2025-06-16T13:51:28.414625Z"
    },
    "tags": []
   },
   "outputs": [],
   "source": [
    "# Create an object house1\n",
    "house1 = House(3, 1.5, 600_000, 1500) "
   ]
  },
  {
   "cell_type": "code",
   "execution_count": 15,
   "id": "6ebc0ba5",
   "metadata": {
    "execution": {
     "iopub.execute_input": "2025-06-04T13:37:57.970035Z",
     "iopub.status.busy": "2025-06-04T13:37:57.969445Z",
     "iopub.status.idle": "2025-06-04T13:37:57.972376Z",
     "shell.execute_reply": "2025-06-04T13:37:57.971906Z",
     "shell.execute_reply.started": "2025-06-04T13:37:57.970016Z"
    },
    "tags": []
   },
   "outputs": [],
   "source": [
    "# Access the value of the instance attribute lot_size of house1\n",
    "house1.lot_size#here nothing happens bc there's no assigned value for lot_size for house 1"
   ]
  },
  {
   "cell_type": "code",
   "execution_count": 8,
   "id": "1e2c4b50",
   "metadata": {
    "execution": {
     "iopub.execute_input": "2025-06-16T13:51:46.413951Z",
     "iopub.status.busy": "2025-06-16T13:51:46.413454Z",
     "iopub.status.idle": "2025-06-16T13:51:46.416249Z",
     "shell.execute_reply": "2025-06-16T13:51:46.415807Z",
     "shell.execute_reply.started": "2025-06-16T13:51:46.413933Z"
    },
    "tags": []
   },
   "outputs": [],
   "source": [
    "# Create an object house2\n",
    "house2 = House(4, 2, 800_000, 2000, 3000)"
   ]
  },
  {
   "cell_type": "code",
   "execution_count": 9,
   "id": "047c81e9",
   "metadata": {
    "execution": {
     "iopub.execute_input": "2025-06-16T13:51:48.551905Z",
     "iopub.status.busy": "2025-06-16T13:51:48.551422Z",
     "iopub.status.idle": "2025-06-16T13:51:48.554746Z",
     "shell.execute_reply": "2025-06-16T13:51:48.554346Z",
     "shell.execute_reply.started": "2025-06-16T13:51:48.551888Z"
    },
    "tags": []
   },
   "outputs": [
    {
     "data": {
      "text/plain": [
       "3000"
      ]
     },
     "execution_count": 9,
     "metadata": {},
     "output_type": "execute_result"
    }
   ],
   "source": [
    "# Access the value of the instance attribute lot_size of house2\n",
    "house2.lot_size"
   ]
  },
  {
   "cell_type": "markdown",
   "id": "d0f76804",
   "metadata": {},
   "source": [
    "<h3 style=\"color:red; display:inline\">Coding Challenge! &lt; / &gt; </h3>\n",
    "\n",
    "Create a class called `Employee`. In this class, create the instance variables `first_name`, `last_name`, `salary` and `email`. Also, create a method that prints out the full name of instances of this class. Then, create two instances of this class. "
   ]
  },
  {
   "cell_type": "code",
   "execution_count": 3,
   "id": "ac003085",
   "metadata": {
    "execution": {
     "iopub.execute_input": "2025-06-16T12:27:57.000085Z",
     "iopub.status.busy": "2025-06-16T12:27:56.999829Z",
     "iopub.status.idle": "2025-06-16T12:27:57.003356Z",
     "shell.execute_reply": "2025-06-16T12:27:57.002887Z",
     "shell.execute_reply.started": "2025-06-16T12:27:57.000066Z"
    }
   },
   "outputs": [],
   "source": [
    "# Create a new class called Employee\n",
    "class Employee:\n",
    "    \"\"\"A simple class that stores employees infos\"\"\"\n",
    "    def __init__(self, first_name, last_name, salary, email):\n",
    "        self.first_name = first_name\n",
    "        self.last_name = last_name\n",
    "        self.salary = salary\n",
    "        self.email = email\n",
    "    def full_name(self):\n",
    "        full_name = self.first_name + \" \" + self.last_name\n",
    "        return full_name\n",
    "        "
   ]
  },
  {
   "cell_type": "code",
   "execution_count": 4,
   "id": "9f0a2f71",
   "metadata": {
    "execution": {
     "iopub.execute_input": "2025-06-16T12:28:00.579093Z",
     "iopub.status.busy": "2025-06-16T12:28:00.578825Z",
     "iopub.status.idle": "2025-06-16T12:28:00.581849Z",
     "shell.execute_reply": "2025-06-16T12:28:00.581370Z",
     "shell.execute_reply.started": "2025-06-16T12:28:00.579074Z"
    }
   },
   "outputs": [],
   "source": [
    "# Create two instances of the class Employee\n",
    "employee1 = Employee (\"Valentina\", \"Schiariti\", 800, \"valentinaschiariti@gmail.com\")\n",
    "employee2 = Employee (\"Filip\", \"Solkela\", 3000, \"filipsolkela@yahoo.com\")"
   ]
  },
  {
   "cell_type": "code",
   "execution_count": 5,
   "id": "44c4fc24-1105-4992-9c6b-317b4a1e31cc",
   "metadata": {
    "execution": {
     "iopub.execute_input": "2025-06-16T12:28:02.138375Z",
     "iopub.status.busy": "2025-06-16T12:28:02.138104Z",
     "iopub.status.idle": "2025-06-16T12:28:02.143234Z",
     "shell.execute_reply": "2025-06-16T12:28:02.142776Z",
     "shell.execute_reply.started": "2025-06-16T12:28:02.138356Z"
    }
   },
   "outputs": [
    {
     "data": {
      "text/plain": [
       "'Valentina Schiariti'"
      ]
     },
     "execution_count": 5,
     "metadata": {},
     "output_type": "execute_result"
    }
   ],
   "source": [
    "employee1.full_name()"
   ]
  },
  {
   "cell_type": "markdown",
   "id": "dee48f2e",
   "metadata": {},
   "source": [
    "### Instance attribute vs. class attribute\n",
    "\n",
    "In the class `House`, we have defined several **instance attributes** like bedroom, bathroom, price and sqft. We can also define **class attributes**. **Instance attributes** are the attributes of an instance of a class. **Class attributes** are the attributes of a class. Let's use our class `House` to illustrate.\n",
    "\n",
    "Suppose the houses you are interested in have all dropped their prices by 5%. "
   ]
  },
  {
   "cell_type": "code",
   "execution_count": 10,
   "id": "a77f3b55",
   "metadata": {
    "execution": {
     "iopub.execute_input": "2025-06-16T13:53:50.815731Z",
     "iopub.status.busy": "2025-06-16T13:53:50.815254Z",
     "iopub.status.idle": "2025-06-16T13:53:50.818811Z",
     "shell.execute_reply": "2025-06-16T13:53:50.818391Z",
     "shell.execute_reply.started": "2025-06-16T13:53:50.815714Z"
    },
    "tags": []
   },
   "outputs": [],
   "source": [
    "# Define a new class attribute\n",
    "class House:\n",
    "    \"\"\"A simple class that models a house\"\"\"\n",
    "    \n",
    "    pct_change = -0.05   ## class attribute\n",
    "    \n",
    "    def __init__(self, bedroom, bathroom, price, sqft): ## constructor\n",
    "        \"\"\"Initialize any new instances of class House with the following attributes\"\"\"\n",
    "        self.bedroom = bedroom      ## instance attribute\n",
    "        self.bathroom = bathroom    ## instance attribute\n",
    "        self.price = price          ## instance attribute\n",
    "        self.sqft = sqft            ## instance attribute\n",
    "        \n",
    "    def price_per_sqft(self): ## instance method\n",
    "        \"\"\"Calculates the price per square foot based on price and square footage\"\"\"\n",
    "        price_per_sqft = self.price / self.sqft\n",
    "        return price_per_sqft"
   ]
  },
  {
   "cell_type": "markdown",
   "id": "c11604c4-c0a3-4ffe-985b-0b17f655fb05",
   "metadata": {},
   "source": [
    "Differences between **instance attributes** and **class attributes**: \n",
    "* **Instance attributes** are defined in the `__init__` function. **Class attributes** are defined outside of it.\n",
    "* The values of **instance attributes** are possibily different for each instance of a class. However, the values of **class attributes** are shared by all the instances of a class.  "
   ]
  },
  {
   "cell_type": "code",
   "execution_count": 11,
   "id": "3b51ee7a-0238-421d-b775-615dabca27dd",
   "metadata": {
    "execution": {
     "iopub.execute_input": "2025-06-16T13:53:53.489431Z",
     "iopub.status.busy": "2025-06-16T13:53:53.488958Z",
     "iopub.status.idle": "2025-06-16T13:53:53.492586Z",
     "shell.execute_reply": "2025-06-16T13:53:53.492165Z",
     "shell.execute_reply.started": "2025-06-16T13:53:53.489413Z"
    }
   },
   "outputs": [
    {
     "data": {
      "text/plain": [
       "-0.05"
      ]
     },
     "execution_count": 11,
     "metadata": {},
     "output_type": "execute_result"
    }
   ],
   "source": [
    "# Create an object house1 and access the class attribute\n",
    "house1 = House(3, 1.5, 600_000, 1500) \n",
    "house1.pct_change"
   ]
  },
  {
   "cell_type": "code",
   "execution_count": 12,
   "id": "c91f6e80-57ae-46f8-83c5-d5a1a9a46df0",
   "metadata": {
    "execution": {
     "iopub.execute_input": "2025-06-16T13:53:59.413213Z",
     "iopub.status.busy": "2025-06-16T13:53:59.412684Z",
     "iopub.status.idle": "2025-06-16T13:53:59.416526Z",
     "shell.execute_reply": "2025-06-16T13:53:59.416089Z",
     "shell.execute_reply.started": "2025-06-16T13:53:59.413190Z"
    }
   },
   "outputs": [
    {
     "data": {
      "text/plain": [
       "-0.05"
      ]
     },
     "execution_count": 12,
     "metadata": {},
     "output_type": "execute_result"
    }
   ],
   "source": [
    "# Create an object house2 and access the class attribute\n",
    "house2 = House(4, 2, 800_000, 2000)\n",
    "house2.pct_change"
   ]
  },
  {
   "cell_type": "markdown",
   "id": "ccb908a3",
   "metadata": {},
   "source": [
    "If you change the value of a **class attribute**, it will affect all instances of that class. If you change the value of an **instance attribute**, it will only affect that one instance. "
   ]
  },
  {
   "cell_type": "code",
   "execution_count": 20,
   "id": "4aa8bd4a",
   "metadata": {
    "execution": {
     "iopub.execute_input": "2025-06-16T13:55:07.414360Z",
     "iopub.status.busy": "2025-06-16T13:55:07.414090Z",
     "iopub.status.idle": "2025-06-16T13:55:07.416880Z",
     "shell.execute_reply": "2025-06-16T13:55:07.416373Z",
     "shell.execute_reply.started": "2025-06-16T13:55:07.414341Z"
    },
    "tags": []
   },
   "outputs": [],
   "source": [
    "# Change the class attribute pct_change to -0.06\n",
    "House.pct_change = -0.06"
   ]
  },
  {
   "cell_type": "code",
   "execution_count": 17,
   "id": "6931fcdd",
   "metadata": {
    "execution": {
     "iopub.execute_input": "2025-06-16T13:54:48.445630Z",
     "iopub.status.busy": "2025-06-16T13:54:48.445356Z",
     "iopub.status.idle": "2025-06-16T13:54:48.448932Z",
     "shell.execute_reply": "2025-06-16T13:54:48.448448Z",
     "shell.execute_reply.started": "2025-06-16T13:54:48.445611Z"
    },
    "tags": []
   },
   "outputs": [
    {
     "data": {
      "text/plain": [
       "-0.06"
      ]
     },
     "execution_count": 17,
     "metadata": {},
     "output_type": "execute_result"
    }
   ],
   "source": [
    "# Access the class attribute pct_change again using house1\n",
    "house1.pct_change"
   ]
  },
  {
   "cell_type": "code",
   "execution_count": 23,
   "id": "68b0f44e",
   "metadata": {
    "execution": {
     "iopub.execute_input": "2025-06-16T13:55:30.826788Z",
     "iopub.status.busy": "2025-06-16T13:55:30.826301Z",
     "iopub.status.idle": "2025-06-16T13:55:30.829718Z",
     "shell.execute_reply": "2025-06-16T13:55:30.829139Z",
     "shell.execute_reply.started": "2025-06-16T13:55:30.826771Z"
    },
    "tags": []
   },
   "outputs": [
    {
     "name": "stdout",
     "output_type": "stream",
     "text": [
      "-0.05\n"
     ]
    }
   ],
   "source": [
    "# Access the class attribute pct_change again using house2\n",
    "house2.pct_change = -0.05 \n",
    "print(house2.pct_change)"
   ]
  },
  {
   "cell_type": "markdown",
   "id": "c0234997-5c4e-4c4a-a59b-001fd1683211",
   "metadata": {},
   "source": [
    "Since the class attributes are shared by all instances of a class, the instance methods can access the class attributes and operate on them. "
   ]
  },
  {
   "cell_type": "code",
   "execution_count": 12,
   "id": "2ae65f2b-46d5-4433-931b-15f15d719f3d",
   "metadata": {
    "execution": {
     "iopub.execute_input": "2025-06-05T13:36:27.915901Z",
     "iopub.status.busy": "2025-06-05T13:36:27.915629Z",
     "iopub.status.idle": "2025-06-05T13:36:27.919670Z",
     "shell.execute_reply": "2025-06-05T13:36:27.919173Z",
     "shell.execute_reply.started": "2025-06-05T13:36:27.915880Z"
    },
    "tags": []
   },
   "outputs": [],
   "source": [
    "# Define a new class attribute and write a new method in the class House to calculate new house prices\n",
    "class House:\n",
    "    \"\"\"A simple class that models a house\"\"\"\n",
    "    \n",
    "    pct_change = -0.05   ## class attribute\n",
    "    \n",
    "    def __init__(self, bedroom, bathroom, price, sqft): ## constructor\n",
    "        \"\"\"Initialize any new instances of class House with the following attributes\"\"\"\n",
    "        self.bedroom = bedroom      ## instance attribute\n",
    "        self.bathroom = bathroom    ## instance attribute\n",
    "        self.price = price          ## instance attribute\n",
    "        self.sqft = sqft            ## instance attribute\n",
    "        \n",
    "    def price_per_sqft(self): ## method\n",
    "        \"\"\"Calculates the price per square foot based on price and square footage\"\"\"\n",
    "        price_per_sqft = self.price / self.sqft\n",
    "        return price_per_sqft\n",
    "    \n",
    "    def new_price(self): ## method\n",
    "        \"\"\"Calculates the new house price based on the class variable pct_change\"\"\"\n",
    "        new_price = self.price * (1 + House.pct_change)\n",
    "        return new_price"
   ]
  },
  {
   "cell_type": "code",
   "execution_count": 13,
   "id": "5dfe913e-917e-453a-a9c6-dc8d5db4c751",
   "metadata": {
    "execution": {
     "iopub.execute_input": "2025-06-05T13:36:36.916469Z",
     "iopub.status.busy": "2025-06-05T13:36:36.916186Z",
     "iopub.status.idle": "2025-06-05T13:36:36.919978Z",
     "shell.execute_reply": "2025-06-05T13:36:36.919563Z",
     "shell.execute_reply.started": "2025-06-05T13:36:36.916451Z"
    },
    "tags": []
   },
   "outputs": [
    {
     "data": {
      "text/plain": [
       "570000.0"
      ]
     },
     "execution_count": 13,
     "metadata": {},
     "output_type": "execute_result"
    }
   ],
   "source": [
    "# create an object house1 and run the new instance method which does calculation using the class attribute\n",
    "house1 = House(3, 1.5, 600_000, 1500) \n",
    "house1.new_price()"
   ]
  },
  {
   "cell_type": "markdown",
   "id": "07fefb32",
   "metadata": {},
   "source": [
    "<h3 style=\"color:red; display:inline\">Coding Challenge! &lt; / &gt; </h3>\n",
    "\n",
    "The company has just announced a pay raise. Everyone will get a pay raise of 8%. Add a class variable `pay_raise` to the class `Employee`. For the two instances you created just now, create a new method that will calculate their new pay."
   ]
  },
  {
   "cell_type": "code",
   "execution_count": 21,
   "id": "7aa0b829-02eb-475a-99f8-3b925af611eb",
   "metadata": {
    "execution": {
     "iopub.execute_input": "2025-06-05T13:44:38.435318Z",
     "iopub.status.busy": "2025-06-05T13:44:38.434835Z",
     "iopub.status.idle": "2025-06-05T13:44:38.438601Z",
     "shell.execute_reply": "2025-06-05T13:44:38.438176Z",
     "shell.execute_reply.started": "2025-06-05T13:44:38.435296Z"
    }
   },
   "outputs": [],
   "source": [
    "# Create a new method for the class Employee\n",
    "# The method will calculate a 8% raise for each employee\n",
    "\n",
    "class Employee:\n",
    "    \"\"\"A simple class that collects data of the employees of my company\"\"\"\n",
    "\n",
    "    ptc_salary_increase = 0.08\n",
    "    \n",
    "    def __init__(self, first_name, last_name, salary, email=None):\n",
    "        self.first_name = first_name\n",
    "        self.last_name = last_name\n",
    "        self.salary = salary\n",
    "        self.email = email\n",
    "\n",
    "    def new_salary(self): ##method\n",
    "        \"\"\"Calculate the new salary based on the class variable pct_salary_increase\"\"\"\n",
    "        new_salary = self.salary * (1 + Employee.ptc_salary_increase)\n",
    "        print(new_salary)"
   ]
  },
  {
   "cell_type": "code",
   "execution_count": 24,
   "id": "b9e99bf9",
   "metadata": {
    "execution": {
     "iopub.execute_input": "2025-06-05T13:44:50.517855Z",
     "iopub.status.busy": "2025-06-05T13:44:50.517302Z",
     "iopub.status.idle": "2025-06-05T13:44:50.521368Z",
     "shell.execute_reply": "2025-06-05T13:44:50.520836Z",
     "shell.execute_reply.started": "2025-06-05T13:44:50.517829Z"
    }
   },
   "outputs": [],
   "source": [
    "# Create a new method for the class Employee\n",
    "# The method will calculate a 8% raise for each employee\n",
    "\n",
    "class Employee:\n",
    "    \"\"\"A simple class that stores employees infos\"\"\"\n",
    "    pay_raise = 0.08 #class attribute\n",
    "    \n",
    "    def __init__(self, first_name, last_name, salary, email):\n",
    "        self.first_name = first_name\n",
    "        self.last_name = last_name\n",
    "        self.salary = salary\n",
    "        self.email = email\n",
    "    def full_name(self):\n",
    "        \"\"\"Return the full name of the employee\"\"\"\n",
    "        full_name = self.first_name + \" \" + self.last_name\n",
    "        return full_name\n",
    "    def new_salary(self):\n",
    "        \"\"\"Return the new salary of the employee based on class variable pay_raise\"\"\"\n",
    "        new_salary = self.salary * (1 + Employee.pay_raise)\n",
    "        return new_salary\n"
   ]
  },
  {
   "cell_type": "code",
   "execution_count": 25,
   "id": "a58e5962-b4e0-45f3-ab4d-4a49b737e4b9",
   "metadata": {
    "execution": {
     "iopub.execute_input": "2025-06-05T13:44:52.355920Z",
     "iopub.status.busy": "2025-06-05T13:44:52.355649Z",
     "iopub.status.idle": "2025-06-05T13:44:52.358874Z",
     "shell.execute_reply": "2025-06-05T13:44:52.358324Z",
     "shell.execute_reply.started": "2025-06-05T13:44:52.355902Z"
    }
   },
   "outputs": [],
   "source": [
    "employee1 = Employee (\"Valentina\", \"Schiariti\", 800, \"valentinaschiariti@gmail.com\")\n",
    "employee2 = Employee (\"Filip\", \"Solkela\", 3000, \"filipsolkela@yahoo.com\")"
   ]
  },
  {
   "cell_type": "code",
   "execution_count": 26,
   "id": "d285525b-794c-4a65-b9e7-1a74e92a1e9d",
   "metadata": {
    "execution": {
     "iopub.execute_input": "2025-06-05T13:44:52.958719Z",
     "iopub.status.busy": "2025-06-05T13:44:52.958224Z",
     "iopub.status.idle": "2025-06-05T13:44:52.961866Z",
     "shell.execute_reply": "2025-06-05T13:44:52.961469Z",
     "shell.execute_reply.started": "2025-06-05T13:44:52.958699Z"
    }
   },
   "outputs": [
    {
     "data": {
      "text/plain": [
       "864.0"
      ]
     },
     "execution_count": 26,
     "metadata": {},
     "output_type": "execute_result"
    }
   ],
   "source": [
    "employee1.new_salary()"
   ]
  },
  {
   "cell_type": "markdown",
   "id": "b3622232",
   "metadata": {},
   "source": [
    "### Instance method vs. class method"
   ]
  },
  {
   "cell_type": "markdown",
   "id": "cad6f97d",
   "metadata": {},
   "source": [
    "**Instance method** receives the instance of the class as the first argument, which is called `self` by convention. Using the `self` parameter, we can access the instance attributes of an object and change the object state by changing the values assigned to the instance variables.\n",
    "\n",
    "We have both **instance attribute** and **class attribute**. Do we have **class method** apart from **instance method**? The answer is yes. "
   ]
  },
  {
   "cell_type": "markdown",
   "id": "129e628b",
   "metadata": {},
   "source": [
    "In Python, the `@classmethod` decorator is used to declare a method in the class as a **class method** that can be called using `ClassName.MethodName()`."
   ]
  },
  {
   "cell_type": "code",
   "execution_count": 24,
   "id": "a8189e3d",
   "metadata": {
    "execution": {
     "iopub.execute_input": "2025-06-16T14:03:02.424696Z",
     "iopub.status.busy": "2025-06-16T14:03:02.424160Z",
     "iopub.status.idle": "2025-06-16T14:03:02.428847Z",
     "shell.execute_reply": "2025-06-16T14:03:02.428369Z",
     "shell.execute_reply.started": "2025-06-16T14:03:02.424675Z"
    },
    "tags": []
   },
   "outputs": [],
   "source": [
    "class House:\n",
    "    \"\"\"A simple class that models a house\"\"\"\n",
    "    \n",
    "    pct_change = -0.05   ## class attribute\n",
    "    \n",
    "    def __init__(self, bedroom, bathroom, price, sqft): ## constructor\n",
    "        \"\"\"Initialize any new instances of class House with the following attributes\"\"\"\n",
    "        self.bedroom = bedroom      ## instance attribute\n",
    "        self.bathroom = bathroom    ## instance attribute\n",
    "        self.price = price          ## instance attribute\n",
    "        self.sqft = sqft            ## instance attribute\n",
    "        \n",
    "    def price_per_sqft(self): ## instance method\n",
    "        \"\"\"Calculates the price per square foot based on price and square footage\"\"\"\n",
    "        price_per_sqft = self.price / self.sqft\n",
    "        return price_per_sqft\n",
    "    \n",
    "    def new_price (self): ## instance method\n",
    "        \"\"\"Calculates the new house price based on the class variable perc_raise\"\"\"\n",
    "        new_price = self.price * (1 + House.pct_change)\n",
    "        return new_price\n",
    "    \n",
    "    @classmethod ## Add a decorator on the top of the class method\n",
    "    def print_pct_change(cls):  ## class method    \n",
    "        if cls.pct_change > 0:\n",
    "            print(f'The house prices have increased {cls.pct_change:.0%}.')\n",
    "        elif cls.pct_change < 0:\n",
    "            print(f'The house prices have decreased {-cls.pct_change:.0%}.')\n",
    "        else: \n",
    "            print(f'The house prices have not changed')"
   ]
  },
  {
   "cell_type": "markdown",
   "id": "3b8a205f",
   "metadata": {},
   "source": [
    "You don't need to create any instance of a class to access its class methods. "
   ]
  },
  {
   "cell_type": "code",
   "execution_count": 25,
   "id": "ed18d623",
   "metadata": {
    "execution": {
     "iopub.execute_input": "2025-06-16T14:03:04.834153Z",
     "iopub.status.busy": "2025-06-16T14:03:04.833637Z",
     "iopub.status.idle": "2025-06-16T14:03:04.836789Z",
     "shell.execute_reply": "2025-06-16T14:03:04.836300Z",
     "shell.execute_reply.started": "2025-06-16T14:03:04.834131Z"
    },
    "tags": []
   },
   "outputs": [
    {
     "name": "stdout",
     "output_type": "stream",
     "text": [
      "The house prices have decreased 5%.\n"
     ]
    }
   ],
   "source": [
    "# Use the class method\n",
    "House.print_pct_change()"
   ]
  },
  {
   "cell_type": "markdown",
   "id": "be6ee008",
   "metadata": {},
   "source": [
    "## A perspective shift from functional programming to OOP\n",
    "\n",
    "In a class, we have some data and some functions that operate on those data. So, why don't we just store the data in some format and write functions separately?"
   ]
  },
  {
   "cell_type": "code",
   "execution_count": 56,
   "id": "7bae501a",
   "metadata": {
    "execution": {
     "iopub.execute_input": "2024-10-01T19:05:56.876401Z",
     "iopub.status.busy": "2024-10-01T19:05:56.875817Z",
     "iopub.status.idle": "2024-10-01T19:05:56.879298Z",
     "shell.execute_reply": "2024-10-01T19:05:56.878770Z",
     "shell.execute_reply.started": "2024-10-01T19:05:56.876374Z"
    },
    "tags": []
   },
   "outputs": [],
   "source": [
    "# Create a function that checks the first letter in a string\n",
    "def startswith(string, letter): # A function that checks whether a string starts with a certain letter\n",
    "    \"\"\"Takes a string and a letter and outputs True/False\n",
    "    depending on whether the string starts with the letter.\"\"\"\n",
    "    if string[0] == letter:\n",
    "        return True\n",
    "    return False"
   ]
  },
  {
   "cell_type": "code",
   "execution_count": 57,
   "id": "1c9f625b",
   "metadata": {
    "execution": {
     "iopub.execute_input": "2024-10-01T19:05:59.513714Z",
     "iopub.status.busy": "2024-10-01T19:05:59.513159Z",
     "iopub.status.idle": "2024-10-01T19:05:59.517311Z",
     "shell.execute_reply": "2024-10-01T19:05:59.516696Z",
     "shell.execute_reply.started": "2024-10-01T19:05:59.513691Z"
    },
    "tags": []
   },
   "outputs": [
    {
     "data": {
      "text/plain": [
       "True"
      ]
     },
     "execution_count": 57,
     "metadata": {},
     "output_type": "execute_result"
    }
   ],
   "source": [
    "# Use the function startswith to check whether 'John' starts with letter 'J'\n",
    "startswith('John', 'J')"
   ]
  },
  {
   "cell_type": "code",
   "execution_count": 58,
   "id": "5be6a9de",
   "metadata": {
    "execution": {
     "iopub.execute_input": "2024-10-01T19:07:21.975628Z",
     "iopub.status.busy": "2024-10-01T19:07:21.975109Z",
     "iopub.status.idle": "2024-10-01T19:07:21.978289Z",
     "shell.execute_reply": "2024-10-01T19:07:21.977813Z",
     "shell.execute_reply.started": "2024-10-01T19:07:21.975607Z"
    },
    "tags": []
   },
   "outputs": [],
   "source": [
    "# Create a function that checks whether a string ends with a certain letter\n",
    "def endswith(string, letter): \n",
    "    \"\"\"Takes a string and a letter and outputs True/False\n",
    "    depending on whether the string ends with the letter.\"\"\"\n",
    "    if string[-1] == letter:\n",
    "        return True\n",
    "    return False"
   ]
  },
  {
   "cell_type": "code",
   "execution_count": 59,
   "id": "92564f01",
   "metadata": {
    "execution": {
     "iopub.execute_input": "2024-10-01T19:07:25.397611Z",
     "iopub.status.busy": "2024-10-01T19:07:25.397061Z",
     "iopub.status.idle": "2024-10-01T19:07:25.400685Z",
     "shell.execute_reply": "2024-10-01T19:07:25.400273Z",
     "shell.execute_reply.started": "2024-10-01T19:07:25.397588Z"
    },
    "tags": []
   },
   "outputs": [
    {
     "data": {
      "text/plain": [
       "False"
      ]
     },
     "execution_count": 59,
     "metadata": {},
     "output_type": "execute_result"
    }
   ],
   "source": [
    "# Use the function endswith to check whether 'John' ends with letter 'J'\n",
    "endswith('John', 'J')"
   ]
  },
  {
   "cell_type": "markdown",
   "id": "da02e86e",
   "metadata": {},
   "source": [
    "From the perspective of functional programming, we are putting the functions at the center stage. Here we put the functions `startswith` and `endswith` at the center stage in particular. The strings, e.g. `s1` and `s2`, are the input to the functions. "
   ]
  },
  {
   "cell_type": "markdown",
   "id": "c9e65d9c",
   "metadata": {},
   "source": [
    "<center><img src=\"https://ithaka-labs.s3.amazonaws.com/static-files/images/tdm/tdmdocs/intermediate_python_4_FP.png\" width=\"400\" height=\"400\" /></center>"
   ]
  },
  {
   "cell_type": "markdown",
   "id": "1c4b6cb9",
   "metadata": {},
   "source": [
    "Since these two operations are so common with strings, it would be great if we have them always ready to use when we have a string. So, let's shift our perspective and put the strings at the center stage. Here, `s1` and `s2` are not passively waiting to be taken by functions as input. Instead, they are active `objects`. The functions that we wrote before, `startswith` and `endswith`, are now the tools that `s1` and `s2` can use. This is the perspective of OOP. "
   ]
  },
  {
   "cell_type": "markdown",
   "id": "58785d3b",
   "metadata": {},
   "source": [
    "<center><img src=\"https://ithaka-labs.s3.amazonaws.com/static-files/images/tdm/tdmdocs/intermediate_python_4_OOP.png\" width=\"400\" height=\"400\" /></center>\n"
   ]
  },
  {
   "cell_type": "code",
   "execution_count": 27,
   "id": "e8bdb6d3",
   "metadata": {
    "execution": {
     "iopub.execute_input": "2025-06-05T14:03:52.551098Z",
     "iopub.status.busy": "2025-06-05T14:03:52.550564Z",
     "iopub.status.idle": "2025-06-05T14:03:52.554058Z",
     "shell.execute_reply": "2025-06-05T14:03:52.553636Z",
     "shell.execute_reply.started": "2025-06-05T14:03:52.551078Z"
    },
    "tags": []
   },
   "outputs": [
    {
     "data": {
      "text/plain": [
       "True"
      ]
     },
     "execution_count": 27,
     "metadata": {},
     "output_type": "execute_result"
    }
   ],
   "source": [
    "# Treating 'John' as an object and using the .startswith() method\n",
    "'John'.startswith('J')"
   ]
  },
  {
   "cell_type": "code",
   "execution_count": 28,
   "id": "e818e7bc",
   "metadata": {
    "execution": {
     "iopub.execute_input": "2025-06-05T14:03:54.588300Z",
     "iopub.status.busy": "2025-06-05T14:03:54.587791Z",
     "iopub.status.idle": "2025-06-05T14:03:54.591283Z",
     "shell.execute_reply": "2025-06-05T14:03:54.590861Z",
     "shell.execute_reply.started": "2025-06-05T14:03:54.588282Z"
    },
    "tags": []
   },
   "outputs": [
    {
     "data": {
      "text/plain": [
       "False"
      ]
     },
     "execution_count": 28,
     "metadata": {},
     "output_type": "execute_result"
    }
   ],
   "source": [
    "# Treating 'John' as an object and using the .endswith() method\n",
    "'John'.endswith('J')"
   ]
  },
  {
   "cell_type": "markdown",
   "id": "79fd83b3",
   "metadata": {},
   "source": [
    "You may not be aware of it, but you have been working with classes all the time! Did you notice that I did not create a class `string` and write the methods `startswith` and `endswith` myself, but somehow I can use them in the examples? That's because Python already did it for us! "
   ]
  },
  {
   "cell_type": "code",
   "execution_count": null,
   "id": "ae55d88d",
   "metadata": {
    "tags": []
   },
   "outputs": [],
   "source": [
    "# Print out the type of the string 'John'\n",
    "print(type('John'))"
   ]
  },
  {
   "cell_type": "code",
   "execution_count": null,
   "id": "30db123a",
   "metadata": {
    "tags": []
   },
   "outputs": [],
   "source": [
    "# Use the help function to check the attributes and methods for the string class\n",
    "help(str)"
   ]
  },
  {
   "cell_type": "markdown",
   "id": "4b7017de",
   "metadata": {},
   "source": [
    "The same with lists. When you create a list in Python, you create a list object. "
   ]
  },
  {
   "cell_type": "code",
   "execution_count": 62,
   "id": "7149c262",
   "metadata": {
    "execution": {
     "iopub.execute_input": "2024-10-01T19:13:42.438032Z",
     "iopub.status.busy": "2024-10-01T19:13:42.437498Z",
     "iopub.status.idle": "2024-10-01T19:13:42.441114Z",
     "shell.execute_reply": "2024-10-01T19:13:42.440527Z",
     "shell.execute_reply.started": "2024-10-01T19:13:42.438009Z"
    },
    "tags": []
   },
   "outputs": [
    {
     "name": "stdout",
     "output_type": "stream",
     "text": [
      "<class 'list'>\n"
     ]
    }
   ],
   "source": [
    "ls = [1, 2, 3]\n",
    "print(type(ls))"
   ]
  },
  {
   "cell_type": "code",
   "execution_count": 63,
   "id": "b1b7f8c0",
   "metadata": {
    "execution": {
     "iopub.execute_input": "2024-10-01T19:13:53.549197Z",
     "iopub.status.busy": "2024-10-01T19:13:53.548917Z",
     "iopub.status.idle": "2024-10-01T19:13:53.552717Z",
     "shell.execute_reply": "2024-10-01T19:13:53.552300Z",
     "shell.execute_reply.started": "2024-10-01T19:13:53.549178Z"
    },
    "tags": []
   },
   "outputs": [
    {
     "data": {
      "text/plain": [
       "[1, 2]"
      ]
     },
     "execution_count": 63,
     "metadata": {},
     "output_type": "execute_result"
    }
   ],
   "source": [
    "# Use the remove method of the list class\n",
    "ls.remove(3)\n",
    "ls"
   ]
  },
  {
   "cell_type": "markdown",
   "id": "27c7adf1",
   "metadata": {},
   "source": [
    "## Inheritance"
   ]
  },
  {
   "cell_type": "markdown",
   "id": "006aa644",
   "metadata": {},
   "source": [
    "We have seen how OOP can help quickly create instances of objects. Another significant benefit of OOP is the opportunity to use **inheritance**. \n",
    "\n",
    "Suppose in the process of house hunting, you find houses in suburbs and houses in the city both have advantages and disadvantages. Now, you are interested in the commute expenses you have to pay if you choose a house in the suburbs or a house in the city. You want to add this information to your house data and at the same time maintain the attributes and methods you have written in the `House` class. How can you do it? This is where **inheritance** comes in. \n",
    "\n",
    "**Inheritance** in OOP allows us to inherit attributes and methods from a **parent class** to **child classes**. What makes OOP particularly attractive is exactly this reusability! **Inheritance** helps us avoid repeating ourselves when writing code. "
   ]
  },
  {
   "cell_type": "code",
   "execution_count": 64,
   "id": "373cbb4d",
   "metadata": {
    "execution": {
     "iopub.execute_input": "2024-10-01T19:22:05.874704Z",
     "iopub.status.busy": "2024-10-01T19:22:05.874172Z",
     "iopub.status.idle": "2024-10-01T19:22:05.878036Z",
     "shell.execute_reply": "2024-10-01T19:22:05.877573Z",
     "shell.execute_reply.started": "2024-10-01T19:22:05.874684Z"
    }
   },
   "outputs": [],
   "source": [
    "class SuburbanHouse(House):\n",
    "    \"\"\"A child class that inherits from House for modeling suburban houses\"\"\"\n",
    "    \n",
    "    def __init__(self, bedroom, bathroom, price, sqft, distance): # constructor\n",
    "        \"\"\"Initialize all the attributes for a suburban house\"\"\"\n",
    "        super().__init__(bedroom, bathroom, price, sqft) # let the parent class take care of the existing attributes\n",
    "        self.distance = distance # add the new instance attribute\n",
    "    \n",
    "    def gas_expenses(self): # add the new method\n",
    "        \"\"\"Take the distance and calculate a monthly fuel expense\"\"\"\n",
    "        expense = 0.5 * self.distance * 2 * 22 # assume $0.5/mile for the gas\n",
    "        return expense"
   ]
  },
  {
   "cell_type": "markdown",
   "id": "4617bab7",
   "metadata": {},
   "source": [
    "When we define the `SuburbanHouse` class, we add the `House` class as a parameter:\n",
    "```\n",
    "class SuburbanHouse(House):\n",
    "```\n",
    "This tells Python to inherit all the attributes and methods from the `House` class. In our `SuburbanHouse` constructor, we include the class attributes from the `House` class along with a new `distance` attribute that will be unique to the `SuburbanHouse` class.\n",
    "\n",
    "The `super().__init__()` constructor informs Python of the attributes to pull from the `House` class. Then we are free to define additional child class attributes, in this case `self.distance`.\n",
    "\n",
    "Finally, we also add a `.gas_expenses()` method that will only be available to `SuburbanHouse` objects but not regular `House` objects."
   ]
  },
  {
   "cell_type": "code",
   "execution_count": 65,
   "id": "e748d245",
   "metadata": {
    "execution": {
     "iopub.execute_input": "2024-10-01T19:22:54.572401Z",
     "iopub.status.busy": "2024-10-01T19:22:54.571887Z",
     "iopub.status.idle": "2024-10-01T19:22:54.574944Z",
     "shell.execute_reply": "2024-10-01T19:22:54.574468Z",
     "shell.execute_reply.started": "2024-10-01T19:22:54.572380Z"
    }
   },
   "outputs": [],
   "source": [
    "# Create an object of the new class SuburbanHouse\n",
    "house3 = SuburbanHouse(4, 3.5, 900000, 2500, 20) "
   ]
  },
  {
   "cell_type": "code",
   "execution_count": 66,
   "id": "4378e026",
   "metadata": {
    "execution": {
     "iopub.execute_input": "2024-10-01T19:23:00.011130Z",
     "iopub.status.busy": "2024-10-01T19:23:00.010632Z",
     "iopub.status.idle": "2024-10-01T19:23:00.014549Z",
     "shell.execute_reply": "2024-10-01T19:23:00.013971Z",
     "shell.execute_reply.started": "2024-10-01T19:23:00.011111Z"
    }
   },
   "outputs": [
    {
     "data": {
      "text/plain": [
       "4"
      ]
     },
     "execution_count": 66,
     "metadata": {},
     "output_type": "execute_result"
    }
   ],
   "source": [
    "# Use the attributes of the parent class\n",
    "house3.bedroom"
   ]
  },
  {
   "cell_type": "code",
   "execution_count": 67,
   "id": "0ec3f7ea",
   "metadata": {
    "execution": {
     "iopub.execute_input": "2024-10-01T19:23:04.671014Z",
     "iopub.status.busy": "2024-10-01T19:23:04.670719Z",
     "iopub.status.idle": "2024-10-01T19:23:04.674608Z",
     "shell.execute_reply": "2024-10-01T19:23:04.674111Z",
     "shell.execute_reply.started": "2024-10-01T19:23:04.670996Z"
    }
   },
   "outputs": [
    {
     "data": {
      "text/plain": [
       "360.0"
      ]
     },
     "execution_count": 67,
     "metadata": {},
     "output_type": "execute_result"
    }
   ],
   "source": [
    "# Use the methods of the parent class\n",
    "house3.price_per_sqft()"
   ]
  },
  {
   "cell_type": "code",
   "execution_count": 68,
   "id": "ee8169d4",
   "metadata": {
    "execution": {
     "iopub.execute_input": "2024-10-01T19:23:13.738699Z",
     "iopub.status.busy": "2024-10-01T19:23:13.738277Z",
     "iopub.status.idle": "2024-10-01T19:23:13.742233Z",
     "shell.execute_reply": "2024-10-01T19:23:13.741626Z",
     "shell.execute_reply.started": "2024-10-01T19:23:13.738679Z"
    }
   },
   "outputs": [
    {
     "data": {
      "text/plain": [
       "20"
      ]
     },
     "execution_count": 68,
     "metadata": {},
     "output_type": "execute_result"
    }
   ],
   "source": [
    "# Use the new instance attribute\n",
    "house3.distance"
   ]
  },
  {
   "cell_type": "code",
   "execution_count": 69,
   "id": "e9e25c80",
   "metadata": {
    "execution": {
     "iopub.execute_input": "2024-10-01T19:23:16.666829Z",
     "iopub.status.busy": "2024-10-01T19:23:16.666311Z",
     "iopub.status.idle": "2024-10-01T19:23:16.670354Z",
     "shell.execute_reply": "2024-10-01T19:23:16.669775Z",
     "shell.execute_reply.started": "2024-10-01T19:23:16.666810Z"
    },
    "scrolled": true
   },
   "outputs": [
    {
     "data": {
      "text/plain": [
       "440.0"
      ]
     },
     "execution_count": 69,
     "metadata": {},
     "output_type": "execute_result"
    }
   ],
   "source": [
    "# Use the new instance method\n",
    "house3.gas_expenses()"
   ]
  },
  {
   "cell_type": "markdown",
   "id": "993569e7",
   "metadata": {},
   "source": [
    "Now imagine we are also considering a house in the city. We could use a train to commute instead. It would help to calculate whether the commute will be cheaper. We will create a new child class: `CityHouse` which has the method `train_expenses()`."
   ]
  },
  {
   "cell_type": "code",
   "execution_count": 71,
   "id": "862860a4",
   "metadata": {
    "execution": {
     "iopub.execute_input": "2024-10-01T19:24:37.504567Z",
     "iopub.status.busy": "2024-10-01T19:24:37.504006Z",
     "iopub.status.idle": "2024-10-01T19:24:37.507154Z",
     "shell.execute_reply": "2024-10-01T19:24:37.506586Z",
     "shell.execute_reply.started": "2024-10-01T19:24:37.504546Z"
    }
   },
   "outputs": [],
   "source": [
    "# Create an object of the new class City_house\n",
    "house4 = CityHouse(3, 2, 1000000, 1200, 10)"
   ]
  },
  {
   "cell_type": "code",
   "execution_count": 72,
   "id": "59346fcc",
   "metadata": {
    "execution": {
     "iopub.execute_input": "2024-10-01T19:24:39.702895Z",
     "iopub.status.busy": "2024-10-01T19:24:39.702373Z",
     "iopub.status.idle": "2024-10-01T19:24:39.706197Z",
     "shell.execute_reply": "2024-10-01T19:24:39.705651Z",
     "shell.execute_reply.started": "2024-10-01T19:24:39.702876Z"
    }
   },
   "outputs": [
    {
     "data": {
      "text/plain": [
       "1200"
      ]
     },
     "execution_count": 72,
     "metadata": {},
     "output_type": "execute_result"
    }
   ],
   "source": [
    "# Use the attributes of the parent class\n",
    "house4.sqft"
   ]
  },
  {
   "cell_type": "code",
   "execution_count": 73,
   "id": "8b1e56b0",
   "metadata": {
    "execution": {
     "iopub.execute_input": "2024-10-01T19:24:42.376363Z",
     "iopub.status.busy": "2024-10-01T19:24:42.375801Z",
     "iopub.status.idle": "2024-10-01T19:24:42.379878Z",
     "shell.execute_reply": "2024-10-01T19:24:42.379447Z",
     "shell.execute_reply.started": "2024-10-01T19:24:42.376334Z"
    }
   },
   "outputs": [
    {
     "data": {
      "text/plain": [
       "833.3333333333334"
      ]
     },
     "execution_count": 73,
     "metadata": {},
     "output_type": "execute_result"
    }
   ],
   "source": [
    "# Use the methods of the parent class\n",
    "house4.price_per_sqft()"
   ]
  },
  {
   "cell_type": "code",
   "execution_count": 74,
   "id": "8c95a270",
   "metadata": {
    "execution": {
     "iopub.execute_input": "2024-10-01T19:24:49.376444Z",
     "iopub.status.busy": "2024-10-01T19:24:49.375915Z",
     "iopub.status.idle": "2024-10-01T19:24:49.379523Z",
     "shell.execute_reply": "2024-10-01T19:24:49.379056Z",
     "shell.execute_reply.started": "2024-10-01T19:24:49.376423Z"
    }
   },
   "outputs": [
    {
     "data": {
      "text/plain": [
       "10"
      ]
     },
     "execution_count": 74,
     "metadata": {},
     "output_type": "execute_result"
    }
   ],
   "source": [
    "# Use the new instance attribute\n",
    "house4.train_stops"
   ]
  },
  {
   "cell_type": "code",
   "execution_count": 75,
   "id": "dac9de03",
   "metadata": {
    "execution": {
     "iopub.execute_input": "2024-10-01T19:24:51.854671Z",
     "iopub.status.busy": "2024-10-01T19:24:51.854144Z",
     "iopub.status.idle": "2024-10-01T19:24:51.858142Z",
     "shell.execute_reply": "2024-10-01T19:24:51.857553Z",
     "shell.execute_reply.started": "2024-10-01T19:24:51.854651Z"
    }
   },
   "outputs": [
    {
     "data": {
      "text/plain": [
       "660.0"
      ]
     },
     "execution_count": 75,
     "metadata": {},
     "output_type": "execute_result"
    }
   ],
   "source": [
    "# Use the new instance method\n",
    "house4.train_expenses()"
   ]
  },
  {
   "cell_type": "code",
   "execution_count": 70,
   "id": "43da9d73",
   "metadata": {
    "execution": {
     "iopub.execute_input": "2024-10-01T19:24:33.239831Z",
     "iopub.status.busy": "2024-10-01T19:24:33.239279Z",
     "iopub.status.idle": "2024-10-01T19:24:33.243138Z",
     "shell.execute_reply": "2024-10-01T19:24:33.242661Z",
     "shell.execute_reply.started": "2024-10-01T19:24:33.239804Z"
    }
   },
   "outputs": [],
   "source": [
    "class CityHouse(House):\n",
    "    \"\"\"A child class that inherits from House for modeling city houses\"\"\"\n",
    "    \n",
    "    def __init__(self, bedroom, bathroom, price, sqft, train_stops): ## constructor\n",
    "        \"\"\"Initialize all the attributes for a city house\"\"\"\n",
    "        super().__init__(bedroom, bathroom, price, sqft) # let the parent class take care of the existing attributes\n",
    "        self.train_stops = train_stops # add the new instance attribute\n",
    "    \n",
    "    def train_expenses(self):\n",
    "        \"\"\"Take the number of stops to job and calculate a monthly commute cost\"\"\"\n",
    "        expense = 1.5 * self.train_stops * 2 * 22 # assume $1.50/stop for the train\n",
    "        return expense"
   ]
  },
  {
   "cell_type": "markdown",
   "id": "6158dff2",
   "metadata": {},
   "source": [
    "<h3 style=\"color:red; display:inline\">Coding Challenge! &lt; / &gt; </h3>\n",
    "\n",
    "Use the class `Employee` you created as the parent class. Create two child classes, `Accountants` and `Managers`. Add a new instance variable and a new method to each child class. "
   ]
  },
  {
   "cell_type": "code",
   "execution_count": 103,
   "id": "f6719f8e",
   "metadata": {
    "execution": {
     "iopub.execute_input": "2024-10-01T20:02:48.391592Z",
     "iopub.status.busy": "2024-10-01T20:02:48.391302Z",
     "iopub.status.idle": "2024-10-01T20:02:48.395275Z",
     "shell.execute_reply": "2024-10-01T20:02:48.394676Z",
     "shell.execute_reply.started": "2024-10-01T20:02:48.391572Z"
    }
   },
   "outputs": [],
   "source": [
    "class Managers(Employee): #child class Accountants from the parent class Employee\n",
    "    \"\"\"A child class that inherits employees attributes to store infos\"\"\"\n",
    "    def __init__(self, first_name, last_name, salary, email, seniority):\n",
    "        super().__init__(first_name, last_name, salary, email)\n",
    "        self.seniority = seniority\n",
    "    def seniority_bonus(self):\n",
    "        seniority_bonus = self.salary * self.seniority * 0.02 #the managers receive 2% bonus for every year they worked in the company \n",
    "        return seniority_bonus\n",
    "    "
   ]
  },
  {
   "cell_type": "code",
   "execution_count": 110,
   "id": "a3be104c-79f6-4157-9c05-f7cb55d7fb35",
   "metadata": {
    "execution": {
     "iopub.execute_input": "2024-10-01T20:03:54.376399Z",
     "iopub.status.busy": "2024-10-01T20:03:54.375875Z",
     "iopub.status.idle": "2024-10-01T20:03:54.379572Z",
     "shell.execute_reply": "2024-10-01T20:03:54.379071Z",
     "shell.execute_reply.started": "2024-10-01T20:03:54.376379Z"
    }
   },
   "outputs": [],
   "source": [
    "class Accountants(Employee):\n",
    "    \"\"\"A child class that inherits employees attributes to store infos\"\"\"\n",
    "    def __init__(self, first_name, last_name, salary, email, specialization):\n",
    "        super().__init__(first_name, last_name, salary, email)\n",
    "        self.specialization = specialization\n",
    "    def show_specialization(self):\n",
    "        print(f\"{self.full_name()}, sector : {self.specialization}\")  #here bc we are using the full name method we have to put on parenthesis"
   ]
  },
  {
   "cell_type": "code",
   "execution_count": 105,
   "id": "1d681f4c-a7d4-40da-bb2d-9a2802a456b6",
   "metadata": {
    "execution": {
     "iopub.execute_input": "2024-10-01T20:02:53.409364Z",
     "iopub.status.busy": "2024-10-01T20:02:53.409046Z",
     "iopub.status.idle": "2024-10-01T20:02:53.412612Z",
     "shell.execute_reply": "2024-10-01T20:02:53.411943Z",
     "shell.execute_reply.started": "2024-10-01T20:02:53.409341Z"
    }
   },
   "outputs": [],
   "source": [
    "employee3 = Managers(\"Mark\", \"White\", 2000, \"markwhite@kmg.com\", 7)\n",
    "employee4 = Accountants(\"Jessica\", \"Brown\", 30000, \"jessbrown@cds.com\", \"Tax Accounting\")"
   ]
  },
  {
   "cell_type": "code",
   "execution_count": 106,
   "id": "98f6a3d0-2a96-4ba6-b5d9-f4073fe2cb82",
   "metadata": {
    "execution": {
     "iopub.execute_input": "2024-10-01T20:02:55.375987Z",
     "iopub.status.busy": "2024-10-01T20:02:55.375589Z",
     "iopub.status.idle": "2024-10-01T20:02:55.379182Z",
     "shell.execute_reply": "2024-10-01T20:02:55.378735Z",
     "shell.execute_reply.started": "2024-10-01T20:02:55.375967Z"
    }
   },
   "outputs": [
    {
     "data": {
      "text/plain": [
       "2000"
      ]
     },
     "execution_count": 106,
     "metadata": {},
     "output_type": "execute_result"
    }
   ],
   "source": [
    "employee3.salary"
   ]
  },
  {
   "cell_type": "code",
   "execution_count": 107,
   "id": "cf2f0039-9b43-410f-883a-089f501e9007",
   "metadata": {
    "execution": {
     "iopub.execute_input": "2024-10-01T20:02:56.894527Z",
     "iopub.status.busy": "2024-10-01T20:02:56.893999Z",
     "iopub.status.idle": "2024-10-01T20:02:56.897661Z",
     "shell.execute_reply": "2024-10-01T20:02:56.897215Z",
     "shell.execute_reply.started": "2024-10-01T20:02:56.894507Z"
    }
   },
   "outputs": [
    {
     "data": {
      "text/plain": [
       "280.0"
      ]
     },
     "execution_count": 107,
     "metadata": {},
     "output_type": "execute_result"
    }
   ],
   "source": [
    "employee3.seniority_bonus()"
   ]
  },
  {
   "cell_type": "code",
   "execution_count": 108,
   "id": "0d0ee6dd-aa96-4450-b389-5f3b0ef65e57",
   "metadata": {
    "execution": {
     "iopub.execute_input": "2024-10-01T20:02:57.829256Z",
     "iopub.status.busy": "2024-10-01T20:02:57.828756Z",
     "iopub.status.idle": "2024-10-01T20:02:57.832443Z",
     "shell.execute_reply": "2024-10-01T20:02:57.831982Z",
     "shell.execute_reply.started": "2024-10-01T20:02:57.829235Z"
    }
   },
   "outputs": [
    {
     "data": {
      "text/plain": [
       "'Jessica Brown'"
      ]
     },
     "execution_count": 108,
     "metadata": {},
     "output_type": "execute_result"
    }
   ],
   "source": [
    "employee4.full_name() #it is a method so you need to put parenthesis"
   ]
  },
  {
   "cell_type": "code",
   "execution_count": 109,
   "id": "4550f936-2543-48bd-84d5-23e7fac968c7",
   "metadata": {
    "execution": {
     "iopub.execute_input": "2024-10-01T20:02:59.569839Z",
     "iopub.status.busy": "2024-10-01T20:02:59.569541Z",
     "iopub.status.idle": "2024-10-01T20:02:59.573141Z",
     "shell.execute_reply": "2024-10-01T20:02:59.572479Z",
     "shell.execute_reply.started": "2024-10-01T20:02:59.569819Z"
    }
   },
   "outputs": [
    {
     "name": "stdout",
     "output_type": "stream",
     "text": [
      "Jessica Brown, sector : Tax Accounting\n"
     ]
    }
   ],
   "source": [
    "employee4.show_specialization()"
   ]
  },
  {
   "cell_type": "markdown",
   "id": "031fcce1",
   "metadata": {},
   "source": [
    "## Lesson Complete\n",
    "\n",
    "Congratulations! You have completed *Python Intermediate 4*.\n",
    "\n",
    "### Start Next Lesson: [Python Intermediate 5](./python-intermediate-5.ipynb)\n",
    "\n",
    "### Exercise Solutions\n",
    "Here are a few solutions for exercises in this lesson.  "
   ]
  },
  {
   "cell_type": "code",
   "execution_count": null,
   "id": "80624a77",
   "metadata": {
    "tags": []
   },
   "outputs": [],
   "source": [
    "# Create a class Employee\n",
    "class Employee:\n",
    "    def __init__(self, first, last, salary):\n",
    "        self.first = first\n",
    "        self.last = last\n",
    "        self.salary = salary\n",
    "    def full_name(self):\n",
    "        return f'{self.first} {self.last}'"
   ]
  },
  {
   "cell_type": "code",
   "execution_count": null,
   "id": "1eb9ea38",
   "metadata": {
    "tags": []
   },
   "outputs": [],
   "source": [
    "# Create two objects of the class Employee\n",
    "john = Employee('John', 'Doe', 80000)\n",
    "mary = Employee('Mary', 'Smith', 90000)"
   ]
  },
  {
   "cell_type": "code",
   "execution_count": null,
   "id": "064314e5",
   "metadata": {},
   "outputs": [],
   "source": [
    "# Add a class variable pay_raise\n",
    "class Employee:\n",
    "    pay_raise = 0.05\n",
    "    def __init__(self, first, last, salary):\n",
    "        self.first = first\n",
    "        self.last = last\n",
    "        self.salary = salary\n",
    "    def full_name(self):\n",
    "        print(self.first + ' ' + self.last)\n",
    "    def new_salary(self):\n",
    "        return self.salary * (1 + 0.05)"
   ]
  },
  {
   "cell_type": "code",
   "execution_count": null,
   "id": "0c8b23de",
   "metadata": {},
   "outputs": [],
   "source": [
    "# Calculate John's new salary\n",
    "john = Employee('John', 'Doe', 80000)\n",
    "john.new_salary()"
   ]
  },
  {
   "cell_type": "code",
   "execution_count": null,
   "id": "b011871f",
   "metadata": {
    "tags": []
   },
   "outputs": [],
   "source": [
    "# Create two child classes of Employee\n",
    "class Accountants(Employee):\n",
    "    def __init__(self, first, last, salary, tenure):\n",
    "        super().__init__(first, last, salary)\n",
    "        self.tenure = tenure\n",
    "    def bonus(self):\n",
    "        if self.tenure%10 == 0:\n",
    "            return 10000\n",
    "        else:\n",
    "            return 0\n",
    "\n",
    "        \n",
    "class Managers(Employee):\n",
    "    def __init__(self, first, last, salary, team = None):\n",
    "        super().__init__(first, last, salary)\n",
    "        if team is None:\n",
    "            self.team = []\n",
    "        else:\n",
    "            self.team = team\n",
    "    def team_size(self):\n",
    "        if len(self.team) > 50:\n",
    "            print('Warning: team is too big to be managable.')\n",
    "        else:\n",
    "            print('Team size is managable.')"
   ]
  },
  {
   "cell_type": "code",
   "execution_count": null,
   "id": "2af90913-1ac7-4668-9e45-357716d1124d",
   "metadata": {},
   "outputs": [],
   "source": []
  }
 ],
 "metadata": {
  "celltoolbar": "Raw Cell Format",
  "kernelspec": {
   "display_name": "Python 3 (ipykernel)",
   "language": "python",
   "name": "python3"
  },
  "language_info": {
   "codemirror_mode": {
    "name": "ipython",
    "version": 3
   },
   "file_extension": ".py",
   "mimetype": "text/x-python",
   "name": "python",
   "nbconvert_exporter": "python",
   "pygments_lexer": "ipython3",
   "version": "3.11.9"
  },
  "toc": {
   "base_numbering": 1,
   "nav_menu": {},
   "number_sections": true,
   "sideBar": true,
   "skip_h1_title": true,
   "title_cell": "Table of Contents",
   "title_sidebar": "Contents",
   "toc_cell": false,
   "toc_position": {},
   "toc_section_display": true,
   "toc_window_display": false
  }
 },
 "nbformat": 4,
 "nbformat_minor": 5
}
