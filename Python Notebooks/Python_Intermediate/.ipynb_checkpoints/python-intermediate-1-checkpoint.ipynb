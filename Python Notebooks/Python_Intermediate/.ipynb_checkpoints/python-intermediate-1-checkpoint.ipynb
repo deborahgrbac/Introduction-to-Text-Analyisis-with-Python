{
 "cells": [
  {
   "cell_type": "markdown",
   "id": "1ccf5448",
   "metadata": {},
   "source": [
    "<img align=\"left\" src=\"https://ithaka-labs.s3.amazonaws.com/static-files/images/tdm/tdmdocs/CC_BY.png\"><br />\n",
    "\n",
    "Created by [Nathan Kelber](http://nkelber.com) and Zhuo Chen under [Creative Commons CC BY License](https://creativecommons.org/licenses/by/4.0/)<br />\n",
    "For questions/comments/improvements, email nathan.kelber@ithaka.org or zhuo.chen@ithaka.org.<br />\n",
    "___"
   ]
  },
  {
   "cell_type": "markdown",
   "id": "cf138ba2",
   "metadata": {},
   "source": [
    "# Python Intermediate 1\n",
    "\n",
    "**Description:** This notebook describes:\n",
    "\n",
    "* What a list comprehension is\n",
    "* What a dictionary comprehension is\n",
    "* What a set comprehension is\n",
    "\n",
    "**Use Case:** For Learners (Detailed explanation, not ideal for researchers)\n",
    "\n",
    "**Difficulty:** Intermediate\n",
    "\n",
    "**Completion Time:** 90 minutes\n",
    "\n",
    "**Knowledge Required:** \n",
    "* Python Basics Series ([Start Python Basics 1](../Python-basics/python-basics-1.ipynb))\n",
    "\n",
    "**Knowledge Recommended:** None\n",
    "\n",
    "**Data Format:** None\n",
    "\n",
    "**Libraries Used:** NLTK\n",
    "\n",
    "**Research Pipeline:** None\n",
    "___"
   ]
  },
  {
   "cell_type": "markdown",
   "id": "982b0625",
   "metadata": {},
   "source": [
    "## What is a Python Comprehension?\n",
    "Comprehensions in Python are constructs that allow us to build new sequences (such as lists, sets, dictionaries etc.) from sequences that are already defined. Python supports four types of comprehensions:\n",
    "* List comprehensions\n",
    "* Dictionary comprehensions\n",
    "* Set comprehensions\n",
    "* Generator comprehensions (to be presented in [Python intermediate 5](./python-intermediate-5.ipynb))"
   ]
  },
  {
   "cell_type": "markdown",
   "id": "048475bc",
   "metadata": {},
   "source": [
    "## List comprehensions\n",
    "### List comprehensions (Integers)"
   ]
  },
  {
   "cell_type": "markdown",
   "id": "7e8ac8a1",
   "metadata": {},
   "source": [
    "Suppose you are a parent of a 4-month-old. You are taking record of your baby's daily milk intake in ounces. Here is your record from last week. "
   ]
  },
  {
   "cell_type": "code",
   "execution_count": 2,
   "id": "0cc2030f",
   "metadata": {
    "execution": {
     "iopub.execute_input": "2025-05-24T14:52:16.470636Z",
     "iopub.status.busy": "2025-05-24T14:52:16.470363Z",
     "iopub.status.idle": "2025-05-24T14:52:16.473547Z",
     "shell.execute_reply": "2025-05-24T14:52:16.472925Z",
     "shell.execute_reply.started": "2025-05-24T14:52:16.470617Z"
    },
    "tags": []
   },
   "outputs": [],
   "source": [
    "# record of daily milk intake\n",
    "milk = [24, 38, 40, 36, 42, 38, 36]"
   ]
  },
  {
   "cell_type": "markdown",
   "id": "97087744",
   "metadata": {},
   "source": [
    "Your partner is French and is used to the metric system. Your partner wants to convert the numbers into mililiters. \n",
    "\n",
    "1 ounce $\\approx$ 30 mililiters\n",
    "\n",
    "|Operator| Operation| Example | Evaluation |\n",
    "|---|----|---|---|\n",
    "|*| Multiplication | 7 * 8 | 56 |"
   ]
  },
  {
   "cell_type": "code",
   "execution_count": 3,
   "id": "d40aa4ad",
   "metadata": {
    "execution": {
     "iopub.execute_input": "2025-05-24T14:52:19.342736Z",
     "iopub.status.busy": "2025-05-24T14:52:19.342452Z",
     "iopub.status.idle": "2025-05-24T14:52:19.346416Z",
     "shell.execute_reply": "2025-05-24T14:52:19.345813Z",
     "shell.execute_reply.started": "2025-05-24T14:52:19.342713Z"
    },
    "tags": []
   },
   "outputs": [
    {
     "name": "stdout",
     "output_type": "stream",
     "text": [
      "[720, 1140, 1200, 1080, 1260, 1140, 1080]\n"
     ]
    }
   ],
   "source": [
    "# Create a new list using a for loop\n",
    "\n",
    "new_list = [] # An empty list we will add to\n",
    "\n",
    "for number in milk: #a for loop to iterate through every element of the list\n",
    "    new_list.append(number * 30)  #it appends to the new list each element multiplied by 30\n",
    "\n",
    "print(new_list)"
   ]
  },
  {
   "cell_type": "markdown",
   "id": "0f1fb461",
   "metadata": {},
   "source": [
    "Take a look again at the for loop.\n",
    "```\n",
    "for number in milk:\n",
    "    new_list.append(number * 30)\n",
    "```\n",
    "\n",
    "We can read this as: for ```number``` in ```milk```, append `number` multiplied by 30 to ```new_list```. "
   ]
  },
  {
   "cell_type": "markdown",
   "id": "4c83e5ae",
   "metadata": {},
   "source": [
    "Using a for loop to create a new list is familar to us. We have learned it in the Python Basics series.\n",
    "\n",
    "Alternatively, we can also use a list comprehension to create a new list. Let's rearrange the above for loop slightly to write a list comprehension.  "
   ]
  },
  {
   "cell_type": "code",
   "execution_count": 4,
   "id": "d619de2d",
   "metadata": {
    "execution": {
     "iopub.execute_input": "2025-05-24T14:54:02.264296Z",
     "iopub.status.busy": "2025-05-24T14:54:02.263734Z",
     "iopub.status.idle": "2025-05-24T14:54:02.267210Z",
     "shell.execute_reply": "2025-05-24T14:54:02.266768Z",
     "shell.execute_reply.started": "2025-05-24T14:54:02.264270Z"
    },
    "tags": []
   },
   "outputs": [
    {
     "name": "stdout",
     "output_type": "stream",
     "text": [
      "[720, 1140, 1200, 1080, 1260, 1140, 1080]\n"
     ]
    }
   ],
   "source": [
    "# Create a new list of milk intake in mililiters\n",
    "\n",
    "new_list = [number * 30 for number in milk] ## The brackets [] indicate we are creating a list\n",
    "\n",
    "print(new_list)"
   ]
  },
  {
   "cell_type": "markdown",
   "id": "1cb1d8da",
   "metadata": {},
   "source": [
    "We read this as: append ```number``` multiplied by 30, for ```number``` in ```milk```."
   ]
  },
  {
   "cell_type": "markdown",
   "id": "b31654c8",
   "metadata": {},
   "source": [
    "If the order of the comprehension is confusing, it may help to skip the part before the for loop and start with:\n",
    "`for number in milk` then return to the beginning of the comprehension to see what will be appended: `number` * 30."
   ]
  },
  {
   "cell_type": "markdown",
   "id": "b44c7862",
   "metadata": {},
   "source": [
    "Up to this point, we have used two different ways to create a new list based on an old list: \n",
    "* using a regular for loop\n",
    "* using a list comprehension\n",
    "\n",
    "I put them here side by side. The benefit of using a list comprehension is obvious. The syntax of a list comprehension is concise and short. "
   ]
  },
  {
   "cell_type": "markdown",
   "id": "fb001b9c",
   "metadata": {},
   "source": [
    "<img align=\"left\" src=\"https://ithaka-labs.s3.amazonaws.com/static-files/images/tdm/tdmdocs/PythonIntermediate1_forloop.png\" width=\"30%\"/>\n",
    "<img align=\"right\" src=\"https://ithaka-labs.s3.amazonaws.com/static-files/images/tdm/tdmdocs/PythonIntermediate1_listcomprehension.png\" width=\"40%\"/> "
   ]
  },
  {
   "cell_type": "markdown",
   "id": "74b97e17",
   "metadata": {},
   "source": [
    "#### Add a Filtering Condition to Select Items to be Appended\n",
    "\n",
    "If we wanted, we could also add a filtering condition to the for loop.\n",
    "\n",
    "Suppose the daily intake of milk for a 4-month-old as recommended by the AAP is 25 ounces at minimum. "
   ]
  },
  {
   "cell_type": "code",
   "execution_count": 6,
   "id": "abf06135",
   "metadata": {
    "execution": {
     "iopub.execute_input": "2024-10-01T09:18:08.868912Z",
     "iopub.status.busy": "2024-10-01T09:18:08.868256Z",
     "iopub.status.idle": "2024-10-01T09:18:08.872521Z",
     "shell.execute_reply": "2024-10-01T09:18:08.871944Z",
     "shell.execute_reply.started": "2024-10-01T09:18:08.868888Z"
    },
    "tags": []
   },
   "outputs": [
    {
     "name": "stdout",
     "output_type": "stream",
     "text": [
      "[24]\n"
     ]
    }
   ],
   "source": [
    "# Create a list of the intake numbers that fall short of the recommended minimum quantity\n",
    "\n",
    "new_list = [number for number in milk if number < 25]\n",
    "print(new_list)"
   ]
  },
  {
   "cell_type": "code",
   "execution_count": 7,
   "id": "64369ac0",
   "metadata": {
    "execution": {
     "iopub.execute_input": "2024-10-01T09:18:11.884015Z",
     "iopub.status.busy": "2024-10-01T09:18:11.883531Z",
     "iopub.status.idle": "2024-10-01T09:18:11.889214Z",
     "shell.execute_reply": "2024-10-01T09:18:11.888730Z",
     "shell.execute_reply.started": "2024-10-01T09:18:11.883994Z"
    },
    "tags": []
   },
   "outputs": [
    {
     "data": {
      "text/plain": [
       "1"
      ]
     },
     "execution_count": 7,
     "metadata": {},
     "output_type": "execute_result"
    }
   ],
   "source": [
    "# Use len () to get how many days the newborn had less than the recommended minimum quantity\n",
    "\n",
    "len(new_list)"
   ]
  },
  {
   "cell_type": "code",
   "execution_count": 8,
   "id": "ddbaf1fd",
   "metadata": {
    "execution": {
     "iopub.execute_input": "2024-10-01T09:18:17.644188Z",
     "iopub.status.busy": "2024-10-01T09:18:17.643864Z",
     "iopub.status.idle": "2024-10-01T09:18:17.647782Z",
     "shell.execute_reply": "2024-10-01T09:18:17.647266Z",
     "shell.execute_reply.started": "2024-10-01T09:18:17.644164Z"
    },
    "tags": []
   },
   "outputs": [
    {
     "name": "stdout",
     "output_type": "stream",
     "text": [
      "1\n"
     ]
    }
   ],
   "source": [
    "# Write the list comprehension back to a for loop\n",
    "\n",
    "new_list = [] \n",
    "for number in milk:\n",
    "    if number < 25:\n",
    "        new_list.append(number)\n",
    "        \n",
    "print(len(new_list))"
   ]
  },
  {
   "cell_type": "markdown",
   "id": "a4329d00",
   "metadata": {},
   "source": [
    "#### List Comprehensions constructed from other iterables\n",
    "\n",
    "List comprehensions are used to create a list. We have seen examples where we use list comprehensions to create a new list based on an old list. Actually, list comprehensions can be used to create new lists based on **any kind of iterables**. \n",
    "\n",
    "In Python, iterables are the objects whose members can be iterated over in a for loop. Objects like lists, tuples, sets, dictionaries, strings, etc. are called iterables. "
   ]
  },
  {
   "cell_type": "markdown",
   "id": "6b30f2f6",
   "metadata": {},
   "source": [
    "Suppose you are practicing your basketball shooting skills. "
   ]
  },
  {
   "cell_type": "code",
   "execution_count": 10,
   "id": "059eaecc-4f82-4a34-9ae0-0722751c1ee0",
   "metadata": {
    "execution": {
     "iopub.execute_input": "2025-05-24T15:04:05.799522Z",
     "iopub.status.busy": "2025-05-24T15:04:05.799014Z",
     "iopub.status.idle": "2025-05-24T15:04:05.802506Z",
     "shell.execute_reply": "2025-05-24T15:04:05.802038Z",
     "shell.execute_reply.started": "2025-05-24T15:04:05.799504Z"
    }
   },
   "outputs": [
    {
     "name": "stdout",
     "output_type": "stream",
     "text": [
      "[1, 0, 0, 1, 0]\n"
     ]
    }
   ],
   "source": [
    "shots = '10010' #this is a string\n",
    "\n",
    "new_list = []\n",
    "for char in shots:\n",
    "    new_list.append(int(char))\n",
    "\n",
    "print(new_list)"
   ]
  },
  {
   "cell_type": "code",
   "execution_count": 11,
   "id": "5ee243d1",
   "metadata": {
    "execution": {
     "iopub.execute_input": "2025-05-24T15:04:08.200935Z",
     "iopub.status.busy": "2025-05-24T15:04:08.200450Z",
     "iopub.status.idle": "2025-05-24T15:04:08.203816Z",
     "shell.execute_reply": "2025-05-24T15:04:08.203402Z",
     "shell.execute_reply.started": "2025-05-24T15:04:08.200916Z"
    },
    "tags": []
   },
   "outputs": [
    {
     "name": "stdout",
     "output_type": "stream",
     "text": [
      "[1, 0, 0, 1, 0]\n"
     ]
    }
   ],
   "source": [
    "# Create a new list containing your basketball shooting results \n",
    "\n",
    "shots = '10010' #this is a string\n",
    "\n",
    "new_list = [int(char) for char in shots] ## string is an iterable\n",
    "\n",
    "print(new_list)"
   ]
  },
  {
   "cell_type": "code",
   "execution_count": 10,
   "id": "0ebf50fc",
   "metadata": {
    "execution": {
     "iopub.execute_input": "2024-10-01T09:18:31.381629Z",
     "iopub.status.busy": "2024-10-01T09:18:31.381338Z",
     "iopub.status.idle": "2024-10-01T09:18:31.385263Z",
     "shell.execute_reply": "2024-10-01T09:18:31.384824Z",
     "shell.execute_reply.started": "2024-10-01T09:18:31.381607Z"
    },
    "tags": []
   },
   "outputs": [
    {
     "data": {
      "text/plain": [
       "2"
      ]
     },
     "execution_count": 10,
     "metadata": {},
     "output_type": "execute_result"
    }
   ],
   "source": [
    "# Use sum() to get how many times you have scored\n",
    "\n",
    "sum(new_list)"
   ]
  },
  {
   "cell_type": "markdown",
   "id": "a9da06b5",
   "metadata": {},
   "source": [
    "Integers, however, are not iterable. "
   ]
  },
  {
   "cell_type": "code",
   "execution_count": 12,
   "id": "0e028e16",
   "metadata": {
    "execution": {
     "iopub.execute_input": "2025-05-24T15:04:36.056964Z",
     "iopub.status.busy": "2025-05-24T15:04:36.056445Z",
     "iopub.status.idle": "2025-05-24T15:04:36.068272Z",
     "shell.execute_reply": "2025-05-24T15:04:36.067645Z",
     "shell.execute_reply.started": "2025-05-24T15:04:36.056941Z"
    },
    "tags": []
   },
   "outputs": [
    {
     "ename": "TypeError",
     "evalue": "'int' object is not iterable",
     "output_type": "error",
     "traceback": [
      "\u001b[0;31m---------------------------------------------------------------------------\u001b[0m",
      "\u001b[0;31mTypeError\u001b[0m                                 Traceback (most recent call last)",
      "Cell \u001b[0;32mIn[12], line 6\u001b[0m\n\u001b[1;32m      1\u001b[0m \u001b[38;5;66;03m# Creating a new list based on an object that is not an iterable\u001b[39;00m\n\u001b[1;32m      2\u001b[0m \u001b[38;5;66;03m# results in an error \u001b[39;00m\n\u001b[1;32m      4\u001b[0m num \u001b[38;5;241m=\u001b[39m \u001b[38;5;241m12345\u001b[39m\n\u001b[0;32m----> 6\u001b[0m digits \u001b[38;5;241m=\u001b[39m [digit \u001b[38;5;28;01mfor\u001b[39;00m digit \u001b[38;5;129;01min\u001b[39;00m num \u001b[38;5;28;01mif\u001b[39;00m digit \u001b[38;5;241m>\u001b[39m \u001b[38;5;241m3\u001b[39m] \u001b[38;5;66;03m## integer is not an iterable\u001b[39;00m\n",
      "\u001b[0;31mTypeError\u001b[0m: 'int' object is not iterable"
     ]
    }
   ],
   "source": [
    "# Creating a new list based on an object that is not an iterable\n",
    "# results in an error \n",
    "\n",
    "num = 12345\n",
    "\n",
    "digits = [digit for digit in num if digit > 3] ## integer is not an iterable"
   ]
  },
  {
   "cell_type": "markdown",
   "id": "d21e7a21",
   "metadata": {},
   "source": [
    "<h3 style=\"color:red; display:inline\">Coding Challenge! &lt; / &gt; </h3>"
   ]
  },
  {
   "cell_type": "code",
   "execution_count": 13,
   "id": "f4eb423e",
   "metadata": {
    "execution": {
     "iopub.execute_input": "2025-05-24T15:07:31.266510Z",
     "iopub.status.busy": "2025-05-24T15:07:31.265924Z",
     "iopub.status.idle": "2025-05-24T15:07:31.269098Z",
     "shell.execute_reply": "2025-05-24T15:07:31.268619Z",
     "shell.execute_reply.started": "2025-05-24T15:07:31.266491Z"
    },
    "tags": []
   },
   "outputs": [],
   "source": [
    "numbers = [0, 1, 2, 3, 4, 5, 6, 7, 8, 9]"
   ]
  },
  {
   "cell_type": "markdown",
   "id": "04ca0619",
   "metadata": {},
   "source": [
    "Create a list ```odd_num``` which contains all the odd numbers from the list ```numbers```. To find odd numbers, you can use the modulus `%` to see if there is a remainder of 1 after dividing a number by 2. If there is a remainder of 1, the number is odd.\n",
    "\n",
    "| Operator | Operation| Example | Evaluation |\n",
    "|---|---|---|---|\n",
    "|%| Modulus | 5 % 2 | 1 |\n",
    "    "
   ]
  },
  {
   "cell_type": "code",
   "execution_count": 12,
   "id": "d2f3b677",
   "metadata": {
    "execution": {
     "iopub.execute_input": "2024-10-01T09:19:46.169734Z",
     "iopub.status.busy": "2024-10-01T09:19:46.169434Z",
     "iopub.status.idle": "2024-10-01T09:19:46.173174Z",
     "shell.execute_reply": "2024-10-01T09:19:46.172744Z",
     "shell.execute_reply.started": "2024-10-01T09:19:46.169709Z"
    },
    "tags": []
   },
   "outputs": [
    {
     "data": {
      "text/plain": [
       "1"
      ]
     },
     "execution_count": 12,
     "metadata": {},
     "output_type": "execute_result"
    }
   ],
   "source": [
    "5 % 2"
   ]
  },
  {
   "cell_type": "code",
   "execution_count": 14,
   "id": "d714aa71-072e-4917-94d7-4edfef91fc84",
   "metadata": {
    "execution": {
     "iopub.execute_input": "2025-05-24T15:09:59.759878Z",
     "iopub.status.busy": "2025-05-24T15:09:59.759603Z",
     "iopub.status.idle": "2025-05-24T15:09:59.763373Z",
     "shell.execute_reply": "2025-05-24T15:09:59.762668Z",
     "shell.execute_reply.started": "2025-05-24T15:09:59.759860Z"
    }
   },
   "outputs": [
    {
     "name": "stdout",
     "output_type": "stream",
     "text": [
      "[1, 3, 5, 7, 9]\n"
     ]
    }
   ],
   "source": [
    "odd_numbers = []\n",
    "for number in numbers:\n",
    "    if number % 2 == 1:\n",
    "        odd_numbers.append(number)\n",
    "print(odd_numbers)"
   ]
  },
  {
   "cell_type": "code",
   "execution_count": 16,
   "id": "86fb72cd-364d-42ab-be65-9aa5940c5a43",
   "metadata": {
    "execution": {
     "iopub.execute_input": "2025-05-24T15:16:51.760894Z",
     "iopub.status.busy": "2025-05-24T15:16:51.760409Z",
     "iopub.status.idle": "2025-05-24T15:16:51.764010Z",
     "shell.execute_reply": "2025-05-24T15:16:51.763398Z",
     "shell.execute_reply.started": "2025-05-24T15:16:51.760876Z"
    }
   },
   "outputs": [
    {
     "name": "stdout",
     "output_type": "stream",
     "text": [
      "[1, 3, 5, 7, 9]\n"
     ]
    }
   ],
   "source": [
    "odd_numbers = [number for number in numbers if number % 2 == 1] \n",
    "print(odd_numbers)"
   ]
  },
  {
   "cell_type": "markdown",
   "id": "0d5e94e3",
   "metadata": {},
   "source": [
    "See if you can write a list comprehension that creates a new list `odd_num` which only contains the odd numbers from `numbers`. The next code cell demonstrates how it could be done with a for loop."
   ]
  },
  {
   "cell_type": "code",
   "execution_count": 6,
   "id": "df2cb039",
   "metadata": {
    "execution": {
     "iopub.execute_input": "2024-09-24T17:59:35.390664Z",
     "iopub.status.busy": "2024-09-24T17:59:35.390172Z",
     "iopub.status.idle": "2024-09-24T17:59:35.393549Z",
     "shell.execute_reply": "2024-09-24T17:59:35.393119Z",
     "shell.execute_reply.started": "2024-09-24T17:59:35.390646Z"
    },
    "tags": []
   },
   "outputs": [
    {
     "name": "stdout",
     "output_type": "stream",
     "text": [
      "[1, 3, 5, 7, 9]\n"
     ]
    }
   ],
   "source": [
    "# Creating a new list odd_num of numbers\n",
    "odd_num = [] \n",
    "for i in numbers:\n",
    "    if i % 2 == 1:\n",
    "        odd_num.append(i) \n",
    "\n",
    "print(odd_num)"
   ]
  },
  {
   "cell_type": "code",
   "execution_count": 19,
   "id": "9d62940d",
   "metadata": {
    "execution": {
     "iopub.execute_input": "2024-09-24T18:07:53.287005Z",
     "iopub.status.busy": "2024-09-24T18:07:53.286736Z",
     "iopub.status.idle": "2024-09-24T18:07:53.290131Z",
     "shell.execute_reply": "2024-09-24T18:07:53.289664Z",
     "shell.execute_reply.started": "2024-09-24T18:07:53.286985Z"
    }
   },
   "outputs": [
    {
     "name": "stdout",
     "output_type": "stream",
     "text": [
      "[1, 3, 5, 7, 9]\n"
     ]
    }
   ],
   "source": [
    "# write a list comprehension to create a list of odd numbers\n",
    "odd_num = [i for i in numbers if i % 2 == 1]\n",
    "print(odd_num)"
   ]
  },
  {
   "cell_type": "markdown",
   "id": "fa5db524",
   "metadata": {},
   "source": [
    "<!-- Here's an example that changes what will be appended. -->\n",
    "<!-- Again, if you find the order confusing, it may help to skip ahead to the `for`. You can also optionally include a parentheses that may help clarify which part will be appended: -->\n",
    "<!-- # Create a new list where each number is doubled\n",
    "\n",
    "new_list = [item * 2 for item in numbers]\n",
    "print(new_list) -->\n",
    "<!-- # # Create a new list where each number is doubled\n",
    "# # Parentheses for clarity\n",
    "\n",
    "# new_list = [(item * 2) for item in numbers]\n",
    "# print(new_list) -->\n"
   ]
  },
  {
   "cell_type": "markdown",
   "id": "799ca1a8",
   "metadata": {},
   "source": [
    "### List Comprehensions (Strings)\n",
    "\n",
    "A list comprehension also works on a list containing other data types, such as strings."
   ]
  },
  {
   "cell_type": "code",
   "execution_count": 17,
   "id": "57f238d1",
   "metadata": {
    "execution": {
     "iopub.execute_input": "2025-05-24T15:19:48.974262Z",
     "iopub.status.busy": "2025-05-24T15:19:48.973845Z",
     "iopub.status.idle": "2025-05-24T15:19:48.976879Z",
     "shell.execute_reply": "2025-05-24T15:19:48.976332Z",
     "shell.execute_reply.started": "2025-05-24T15:19:48.974242Z"
    },
    "tags": []
   },
   "outputs": [],
   "source": [
    "# Create a list of people\n",
    "\n",
    "people = ['Aaron Aston',\n",
    "         'Brianna Barton',\n",
    "         'Carla Cameron',\n",
    "         'Delia Darcy',\n",
    "         'Evelyn Elgin',\n",
    "         'Frederick Federov',\n",
    "         'Gaston Garbo']"
   ]
  },
  {
   "cell_type": "code",
   "execution_count": 21,
   "id": "49291f23-2c3e-423e-8b78-1c9234b59adb",
   "metadata": {
    "execution": {
     "iopub.execute_input": "2025-05-24T15:26:51.809715Z",
     "iopub.status.busy": "2025-05-24T15:26:51.809226Z",
     "iopub.status.idle": "2025-05-24T15:26:51.812770Z",
     "shell.execute_reply": "2025-05-24T15:26:51.812341Z",
     "shell.execute_reply.started": "2025-05-24T15:26:51.809695Z"
    }
   },
   "outputs": [
    {
     "name": "stdout",
     "output_type": "stream",
     "text": [
      "['Aaron', 'Brianna', 'Carla', 'Delia', 'Evelyn', 'Frederick', 'Gaston']\n"
     ]
    }
   ],
   "source": [
    "#MY CODE\n",
    "first_names = []\n",
    "for full_name in people:\n",
    "    first_name = full_name.split()[0] #we create the new variable first_name and, through the split method, we assign the first element of the full_name list that we are previously created\n",
    "    first_names.append(first_name)\n",
    "print(first_names)"
   ]
  },
  {
   "cell_type": "code",
   "execution_count": 26,
   "id": "f066ef93-51ac-4b84-831d-13dbf447fbbf",
   "metadata": {
    "execution": {
     "iopub.execute_input": "2025-05-24T15:30:36.458594Z",
     "iopub.status.busy": "2025-05-24T15:30:36.458303Z",
     "iopub.status.idle": "2025-05-24T15:30:36.461668Z",
     "shell.execute_reply": "2025-05-24T15:30:36.461202Z",
     "shell.execute_reply.started": "2025-05-24T15:30:36.458577Z"
    }
   },
   "outputs": [
    {
     "name": "stdout",
     "output_type": "stream",
     "text": [
      "['Aaron', 'Brianna', 'Carla', 'Delia', 'Evelyn', 'Frederick', 'Gaston']\n"
     ]
    }
   ],
   "source": [
    "#MY CODE\n",
    "\n",
    "first_names = [full_name.split()[0] for full_name in people]\n",
    "print(first_names)"
   ]
  },
  {
   "cell_type": "markdown",
   "id": "7eb27735",
   "metadata": {},
   "source": [
    "Suppose you want to create a new list that only contains the first names. "
   ]
  },
  {
   "cell_type": "code",
   "execution_count": 14,
   "id": "da960a4c",
   "metadata": {
    "execution": {
     "iopub.execute_input": "2024-10-01T09:20:15.777298Z",
     "iopub.status.busy": "2024-10-01T09:20:15.777019Z",
     "iopub.status.idle": "2024-10-01T09:20:15.780636Z",
     "shell.execute_reply": "2024-10-01T09:20:15.780171Z",
     "shell.execute_reply.started": "2024-10-01T09:20:15.777278Z"
    },
    "tags": []
   },
   "outputs": [
    {
     "name": "stdout",
     "output_type": "stream",
     "text": [
      "['Aaron', 'Brianna', 'Carla', 'Delia', 'Evelyn', 'Frederick', 'Gaston']\n"
     ]
    }
   ],
   "source": [
    "# Create a new list that only includes first names\n",
    "# Using a for loop\n",
    "\n",
    "friends = [] \n",
    "\n",
    "for name in people:\n",
    "    first_name = name.split()[0] # Split the name on whitespace, then grab the first name/item\n",
    "    friends.append(first_name)\n",
    "    \n",
    "print(friends)"
   ]
  },
  {
   "cell_type": "markdown",
   "id": "e6bbb5a0",
   "metadata": {},
   "source": [
    "In this example, we split each name string on whitespace using the `.split()` method. This creates a list of strings from a string."
   ]
  },
  {
   "cell_type": "code",
   "execution_count": 22,
   "id": "b234f1d1",
   "metadata": {
    "execution": {
     "iopub.execute_input": "2024-09-24T18:16:34.085705Z",
     "iopub.status.busy": "2024-09-24T18:16:34.085426Z",
     "iopub.status.idle": "2024-09-24T18:16:34.089147Z",
     "shell.execute_reply": "2024-09-24T18:16:34.088751Z",
     "shell.execute_reply.started": "2024-09-24T18:16:34.085687Z"
    },
    "tags": []
   },
   "outputs": [
    {
     "data": {
      "text/plain": [
       "['John', 'Doe']"
      ]
     },
     "execution_count": 22,
     "metadata": {},
     "output_type": "execute_result"
    }
   ],
   "source": [
    "# Split a string on white space\n",
    "\n",
    "\"John Doe\".split()"
   ]
  },
  {
   "cell_type": "code",
   "execution_count": 15,
   "id": "59f1d28d",
   "metadata": {
    "execution": {
     "iopub.execute_input": "2024-10-01T09:20:33.808794Z",
     "iopub.status.busy": "2024-10-01T09:20:33.808190Z",
     "iopub.status.idle": "2024-10-01T09:20:33.812213Z",
     "shell.execute_reply": "2024-10-01T09:20:33.811739Z",
     "shell.execute_reply.started": "2024-10-01T09:20:33.808773Z"
    },
    "tags": []
   },
   "outputs": [
    {
     "data": {
      "text/plain": [
       "'John'"
      ]
     },
     "execution_count": 15,
     "metadata": {},
     "output_type": "execute_result"
    }
   ],
   "source": [
    "# Split a string on white space\n",
    "# Then return only the first item in the list\n",
    "\n",
    "\"John Doe\".split()[0]"
   ]
  },
  {
   "cell_type": "markdown",
   "id": "97b69f76",
   "metadata": {},
   "source": [
    "<h4 style=\"color:red; display:inline\">Coding Challenge! &lt; / &gt; </h4>\n",
    "\n",
    "Use a list comprehension to create a list called `friends` that contains only first names."
   ]
  },
  {
   "cell_type": "code",
   "execution_count": 26,
   "id": "1dbd8e80",
   "metadata": {
    "execution": {
     "iopub.execute_input": "2024-09-24T18:22:31.132272Z",
     "iopub.status.busy": "2024-09-24T18:22:31.131994Z",
     "iopub.status.idle": "2024-09-24T18:22:31.135416Z",
     "shell.execute_reply": "2024-09-24T18:22:31.134900Z",
     "shell.execute_reply.started": "2024-09-24T18:22:31.132254Z"
    }
   },
   "outputs": [
    {
     "name": "stdout",
     "output_type": "stream",
     "text": [
      "['Aaron', 'Brianna', 'Carla', 'Delia', 'Evelyn', 'Frederick', 'Gaston']\n"
     ]
    }
   ],
   "source": [
    "# Create a new list that only includes first names\n",
    "# Using a list comprehension\n",
    "friends = [name.split()[0] for name in people]\n",
    "print(friends)"
   ]
  },
  {
   "cell_type": "markdown",
   "id": "b211331f",
   "metadata": {},
   "source": [
    "### List Comprehensions (Multiple Lists)\n",
    "\n",
    "We can also create a list comprehension that pulls from multiple lists by using two for loops within a single list comprehension."
   ]
  },
  {
   "cell_type": "markdown",
   "id": "1866e5da",
   "metadata": {},
   "source": [
    "Scenario: Suppose you are running a restaurant. For the lunch special, you provide different varieties of rice and different protein choices that go with the rice."
   ]
  },
  {
   "cell_type": "code",
   "execution_count": 27,
   "id": "28604420",
   "metadata": {
    "execution": {
     "iopub.execute_input": "2025-05-24T15:37:09.905763Z",
     "iopub.status.busy": "2025-05-24T15:37:09.905251Z",
     "iopub.status.idle": "2025-05-24T15:37:09.908285Z",
     "shell.execute_reply": "2025-05-24T15:37:09.907798Z",
     "shell.execute_reply.started": "2025-05-24T15:37:09.905740Z"
    },
    "tags": []
   },
   "outputs": [],
   "source": [
    "# Define two lists: rices and proteins\n",
    "\n",
    "rices = [\"white rice\", \"brown rice\", \"yellow rice\"]\n",
    "\n",
    "proteins = [\"beef\", \"pork\", \"chicken\", \"shrimp\", \"lamb\", \"tofu\"] "
   ]
  },
  {
   "cell_type": "code",
   "execution_count": 28,
   "id": "5c69baff",
   "metadata": {
    "execution": {
     "iopub.execute_input": "2025-05-24T15:38:38.082214Z",
     "iopub.status.busy": "2025-05-24T15:38:38.081931Z",
     "iopub.status.idle": "2025-05-24T15:38:38.085704Z",
     "shell.execute_reply": "2025-05-24T15:38:38.085269Z",
     "shell.execute_reply.started": "2025-05-24T15:38:38.082194Z"
    },
    "tags": []
   },
   "outputs": [
    {
     "name": "stdout",
     "output_type": "stream",
     "text": [
      "['white rice with beef',\n",
      " 'white rice with pork',\n",
      " 'white rice with chicken',\n",
      " 'white rice with shrimp',\n",
      " 'white rice with lamb',\n",
      " 'white rice with tofu',\n",
      " 'brown rice with beef',\n",
      " 'brown rice with pork',\n",
      " 'brown rice with chicken',\n",
      " 'brown rice with shrimp',\n",
      " 'brown rice with lamb',\n",
      " 'brown rice with tofu',\n",
      " 'yellow rice with beef',\n",
      " 'yellow rice with pork',\n",
      " 'yellow rice with chicken',\n",
      " 'yellow rice with shrimp',\n",
      " 'yellow rice with lamb',\n",
      " 'yellow rice with tofu']\n"
     ]
    }
   ],
   "source": [
    "# A Nested For Loop Example\n",
    "all_lunch_special_choices = []\n",
    "\n",
    "#we want to create a list with all the different choices composed of each type of rices with each type of protein\n",
    "\n",
    "for rice_choice in rices: #iterates through each type of rice\n",
    "    for protein_choice in proteins: #iterates through each type of protein\n",
    "        all_lunch_special_choices.append(rice_choice + \" with \" + protein_choice)\n",
    "\n",
    "from pprint import pprint \n",
    "pprint(all_lunch_special_choices) # use pprint to print the output in a pretty format"
   ]
  },
  {
   "cell_type": "code",
   "execution_count": 19,
   "id": "afad94b0",
   "metadata": {
    "execution": {
     "iopub.execute_input": "2024-10-01T09:21:06.934006Z",
     "iopub.status.busy": "2024-10-01T09:21:06.933703Z",
     "iopub.status.idle": "2024-10-01T09:21:06.937442Z",
     "shell.execute_reply": "2024-10-01T09:21:06.936902Z",
     "shell.execute_reply.started": "2024-10-01T09:21:06.933980Z"
    },
    "tags": []
   },
   "outputs": [
    {
     "name": "stdout",
     "output_type": "stream",
     "text": [
      "['white rice with beef',\n",
      " 'white rice with pork',\n",
      " 'white rice with chicken',\n",
      " 'white rice with shrimp',\n",
      " 'white rice with lamb',\n",
      " 'white rice with tofu',\n",
      " 'brown rice with beef',\n",
      " 'brown rice with pork',\n",
      " 'brown rice with chicken',\n",
      " 'brown rice with shrimp',\n",
      " 'brown rice with lamb',\n",
      " 'brown rice with tofu',\n",
      " 'yellow rice with beef',\n",
      " 'yellow rice with pork',\n",
      " 'yellow rice with chicken',\n",
      " 'yellow rice with shrimp',\n",
      " 'yellow rice with lamb',\n",
      " 'yellow rice with tofu']\n"
     ]
    }
   ],
   "source": [
    "# Using a list comprehension on two lists\n",
    "# Create a list of all possible combinations of rice and protein\n",
    "\n",
    "all_lunch_special_choices = [rice_choice + \" with \" + protein_choice for rice_choice in rices for protein_choice in proteins]\n",
    "\n",
    "pprint(all_lunch_special_choices)"
   ]
  },
  {
   "cell_type": "markdown",
   "id": "6a31fbe4",
   "metadata": {},
   "source": [
    "The two lists we pull from are independent of each other. You can see that even if we switch the two for loops, the result is still a valid list comprehension. "
   ]
  },
  {
   "cell_type": "code",
   "execution_count": 29,
   "id": "686702a5",
   "metadata": {
    "execution": {
     "iopub.execute_input": "2025-05-24T15:38:48.964266Z",
     "iopub.status.busy": "2025-05-24T15:38:48.963706Z",
     "iopub.status.idle": "2025-05-24T15:38:48.967398Z",
     "shell.execute_reply": "2025-05-24T15:38:48.966934Z",
     "shell.execute_reply.started": "2025-05-24T15:38:48.964247Z"
    },
    "tags": []
   },
   "outputs": [
    {
     "name": "stdout",
     "output_type": "stream",
     "text": [
      "['white rice with beef',\n",
      " 'brown rice with beef',\n",
      " 'yellow rice with beef',\n",
      " 'white rice with pork',\n",
      " 'brown rice with pork',\n",
      " 'yellow rice with pork',\n",
      " 'white rice with chicken',\n",
      " 'brown rice with chicken',\n",
      " 'yellow rice with chicken',\n",
      " 'white rice with shrimp',\n",
      " 'brown rice with shrimp',\n",
      " 'yellow rice with shrimp',\n",
      " 'white rice with lamb',\n",
      " 'brown rice with lamb',\n",
      " 'yellow rice with lamb',\n",
      " 'white rice with tofu',\n",
      " 'brown rice with tofu',\n",
      " 'yellow rice with tofu']\n"
     ]
    }
   ],
   "source": [
    "# Using a list comprehension on two lists\n",
    "# Create a list of all possible combinations of protein and rice\n",
    "\n",
    "all_lunch_special_choices = [rice_choice + \" with \" + protein_choice for protein_choice in proteins for rice_choice in rices]\n",
    "\n",
    "pprint(all_lunch_special_choices)"
   ]
  },
  {
   "cell_type": "markdown",
   "id": "767d7e3a",
   "metadata": {},
   "source": [
    "What if the lists we pull from are not independent of one another? What if one is nested in another? Can we switch the two for loops?"
   ]
  },
  {
   "cell_type": "code",
   "execution_count": 21,
   "id": "39c18524",
   "metadata": {
    "execution": {
     "iopub.execute_input": "2024-10-01T09:21:24.015145Z",
     "iopub.status.busy": "2024-10-01T09:21:24.014614Z",
     "iopub.status.idle": "2024-10-01T09:21:24.018694Z",
     "shell.execute_reply": "2024-10-01T09:21:24.018127Z",
     "shell.execute_reply.started": "2024-10-01T09:21:24.015125Z"
    },
    "tags": []
   },
   "outputs": [
    {
     "name": "stdout",
     "output_type": "stream",
     "text": [
      "['Abby', 'Bella', 'Cecilia', 'Alex', 'Beatrice', 'Cynthia', 'David']\n"
     ]
    }
   ],
   "source": [
    "# Create a list of all names from nested lists\n",
    "\n",
    "names = [\n",
    "    ['Abby', 'Bella', 'Cecilia'],\n",
    "    ['Alex', 'Beatrice', 'Cynthia', 'David']\n",
    "]\n",
    "\n",
    "all_names = [name for sub_list in names for name in sub_list]\n",
    "print(all_names)"
   ]
  },
  {
   "cell_type": "code",
   "execution_count": 22,
   "id": "699f9d04",
   "metadata": {
    "execution": {
     "iopub.execute_input": "2024-10-01T09:21:46.342597Z",
     "iopub.status.busy": "2024-10-01T09:21:46.342279Z",
     "iopub.status.idle": "2024-10-01T09:21:46.355343Z",
     "shell.execute_reply": "2024-10-01T09:21:46.354706Z",
     "shell.execute_reply.started": "2024-10-01T09:21:46.342573Z"
    },
    "tags": []
   },
   "outputs": [
    {
     "ename": "NameError",
     "evalue": "name 'sub_list' is not defined",
     "output_type": "error",
     "traceback": [
      "\u001b[0;31m---------------------------------------------------------------------------\u001b[0m",
      "\u001b[0;31mNameError\u001b[0m                                 Traceback (most recent call last)",
      "Cell \u001b[0;32mIn[22], line 8\u001b[0m\n\u001b[1;32m      1\u001b[0m \u001b[38;5;66;03m# Switch the two for loops and see what happens \u001b[39;00m\n\u001b[1;32m      3\u001b[0m names \u001b[38;5;241m=\u001b[39m [\n\u001b[1;32m      4\u001b[0m     [\u001b[38;5;124m'\u001b[39m\u001b[38;5;124mAbby\u001b[39m\u001b[38;5;124m'\u001b[39m, \u001b[38;5;124m'\u001b[39m\u001b[38;5;124mBella\u001b[39m\u001b[38;5;124m'\u001b[39m,\u001b[38;5;124m'\u001b[39m\u001b[38;5;124mCecilia\u001b[39m\u001b[38;5;124m'\u001b[39m],\n\u001b[1;32m      5\u001b[0m     [\u001b[38;5;124m'\u001b[39m\u001b[38;5;124mAlex\u001b[39m\u001b[38;5;124m'\u001b[39m,\u001b[38;5;124m'\u001b[39m\u001b[38;5;124mBeatrice\u001b[39m\u001b[38;5;124m'\u001b[39m,\u001b[38;5;124m'\u001b[39m\u001b[38;5;124mCynthia\u001b[39m\u001b[38;5;124m'\u001b[39m,\u001b[38;5;124m'\u001b[39m\u001b[38;5;124mDavid\u001b[39m\u001b[38;5;124m'\u001b[39m]\n\u001b[1;32m      6\u001b[0m ]\n\u001b[0;32m----> 8\u001b[0m all_names \u001b[38;5;241m=\u001b[39m [name \u001b[38;5;28;01mfor\u001b[39;00m name \u001b[38;5;129;01min\u001b[39;00m \u001b[43msub_list\u001b[49m \u001b[38;5;28;01mfor\u001b[39;00m sub_list \u001b[38;5;129;01min\u001b[39;00m names]\n\u001b[1;32m      9\u001b[0m \u001b[38;5;28mprint\u001b[39m(all_names)\n",
      "\u001b[0;31mNameError\u001b[0m: name 'sub_list' is not defined"
     ]
    }
   ],
   "source": [
    "# Switch the two for loops and see what happens \n",
    "\n",
    "names = [\n",
    "    ['Abby', 'Bella','Cecilia'],\n",
    "    ['Alex','Beatrice','Cynthia','David']\n",
    "]\n",
    "\n",
    "all_names = [name for name in sub_list for sub_list in names]\n",
    "print(all_names)"
   ]
  },
  {
   "cell_type": "code",
   "execution_count": 24,
   "id": "f6bd519c",
   "metadata": {
    "execution": {
     "iopub.execute_input": "2024-10-01T09:22:06.338240Z",
     "iopub.status.busy": "2024-10-01T09:22:06.337619Z",
     "iopub.status.idle": "2024-10-01T09:22:06.350418Z",
     "shell.execute_reply": "2024-10-01T09:22:06.349764Z",
     "shell.execute_reply.started": "2024-10-01T09:22:06.338214Z"
    },
    "tags": []
   },
   "outputs": [
    {
     "ename": "NameError",
     "evalue": "name 'sub_list' is not defined",
     "output_type": "error",
     "traceback": [
      "\u001b[0;31m---------------------------------------------------------------------------\u001b[0m",
      "\u001b[0;31mNameError\u001b[0m                                 Traceback (most recent call last)",
      "Cell \u001b[0;32mIn[24], line 9\u001b[0m\n\u001b[1;32m      3\u001b[0m names \u001b[38;5;241m=\u001b[39m [\n\u001b[1;32m      4\u001b[0m     [\u001b[38;5;124m'\u001b[39m\u001b[38;5;124mAbby\u001b[39m\u001b[38;5;124m'\u001b[39m, \u001b[38;5;124m'\u001b[39m\u001b[38;5;124mBella\u001b[39m\u001b[38;5;124m'\u001b[39m,\u001b[38;5;124m'\u001b[39m\u001b[38;5;124mCecilia\u001b[39m\u001b[38;5;124m'\u001b[39m],\n\u001b[1;32m      5\u001b[0m     [\u001b[38;5;124m'\u001b[39m\u001b[38;5;124mAlex\u001b[39m\u001b[38;5;124m'\u001b[39m,\u001b[38;5;124m'\u001b[39m\u001b[38;5;124mBeatrice\u001b[39m\u001b[38;5;124m'\u001b[39m,\u001b[38;5;124m'\u001b[39m\u001b[38;5;124mCynthia\u001b[39m\u001b[38;5;124m'\u001b[39m,\u001b[38;5;124m'\u001b[39m\u001b[38;5;124mDavid\u001b[39m\u001b[38;5;124m'\u001b[39m]\n\u001b[1;32m      6\u001b[0m ]\n\u001b[1;32m      8\u001b[0m all_names \u001b[38;5;241m=\u001b[39m []\n\u001b[0;32m----> 9\u001b[0m \u001b[38;5;28;01mfor\u001b[39;00m name \u001b[38;5;129;01min\u001b[39;00m \u001b[43msub_list\u001b[49m:\n\u001b[1;32m     10\u001b[0m     \u001b[38;5;28;01mfor\u001b[39;00m sub_list \u001b[38;5;129;01min\u001b[39;00m names:\n\u001b[1;32m     11\u001b[0m         all_names\u001b[38;5;241m.\u001b[39mappend(name)\n",
      "\u001b[0;31mNameError\u001b[0m: name 'sub_list' is not defined"
     ]
    }
   ],
   "source": [
    "# Convert the list comprehension back to a for loop to get a clearer view\n",
    "\n",
    "names = [\n",
    "    ['Abby', 'Bella','Cecilia'],\n",
    "    ['Alex','Beatrice','Cynthia','David']\n",
    "]\n",
    "\n",
    "all_names = []\n",
    "for name in sub_list:\n",
    "    for sub_list in names:\n",
    "        all_names.append(name)\n"
   ]
  },
  {
   "cell_type": "markdown",
   "id": "75ed881a",
   "metadata": {},
   "source": [
    "<h4 style=\"color:red; display:inline\">Coding Challenge! &lt; / &gt; </h4>\n",
    "\n",
    "Process the `names` list using a for loop, and store the names that start with the letter 'A' in a new list ```a_name```.\n",
    "\n",
    "Then do the same thing using a list comprehension."
   ]
  },
  {
   "cell_type": "code",
   "execution_count": 33,
   "id": "fe1ef427",
   "metadata": {
    "execution": {
     "iopub.execute_input": "2025-05-24T16:05:06.810378Z",
     "iopub.status.busy": "2025-05-24T16:05:06.809876Z",
     "iopub.status.idle": "2025-05-24T16:05:06.813713Z",
     "shell.execute_reply": "2025-05-24T16:05:06.813242Z",
     "shell.execute_reply.started": "2025-05-24T16:05:06.810359Z"
    }
   },
   "outputs": [
    {
     "name": "stdout",
     "output_type": "stream",
     "text": [
      "['Abby', 'Alex']\n"
     ]
    }
   ],
   "source": [
    "# Create a list that only contains the names that start with the letter 'A'\n",
    "# Using a for loop\n",
    "names = [\n",
    "    ['Abby', 'Bella','Cecilia'],\n",
    "    ['Alex','Beatrice','Cynthia','David']\n",
    "]\n",
    "a_names = []\n",
    "for sub_list in names:\n",
    "    for kid in sub_list:\n",
    "        if kid[0] == \"A\":\n",
    "            a_names.append(kid)\n",
    "            \n",
    "print(a_names)\n",
    "    \n",
    "#you can even use name.startwith(\"A\"). this is a little bit more malluable as you can check in one go if it starts with AB"
   ]
  },
  {
   "cell_type": "code",
   "execution_count": 43,
   "id": "ccfe16ec",
   "metadata": {
    "execution": {
     "iopub.execute_input": "2024-09-24T19:18:16.409081Z",
     "iopub.status.busy": "2024-09-24T19:18:16.408804Z",
     "iopub.status.idle": "2024-09-24T19:18:16.412200Z",
     "shell.execute_reply": "2024-09-24T19:18:16.411779Z",
     "shell.execute_reply.started": "2024-09-24T19:18:16.409064Z"
    }
   },
   "outputs": [
    {
     "name": "stdout",
     "output_type": "stream",
     "text": [
      "['Abby', 'Alex']\n"
     ]
    }
   ],
   "source": [
    "# Create a list that only contains the names that start with the letter 'A'\n",
    "# Using a list comprehension\n",
    "a_names = [name for sub_list in names for name in sub_list if name[0] == \"A\"]\n",
    "print(a_names)"
   ]
  },
  {
   "cell_type": "code",
   "execution_count": 34,
   "id": "e42164a8-0bff-4731-86da-0303ae063e00",
   "metadata": {
    "execution": {
     "iopub.execute_input": "2025-05-24T16:05:10.166219Z",
     "iopub.status.busy": "2025-05-24T16:05:10.165687Z",
     "iopub.status.idle": "2025-05-24T16:05:10.169325Z",
     "shell.execute_reply": "2025-05-24T16:05:10.168876Z",
     "shell.execute_reply.started": "2025-05-24T16:05:10.166199Z"
    }
   },
   "outputs": [
    {
     "name": "stdout",
     "output_type": "stream",
     "text": [
      "['Abby', 'Alex']\n"
     ]
    }
   ],
   "source": [
    "a_names =[]\n",
    "for sub_list in names:\n",
    "    for kid in sub_list:\n",
    "        if kid[0] == \"A\":\n",
    "            a_names.append(kid)\n",
    "print(a_names)\n",
    "        "
   ]
  },
  {
   "cell_type": "code",
   "execution_count": 37,
   "id": "193bc7a2-85fd-4d4c-82ec-507869e597bb",
   "metadata": {
    "execution": {
     "iopub.execute_input": "2025-05-24T16:06:57.948404Z",
     "iopub.status.busy": "2025-05-24T16:06:57.947891Z",
     "iopub.status.idle": "2025-05-24T16:06:57.951620Z",
     "shell.execute_reply": "2025-05-24T16:06:57.951042Z",
     "shell.execute_reply.started": "2025-05-24T16:06:57.948386Z"
    }
   },
   "outputs": [
    {
     "name": "stdout",
     "output_type": "stream",
     "text": [
      "['Abby', 'Alex']\n"
     ]
    }
   ],
   "source": [
    "a_names = [kid for sub_list in names for kid in sub_list if kid[0] == \"A\"]\n",
    "print(a_names)"
   ]
  },
  {
   "cell_type": "markdown",
   "id": "74af6020",
   "metadata": {},
   "source": [
    "## Dictionary Comprehension\n",
    "The form of a dictionary comprehension is the same as for a list. Since a dictionary comprehension may deal with keys, values, or both, we need to be prepared to use `.keys()`, `.values()`, or `.items()` (for both)."
   ]
  },
  {
   "cell_type": "code",
   "execution_count": 2,
   "id": "335a87e1",
   "metadata": {
    "execution": {
     "iopub.execute_input": "2025-05-25T16:02:16.427003Z",
     "iopub.status.busy": "2025-05-25T16:02:16.426727Z",
     "iopub.status.idle": "2025-05-25T16:02:16.430351Z",
     "shell.execute_reply": "2025-05-25T16:02:16.429777Z",
     "shell.execute_reply.started": "2025-05-25T16:02:16.426985Z"
    },
    "tags": []
   },
   "outputs": [],
   "source": [
    "# Create a dictionary of contacts and occupations\n",
    "\n",
    "contacts = {\n",
    " 'Amanda Bennett': 'Engineer, electrical',\n",
    " 'Bryan Miller': 'Radiation protection practitioner',\n",
    " 'Christopher Garrison': 'Planning and development surveyor',\n",
    " 'Debra Allen': 'Intelligence analyst',\n",
    " 'Donna Decker': 'Architect',\n",
    " 'Heather Bullock': 'Media planner',\n",
    " 'Jason Brown': 'Energy manager',\n",
    " 'Jason Soto': 'Lighting technician, broadcasting/film/video',\n",
    " 'Marissa Munoz': 'Further education lecturer',\n",
    " 'Matthew Mccall': 'Chief Technology Officer',\n",
    " 'Michael Norman': 'Translator',\n",
    " 'Nicole Leblanc': 'Financial controller',\n",
    " 'Noah Delgado': 'Engineer, civil',\n",
    " 'Rachel Charles': 'Physicist, medical',\n",
    " 'Stephanie Petty': 'Architect'}"
   ]
  },
  {
   "cell_type": "markdown",
   "id": "7a5ad5f1",
   "metadata": {},
   "source": [
    "When we loop over a dictionary, we will only loop over the keys of the dictionary. "
   ]
  },
  {
   "cell_type": "code",
   "execution_count": 3,
   "id": "c7880711",
   "metadata": {
    "execution": {
     "iopub.execute_input": "2025-05-25T16:02:19.140774Z",
     "iopub.status.busy": "2025-05-25T16:02:19.140475Z",
     "iopub.status.idle": "2025-05-25T16:02:19.143912Z",
     "shell.execute_reply": "2025-05-25T16:02:19.143402Z",
     "shell.execute_reply.started": "2025-05-25T16:02:19.140754Z"
    },
    "tags": []
   },
   "outputs": [
    {
     "name": "stdout",
     "output_type": "stream",
     "text": [
      "Amanda Bennett\n",
      "Bryan Miller\n",
      "Christopher Garrison\n",
      "Debra Allen\n",
      "Donna Decker\n",
      "Heather Bullock\n",
      "Jason Brown\n",
      "Jason Soto\n",
      "Marissa Munoz\n",
      "Matthew Mccall\n",
      "Michael Norman\n",
      "Nicole Leblanc\n",
      "Noah Delgado\n",
      "Rachel Charles\n",
      "Stephanie Petty\n"
     ]
    }
   ],
   "source": [
    "# Looping over a dictionary only loops the keys\n",
    "for ele in contacts:\n",
    "    print(ele)"
   ]
  },
  {
   "cell_type": "code",
   "execution_count": 4,
   "id": "514f9470",
   "metadata": {
    "execution": {
     "iopub.execute_input": "2025-05-25T16:02:21.684800Z",
     "iopub.status.busy": "2025-05-25T16:02:21.684504Z",
     "iopub.status.idle": "2025-05-25T16:02:21.687901Z",
     "shell.execute_reply": "2025-05-25T16:02:21.687400Z",
     "shell.execute_reply.started": "2025-05-25T16:02:21.684780Z"
    },
    "tags": []
   },
   "outputs": [
    {
     "name": "stdout",
     "output_type": "stream",
     "text": [
      "Amanda Bennett\n",
      "Bryan Miller\n",
      "Christopher Garrison\n",
      "Debra Allen\n",
      "Donna Decker\n",
      "Heather Bullock\n",
      "Jason Brown\n",
      "Jason Soto\n",
      "Marissa Munoz\n",
      "Matthew Mccall\n",
      "Michael Norman\n",
      "Nicole Leblanc\n",
      "Noah Delgado\n",
      "Rachel Charles\n",
      "Stephanie Petty\n"
     ]
    }
   ],
   "source": [
    "# Looping over a dictionary by specifying .keys()\n",
    "for key in contacts.keys():\n",
    "    print(key)"
   ]
  },
  {
   "cell_type": "markdown",
   "id": "7a3038f7",
   "metadata": {},
   "source": [
    "To loop over both the keys and the values, we will need to use ```dict.items()```."
   ]
  },
  {
   "cell_type": "code",
   "execution_count": 5,
   "id": "a8f83b5d",
   "metadata": {
    "execution": {
     "iopub.execute_input": "2025-05-25T16:02:28.067268Z",
     "iopub.status.busy": "2025-05-25T16:02:28.066944Z",
     "iopub.status.idle": "2025-05-25T16:02:28.071036Z",
     "shell.execute_reply": "2025-05-25T16:02:28.070368Z",
     "shell.execute_reply.started": "2025-05-25T16:02:28.067247Z"
    },
    "scrolled": true,
    "tags": []
   },
   "outputs": [
    {
     "name": "stdout",
     "output_type": "stream",
     "text": [
      "('Amanda Bennett', 'Engineer, electrical')\n",
      "('Bryan Miller', 'Radiation protection practitioner')\n",
      "('Christopher Garrison', 'Planning and development surveyor')\n",
      "('Debra Allen', 'Intelligence analyst')\n",
      "('Donna Decker', 'Architect')\n",
      "('Heather Bullock', 'Media planner')\n",
      "('Jason Brown', 'Energy manager')\n",
      "('Jason Soto', 'Lighting technician, broadcasting/film/video')\n",
      "('Marissa Munoz', 'Further education lecturer')\n",
      "('Matthew Mccall', 'Chief Technology Officer')\n",
      "('Michael Norman', 'Translator')\n",
      "('Nicole Leblanc', 'Financial controller')\n",
      "('Noah Delgado', 'Engineer, civil')\n",
      "('Rachel Charles', 'Physicist, medical')\n",
      "('Stephanie Petty', 'Architect')\n"
     ]
    }
   ],
   "source": [
    "# Looping over a dictionary by specifying .items()\n",
    "for item in contacts.items():\n",
    "    print(item)"
   ]
  },
  {
   "cell_type": "markdown",
   "id": "6044beae",
   "metadata": {},
   "source": [
    "Note that each key/value pair is returned as a tuple. A tuple is very similar to a Python list (some commands can be used as well); the difference is that a tuple cannot be modified. The technical term in Python is immutable. \n",
    "\n",
    "* A list is mutable (can be changed)\n",
    "* A tuple is immutable (cannot be changed)\n",
    "\n",
    "We can further distinguish between them by the fact that:\n",
    "\n",
    "* A list uses hard brackets `[]`\n",
    "* A tuple uses parentheses `()`."
   ]
  },
  {
   "cell_type": "markdown",
   "id": "efe151b5",
   "metadata": {},
   "source": [
    "We can create a new dictionary from the original dictionary using a for loop to iterate through the key/value pairs. The for loop format is similar to a list except we need to use an index to refer to the key or value of the tuple."
   ]
  },
  {
   "cell_type": "code",
   "execution_count": 13,
   "id": "b6be014a",
   "metadata": {
    "execution": {
     "iopub.execute_input": "2025-05-25T16:07:21.173396Z",
     "iopub.status.busy": "2025-05-25T16:07:21.172799Z",
     "iopub.status.idle": "2025-05-25T16:07:21.177411Z",
     "shell.execute_reply": "2025-05-25T16:07:21.176879Z",
     "shell.execute_reply.started": "2025-05-25T16:07:21.173368Z"
    },
    "tags": []
   },
   "outputs": [
    {
     "name": "stdout",
     "output_type": "stream",
     "text": [
      "{'Amanda Bennett': 'Engineer, electrical', 'Noah Delgado': 'Engineer, civil'}\n"
     ]
    }
   ],
   "source": [
    "# Create a new dictionary that only contains the engineers \n",
    "# Using a for loop\n",
    "\n",
    "engineer_contacts = {}\n",
    "#empty dictionary\n",
    "\n",
    "for ele in contacts.items():\n",
    "    if 'Engineer' in ele[1]: #it checks the second element of each tuple (same as a list); we write in ele[0] because there are different types of engeneers\n",
    "        engineer_contacts[ele[0]] = ele[1] #this is how we add the key value pair to a dictionary\n",
    "    \n",
    "print(engineer_contacts)"
   ]
  },
  {
   "cell_type": "code",
   "execution_count": null,
   "id": "a56f32fd-170f-4447-866c-0cadf75521c6",
   "metadata": {},
   "outputs": [],
   "source": []
  },
  {
   "cell_type": "code",
   "execution_count": 14,
   "id": "587f0e3a",
   "metadata": {
    "execution": {
     "iopub.execute_input": "2025-05-25T16:07:24.066820Z",
     "iopub.status.busy": "2025-05-25T16:07:24.066536Z",
     "iopub.status.idle": "2025-05-25T16:07:24.070692Z",
     "shell.execute_reply": "2025-05-25T16:07:24.070116Z",
     "shell.execute_reply.started": "2025-05-25T16:07:24.066803Z"
    },
    "tags": []
   },
   "outputs": [
    {
     "data": {
      "text/plain": [
       "'John Doe'"
      ]
     },
     "execution_count": 14,
     "metadata": {},
     "output_type": "execute_result"
    }
   ],
   "source": [
    "# Use index to access the elements in a tuple\n",
    "\n",
    "person = (\"John Doe\", \"Engineer, mechanical\")\n",
    "person[0]"
   ]
  },
  {
   "cell_type": "code",
   "execution_count": 9,
   "id": "16088d4d",
   "metadata": {
    "execution": {
     "iopub.execute_input": "2025-05-25T16:03:51.851464Z",
     "iopub.status.busy": "2025-05-25T16:03:51.850956Z",
     "iopub.status.idle": "2025-05-25T16:03:51.854320Z",
     "shell.execute_reply": "2025-05-25T16:03:51.853849Z",
     "shell.execute_reply.started": "2025-05-25T16:03:51.851447Z"
    },
    "tags": []
   },
   "outputs": [
    {
     "name": "stdout",
     "output_type": "stream",
     "text": [
      "{'John': 90, 'Mary': 95, 'Sue': 98}\n"
     ]
    }
   ],
   "source": [
    "# A quick reminder of how to add key/value pairs to a dictionary\n",
    "\n",
    "grades = {'John': 90, 'Mary': 95}\n",
    "grades['Sue'] = 98\n",
    "print(grades)"
   ]
  },
  {
   "cell_type": "code",
   "execution_count": 11,
   "id": "283dfb42",
   "metadata": {
    "execution": {
     "iopub.execute_input": "2025-05-25T16:05:39.152335Z",
     "iopub.status.busy": "2025-05-25T16:05:39.152048Z",
     "iopub.status.idle": "2025-05-25T16:05:39.155653Z",
     "shell.execute_reply": "2025-05-25T16:05:39.155194Z",
     "shell.execute_reply.started": "2025-05-25T16:05:39.152319Z"
    },
    "scrolled": true,
    "tags": []
   },
   "outputs": [
    {
     "name": "stdout",
     "output_type": "stream",
     "text": [
      "{'Amanda Bennett': 'Engineer, electrical', 'Noah Delgado': 'Engineer, civil'}\n"
     ]
    }
   ],
   "source": [
    "# Use a dictionary comprehension to iterate through the (key, value) tuples of the items in a dictionary\n",
    "# Add each key:value pair to a new dictionary engineer_contacts\n",
    "\n",
    "engineer_contacts = {ele[0]:ele[1] for ele in contacts.items() if 'Engineer' in ele[1]} #ele[0]:ele[1] is the key value pair\n",
    "from pprint import pprint\n",
    "pprint(engineer_contacts)"
   ]
  },
  {
   "cell_type": "markdown",
   "id": "3f9372c2",
   "metadata": {},
   "source": [
    "Instead of using indices with each tuple, we can also give variable names to the keys and values respectively."
   ]
  },
  {
   "cell_type": "code",
   "execution_count": 15,
   "id": "914d22ff",
   "metadata": {
    "execution": {
     "iopub.execute_input": "2025-05-25T16:07:55.648702Z",
     "iopub.status.busy": "2025-05-25T16:07:55.648418Z",
     "iopub.status.idle": "2025-05-25T16:07:55.652236Z",
     "shell.execute_reply": "2025-05-25T16:07:55.651729Z",
     "shell.execute_reply.started": "2025-05-25T16:07:55.648686Z"
    },
    "scrolled": true,
    "tags": []
   },
   "outputs": [
    {
     "name": "stdout",
     "output_type": "stream",
     "text": [
      "{'Amanda Bennett': 'Engineer, electrical', 'Noah Delgado': 'Engineer, civil'}\n"
     ]
    }
   ],
   "source": [
    "# Use key/value variable names for each tuple\n",
    "# For loop example\n",
    "\n",
    "engineer_contacts = {} \n",
    "\n",
    "for (name, occupation) in contacts.items(): \n",
    "    if 'Engineer' in occupation:\n",
    "        engineer_contacts[name] = occupation\n",
    "\n",
    "pprint(engineer_contacts)      "
   ]
  },
  {
   "cell_type": "markdown",
   "id": "251b41d2-3008-4512-ba06-2aadc739be2e",
   "metadata": {},
   "source": [
    "Note that when we assign the keys and values to the two variables `name` and `occupation`, we use parentheses to indicate that each pair is a tuple. However, the parentheses are not obligatory. You can remove them and the code will still work. "
   ]
  },
  {
   "cell_type": "code",
   "execution_count": 16,
   "id": "25b6dfd8",
   "metadata": {
    "execution": {
     "iopub.execute_input": "2025-05-25T16:08:04.463187Z",
     "iopub.status.busy": "2025-05-25T16:08:04.462684Z",
     "iopub.status.idle": "2025-05-25T16:08:04.466602Z",
     "shell.execute_reply": "2025-05-25T16:08:04.465977Z",
     "shell.execute_reply.started": "2025-05-25T16:08:04.463170Z"
    },
    "scrolled": true,
    "tags": []
   },
   "outputs": [
    {
     "name": "stdout",
     "output_type": "stream",
     "text": [
      "{'Amanda Bennett': 'Engineer, electrical', 'Noah Delgado': 'Engineer, civil'}\n"
     ]
    }
   ],
   "source": [
    "# Using key/value variable names for each tuple\n",
    "# Dictionary comprehension example\n",
    "\n",
    "engineer_contacts = {name : occupation for (name, occupation) in contacts.items() if 'Engineer' in occupation}\n",
    "pprint(engineer_contacts)"
   ]
  },
  {
   "cell_type": "markdown",
   "id": "533fc542",
   "metadata": {},
   "source": [
    "In the section on list comrehensions, we saw that we can use list comprehensions to create a list from any kind of iterables. The same is true for dictionary comprehensions. We can use dictionary comprehensions to create a new dictionary based on any kind of iterables, not necessarily an old dictionary.   "
   ]
  },
  {
   "cell_type": "code",
   "execution_count": 17,
   "id": "d98a7396",
   "metadata": {
    "execution": {
     "iopub.execute_input": "2025-05-25T16:19:39.067383Z",
     "iopub.status.busy": "2025-05-25T16:19:39.066874Z",
     "iopub.status.idle": "2025-05-25T16:19:39.070528Z",
     "shell.execute_reply": "2025-05-25T16:19:39.070029Z",
     "shell.execute_reply.started": "2025-05-25T16:19:39.067365Z"
    },
    "scrolled": true,
    "tags": []
   },
   "outputs": [
    {
     "name": "stdout",
     "output_type": "stream",
     "text": [
      "{'more': 4, 'is': 2, 'said': 4, 'than': 4, 'done': 4}\n"
     ]
    }
   ],
   "source": [
    "# Create a dictionary based on a list of word strings\n",
    "# where keys are the words and values are the lengths of the words\n",
    "# for loop example\n",
    "\n",
    "words = ['more', 'is', 'said', 'than', 'done']\n",
    "\n",
    "word_length = {}\n",
    "\n",
    "for w in words:\n",
    "    word_length[w] = len(w)\n",
    "    \n",
    "print(word_length)  "
   ]
  },
  {
   "cell_type": "code",
   "execution_count": 18,
   "id": "700b6d41",
   "metadata": {
    "execution": {
     "iopub.execute_input": "2025-05-25T16:19:39.071671Z",
     "iopub.status.busy": "2025-05-25T16:19:39.071485Z",
     "iopub.status.idle": "2025-05-25T16:19:39.077681Z",
     "shell.execute_reply": "2025-05-25T16:19:39.077195Z",
     "shell.execute_reply.started": "2025-05-25T16:19:39.071656Z"
    },
    "tags": []
   },
   "outputs": [
    {
     "name": "stdout",
     "output_type": "stream",
     "text": [
      "{'more': 4, 'is': 2, 'said': 4, 'than': 4, 'done': 4}\n"
     ]
    }
   ],
   "source": [
    "# Create a dictionary of word/word length pairs based on a list of word strings\n",
    "# using a dictionary comprehension\n",
    "\n",
    "word_length = {w : len(w) for w in words}\n",
    "print(word_length)"
   ]
  },
  {
   "cell_type": "markdown",
   "id": "c730db93",
   "metadata": {},
   "source": [
    "<h3 style=\"color:red; display:inline\">Coding Challenge! &lt; / &gt; </h3>\n",
    "\n",
    "Suppose you are a grocery store owner. Due to the inflation, you have to raise prices by 15%. In ```store_prices``` are the items and their original price. Use a dictionary comprehension to create a new dictionary with the new price.\n",
    "\n",
    "Hint: You can round a number to two decimal places using the `round()` function. The first argument is the number to be rounded; the second argument is the level of precision. In this case, two decimal places. "
   ]
  },
  {
   "cell_type": "code",
   "execution_count": 19,
   "id": "6971612f",
   "metadata": {
    "execution": {
     "iopub.execute_input": "2025-05-25T16:21:05.435730Z",
     "iopub.status.busy": "2025-05-25T16:21:05.435237Z",
     "iopub.status.idle": "2025-05-25T16:21:05.438978Z",
     "shell.execute_reply": "2025-05-25T16:21:05.438520Z",
     "shell.execute_reply.started": "2025-05-25T16:21:05.435712Z"
    },
    "tags": []
   },
   "outputs": [
    {
     "data": {
      "text/plain": [
       "3.14"
      ]
     },
     "execution_count": 19,
     "metadata": {},
     "output_type": "execute_result"
    }
   ],
   "source": [
    "round(3.1415926, 2)"
   ]
  },
  {
   "cell_type": "code",
   "execution_count": 23,
   "id": "f389b41e-b454-415c-af16-402697110921",
   "metadata": {
    "execution": {
     "iopub.execute_input": "2025-05-25T16:27:36.724512Z",
     "iopub.status.busy": "2025-05-25T16:27:36.724015Z",
     "iopub.status.idle": "2025-05-25T16:27:36.728489Z",
     "shell.execute_reply": "2025-05-25T16:27:36.727824Z",
     "shell.execute_reply.started": "2025-05-25T16:27:36.724495Z"
    }
   },
   "outputs": [
    {
     "name": "stdout",
     "output_type": "stream",
     "text": [
      "{'banana': 1.14,\n",
      " 'bread': 3.44,\n",
      " 'egg': 6.08,\n",
      " 'lettuce': 2.7,\n",
      " 'milk': 4.01,\n",
      " 'spinach': 2.29}\n"
     ]
    }
   ],
   "source": [
    "#MY CODE\n",
    "store_prices = {\n",
    "    \"milk\": 3.49,\n",
    "    \"egg\": 5.29,\n",
    "    \"bread\": 2.99,\n",
    "    \"spinach\": 1.99,\n",
    "    \"lettuce\": 2.35,\n",
    "    \"banana\": 0.99\n",
    "}\n",
    "\n",
    "inflated_prices = {}\n",
    "for product, price in store_prices.items():\n",
    "    inflated_prices[product] = round(price + (price*0.15), 2)\n",
    "\n",
    "pprint(inflated_prices)"
   ]
  },
  {
   "cell_type": "code",
   "execution_count": 29,
   "id": "af1e14e6-889a-4669-b454-f50ef2a71cbd",
   "metadata": {
    "execution": {
     "iopub.execute_input": "2025-05-25T16:34:16.818672Z",
     "iopub.status.busy": "2025-05-25T16:34:16.818384Z",
     "iopub.status.idle": "2025-05-25T16:34:16.822393Z",
     "shell.execute_reply": "2025-05-25T16:34:16.821758Z",
     "shell.execute_reply.started": "2025-05-25T16:34:16.818655Z"
    }
   },
   "outputs": [
    {
     "name": "stdout",
     "output_type": "stream",
     "text": [
      "{'banana': 1.14,\n",
      " 'bread': 3.44,\n",
      " 'egg': 6.08,\n",
      " 'lettuce': 2.7,\n",
      " 'milk': 4.01,\n",
      " 'spinach': 2.29}\n"
     ]
    }
   ],
   "source": [
    "inflated_prices = { product : round((price + (price*0.15)), 2) for (product, price) in store_prices.items()}\n",
    "\n",
    "pprint(inflated_prices)"
   ]
  },
  {
   "cell_type": "code",
   "execution_count": 34,
   "id": "9c552300",
   "metadata": {
    "execution": {
     "iopub.execute_input": "2024-09-28T14:44:25.303043Z",
     "iopub.status.busy": "2024-09-28T14:44:25.302759Z",
     "iopub.status.idle": "2024-09-28T14:44:25.306914Z",
     "shell.execute_reply": "2024-09-28T14:44:25.306415Z",
     "shell.execute_reply.started": "2024-09-28T14:44:25.303023Z"
    },
    "tags": []
   },
   "outputs": [
    {
     "name": "stdout",
     "output_type": "stream",
     "text": [
      "{'banana': 1.14,\n",
      " 'bread': 3.44,\n",
      " 'egg': 6.08,\n",
      " 'lettuce': 2.7,\n",
      " 'milk': 4.01,\n",
      " 'spinach': 2.29}\n"
     ]
    }
   ],
   "source": [
    "# Create a new dictionary where all prices are 15% higher\n",
    "store_prices = {\n",
    "    \"milk\": 3.49,\n",
    "    \"egg\": 5.29,\n",
    "    \"bread\": 2.99,\n",
    "    \"spinach\": 1.99,\n",
    "    \"lettuce\": 2.35,\n",
    "    \"banana\": 0.99\n",
    "}\n",
    "\n",
    "inflated_prices = {} #create an empty dictionary\n",
    "\n",
    "for (produce, price) in store_prices.items():\n",
    "    new_price = price + (0.15 * price)\n",
    "    inflated_prices[produce] = round(new_price, 2) #this indicates that we are using the produce as the key and assigning the new value as the value in the new dictionary\n",
    "pprint(inflated_prices)\n"
   ]
  },
  {
   "cell_type": "code",
   "execution_count": 32,
   "id": "0a1d494a-2c4f-4514-aabb-2247ba767211",
   "metadata": {
    "execution": {
     "iopub.execute_input": "2024-09-28T14:44:08.177608Z",
     "iopub.status.busy": "2024-09-28T14:44:08.177050Z",
     "iopub.status.idle": "2024-09-28T14:44:08.181531Z",
     "shell.execute_reply": "2024-09-28T14:44:08.180896Z",
     "shell.execute_reply.started": "2024-09-28T14:44:08.177588Z"
    },
    "tags": []
   },
   "outputs": [
    {
     "name": "stdout",
     "output_type": "stream",
     "text": [
      "{'banana': 1.14,\n",
      " 'bread': 3.44,\n",
      " 'egg': 6.08,\n",
      " 'lettuce': 2.7,\n",
      " 'milk': 4.01,\n",
      " 'spinach': 2.29}\n"
     ]
    }
   ],
   "source": [
    "# Create a new dictionary where all prices are 15% higher\n",
    "store_prices = {\n",
    "    \"milk\": 3.49,\n",
    "    \"egg\": 5.29,\n",
    "    \"bread\": 2.99,\n",
    "    \"spinach\": 1.99,\n",
    "    \"lettuce\": 2.35,\n",
    "    \"banana\": 0.99\n",
    "}\n",
    "\n",
    "inflated_prices = { produce : round((price + (0.15 * price)) , 2) for (produce, price) in store_prices.items() }\n",
    "\n",
    "pprint(inflated_prices)\n"
   ]
  },
  {
   "cell_type": "markdown",
   "id": "7b2d3896",
   "metadata": {},
   "source": [
    "## Set comprehension\n",
    "\n",
    "Sets in Python are written with curly braces. Curly braces `{}` are used for both dictionaries and sets in Python. Which one is created depends on whether we supply the associated value or not. We can use the `type()` function to discover what kind of object a variable is."
   ]
  },
  {
   "cell_type": "code",
   "execution_count": 30,
   "id": "b883d659",
   "metadata": {
    "execution": {
     "iopub.execute_input": "2025-05-25T16:35:12.306112Z",
     "iopub.status.busy": "2025-05-25T16:35:12.305606Z",
     "iopub.status.idle": "2025-05-25T16:35:12.309739Z",
     "shell.execute_reply": "2025-05-25T16:35:12.309105Z",
     "shell.execute_reply.started": "2025-05-25T16:35:12.306095Z"
    },
    "tags": []
   },
   "outputs": [
    {
     "data": {
      "text/plain": [
       "set"
      ]
     },
     "execution_count": 30,
     "metadata": {},
     "output_type": "execute_result"
    }
   ],
   "source": [
    "# Demonstrating a set\n",
    "# One data entry per comma in curly braces\n",
    "\n",
    "test_set = {1, 2, 3}\n",
    "type(test_set)"
   ]
  },
  {
   "cell_type": "code",
   "execution_count": 31,
   "id": "be983613",
   "metadata": {
    "execution": {
     "iopub.execute_input": "2025-05-25T16:35:14.171212Z",
     "iopub.status.busy": "2025-05-25T16:35:14.170713Z",
     "iopub.status.idle": "2025-05-25T16:35:14.174941Z",
     "shell.execute_reply": "2025-05-25T16:35:14.174277Z",
     "shell.execute_reply.started": "2025-05-25T16:35:14.171195Z"
    },
    "tags": []
   },
   "outputs": [
    {
     "data": {
      "text/plain": [
       "dict"
      ]
     },
     "execution_count": 31,
     "metadata": {},
     "output_type": "execute_result"
    }
   ],
   "source": [
    "# Demonstrating a dictionary\n",
    "# Two data entries separated by a colon per each comma in curly braces\n",
    "\n",
    "test_dict = {1 : 'apple', 2 : 'banana', 3 : 'cherry'}\n",
    "type(test_dict)"
   ]
  },
  {
   "cell_type": "markdown",
   "id": "56eb5af3",
   "metadata": {},
   "source": [
    "To create an empty set, we use the `set()` function. By default, empty curly braces will create an empty dictionary. "
   ]
  },
  {
   "cell_type": "code",
   "execution_count": 32,
   "id": "d78bbd89",
   "metadata": {
    "execution": {
     "iopub.execute_input": "2025-05-25T16:38:30.067568Z",
     "iopub.status.busy": "2025-05-25T16:38:30.067280Z",
     "iopub.status.idle": "2025-05-25T16:38:30.070896Z",
     "shell.execute_reply": "2025-05-25T16:38:30.070402Z",
     "shell.execute_reply.started": "2025-05-25T16:38:30.067551Z"
    },
    "tags": []
   },
   "outputs": [
    {
     "name": "stdout",
     "output_type": "stream",
     "text": [
      "test_set is a <class 'set'>\n",
      "test_dict is a <class 'dict'>\n"
     ]
    }
   ],
   "source": [
    "# Demonstrating creation of empty dict vs empty set\n",
    "\n",
    "test_set = set()\n",
    "test_dict = {}\n",
    "\n",
    "print(f'test_set is a {type(test_set)}')\n",
    "print(f'test_dict is a {type(test_dict)}')"
   ]
  },
  {
   "cell_type": "code",
   "execution_count": 33,
   "id": "962fe488",
   "metadata": {
    "execution": {
     "iopub.execute_input": "2025-05-25T16:38:34.171254Z",
     "iopub.status.busy": "2025-05-25T16:38:34.170663Z",
     "iopub.status.idle": "2025-05-25T16:38:34.174478Z",
     "shell.execute_reply": "2025-05-25T16:38:34.173995Z",
     "shell.execute_reply.started": "2025-05-25T16:38:34.171231Z"
    },
    "tags": []
   },
   "outputs": [
    {
     "name": "stdout",
     "output_type": "stream",
     "text": [
      "{8, 9, 6, 7}\n"
     ]
    }
   ],
   "source": [
    "# Using a for loop with a set\n",
    "\n",
    "set1 = {5, 6, 7, 8, 9}\n",
    "set2 = set() ## note how we initialize an empty set\n",
    "for num in set1:\n",
    "    if num > 5:\n",
    "        set2.add(num) # note how we add a new element to a set\n",
    "print(set2)"
   ]
  },
  {
   "cell_type": "code",
   "execution_count": 34,
   "id": "f4c568a1",
   "metadata": {
    "execution": {
     "iopub.execute_input": "2025-05-25T16:38:36.862434Z",
     "iopub.status.busy": "2025-05-25T16:38:36.862149Z",
     "iopub.status.idle": "2025-05-25T16:38:36.865646Z",
     "shell.execute_reply": "2025-05-25T16:38:36.865124Z",
     "shell.execute_reply.started": "2025-05-25T16:38:36.862415Z"
    },
    "tags": []
   },
   "outputs": [
    {
     "name": "stdout",
     "output_type": "stream",
     "text": [
      "{8, 9, 6, 7}\n"
     ]
    }
   ],
   "source": [
    "# Using a set comprehension\n",
    "\n",
    "set2 = {num for num in set1 if num > 5}\n",
    "print(set2) "
   ]
  },
  {
   "cell_type": "markdown",
   "id": "cf2fb530",
   "metadata": {},
   "source": [
    "A set is an unordered collection of distinct objects. If you change the order of the elements or list an element more than once, that does not change the set. "
   ]
  },
  {
   "cell_type": "code",
   "execution_count": 35,
   "id": "a14ae2c1",
   "metadata": {
    "execution": {
     "iopub.execute_input": "2025-05-25T16:38:39.526267Z",
     "iopub.status.busy": "2025-05-25T16:38:39.525988Z",
     "iopub.status.idle": "2025-05-25T16:38:39.529921Z",
     "shell.execute_reply": "2025-05-25T16:38:39.529370Z",
     "shell.execute_reply.started": "2025-05-25T16:38:39.526249Z"
    }
   },
   "outputs": [
    {
     "data": {
      "text/plain": [
       "True"
      ]
     },
     "execution_count": 35,
     "metadata": {},
     "output_type": "execute_result"
    }
   ],
   "source": [
    "# Using a comparison operator on two sets\n",
    "# Same elements in different order\n",
    "\n",
    "{1,2} == {2,1}"
   ]
  },
  {
   "cell_type": "code",
   "execution_count": 36,
   "id": "741a048b",
   "metadata": {
    "execution": {
     "iopub.execute_input": "2025-05-25T16:38:45.348687Z",
     "iopub.status.busy": "2025-05-25T16:38:45.348409Z",
     "iopub.status.idle": "2025-05-25T16:38:45.352336Z",
     "shell.execute_reply": "2025-05-25T16:38:45.351835Z",
     "shell.execute_reply.started": "2025-05-25T16:38:45.348670Z"
    }
   },
   "outputs": [
    {
     "data": {
      "text/plain": [
       "True"
      ]
     },
     "execution_count": 36,
     "metadata": {},
     "output_type": "execute_result"
    }
   ],
   "source": [
    "# Using a comparison operator on two sets\n",
    "# Repeated elements in a set\n",
    "\n",
    "{1,1,2} == {1,2}"
   ]
  },
  {
   "cell_type": "code",
   "execution_count": 38,
   "id": "588ce81b",
   "metadata": {
    "execution": {
     "iopub.execute_input": "2025-05-25T16:38:55.305747Z",
     "iopub.status.busy": "2025-05-25T16:38:55.305471Z",
     "iopub.status.idle": "2025-05-25T16:38:55.308689Z",
     "shell.execute_reply": "2025-05-25T16:38:55.308200Z",
     "shell.execute_reply.started": "2025-05-25T16:38:55.305729Z"
    }
   },
   "outputs": [
    {
     "name": "stdout",
     "output_type": "stream",
     "text": [
      "{1, 2}\n"
     ]
    }
   ],
   "source": [
    "# Printing a set with duplicates\n",
    "# Duplicates are removed automatically\n",
    "\n",
    "print({1, 1, 2})"
   ]
  },
  {
   "cell_type": "markdown",
   "id": "7457cc5e",
   "metadata": {},
   "source": [
    "Again, we can use set comprehensions to create a new set based on any kind of iterables that have been defined. "
   ]
  },
  {
   "cell_type": "code",
   "execution_count": 41,
   "id": "91220bfc",
   "metadata": {
    "execution": {
     "iopub.execute_input": "2025-05-25T16:39:56.341975Z",
     "iopub.status.busy": "2025-05-25T16:39:56.341700Z",
     "iopub.status.idle": "2025-05-25T16:39:56.345297Z",
     "shell.execute_reply": "2025-05-25T16:39:56.344809Z",
     "shell.execute_reply.started": "2025-05-25T16:39:56.341957Z"
    }
   },
   "outputs": [
    {
     "name": "stdout",
     "output_type": "stream",
     "text": [
      "{'Amanda Bennett',\n",
      " 'Bryan Miller',\n",
      " 'Christopher Garrison',\n",
      " 'Debra Allen',\n",
      " 'Donna Decker',\n",
      " 'Heather Bullock',\n",
      " 'Jason Brown',\n",
      " 'Jason Soto',\n",
      " 'Marissa Munoz',\n",
      " 'Matthew Mccall',\n",
      " 'Michael Norman',\n",
      " 'Nicole Leblanc',\n",
      " 'Noah Delgado',\n",
      " 'Rachel Charles',\n",
      " 'Stephanie Petty'}\n"
     ]
    }
   ],
   "source": [
    "# Create a new set containing only the names from the dictionary of contacts\n",
    "\n",
    "names = {name for name in contacts}\n",
    "\n",
    "pprint(names)"
   ]
  },
  {
   "cell_type": "markdown",
   "id": "34e3d0a0",
   "metadata": {},
   "source": [
    "<h3 style=\"color:red; display:inline\">Coding Challenge! &lt; / &gt; </h3>\n",
    "\n",
    "![An illustration of a wordle game](https://ithaka-labs.s3.amazonaws.com/static-files/images/tdm/tdmdocs/wordle.png)\n",
    "\n",
    "In the game [Wordle](https://www.nytimes.com/games/wordle/index.html), players must guess a five letter word in six guesses or less. A player is told if the letters in their guess are found in the word and if they are in the correct spot for the answer.\n",
    "\n",
    "On their first guess, a player discovers that the 3rd letter is \"I\" and the 4th letter is \"S\". If they have the set of all possible words, they could narrow down their guesses.\n",
    "\n",
    "Assume the `words` set contains a set of all possible words, can you write a set comprehension that will generate a set of all possible solutions?\n",
    "\n",
    "As an extra challenge, write additional set comprehensions to eliminate answers that contain the letters \"P\", \"R\", or \"M\"."
   ]
  },
  {
   "cell_type": "code",
   "execution_count": 56,
   "id": "f247b418",
   "metadata": {
    "execution": {
     "iopub.execute_input": "2025-05-25T16:56:52.497757Z",
     "iopub.status.busy": "2025-05-25T16:56:52.497468Z",
     "iopub.status.idle": "2025-05-25T16:56:52.501470Z",
     "shell.execute_reply": "2025-05-25T16:56:52.501008Z",
     "shell.execute_reply.started": "2025-05-25T16:56:52.497740Z"
    }
   },
   "outputs": [
    {
     "name": "stdout",
     "output_type": "stream",
     "text": [
      "{'frisk', 'egist', 'grist', 'prism', 'exist'}\n"
     ]
    }
   ],
   "source": [
    "# Write a set comprehension that creates a set of potential answers\n",
    "\n",
    "words = {'carbon',\n",
    "         'monkey',\n",
    "         'rabbit',\n",
    "         'theory',\n",
    "         'grist',\n",
    "         'farmer',\n",
    "         'pillow',\n",
    "         'exist',\n",
    "         'frisk',\n",
    "         'harbor',\n",
    "         'prism',\n",
    "         'egist'\n",
    "        }\n",
    "possible_words = set()\n",
    "for word in words:\n",
    "    if word[2] == \"i\" and word[3] == \"s\":\n",
    "        possible_words.add(word)\n",
    "print(possible_words)"
   ]
  },
  {
   "cell_type": "code",
   "execution_count": 57,
   "id": "53b27a96-368c-4286-ad02-04cb71f63469",
   "metadata": {
    "execution": {
     "iopub.execute_input": "2025-05-25T16:56:58.362294Z",
     "iopub.status.busy": "2025-05-25T16:56:58.361795Z",
     "iopub.status.idle": "2025-05-25T16:56:58.365223Z",
     "shell.execute_reply": "2025-05-25T16:56:58.364738Z",
     "shell.execute_reply.started": "2025-05-25T16:56:58.362278Z"
    }
   },
   "outputs": [
    {
     "name": "stdout",
     "output_type": "stream",
     "text": [
      "{'frisk', 'egist', 'grist', 'prism', 'exist'}\n"
     ]
    }
   ],
   "source": [
    "possible_words = { word for word in words if word[2] == \"i\" and word[3] == \"s\"}\n",
    "print(possible_words)"
   ]
  },
  {
   "cell_type": "code",
   "execution_count": 58,
   "id": "5c7305de-c516-44cb-973b-65f9a58b5b20",
   "metadata": {
    "execution": {
     "iopub.execute_input": "2025-05-25T16:57:01.356222Z",
     "iopub.status.busy": "2025-05-25T16:57:01.355928Z",
     "iopub.status.idle": "2025-05-25T16:57:01.360222Z",
     "shell.execute_reply": "2025-05-25T16:57:01.359479Z",
     "shell.execute_reply.started": "2025-05-25T16:57:01.356205Z"
    }
   },
   "outputs": [
    {
     "name": "stdout",
     "output_type": "stream",
     "text": [
      "{'egist', 'exist'}\n"
     ]
    }
   ],
   "source": [
    "possible_words = set()\n",
    "for word in words:\n",
    "    while \"p\" not in word and \"r\" not in word and \"m\" not in word:\n",
    "        if word[2] == \"i\" and word[3] == \"s\":\n",
    "            possible_words.add(word)\n",
    "        break\n",
    "            \n",
    "print(possible_words) \n",
    "    "
   ]
  },
  {
   "cell_type": "code",
   "execution_count": 59,
   "id": "1068eb61-a86e-42c5-99ec-76476a836578",
   "metadata": {
    "execution": {
     "iopub.execute_input": "2025-05-25T17:10:36.494812Z",
     "iopub.status.busy": "2025-05-25T17:10:36.494524Z",
     "iopub.status.idle": "2025-05-25T17:10:36.498335Z",
     "shell.execute_reply": "2025-05-25T17:10:36.497873Z",
     "shell.execute_reply.started": "2025-05-25T17:10:36.494794Z"
    }
   },
   "outputs": [
    {
     "name": "stdout",
     "output_type": "stream",
     "text": [
      "{'egist', 'exist'}\n"
     ]
    }
   ],
   "source": [
    "possible_words = set()\n",
    "for word in words:\n",
    "    if \"p\" not in word and \"r\" not in word and \"m\" not in word:\n",
    "        if word[2] == \"i\" and word[3] == \"s\":\n",
    "            possible_words.add(word)\n",
    "            \n",
    "print(possible_words) \n"
   ]
  },
  {
   "cell_type": "markdown",
   "id": "987868f2",
   "metadata": {},
   "source": [
    "___\n",
    "## Lesson Complete\n",
    "\n",
    "Congratulations! You have completed *Python Intermediate 1*.\n",
    "\n",
    "### Start Next Lesson: [Python Intermediate 2](./python-intermediate-2.ipynb)\n",
    "\n",
    "### Exercise Solutions\n",
    "Here are a few solutions for exercises in this lesson."
   ]
  },
  {
   "cell_type": "code",
   "execution_count": null,
   "id": "fb4e27bc",
   "metadata": {},
   "outputs": [],
   "source": [
    "# Creating a new list odd_num from odd numbers\n",
    "# Using a list comprehension\n",
    "\n",
    "numbers = [0, 1, 2, 3, 4, 5, 6, 7, 8, 9, 10]\n",
    "\n",
    "odd_num = [number for number in numbers if number % 2 == 1]\n",
    "print(odd_num)"
   ]
  },
  {
   "cell_type": "code",
   "execution_count": null,
   "id": "42e5a19b",
   "metadata": {},
   "outputs": [],
   "source": [
    "# Create a new list that only includes first names\n",
    "# Using a list comprehension\n",
    "\n",
    "people = ['Aaron Aston',\n",
    "         'Brianna Barton',\n",
    "         'Carla Cameron',\n",
    "         'Delia Darcy',\n",
    "         'Evelyn Elgin',\n",
    "         'Frederick Federov',\n",
    "         'Gaston Garbo']\n",
    "\n",
    "friends = [name.split()[0] for name in people]\n",
    "\n",
    "print(friends)"
   ]
  },
  {
   "cell_type": "code",
   "execution_count": null,
   "id": "40125e42",
   "metadata": {},
   "outputs": [],
   "source": [
    "# Create a list that only contains the names that start with the letter 'A'\n",
    "# Using a for loop\n",
    "names = [\n",
    "    ['Abby', 'Bella','Cecilia'],\n",
    "    ['Alex','Beatrice','Cynthia','David']\n",
    "]\n",
    "\n",
    "a_name = []\n",
    "for sublist in names:\n",
    "    for name in sublist:\n",
    "        if name[0] == 'A':\n",
    "            a_name.append(name)\n",
    "print(a_name)"
   ]
  },
  {
   "cell_type": "code",
   "execution_count": null,
   "id": "32bd7f66",
   "metadata": {},
   "outputs": [],
   "source": [
    "# Create a list that only contains the names that start with the letter 'A'\n",
    "# Using a list comprehension\n",
    "\n",
    "a_name = [name for sublist in names for name in sublist if name[0] == 'A']\n",
    "print(a_name)"
   ]
  },
  {
   "cell_type": "code",
   "execution_count": null,
   "id": "fa8d61db",
   "metadata": {},
   "outputs": [],
   "source": [
    "# Create a new dictionary where all prices are 15% higher\n",
    "store_prices = {\n",
    "    \"milk\": 3.49,\n",
    "    \"egg\": 5.29,\n",
    "    \"bread\": 2.99,\n",
    "    \"spinach\": 1.99,\n",
    "    \"lettuce\": 2.35,\n",
    "    \"banana\": 0.99\n",
    "}\n",
    "\n",
    "new_prices = {item : round(price * 1.15, 2) for (item, price) in store_prices.items()}\n",
    "pprint(new_prices)"
   ]
  },
  {
   "cell_type": "code",
   "execution_count": null,
   "id": "b4e11674",
   "metadata": {
    "tags": []
   },
   "outputs": [],
   "source": [
    "# Write a set comprehension that creates a set of potential answers\n",
    "\n",
    "words = {'carbon',\n",
    "         'monkey',\n",
    "         'rabbit',\n",
    "         'theory',\n",
    "         'grist',\n",
    "         'farmer',\n",
    "         'pillow',\n",
    "         'exist',\n",
    "         'frisk',\n",
    "         'harbor',\n",
    "         'prism'\n",
    "        }\n",
    "\n",
    "answers = {word for word in words if word[2] == 'i' and word[3] == 's'}         \n",
    "print(answers)"
   ]
  },
  {
   "cell_type": "code",
   "execution_count": null,
   "id": "51ad4759-7356-477d-9d5d-2e8b3ff2cbf8",
   "metadata": {
    "tags": []
   },
   "outputs": [],
   "source": [
    "# Write additional set comprehensions to eliminate answers that contain the letters \"P\", \"R\", or \"M\"\n",
    "\n",
    "answers = {word for word in answers if 'p' not in word and 'r' not in word and 'm' not in word}\n",
    "print(answers)"
   ]
  }
 ],
 "metadata": {
  "kernelspec": {
   "display_name": "Python 3 (ipykernel)",
   "language": "python",
   "name": "python3"
  },
  "language_info": {
   "codemirror_mode": {
    "name": "ipython",
    "version": 3
   },
   "file_extension": ".py",
   "mimetype": "text/x-python",
   "name": "python",
   "nbconvert_exporter": "python",
   "pygments_lexer": "ipython3",
   "version": "3.11.9"
  },
  "toc": {
   "base_numbering": 1,
   "nav_menu": {},
   "number_sections": true,
   "sideBar": true,
   "skip_h1_title": true,
   "title_cell": "Table of Contents",
   "title_sidebar": "Contents",
   "toc_cell": false,
   "toc_position": {},
   "toc_section_display": true,
   "toc_window_display": false
  }
 },
 "nbformat": 4,
 "nbformat_minor": 5
}
