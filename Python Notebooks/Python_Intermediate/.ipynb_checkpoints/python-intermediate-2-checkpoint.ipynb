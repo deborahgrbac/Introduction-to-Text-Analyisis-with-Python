{
 "cells": [
  {
   "cell_type": "markdown",
   "metadata": {},
   "source": [
    "<img align=\"left\" src=\"https://ithaka-labs.s3.amazonaws.com/static-files/images/tdm/tdmdocs/CC_BY.png\"><br />\n",
    "\n",
    "Created by [Nathan Kelber](http://nkelber.com) and Ted Lawless for [JSTOR Labs](https://labs.jstor.org/) under [Creative Commons CC BY License](https://creativecommons.org/licenses/by/4.0/)<br />\n",
    "For questions/comments/improvements, email nathan.kelber@ithaka.org.<br />\n",
    "___"
   ]
  },
  {
   "cell_type": "markdown",
   "metadata": {},
   "source": [
    "# Python Intermediate 2\n",
    "\n",
    "**Description:** This notebook describes how to:\n",
    "* Read and write files (.txt, .csv, .json)\n",
    "* Use the `constellate` client to read in metadata\n",
    "* Use the `constellate` client to read in data\n",
    "\n",
    "This notebook describes how to read and write text, CSV, and JSON files using Python. Additionally, it explains how the `constellate` client can help users easily load and analyze their datasets.\n",
    "\n",
    "**Use Case:** For Learners (Detailed explanation, not ideal for researchers)\n",
    "\n",
    "**Difficulty:** Intermediate\n",
    "\n",
    "**Completion Time:** 90 minutes\n",
    "\n",
    "**Knowledge Required:** \n",
    "* Python Basics ([Start Python Basics I](../Python-basics/python-basics-1.ipynb))\n",
    "\n",
    "**Knowledge Recommended:**\n",
    "* [Python Intermediate 1](./python-intermediate-1.ipynb)\n",
    "\n",
    "**Data Format:** Text (.txt), CSV (.csv), JSON (.json)\n",
    "\n",
    "**Libraries Used:**\n",
    "* [pandas](https://constellate.org/docs/key-terms/#pandas) to read and write CSV files\n",
    "* `json` to read and write JSON files\n",
    "* [constellate](https://constellate.org/docs/key-terms/#constellate-client) client to retrieve and read data\n",
    "\n",
    "**Research Pipeline:** None\n",
    "___"
   ]
  },
  {
   "cell_type": "code",
   "execution_count": 2,
   "metadata": {
    "execution": {
     "iopub.execute_input": "2025-05-25T18:35:19.826572Z",
     "iopub.status.busy": "2025-05-25T18:35:19.826299Z",
     "iopub.status.idle": "2025-05-25T18:35:20.036406Z",
     "shell.execute_reply": "2025-05-25T18:35:20.035917Z",
     "shell.execute_reply.started": "2025-05-25T18:35:19.826554Z"
    },
    "tags": []
   },
   "outputs": [
    {
     "name": "stdout",
     "output_type": "stream",
     "text": [
      "Sample files ready.\n"
     ]
    }
   ],
   "source": [
    "### Download Sample Files for this Lesson\n",
    "import urllib.request\n",
    "from pathlib import Path\n",
    "\n",
    "# Check if a data folder exists. If not, create it.\n",
    "data_folder = Path('./data/') #creates a data folder in the directory\n",
    "data_folder.mkdir(exist_ok=True)\n",
    "\n",
    "download_urls = [\n",
    "    'https://ithaka-labs.s3.amazonaws.com/static-files/images/tdm/tdmdocs/sample.csv',\n",
    "    'https://ithaka-labs.s3.amazonaws.com/static-files/images/tdm/tdmdocs/sample.txt',\n",
    "    'https://ithaka-labs.s3.amazonaws.com/static-files/images/tdm/tdmdocs/adaptation.txt'\n",
    "]\n",
    "#this imports the file\n",
    "\n",
    "for url in download_urls:\n",
    "    urllib.request.urlretrieve(url, './data/' + url.rsplit('/', 1)[-1])\n",
    "    \n",
    "print('Sample files ready.')"
   ]
  },
  {
   "cell_type": "markdown",
   "metadata": {},
   "source": [
    "## Files in Python\n",
    "Working with files is an essential part of Python programming. When we execute code in Python, we manipulate data through the use of variables. When the program is closed, however, any data stored in those variables is erased. To save the information stored in variables, we must learn how to write it to a file.\n",
    "\n",
    "At the same time, we may have notebooks for applying specific analyses, but we need to have a way to bring data into the notebook for analysis. Otherwise, we would have to type all the data into the program ourselves! Both reading-in from files and writing-out data to files are important skills for data science and the digital humanities.\n",
    "\n",
    "This section describes how to work with three kinds of common data files in Python:\n",
    "* Plain Text Files (.txt)\n",
    "* Comma-Separated Value files (.csv)\n",
    "* Javascript Object Notation files (.json)\n",
    "\n",
    "Each of these filetypes are in wide use in data science, digital humanities, and general programming. "
   ]
  },
  {
   "cell_type": "markdown",
   "metadata": {},
   "source": [
    "## Three Common Data File Types"
   ]
  },
  {
   "cell_type": "markdown",
   "metadata": {},
   "source": [
    "### Plain Text Files (.txt)\n",
    "A plain text file is one of the simplest kinds of computer files. Plain text files can be opened with a text editor like Notepad (Windows 10) or TextEdit (OS X). The file can contain only basic textual characters such as: letters, numbers, spaces, and line breaks. Plain text files do not contain styling such as: heading sizes, italic, bold, or specialized fonts. (To including styling in a text file, writers may use other file formats such as rich text format (.rtf) or markdown (.md).)\n",
    "\n",
    "Plain text files (.txt) can be easily viewed and modified by humans by changing the text within. This is an important distinction from binary files such as images (.jpg), archives (.gzip), audio (.wav), or video (.mp4). If a binary file is opened with a text editor, the content will be largely unreadable."
   ]
  },
  {
   "cell_type": "markdown",
   "metadata": {},
   "source": [
    "### Comma-Separated Value Files (.csv)\n",
    "A comma-separated value file is also a text file that can easily be modifed with a text editor. A CSV file is generally used to store data that fits in a series or table (like a list or spreadsheet). A spreadsheet application (like Microsoft Excel or Google Sheets) will allow you to view and edit a CSV data in the form of a table.\n",
    "\n",
    "Each row of a CSV file represents a single row of a table. The values in a CSV are separated by commas (with no space between), but other delimiters can be chosen such as a tab or pipe (|). A tab-separated value file is called a TSV file (.tsv). Using tabs or pipes may be preferable if the data being stored contains commas (since this could make it confusing whether a comma is part of a single entry or a delimiter between entries).\n",
    "\n",
    "#### The text contents of a sample CSV file\n",
    "```\n",
    "Username,Login email,Identifier,First name,Last name\n",
    "booker12,rachel@example.com,9012,Rachel,Booker\n",
    "grey07,,2070,Laura,Grey\n",
    "johnson81,,4081,Craig,Johnson\n",
    "jenkins46,mary@example.com,9346,Mary,Jenkins\n",
    "smith79,jamie@example.com,5079,Jamie,Smith\n",
    "```\n",
    "#### The same CSV file represented in Google Sheets:\n",
    "\n",
    "![CSV table view in Google Sheets](https://ithaka-labs.s3.amazonaws.com/static-files/images/tdm/tdmdocs/csv_in_sheets.png)"
   ]
  },
  {
   "cell_type": "markdown",
   "metadata": {},
   "source": [
    "### JavaScript Object Notation (.json)\n",
    "A Javascript Object Notation file is also a text file that can be modified with a text editor. A JSON file stores data in key/value pairs, very similar to a Python dictionary. One of the key benefits of JSON is its compactness which makes it ideal for exchanging data between web browsers and servers.\n",
    "\n",
    "While smaller JSON files can be opened in a text editor, larger files can be difficult to read. Viewing and editing JSON is easier in specialized editors, available online at sites like: \n",
    "\n",
    "* [JSON Formatter](http://jsonformatter.org)\n",
    "* [JSON Editor Online](https://jsoneditoronline.org/)\n",
    "\n",
    "A JSON file has a nested structure, where smaller concepts are grouped under larger ones. Like extensible markup language (.xml), a JSON file can be checked to determine that it is valid (follows the proper format for JSON) and/or well-formed (follows the proper format defined in a specialized example, called a schema). \n",
    "\n",
    "#### The text contents of a sample JSON file\n",
    "\n",
    "```\n",
    "{\n",
    "    \"firstName\": \"Julia\",\n",
    "    \"lastName\": \"Smith\",\n",
    "    \"gender\": \"woman\",\n",
    "    \"age\": 57,\n",
    "    \"address\": {\n",
    "        \"streetAddress\": \"11434\",\n",
    "        \"city\": \"Detroit\",\n",
    "        \"state\": \"Mi\",\n",
    "        \"postalCode\": \"48202\"\n",
    "    },\n",
    "    \"phoneNumbers\": [\n",
    "        { \"type\": \"home\", \"number\": \"7383627627\" }\n",
    "    ]\n",
    "}\n",
    "```\n",
    "#### The same JSON file represented in JSON Editor Online\n",
    "![An image of the JSON file showing the structure](https://ithaka-labs.s3.amazonaws.com/static-files/images/tdm/tdmdocs/json_editor.png)\n"
   ]
  },
  {
   "cell_type": "markdown",
   "metadata": {},
   "source": [
    "## Opening, Reading, and Writing Text Files (.txt) \n",
    "\n",
    "Before we can read or write to a text file, we must open the file. Normally, when we open a file, a new window appears where we can see the file contents. In Python, opening a file means creating a *file object* that references the particular file. When the file has been opened, we can read or write to the file using the file object. Finally, we must close the file. Here are the three steps:\n",
    "\n",
    "1. Open the file using `with open()` using read `r`, write `w`, read+write `r+` or append `a` mode\n",
    "2. Use the `.read()` or `.write()` method on the file object\n",
    "3. Let the code block close which automatically closes the file\n",
    "\n",
    "Let's practice on `sample.txt`, a sample text file."
   ]
  },
  {
   "cell_type": "code",
   "execution_count": null,
   "metadata": {
    "tags": []
   },
   "outputs": [],
   "source": [
    "# Opening a file in read mode\n",
    "with open('./data/sample.txt', 'r') as f: #the path and then read mode\n",
    "    print(f.read())"
   ]
  },
  {
   "cell_type": "markdown",
   "metadata": {},
   "source": [
    "We have created a file object called `f`. The first argument (`'data/sample.txt'`) passed into the `open()` function is a string containing the file name. You can see the sample.txt is in the data directory in the file browser to the left. If your file was called reports.txt, you would replace that argument with `'data/reports.txt'`. The second argument (`'r'`) determines that we are opening the file in \"read\" mode, where the file can be read but not modified. There are four main modes that can be specified when creating a file object:\n",
    "\n",
    "|Argument|Mode Name|Description|\n",
    "|---|---|---|\n",
    "|'r'|read|Reads file but no writing allowed (protects file from modification)|\n",
    "|'w'|write|Writes to file, overwriting any information in the file (saves over the current version of the file)|\n",
    "|'r+'|read+write|Makes the file object available for both reading and writing.|\n",
    "|'a'|append|Appends (or adds) information to the end of the file (new information is added below old information)|"
   ]
  },
  {
   "cell_type": "markdown",
   "metadata": {},
   "source": [
    "### Reading Very Large Text Files (Line by Line)\n",
    "\n",
    "If the file is very large, we may want to read it one line at a time. To read a single line at a time, we can use a for loop instead of the `.read()` method. This is useful when you are working with large files that approach the amount of memory in your computer. This depends on your computer, but is probably about 8 GB or larger. (In a plain text file, that would be roughly 5.5 million pages.)"
   ]
  },
  {
   "cell_type": "code",
   "execution_count": 4,
   "metadata": {
    "execution": {
     "iopub.execute_input": "2025-05-26T16:52:06.497628Z",
     "iopub.status.busy": "2025-05-26T16:52:06.497329Z",
     "iopub.status.idle": "2025-05-26T16:52:06.500854Z",
     "shell.execute_reply": "2025-05-26T16:52:06.500425Z",
     "shell.execute_reply.started": "2025-05-26T16:52:06.497604Z"
    },
    "tags": []
   },
   "outputs": [
    {
     "name": "stdout",
     "output_type": "stream",
     "text": [
      "A text file can have many words in it\n",
      "These words are written on the second line\n",
      "Third line\n",
      "Fourth line\n",
      "Fifth line\n",
      "Sixth line\n",
      "Seventh line\n",
      "Eighth line\n",
      "Ninth line\n",
      "Tenth line. This is the end of the text file!"
     ]
    }
   ],
   "source": [
    "# Opening a file in read mode\n",
    "with open('./data/sample.txt', 'r') as f: #the open() has 2 arguments: the first one is the data path; the second is the mode that we use. The f indicated that it is a file object\n",
    "    for line in f:\n",
    "        print(line, end='') "
   ]
  },
  {
   "cell_type": "markdown",
   "metadata": {},
   "source": [
    "<h4 style=\"color:red; display:inline\">Coding Challenge! &lt; / &gt; </h4>\n",
    "\n",
    "In the data folder is a poem called Adaptation by the 2022 American Poet Laureate, Ada Limón. The file is called `adaptation.txt`. Open the file and print it out line by line.\n",
    "\n",
    "For a more difficult challenge, print the title and author before the poem along with a number for each line."
   ]
  },
  {
   "cell_type": "code",
   "execution_count": 31,
   "metadata": {
    "execution": {
     "iopub.execute_input": "2025-05-26T17:30:13.498319Z",
     "iopub.status.busy": "2025-05-26T17:30:13.498035Z",
     "iopub.status.idle": "2025-05-26T17:30:13.502168Z",
     "shell.execute_reply": "2025-05-26T17:30:13.501584Z",
     "shell.execute_reply.started": "2025-05-26T17:30:13.498299Z"
    }
   },
   "outputs": [
    {
     "name": "stdout",
     "output_type": "stream",
     "text": [
      "1 It was, for a time, a loud twittering flight\n",
      "2 of psychedelic-colored canaries: a cloud\n",
      "3 of startle and get-out in the ornamental\n",
      "4 irons of the rib cage. Nights when the moon\n",
      "5 was wide like the great eye of a universal\n",
      "6 beast coming close for a kill, it was a cave\n",
      "7 of bitten bones and snake skins, eggshell dust,\n",
      "8 and charred scraps of a frozen-over flame.\n",
      "9 All the things it has been: kitchen knife\n",
      "10 and the ancient carp’s frown, cavern of rust\n",
      "11 and worms in the airless tire swing,\n",
      "12 cactus barb, cut-down tree, dead cat\n",
      "13 in the plastic crate. Still, how the great middle\n",
      "14 ticker marched on, and from all its four chambers\n",
      "15 to all its forgiveness, unlocked the sternum’s\n",
      "16 door, reversed and reshaped until it was a new\n",
      "17 bright carnal species, more accustomed to grief,\n",
      "18 and ecstatic at the sight of you.\n"
     ]
    }
   ],
   "source": [
    "# Read and print the poem found in /data/adaptation.txt\n",
    "with open('./data/adaptation.txt', 'r') as f:\n",
    "    i=1\n",
    "    for line in f:\n",
    "        print(f\"{i} {line}\", end=\"\")\n",
    "        i=i+1\n"
   ]
  },
  {
   "cell_type": "code",
   "execution_count": 35,
   "metadata": {
    "execution": {
     "iopub.execute_input": "2025-05-26T17:33:58.063159Z",
     "iopub.status.busy": "2025-05-26T17:33:58.062596Z",
     "iopub.status.idle": "2025-05-26T17:33:58.066508Z",
     "shell.execute_reply": "2025-05-26T17:33:58.066052Z",
     "shell.execute_reply.started": "2025-05-26T17:33:58.063141Z"
    }
   },
   "outputs": [
    {
     "name": "stdout",
     "output_type": "stream",
     "text": [
      "Adaptation\n",
      "Ada Limón\n",
      "\n",
      "1 It was, for a time, a loud twittering flight\n",
      "2 of psychedelic-colored canaries: a cloud\n",
      "3 of startle and get-out in the ornamental\n",
      "4 irons of the rib cage. Nights when the moon\n",
      "5 was wide like the great eye of a universal\n",
      "6 beast coming close for a kill, it was a cave\n",
      "7 of bitten bones and snake skins, eggshell dust,\n",
      "8 and charred scraps of a frozen-over flame.\n",
      "9 All the things it has been: kitchen knife\n",
      "10 and the ancient carp’s frown, cavern of rust\n",
      "11 and worms in the airless tire swing,\n",
      "12 cactus barb, cut-down tree, dead cat\n",
      "13 in the plastic crate. Still, how the great middle\n",
      "14 ticker marched on, and from all its four chambers\n",
      "15 to all its forgiveness, unlocked the sternum’s\n",
      "16 door, reversed and reshaped until it was a new\n",
      "17 bright carnal species, more accustomed to grief,\n",
      "18 and ecstatic at the sight of you.\n"
     ]
    }
   ],
   "source": [
    "# Print the title and author before the poem along with a number for each line\n",
    "with open('./data/adaptation.txt', 'r') as f:\n",
    "    i=1\n",
    "    print(\"Adaptation\")\n",
    "    print(\"Ada Limón\\n\") # the \\n adds a blank line after\n",
    "    for line in f:\n",
    "        print(f\"{i} {line}\", end=\"\")\n",
    "        i=i+1"
   ]
  },
  {
   "cell_type": "markdown",
   "metadata": {},
   "source": [
    "###  Chunking file reading with `.read()` \n",
    "\n",
    "We can also read large files in chunks using `.read()` passing an argument that specifies the number of bytes to read in each chunk."
   ]
  },
  {
   "cell_type": "code",
   "execution_count": 2,
   "metadata": {
    "execution": {
     "iopub.execute_input": "2025-05-29T14:48:38.173027Z",
     "iopub.status.busy": "2025-05-29T14:48:38.172553Z",
     "iopub.status.idle": "2025-05-29T14:48:38.176439Z",
     "shell.execute_reply": "2025-05-29T14:48:38.175988Z",
     "shell.execute_reply.started": "2025-05-29T14:48:38.173009Z"
    },
    "tags": []
   },
   "outputs": [
    {
     "name": "stdout",
     "output_type": "stream",
     "text": [
      "A text\n",
      " file \n",
      "can ha\n",
      "ve man\n",
      "y word\n",
      "s in i\n",
      "t\n",
      "Thes\n",
      "e word\n",
      "s are \n",
      "writte\n",
      "n on t\n",
      "he sec\n",
      "ond li\n",
      "ne\n",
      "Thi\n",
      "rd lin\n",
      "e\n",
      "Four\n",
      "th lin\n",
      "e\n",
      "Fift\n",
      "h line\n",
      "\n",
      "Sixth\n",
      " line\n",
      "\n",
      "Sevent\n",
      "h line\n",
      "\n",
      "Eight\n",
      "h line\n",
      "\n",
      "Ninth\n",
      " line\n",
      "\n",
      "Tenth \n",
      "line. \n",
      "This i\n",
      "s the \n",
      "end of\n",
      " the t\n",
      "ext fi\n",
      "le!\n"
     ]
    }
   ],
   "source": [
    "# Reading a set number of bytes with .read()\n",
    "\n",
    "with open('./data/sample.txt', 'r') as f:\n",
    "    while True: \n",
    "        file_chunk = f.read(6) # Try changing the argument here\n",
    "        if len(file_chunk) > 0:\n",
    "            print(file_chunk)\n",
    "        else: \n",
    "            break #you should always have a break with a while true loop"
   ]
  },
  {
   "cell_type": "markdown",
   "metadata": {},
   "source": [
    "### Writing to and Creating Files with `.write()`\n",
    "The `.write()` method can be used with a file opened in write mode ('w'), read+write mode ('r+), or append mode ('a'). If you try to use the `.write()` method on a file opened in read mode ('r'), the write will fail and you will get a \"not writable\" error."
   ]
  },
  {
   "cell_type": "code",
   "execution_count": 5,
   "metadata": {
    "execution": {
     "iopub.execute_input": "2025-05-26T16:52:28.040151Z",
     "iopub.status.busy": "2025-05-26T16:52:28.039859Z",
     "iopub.status.idle": "2025-05-26T16:52:28.163866Z",
     "shell.execute_reply": "2025-05-26T16:52:28.163093Z",
     "shell.execute_reply.started": "2025-05-26T16:52:28.040129Z"
    },
    "tags": []
   },
   "outputs": [
    {
     "ename": "UnsupportedOperation",
     "evalue": "not writable",
     "output_type": "error",
     "traceback": [
      "\u001b[0;31m---------------------------------------------------------------------------\u001b[0m",
      "\u001b[0;31mUnsupportedOperation\u001b[0m                      Traceback (most recent call last)",
      "Cell \u001b[0;32mIn[5], line 5\u001b[0m\n\u001b[1;32m      1\u001b[0m \u001b[38;5;66;03m# Trying to use `.write()` on a file in read mode\u001b[39;00m\n\u001b[1;32m      2\u001b[0m \u001b[38;5;66;03m# will create an error\u001b[39;00m\n\u001b[1;32m      4\u001b[0m \u001b[38;5;28;01mwith\u001b[39;00m \u001b[38;5;28mopen\u001b[39m(\u001b[38;5;124m'\u001b[39m\u001b[38;5;124m./data/sample.txt\u001b[39m\u001b[38;5;124m'\u001b[39m, \u001b[38;5;124m'\u001b[39m\u001b[38;5;124mr\u001b[39m\u001b[38;5;124m'\u001b[39m) \u001b[38;5;28;01mas\u001b[39;00m f:\n\u001b[0;32m----> 5\u001b[0m     \u001b[43mf\u001b[49m\u001b[38;5;241;43m.\u001b[39;49m\u001b[43mwrite\u001b[49m\u001b[43m(\u001b[49m\u001b[38;5;124;43m'\u001b[39;49m\u001b[38;5;124;43mAdd this text to the file\u001b[39;49m\u001b[38;5;124;43m'\u001b[39;49m\u001b[43m)\u001b[49m \u001b[38;5;66;03m#this generates an error cause we decided to open the data as \"r\" read mode\u001b[39;00m\n",
      "\u001b[0;31mUnsupportedOperation\u001b[0m: not writable"
     ]
    }
   ],
   "source": [
    "# Trying to use `.write()` on a file in read mode\n",
    "# will create an error\n",
    "\n",
    "with open('./data/sample.txt', 'r') as f:\n",
    "    f.write('Add this text to the file') #this generates an error cause we decided to open the data as \"r\" read mode"
   ]
  },
  {
   "cell_type": "markdown",
   "metadata": {},
   "source": [
    "If you want to use the `.write()` method to write to a file, we demonstrate three common modes here: write ('w'), read+write ('r+') and append ('a') mode. \n",
    "\n",
    "**Choose write mode ('w') if:**\n",
    "* You want to create a new text file and/or write data to it\n",
    "* You want to overwrite all data in the file\n",
    "\n",
    "Be careful with write mode, since it will write over any existing file!\n",
    "\n",
    "**Choose read+write mode ('r+') if:**\n",
    "* You need to both read and write data to a file\n",
    "* You are okay overwriting the file if it already exists\n",
    "* You want the file pointer at the beginning of the file\n",
    "\n",
    "Again, be careful with read+write mode ('r+') because it can overwrite existing data.\n",
    "\n",
    "**Choose append mode ('a') if:**\n",
    "* You simply need to add more data to a file\n",
    "* You want to protect existing data in the file from being overwritten\n",
    "\n",
    "There are also additional modes for working with a text file:\n",
    "\n",
    "|Mode|Effect|\n",
    "|---|---|\n",
    "| w | Opens a file for writing only. Overwrites the file if the file exists. If the file does not exist, creates a new file for writing. |\n",
    "| r+ | Opens a file for both reading and writing. The file pointer will be at the beginning of the file. |\n",
    "| a | Opens a file for appending. The file pointer is at the end of the file if the file exists. That is, the file is in the append mode. If the file does not exist, it creates a new file for writing. |\n",
    "| w+ | Opens a file for both writing and reading. Overwrites the existing file if the file exists. If the file does not exist, it creates a new file for reading and writing. |\n",
    "| a+ | Opens a file for both appending and reading. The file pointer is at the end of the file if the file exists. The file opens in the append mode. If the file does not exist, it creates a new file for reading and writing. |"
   ]
  },
  {
   "cell_type": "markdown",
   "metadata": {},
   "source": [
    "#### Create a new file using `.write()` method and write mode ('w')\n",
    "To create a new file, open a new file object in write mode. You may then use the `.write()` method to add some initial data to the file."
   ]
  },
  {
   "cell_type": "code",
   "execution_count": 16,
   "metadata": {
    "execution": {
     "iopub.execute_input": "2025-05-26T16:57:58.086686Z",
     "iopub.status.busy": "2025-05-26T16:57:58.086397Z",
     "iopub.status.idle": "2025-05-26T16:57:58.089726Z",
     "shell.execute_reply": "2025-05-26T16:57:58.089234Z",
     "shell.execute_reply.started": "2025-05-26T16:57:58.086667Z"
    },
    "tags": []
   },
   "outputs": [],
   "source": [
    "# Create a new file and write a string to the file\n",
    "\n",
    "with open('./data/sample_new.txt', 'w') as f: #this is creating a new file (because the file name doesn't exist yet) and opening it in write mode\n",
    "    f.write('Put this string into the new file. ')"
   ]
  },
  {
   "cell_type": "markdown",
   "metadata": {},
   "source": [
    "#### Modifying an existing file with using `.write()` method and read+write mode ('r+') \n",
    "You can read and write to the same file by opening it in read+write mode ('r+'). "
   ]
  },
  {
   "cell_type": "markdown",
   "metadata": {},
   "source": [
    "<h4 style=\"color:red; display:inline\">Coding Challenge! &lt; / &gt; </h4>\n",
    "\n",
    "Open our `sample_new.txt` file, overwrite the word 'Put', the first three characters, with 'Add'."
   ]
  },
  {
   "cell_type": "code",
   "execution_count": 17,
   "metadata": {
    "execution": {
     "iopub.execute_input": "2025-05-26T16:58:00.797071Z",
     "iopub.status.busy": "2025-05-26T16:58:00.796781Z",
     "iopub.status.idle": "2025-05-26T16:58:00.799980Z",
     "shell.execute_reply": "2025-05-26T16:58:00.799538Z",
     "shell.execute_reply.started": "2025-05-26T16:58:00.797051Z"
    },
    "tags": []
   },
   "outputs": [],
   "source": [
    "# Reading and writing to a file using read+write mode\n",
    "with open('./data/sample_new.txt', 'r+') as f: #this is overwriting the file (starting from the beginning)\n",
    "    f.write('Add')"
   ]
  },
  {
   "cell_type": "code",
   "execution_count": 15,
   "metadata": {
    "execution": {
     "iopub.execute_input": "2025-05-26T16:57:54.502918Z",
     "iopub.status.busy": "2025-05-26T16:57:54.502441Z",
     "iopub.status.idle": "2025-05-26T16:57:54.505701Z",
     "shell.execute_reply": "2025-05-26T16:57:54.505235Z",
     "shell.execute_reply.started": "2025-05-26T16:57:54.502898Z"
    }
   },
   "outputs": [],
   "source": [
    "#the difference between \"r+\" and \"w\" is that \"w\" will overwrite everything while \"r+\" will keep most of the original code except the part that is overwriting\n",
    "with open('./data/sample_new.txt', \"w\") as f:\n",
    "    f.write(\"Cut\")"
   ]
  },
  {
   "cell_type": "markdown",
   "metadata": {},
   "source": [
    "#### Appending to an existing file using `.write()` method and append mode ('a')\n",
    "\n",
    "Use the append mode if you want to be sure to preserve existing data in the file. Try appending some text onto the end of a file using append mode ('a')."
   ]
  },
  {
   "cell_type": "markdown",
   "metadata": {},
   "source": [
    "<h4 style=\"color:red; display:inline\">Coding Challenge! &lt; / &gt; </h4>\n",
    "\n",
    "Open our `sample_new.txt` file again. Add a second sentence to the file without overwriting the current file contents."
   ]
  },
  {
   "cell_type": "code",
   "execution_count": 12,
   "metadata": {
    "execution": {
     "iopub.execute_input": "2025-05-26T16:55:13.143062Z",
     "iopub.status.busy": "2025-05-26T16:55:13.142787Z",
     "iopub.status.idle": "2025-05-26T16:55:13.146628Z",
     "shell.execute_reply": "2025-05-26T16:55:13.145846Z",
     "shell.execute_reply.started": "2025-05-26T16:55:13.143041Z"
    }
   },
   "outputs": [],
   "source": [
    "# Appending to a file using the append mode ('a')\n",
    "with open('./data/sample_new.txt', 'a') as f:\n",
    "    f.write(\"I want another string later too\")\n"
   ]
  },
  {
   "cell_type": "markdown",
   "metadata": {},
   "source": [
    "## Opening, Reading, and Writing CSV Files (.csv)\n",
    "CSV file data can be easily opened, read, and written using the `pandas` library. (For large CSV files (>500 mb), you may wish to use the `csv` library to read in a single row at a time to reduce the memory footprint.) Pandas is flexible for working with tabular data, and the process for importing and exporting to CSV is simple."
   ]
  },
  {
   "cell_type": "code",
   "execution_count": 19,
   "metadata": {
    "execution": {
     "iopub.execute_input": "2025-05-26T17:12:00.752978Z",
     "iopub.status.busy": "2025-05-26T17:12:00.752686Z",
     "iopub.status.idle": "2025-05-26T17:12:00.757602Z",
     "shell.execute_reply": "2025-05-26T17:12:00.757096Z",
     "shell.execute_reply.started": "2025-05-26T17:12:00.752957Z"
    },
    "tags": []
   },
   "outputs": [],
   "source": [
    "# Import pandas \n",
    "import pandas as pd #import as pd it means that when we want to use it we only write pd\n",
    "\n",
    "# Create our dataframe\n",
    "df = pd.read_csv('./data/sample.csv')"
   ]
  },
  {
   "cell_type": "code",
   "execution_count": 20,
   "metadata": {
    "execution": {
     "iopub.execute_input": "2025-05-26T17:12:03.657929Z",
     "iopub.status.busy": "2025-05-26T17:12:03.657634Z",
     "iopub.status.idle": "2025-05-26T17:12:03.663256Z",
     "shell.execute_reply": "2025-05-26T17:12:03.662759Z",
     "shell.execute_reply.started": "2025-05-26T17:12:03.657910Z"
    },
    "tags": []
   },
   "outputs": [
    {
     "name": "stdout",
     "output_type": "stream",
     "text": [
      "    Username         Login email  Identifier First name Last name\n",
      "0   booker12  rachel@example.com        9012     Rachel    Booker\n",
      "1     grey07                 NaN        2070      Laura      Grey\n",
      "2  johnson81                 NaN        4081      Craig   Johnson\n",
      "3  jenkins46    mary@example.com        9346       Mary   Jenkins\n",
      "4    smith79   jamie@example.com        5079      Jamie     Smith\n"
     ]
    }
   ],
   "source": [
    "# Display the dataframe\n",
    "print(df)"
   ]
  },
  {
   "cell_type": "markdown",
   "metadata": {},
   "source": [
    "After you've made any necessary changes in Pandas, write the dataframe back to the CSV file. (Remember to always back up your data before writing over the file.)"
   ]
  },
  {
   "cell_type": "code",
   "execution_count": 21,
   "metadata": {
    "execution": {
     "iopub.execute_input": "2025-05-26T17:14:32.135457Z",
     "iopub.status.busy": "2025-05-26T17:14:32.134933Z",
     "iopub.status.idle": "2025-05-26T17:14:32.139281Z",
     "shell.execute_reply": "2025-05-26T17:14:32.138798Z",
     "shell.execute_reply.started": "2025-05-26T17:14:32.135434Z"
    },
    "tags": []
   },
   "outputs": [],
   "source": [
    "# Write data to new file\n",
    "# Keeping the Header but removing the index\n",
    "df.to_csv('./data/new_sample.csv', header=True, index=False) # header=True means that we want to keep the same header, index=False means that we don't want the index number"
   ]
  },
  {
   "cell_type": "markdown",
   "metadata": {},
   "source": [
    "## Opening, Reading, and Writing JSON Files (.json)\n",
    "\n",
    "JSON files use a key/value structure very similar to a Python dictionary. We will start with a Python dictionary called `py_dict` and then write the data to a JSON file using the `json` library."
   ]
  },
  {
   "cell_type": "code",
   "execution_count": 40,
   "metadata": {
    "execution": {
     "iopub.execute_input": "2025-05-26T17:39:31.498683Z",
     "iopub.status.busy": "2025-05-26T17:39:31.498390Z",
     "iopub.status.idle": "2025-05-26T17:39:31.501864Z",
     "shell.execute_reply": "2025-05-26T17:39:31.501325Z",
     "shell.execute_reply.started": "2025-05-26T17:39:31.498664Z"
    },
    "tags": []
   },
   "outputs": [],
   "source": [
    "# Defining sample data in a Python dictionary\n",
    "py_dict = {\n",
    "    \"firstName\": \"Julia\",\n",
    "    \"lastName\": \"Smith\",\n",
    "    \"gender\": \"woman\",\n",
    "    \"age\": 57,\n",
    "    \"address\": {\n",
    "        \"streetAddress\": \"11434\",\n",
    "        \"city\": \"Detroit\",\n",
    "        \"state\": \"Mi\",\n",
    "        \"postalCode\": \"48202\"\n",
    "    },\n",
    "    \"phoneNumber\": \"3133627627\"\n",
    "}"
   ]
  },
  {
   "cell_type": "markdown",
   "metadata": {},
   "source": [
    "To write our dictionary to a JSON file, we will use the `with open` technique we learned that automatically closes file objects. We also need the `json` library to help dump our dictionary data into the file object. The `json.dump` function works a little differently than the write method we saw with text files. \n",
    "\n",
    "We need to specify two arguments: \n",
    "\n",
    "* The data to be dumped\n",
    "* The file object where we are dumping"
   ]
  },
  {
   "cell_type": "code",
   "execution_count": 41,
   "metadata": {
    "execution": {
     "iopub.execute_input": "2025-05-26T17:39:35.588252Z",
     "iopub.status.busy": "2025-05-26T17:39:35.587947Z",
     "iopub.status.idle": "2025-05-26T17:39:35.591421Z",
     "shell.execute_reply": "2025-05-26T17:39:35.590880Z",
     "shell.execute_reply.started": "2025-05-26T17:39:35.588234Z"
    },
    "tags": []
   },
   "outputs": [],
   "source": [
    "# Open/create sample.json in write mode\n",
    "# as the file object `f`. The data in py_dict\n",
    "# is dumped into `f` and then `f` is closed\n",
    "\n",
    "import json\n",
    "with open('./data/sample.json', 'w') as f:\n",
    "    json.dump(py_dict, f) #you dump = write"
   ]
  },
  {
   "cell_type": "markdown",
   "metadata": {},
   "source": [
    "To read data in from a JSON file, we can use the `json.load` function on our file object. Here we load all the content into a variable called `content`. We can then print values based on particular keys."
   ]
  },
  {
   "cell_type": "code",
   "execution_count": 42,
   "metadata": {
    "execution": {
     "iopub.execute_input": "2025-05-26T17:39:46.563549Z",
     "iopub.status.busy": "2025-05-26T17:39:46.563039Z",
     "iopub.status.idle": "2025-05-26T17:39:46.566552Z",
     "shell.execute_reply": "2025-05-26T17:39:46.566099Z",
     "shell.execute_reply.started": "2025-05-26T17:39:46.563530Z"
    },
    "scrolled": true,
    "tags": []
   },
   "outputs": [
    {
     "name": "stdout",
     "output_type": "stream",
     "text": [
      "{'firstName': 'Julia', 'lastName': 'Smith', 'gender': 'woman', 'age': 57, 'address': {'streetAddress': '11434', 'city': 'Detroit', 'state': 'Mi', 'postalCode': '48202'}, 'phoneNumber': '3133627627'}\n"
     ]
    }
   ],
   "source": [
    "# Open the .json file in read mode\n",
    "# and print the loaded contents\n",
    "\n",
    "with open('./data/sample.json', 'r') as f:\n",
    "    print(json.load(f)) #this is a dictionary"
   ]
  },
  {
   "cell_type": "code",
   "execution_count": 43,
   "metadata": {
    "execution": {
     "iopub.execute_input": "2025-05-26T17:39:50.497394Z",
     "iopub.status.busy": "2025-05-26T17:39:50.496879Z",
     "iopub.status.idle": "2025-05-26T17:39:50.500554Z",
     "shell.execute_reply": "2025-05-26T17:39:50.500091Z",
     "shell.execute_reply.started": "2025-05-26T17:39:50.497374Z"
    },
    "tags": []
   },
   "outputs": [],
   "source": [
    "# Load the current data from the file into a dictionary\n",
    "# and add an entry to the dictionary\n",
    "\n",
    "with open('./data/sample.json', 'r') as f:\n",
    "    file_contents = json.load(f)\n",
    "    file_contents['pet'] = 'dog' #this is the same as adding an element to a dictionary\n",
    "\n",
    "# Write the contents of the dictionary over the existing data \n",
    "    \n",
    "with open('./data/sample.json', 'w') as f:  \n",
    "    json.dump(file_contents, f) #this dictionary will overwrite the previous values"
   ]
  },
  {
   "cell_type": "markdown",
   "metadata": {},
   "source": [
    "The `.load()` method creates a Python dictionary from the .json file object. This means that we can query a particular key/value pair after loading the data."
   ]
  },
  {
   "cell_type": "code",
   "execution_count": 36,
   "metadata": {
    "execution": {
     "iopub.execute_input": "2025-05-26T17:37:37.643944Z",
     "iopub.status.busy": "2025-05-26T17:37:37.643410Z",
     "iopub.status.idle": "2025-05-26T17:37:37.647417Z",
     "shell.execute_reply": "2025-05-26T17:37:37.646859Z",
     "shell.execute_reply.started": "2025-05-26T17:37:37.643924Z"
    },
    "tags": []
   },
   "outputs": [
    {
     "name": "stdout",
     "output_type": "stream",
     "text": [
      "dog\n"
     ]
    }
   ],
   "source": [
    "# Load the data from the json file into a dictionary\n",
    "# Check to see if there is value associated with pet\n",
    "\n",
    "with open('./data/sample.json', 'r') as f:\n",
    "    json_contents = json.load(f)\n",
    "    print(json_contents.get('pet'))"
   ]
  },
  {
   "cell_type": "markdown",
   "metadata": {},
   "source": [
    "<h3 style=\"color:red; display:inline\">Coding Challenge! &lt; / &gt; </h3>\n",
    "\n",
    "Add an entry to Julia Smith that indicates her favorite ice cream is chocolate peanut butter."
   ]
  },
  {
   "cell_type": "code",
   "execution_count": 45,
   "metadata": {
    "execution": {
     "iopub.execute_input": "2025-05-26T17:41:30.019459Z",
     "iopub.status.busy": "2025-05-26T17:41:30.018955Z",
     "iopub.status.idle": "2025-05-26T17:41:30.023542Z",
     "shell.execute_reply": "2025-05-26T17:41:30.023062Z",
     "shell.execute_reply.started": "2025-05-26T17:41:30.019437Z"
    }
   },
   "outputs": [
    {
     "name": "stdout",
     "output_type": "stream",
     "text": [
      "{'firstName': 'Julia', 'lastName': 'Smith', 'gender': 'woman', 'age': 57, 'address': {'streetAddress': '11434', 'city': 'Detroit', 'state': 'Mi', 'postalCode': '48202'}, 'phoneNumber': '3133627627', 'pet': 'dog', 'favorite ice cream': 'chocolate peanut butter'}\n"
     ]
    }
   ],
   "source": [
    "# Add an ice cream entry to Julia Smith's record\n",
    "with open('./data/sample.json', 'r') as f:\n",
    "    file_contents = json.load(f) #it puts all of the content of the json file into a variable (file in read mode)\n",
    "    file_contents[\"favorite ice cream\"] = \"chocolate peanut butter\" #it adds to the dict variable a new entry\n",
    "\n",
    "with open('./data/sample.json', 'w') as f: #activate the read mode to add all the content to the file\n",
    "    json.dump(file_contents,f) \n",
    "\n",
    "with open('./data/sample.json', 'r') as f:\n",
    "    print(json.load(f))"
   ]
  },
  {
   "cell_type": "markdown",
   "metadata": {},
   "source": [
    "there's a part here to rewatch: it asked if it is possible to translate a jason file into a tabular data (panda library). Yes it is possible but the real question is how to adapt the data in the correct way."
   ]
  },
  {
   "cell_type": "markdown",
   "metadata": {},
   "source": [
    "## Opening datasets with `constellate` client\n",
    "\n",
    "The `constellate` client helps retrieve a given dataset and/or its associated metadata. The metadata is supplied in a CSV file and the full dataset is supplied in a compressed JSON Lines file (.jsonl.gz). For analysis focused on metadata, we recommend users start with the CSV file since it is both easier and faster to view, parse, and manipulate. If you need access to n-grams or full-text, then you want the full JSON lines file.\n",
    "\n",
    "### Metadata CSV vs. JSON Lines Data File\n",
    "All of the textual data and metadata is available inside of the JSON Lines files, but we have chosen to offer the metadata CSV for two primary reasons:\n",
    "\n",
    "1. The JSON Lines data is a little more complex to parse since it is nested. It cannot be easily represented in a table form in something like Pandas. It is nice to be able to easily view all the metadata in a Pandas dataframe.\n",
    "2. The JSON Lines data can be very large. Each file contains all of the metadata *plus* unigram counts, bigram counts, trigram counts, and full-text (when available). Manipulating all that data takes significant computer time and costs. Even a modest dataset (~5000 files) can be over 1 GB in size uncompressed.\n",
    "\n",
    "### Retrieving sampled data\n",
    "\n",
    "By passing the `constellate` client a dataset ID (here called `dataset_id`), we can automatically download the metadata CSV file or the full JSON Lines dataset created by the [dataset builder](https://constellate.org/builder/). By default, these datasets are randomly sampled to 1500 documents. Experience has shown us that this is the right size for teaching/learning where data loads quickly and still gives interesting results.\n",
    "\n",
    "* Use the `.get_metadata()` method to retrieve the sampled metadata CSV file\n",
    "* Use the `.get_dataset()` method to retrieve the sampled JSON data file\n",
    "\n",
    "|Code|Result|\n",
    "|---|---|\n",
    "|dataset_metadata = constellate.get_metadata(dataset_id)|Automatically retrieves a sampled metadata CSV file and returns a string containing the file location|\n",
    "|dataset_file = constellate.get_dataset(dataset_id)| Automatically retrieves a sampled, compressed JSON Lines dataset file (jsonl.gz) and returns a string containing the file location|"
   ]
  },
  {
   "cell_type": "code",
   "execution_count": null,
   "metadata": {},
   "outputs": [],
   "source": [
    "# Downloading and reading a Constellate dataset\n",
    "# If using locally, pip install constellate-client\n",
    "import constellate\n",
    "from pathlib import Path\n",
    "\n",
    "# Check if a data folder exists. If not, create it.\n",
    "data_folder = Path('./data/')\n",
    "data_folder.mkdir(exist_ok=True)\n",
    "\n",
    "# Setting a dataset ID based on the journal Shakespeare Quarterly.\n",
    "dataset_id = \"2880ef54-b3b5-c0af-2ef1-ad557f236b5e\"\n",
    "\n",
    "# Pull in our dataset CSV using\n",
    "# The .get_metadata() method downloads the CSV file for our metadata\n",
    "# to the /data folder and returns a string for the file name and location\n",
    "# dataset_metadata will be a string containing that file name and location\n",
    "dataset_metadata = constellate.get_metadata(dataset_id)\n",
    "\n",
    "# Pull in the sampled dataset (1500 documents) that matches `dataset_id`\n",
    "# in the form of a gzipped JSON lines file.\n",
    "# The .get_dataset() method downloads the gzipped JSONL file\n",
    "# to the /data folder and returns a string for the file name and location\n",
    "dataset_file = constellate.get_dataset(dataset_id)"
   ]
  },
  {
   "cell_type": "markdown",
   "metadata": {},
   "source": [
    "### Retrieving the full dataset with `constellate` client\n",
    "\n",
    "Researchers wishing to work with larger datasets (up to 25,000 items), first need to request these datasets be built.\n",
    "\n",
    "Then you can request the full dataset using the `constellate.download` method. For more information, see [the Constellate Client reference documentation](https://constellate.org/docs/constellate-client).\n",
    "\n",
    "|Code|Result|\n",
    "|---|---|\n",
    "|dataset_metadata = constellate.download(dataset_id, 'metadata')|Automatically retrieves a full metadata CSV file and returns a string containing the file location|\n",
    "|dataset_file = constellate.download(dataset_id, 'jsonl')| Automatically retrieves the full compressed JSON Lines dataset file (jsonl.gz) and returns a string containing the file location|\n"
   ]
  },
  {
   "cell_type": "code",
   "execution_count": null,
   "metadata": {},
   "outputs": [],
   "source": [
    "# To download the full dataset metadata (up to a limit of 25,000 documents),\n",
    "# request it first in Constellate dashboard. See the Constellate Client\n",
    "# documentation at: https://constellate.org/docs/constellate-client\n",
    "# Then use the `constellate.download` method show below.\n",
    "dataset_metadata = constellate.download(dataset_id, 'metadata')"
   ]
  },
  {
   "cell_type": "code",
   "execution_count": null,
   "metadata": {},
   "outputs": [],
   "source": [
    "# To download the full dataset (up to a limit of 25,000 documents),\n",
    "# request it first in the Constellate dashboard. See the Constellate Client\n",
    "# documentation at: https://constellate.org/docs/constellate-client\n",
    "# Then use the `constellate.download` method show below.\n",
    "dataset_file = constellate.download(dataset_id, 'jsonl')"
   ]
  },
  {
   "cell_type": "markdown",
   "metadata": {},
   "source": [
    "If you would like to work with a CSV file, pass the file object into Pandas `read_csv` function (or download the file to your local machine where you can use your choice of spreadsheet software)."
   ]
  },
  {
   "cell_type": "code",
   "execution_count": null,
   "metadata": {},
   "outputs": [],
   "source": [
    "# Create a pandas dataframe from a metadata CSV file\n",
    "import pandas as pd\n",
    "\n",
    "# Create our dataframe\n",
    "df = pd.read_csv(dataset_metadata)\n",
    "\n",
    "# Preview our dataframe\n",
    "df.head()"
   ]
  },
  {
   "cell_type": "markdown",
   "metadata": {},
   "source": [
    "### Reading in data from a dataset object\n",
    "\n",
    "When working with a Constellate JSON file, it is best to iterate over each line (representing all the data for a given document) using the `dataset_reader` method which will create a generator object. The generator will yield all of the data for one document at a time using `next()`. Alternatively, you can loop through all the documents using a `for` loop.\n",
    "\n",
    "The `dataset_reader()` method will read in data from the compressed JSON dataset file object. By keeping the data in a compressed format and reading in a single line at a time, we reduce the processing time and memory use. These can be substantial for large datasets.\n",
    "\n",
    "The `dataset_reader()` essentially unzips each row/document and loads it into a dictionary. Each dictionary will contain all the metadata and data available for the current document. "
   ]
  },
  {
   "cell_type": "code",
   "execution_count": null,
   "metadata": {},
   "outputs": [],
   "source": [
    "# Create a generator object which can yield one document at a time\n",
    "data_generator = constellate.dataset_reader(dataset_file)"
   ]
  },
  {
   "cell_type": "code",
   "execution_count": null,
   "metadata": {},
   "outputs": [],
   "source": [
    "# Demonstrating this object is a generator\n",
    "type(data_generator)"
   ]
  },
  {
   "cell_type": "code",
   "execution_count": null,
   "metadata": {},
   "outputs": [],
   "source": [
    "# Use the next() function to yield the next result\n",
    "next(data_generator)"
   ]
  },
  {
   "cell_type": "code",
   "execution_count": null,
   "metadata": {},
   "outputs": [],
   "source": [
    "# Using a for loop on the generator\n",
    "for document in data_generator:\n",
    "    print(document.get('creator'))"
   ]
  },
  {
   "cell_type": "markdown",
   "metadata": {},
   "source": [
    "___\n",
    "## Lesson Complete\n",
    "\n",
    "Congratulations! You have completed *Python Intermediate 2*.\n",
    "\n",
    "### Start Next Lesson: [Python Intermediate 3](./python-intermediate-3.ipynb)\n",
    "\n",
    "### Exercise Solutions\n",
    "Here are a few solutions for exercises in this lesson."
   ]
  },
  {
   "cell_type": "code",
   "execution_count": 33,
   "metadata": {
    "execution": {
     "iopub.execute_input": "2025-05-26T17:32:33.496949Z",
     "iopub.status.busy": "2025-05-26T17:32:33.496356Z",
     "iopub.status.idle": "2025-05-26T17:32:33.500301Z",
     "shell.execute_reply": "2025-05-26T17:32:33.499872Z",
     "shell.execute_reply.started": "2025-05-26T17:32:33.496925Z"
    },
    "tags": []
   },
   "outputs": [
    {
     "name": "stdout",
     "output_type": "stream",
     "text": [
      "ADAPTATION\n",
      "Ada Limón\n",
      "\n",
      "1 It was, for a time, a loud twittering flight\n",
      "2 of psychedelic-colored canaries: a cloud\n",
      "3 of startle and get-out in the ornamental\n",
      "4 irons of the rib cage. Nights when the moon\n",
      "5 was wide like the great eye of a universal\n",
      "6 beast coming close for a kill, it was a cave\n",
      "7 of bitten bones and snake skins, eggshell dust,\n",
      "8 and charred scraps of a frozen-over flame.\n",
      "9 All the things it has been: kitchen knife\n",
      "10 and the ancient carp’s frown, cavern of rust\n",
      "11 and worms in the airless tire swing,\n",
      "12 cactus barb, cut-down tree, dead cat\n",
      "13 in the plastic crate. Still, how the great middle\n",
      "14 ticker marched on, and from all its four chambers\n",
      "15 to all its forgiveness, unlocked the sternum’s\n",
      "16 door, reversed and reshaped until it was a new\n",
      "17 bright carnal species, more accustomed to grief,\n",
      "18 and ecstatic at the sight of you.\n"
     ]
    }
   ],
   "source": [
    "# Read and print the poem found in /data/adaptation.txt\n",
    "\n",
    "# Create a variable to store the line\n",
    "line_number = 1\n",
    "\n",
    "print('ADAPTATION')\n",
    "print('Ada Limón\\n')\n",
    "\n",
    "with open('./data/adaptation.txt', 'r') as f:\n",
    "    for line in f:\n",
    "        print(line_number, line, end='')\n",
    "        line_number += 1"
   ]
  },
  {
   "cell_type": "code",
   "execution_count": null,
   "metadata": {},
   "outputs": [],
   "source": [
    "# Reading and writing to a file using read+write mode ('r+')\n",
    "\n",
    "with open('./data/sample_new.txt', 'r+') as f:\n",
    "    f.write('Add')"
   ]
  },
  {
   "cell_type": "code",
   "execution_count": null,
   "metadata": {},
   "outputs": [],
   "source": [
    "# Appending to a file using the append mode ('a')\n",
    "with open('./data/sample_new.txt', 'a') as f:\n",
    "    f.write('A new sentence is added now.')"
   ]
  },
  {
   "cell_type": "code",
   "execution_count": null,
   "metadata": {},
   "outputs": [],
   "source": [
    "# Load the current data from the file into a dictionary\n",
    "# and add an entry to the dictionary\n",
    "\n",
    "with open('./data/sample.json', 'r') as f:\n",
    "    file_contents = json.load(f)\n",
    "    file_contents['favoriteIceCream'] = 'chocolate peanut butter'\n",
    "\n",
    "# Write the contents of the dictionary over the existing data \n",
    "    \n",
    "with open('./data/sample.json', 'w') as f:  \n",
    "    json.dump(file_contents, f)\n",
    "    \n",
    "with open('./data/sample.json', 'r') as f:\n",
    "    json_contents = json.load(f)\n",
    "    print(json_contents.get('favoriteIceCream'))"
   ]
  },
  {
   "cell_type": "code",
   "execution_count": null,
   "metadata": {},
   "outputs": [],
   "source": []
  }
 ],
 "metadata": {
  "kernelspec": {
   "display_name": "Python 3 (ipykernel)",
   "language": "python",
   "name": "python3"
  },
  "language_info": {
   "codemirror_mode": {
    "name": "ipython",
    "version": 3
   },
   "file_extension": ".py",
   "mimetype": "text/x-python",
   "name": "python",
   "nbconvert_exporter": "python",
   "pygments_lexer": "ipython3",
   "version": "3.11.9"
  },
  "toc": {
   "base_numbering": 1,
   "nav_menu": {},
   "number_sections": true,
   "sideBar": true,
   "skip_h1_title": true,
   "title_cell": "Table of Contents",
   "title_sidebar": "Contents",
   "toc_cell": false,
   "toc_position": {
    "height": "calc(100% - 180px)",
    "left": "10px",
    "top": "150px",
    "width": "312px"
   },
   "toc_section_display": true,
   "toc_window_display": false
  }
 },
 "nbformat": 4,
 "nbformat_minor": 4
}
