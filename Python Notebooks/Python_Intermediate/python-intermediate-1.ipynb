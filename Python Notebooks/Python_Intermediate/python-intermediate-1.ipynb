{
 "cells": [
  {
   "cell_type": "markdown",
   "id": "1ccf5448",
   "metadata": {
    "jp-MarkdownHeadingCollapsed": true
   },
   "source": [
    "### Credits:\n",
    "\n",
    "<img align=\"left\" src=\"https://ithaka-labs.s3.amazonaws.com/static-files/images/tdm/tdmdocs/CC_BY.png\"><br />\n",
    "\n",
    "This notebook is created by Zhuo Chen based on the notebooks created by [Nathan Kelber](http://nkelber.com) under [Creative Commons CC BY License](https://creativecommons.org/licenses/by/4.0/)<br />\n",
    "For questions/comments/improvements, email zhuo.chen@ithaka.org or nathan.kelber@ithaka.org<br />\n",
    "\n",
    "Reused and modified for internal use at Università Cattolica del Sacro Cuore di Milano, by Deborah Grbac, email deborah.grbac@unicatt.it and Valentina Schiariti, email valentina.schiariti-collaboratore@unicatt.it, released under CC BY License.\n",
    "\n",
    "This repository is founded on **Constellate notebooks**. The original Jupyter notebooks repository was designed by the educators at **ITHAKA's Constellate project**. The project was sunset on July 1, 2025. This current repository uses and resuses Constellate notebooks as Open Educational Resources (OER), free for re-use under a Creative Commons CC BY License.\n",
    "___"
   ]
  },
  {
   "cell_type": "markdown",
   "id": "cf138ba2",
   "metadata": {},
   "source": [
    "# Python Intermediate 1\n",
    "\n",
    "**Description:** This notebook describes:\n",
    "\n",
    "* What a list comprehension is\n",
    "* What a dictionary comprehension is\n",
    "* What a set comprehension is\n",
    "\n",
    "This is part 1 of 5 in the series *Python Intermediate* that will prepare you to do text analysis using the Python programming language. \n",
    "\n",
    "**Note**: Running this notebook locally will give you full control to test, modify, and save your work. We strongly recommend downloading it before you begin.\n",
    "___"
   ]
  },
  {
   "cell_type": "markdown",
   "id": "982b0625",
   "metadata": {
    "jp-MarkdownHeadingCollapsed": true
   },
   "source": [
    "## What is a Python Comprehension?\n",
    "Comprehensions in Python are constructs that allow us to create new collections (such as lists, sets, or dictionaries) from existing sequences in a concise, single line of code, instead of writing longer loops.\n",
    "\n",
    "Python supports four types of comprehensions:\n",
    "* List comprehensions\n",
    "* Dictionary comprehensions\n",
    "* Set comprehensions\n",
    "* Generator comprehensions "
   ]
  },
  {
   "cell_type": "markdown",
   "id": "048475bc",
   "metadata": {},
   "source": [
    "## List comprehensions\n",
    "### List comprehensions (Integers)"
   ]
  },
  {
   "cell_type": "markdown",
   "id": "7e8ac8a1",
   "metadata": {},
   "source": [
    "Suppose you are a parent of a 4-month-old. You are taking record of your baby's daily milk intake in ounces. Here is your record from last week. "
   ]
  },
  {
   "cell_type": "code",
   "execution_count": 2,
   "id": "0cc2030f",
   "metadata": {
    "tags": []
   },
   "outputs": [],
   "source": [
    "# record of daily milk intake\n",
    "milk = [24, 38, 40, 36, 42, 38, 36]"
   ]
  },
  {
   "cell_type": "markdown",
   "id": "97087744",
   "metadata": {},
   "source": [
    "Your partner is French and is used to the metric system. Your partner wants to convert the numbers into mililiters. \n",
    "\n",
    "1 ounce $\\approx$ 30 mililiters\n",
    "\n",
    "|Operator| Operation| Example | Evaluation |\n",
    "|---|----|---|---|\n",
    "|*| Multiplication | 7 * 8 | 56 |\n",
    "\n",
    "Using the `for` loop such problem can be solved like this: "
   ]
  },
  {
   "cell_type": "code",
   "execution_count": 3,
   "id": "d40aa4ad",
   "metadata": {
    "tags": []
   },
   "outputs": [
    {
     "name": "stdout",
     "output_type": "stream",
     "text": [
      "[720, 1140, 1200, 1080, 1260, 1140, 1080]\n"
     ]
    }
   ],
   "source": [
    "# Create a new list using a for loop\n",
    "\n",
    "new_list = [] # An empty list we will add to\n",
    "\n",
    "for number in milk: #a for loop to iterate through every element of the list\n",
    "    new_list.append(number * 30)  #it appends to the new list each element multiplied by 30\n",
    "\n",
    "print(new_list)"
   ]
  },
  {
   "cell_type": "markdown",
   "id": "0f1fb461",
   "metadata": {},
   "source": [
    "Take a look again at the for loop.\n",
    "```\n",
    "for number in milk:\n",
    "    new_list.append(number * 30)\n",
    "```\n",
    "\n",
    "We can read this as: for ```number``` in ```milk```, append `number` multiplied by 30 to ```new_list```. "
   ]
  },
  {
   "cell_type": "markdown",
   "id": "4c83e5ae",
   "metadata": {},
   "source": [
    "Alternatively, we can also use a **list comprehension** to create a new list. Let's rearrange the above for loop slightly to write a list comprehension.  "
   ]
  },
  {
   "cell_type": "code",
   "execution_count": 4,
   "id": "d619de2d",
   "metadata": {
    "tags": []
   },
   "outputs": [
    {
     "name": "stdout",
     "output_type": "stream",
     "text": [
      "[720, 1140, 1200, 1080, 1260, 1140, 1080]\n"
     ]
    }
   ],
   "source": [
    "# Create a new list of milk intake in mililiters\n",
    "\n",
    "new_list = [number * 30 for number in milk] ## The brackets [] indicate we are creating a list\n",
    "\n",
    "print(new_list)"
   ]
  },
  {
   "cell_type": "markdown",
   "id": "1cb1d8da",
   "metadata": {},
   "source": [
    "We read this as: append ```number``` multiplied by 30, for ```number``` in ```milk```."
   ]
  },
  {
   "cell_type": "markdown",
   "id": "b31654c8",
   "metadata": {},
   "source": [
    "If the order of the comprehension is confusing, it may help to skip the part before the for loop and start with:\n",
    "`for number in milk` then return to the beginning of the comprehension to see what will be appended: `number` * 30."
   ]
  },
  {
   "cell_type": "markdown",
   "id": "b44c7862",
   "metadata": {},
   "source": [
    "We can put them side by side to see the differences and commonalities in syntax: "
   ]
  },
  {
   "cell_type": "markdown",
   "id": "fb001b9c",
   "metadata": {},
   "source": [
    "<img align=\"left\" src=\"https://ithaka-labs.s3.amazonaws.com/static-files/images/tdm/tdmdocs/PythonIntermediate1_forloop.png\" width=\"30%\"/>\n",
    "<img align=\"right\" src=\"https://ithaka-labs.s3.amazonaws.com/static-files/images/tdm/tdmdocs/PythonIntermediate1_listcomprehension.png\" width=\"40%\"/> "
   ]
  },
  {
   "cell_type": "markdown",
   "id": "74b97e17",
   "metadata": {},
   "source": [
    "#### Add a Filtering Condition to Select Items to be Appended\n",
    "\n",
    "If we wanted, we could also add a filtering condition to the for loop.\n",
    "\n",
    "Suppose the daily intake of milk for a 4-month-old as recommended by the AAP is 25 ounces at minimum. "
   ]
  },
  {
   "cell_type": "code",
   "execution_count": 7,
   "id": "ddbaf1fd",
   "metadata": {
    "tags": []
   },
   "outputs": [
    {
     "name": "stdout",
     "output_type": "stream",
     "text": [
      "[24]\n"
     ]
    }
   ],
   "source": [
    "# Write the list comprehension back to a for loop\n",
    "\n",
    "new_list = [] \n",
    "for number in milk:\n",
    "    if number < 25:\n",
    "        new_list.append(number)\n",
    "        \n",
    "print(new_list)"
   ]
  },
  {
   "cell_type": "code",
   "execution_count": 8,
   "id": "abf06135",
   "metadata": {
    "tags": []
   },
   "outputs": [
    {
     "name": "stdout",
     "output_type": "stream",
     "text": [
      "[24]\n"
     ]
    }
   ],
   "source": [
    "# Create a list of the intake numbers that fall short of the recommended minimum quantity\n",
    "\n",
    "new_list = [number for number in milk if number < 25]\n",
    "print(new_list)"
   ]
  },
  {
   "cell_type": "markdown",
   "id": "a4329d00",
   "metadata": {},
   "source": [
    "#### List Comprehensions constructed from other iterables\n",
    "\n",
    "List comprehensions are used to create a list. We have seen examples where we use list comprehensions to create a new list based on an old list. Actually, list comprehensions can be used to create new lists based on **any kind of iterables**. \n",
    "\n",
    "In Python, iterables are the objects whose members can be iterated over in a for loop. Objects like lists, tuples, sets, dictionaries, strings, etc. are called iterables. "
   ]
  },
  {
   "cell_type": "markdown",
   "id": "6b30f2f6",
   "metadata": {},
   "source": [
    "Suppose you are practicing your basketball shooting skills. "
   ]
  },
  {
   "cell_type": "code",
   "execution_count": 10,
   "id": "059eaecc-4f82-4a34-9ae0-0722751c1ee0",
   "metadata": {},
   "outputs": [
    {
     "name": "stdout",
     "output_type": "stream",
     "text": [
      "[1, 0, 0, 1, 0]\n"
     ]
    }
   ],
   "source": [
    "shots = '10010' #this is a string\n",
    "\n",
    "new_list = []\n",
    "for char in shots:\n",
    "    new_list.append(int(char))\n",
    "\n",
    "print(new_list)"
   ]
  },
  {
   "cell_type": "code",
   "execution_count": 11,
   "id": "5ee243d1",
   "metadata": {
    "tags": []
   },
   "outputs": [
    {
     "name": "stdout",
     "output_type": "stream",
     "text": [
      "[1, 0, 0, 1, 0]\n"
     ]
    }
   ],
   "source": [
    "# Create a new list containing your basketball shooting results \n",
    "\n",
    "shots = '10010' #this is a string\n",
    "\n",
    "new_list = [int(char) for char in shots] ## string is an iterable\n",
    "\n",
    "print(new_list)"
   ]
  },
  {
   "cell_type": "code",
   "execution_count": 12,
   "id": "0ebf50fc",
   "metadata": {
    "tags": []
   },
   "outputs": [
    {
     "data": {
      "text/plain": [
       "2"
      ]
     },
     "execution_count": 12,
     "metadata": {},
     "output_type": "execute_result"
    }
   ],
   "source": [
    "# Use sum() to get how many times you have scored\n",
    "\n",
    "sum(new_list)"
   ]
  },
  {
   "cell_type": "markdown",
   "id": "a9da06b5",
   "metadata": {},
   "source": [
    "Integers, however, are not iterable. "
   ]
  },
  {
   "cell_type": "code",
   "execution_count": 13,
   "id": "0e028e16",
   "metadata": {
    "tags": []
   },
   "outputs": [
    {
     "ename": "TypeError",
     "evalue": "'int' object is not iterable",
     "output_type": "error",
     "traceback": [
      "\u001b[31m---------------------------------------------------------------------------\u001b[39m",
      "\u001b[31mTypeError\u001b[39m                                 Traceback (most recent call last)",
      "\u001b[36mCell\u001b[39m\u001b[36m \u001b[39m\u001b[32mIn[13]\u001b[39m\u001b[32m, line 6\u001b[39m\n\u001b[32m      1\u001b[39m \u001b[38;5;66;03m# Creating a new list based on an object that is not an iterable\u001b[39;00m\n\u001b[32m      2\u001b[39m \u001b[38;5;66;03m# results in an error \u001b[39;00m\n\u001b[32m      4\u001b[39m num = \u001b[32m12345\u001b[39m\n\u001b[32m----> \u001b[39m\u001b[32m6\u001b[39m digits = \u001b[43m[\u001b[49m\u001b[43mdigit\u001b[49m\u001b[43m \u001b[49m\u001b[38;5;28;43;01mfor\u001b[39;49;00m\u001b[43m \u001b[49m\u001b[43mdigit\u001b[49m\u001b[43m \u001b[49m\u001b[38;5;129;43;01min\u001b[39;49;00m\u001b[43m \u001b[49m\u001b[43mnum\u001b[49m\u001b[43m \u001b[49m\u001b[38;5;28;43;01mif\u001b[39;49;00m\u001b[43m \u001b[49m\u001b[43mdigit\u001b[49m\u001b[43m \u001b[49m\u001b[43m>\u001b[49m\u001b[43m \u001b[49m\u001b[32;43m3\u001b[39;49m\u001b[43m]\u001b[49m \u001b[38;5;66;03m## integer is not an iterable\u001b[39;00m\n",
      "\u001b[31mTypeError\u001b[39m: 'int' object is not iterable"
     ]
    }
   ],
   "source": [
    "# Creating a new list based on an object that is not an iterable\n",
    "# results in an error \n",
    "\n",
    "num = 12345\n",
    "\n",
    "digits = [digit for digit in num if digit > 3] ## integer is not an iterable"
   ]
  },
  {
   "cell_type": "markdown",
   "id": "799ca1a8",
   "metadata": {},
   "source": [
    "### List Comprehensions (Strings)\n",
    "\n",
    "A list comprehension also works on a list containing other data types, such as strings."
   ]
  },
  {
   "cell_type": "code",
   "execution_count": 14,
   "id": "57f238d1",
   "metadata": {
    "tags": []
   },
   "outputs": [],
   "source": [
    "# Create a list of people\n",
    "\n",
    "people = ['Aaron Aston',\n",
    "         'Brianna Barton',\n",
    "         'Carla Cameron',\n",
    "         'Delia Darcy',\n",
    "         'Evelyn Elgin',\n",
    "         'Frederick Federov',\n",
    "         'Gaston Garbo']"
   ]
  },
  {
   "cell_type": "markdown",
   "id": "7eb27735",
   "metadata": {},
   "source": [
    "Suppose you want to create a new list that only contains the first names. "
   ]
  },
  {
   "cell_type": "code",
   "execution_count": 15,
   "id": "da960a4c",
   "metadata": {
    "tags": []
   },
   "outputs": [
    {
     "name": "stdout",
     "output_type": "stream",
     "text": [
      "['Aaron', 'Brianna', 'Carla', 'Delia', 'Evelyn', 'Frederick', 'Gaston']\n"
     ]
    }
   ],
   "source": [
    "# Create a new list that only includes first names\n",
    "# Using a for loop\n",
    "\n",
    "friends = [] \n",
    "\n",
    "for name in people:\n",
    "    first_name = name.split()[0] # Split the name on whitespace, then grab the first name/item\n",
    "    friends.append(first_name)\n",
    "    \n",
    "print(friends)"
   ]
  },
  {
   "cell_type": "markdown",
   "id": "e6bbb5a0",
   "metadata": {},
   "source": [
    "In this example, we split each name string on whitespace using the `.split()` method. This creates a list of strings from a string."
   ]
  },
  {
   "cell_type": "code",
   "execution_count": 16,
   "id": "b234f1d1",
   "metadata": {
    "tags": []
   },
   "outputs": [
    {
     "data": {
      "text/plain": [
       "['John', 'Doe']"
      ]
     },
     "execution_count": 16,
     "metadata": {},
     "output_type": "execute_result"
    }
   ],
   "source": [
    "# Split a string on white space\n",
    "\n",
    "\"John Doe\".split()"
   ]
  },
  {
   "cell_type": "code",
   "execution_count": 17,
   "id": "59f1d28d",
   "metadata": {
    "tags": []
   },
   "outputs": [
    {
     "data": {
      "text/plain": [
       "'John'"
      ]
     },
     "execution_count": 17,
     "metadata": {},
     "output_type": "execute_result"
    }
   ],
   "source": [
    "# Split a string on white space\n",
    "# Then return only the first item in the list\n",
    "\n",
    "\"John Doe\".split()[0]"
   ]
  },
  {
   "cell_type": "markdown",
   "id": "97b69f76",
   "metadata": {},
   "source": [
    "Use a list comprehension to create a list called `friends` that contains only first names."
   ]
  },
  {
   "cell_type": "code",
   "execution_count": 18,
   "id": "1dbd8e80",
   "metadata": {},
   "outputs": [
    {
     "name": "stdout",
     "output_type": "stream",
     "text": [
      "['Aaron', 'Brianna', 'Carla', 'Delia', 'Evelyn', 'Frederick', 'Gaston']\n"
     ]
    }
   ],
   "source": [
    "# Create a new list that only includes first names\n",
    "# Using a list comprehension\n",
    "friends = [name.split()[0] for name in people]\n",
    "print(friends)"
   ]
  },
  {
   "cell_type": "markdown",
   "id": "b211331f",
   "metadata": {},
   "source": [
    "### List Comprehensions (Multiple Lists)\n",
    "\n",
    "We can also create a list comprehension that pulls from multiple lists by using two for loops within a single list comprehension."
   ]
  },
  {
   "cell_type": "markdown",
   "id": "1866e5da",
   "metadata": {},
   "source": [
    "Scenario: Suppose you are running a restaurant. For the lunch special, you provide different varieties of rice and different protein choices that go with the rice."
   ]
  },
  {
   "cell_type": "code",
   "execution_count": 19,
   "id": "28604420",
   "metadata": {
    "tags": []
   },
   "outputs": [],
   "source": [
    "# Define two lists: rices and proteins\n",
    "rices = [\"white rice\", \"brown rice\", \"yellow rice\"]\n",
    "proteins = [\"beef\", \"pork\", \"chicken\", \"shrimp\", \"lamb\", \"tofu\"] "
   ]
  },
  {
   "cell_type": "code",
   "execution_count": 28,
   "id": "5c69baff",
   "metadata": {
    "execution": {
     "iopub.execute_input": "2025-05-24T15:38:38.082214Z",
     "iopub.status.busy": "2025-05-24T15:38:38.081931Z",
     "iopub.status.idle": "2025-05-24T15:38:38.085704Z",
     "shell.execute_reply": "2025-05-24T15:38:38.085269Z",
     "shell.execute_reply.started": "2025-05-24T15:38:38.082194Z"
    },
    "tags": []
   },
   "outputs": [
    {
     "name": "stdout",
     "output_type": "stream",
     "text": [
      "['white rice with beef',\n",
      " 'white rice with pork',\n",
      " 'white rice with chicken',\n",
      " 'white rice with shrimp',\n",
      " 'white rice with lamb',\n",
      " 'white rice with tofu',\n",
      " 'brown rice with beef',\n",
      " 'brown rice with pork',\n",
      " 'brown rice with chicken',\n",
      " 'brown rice with shrimp',\n",
      " 'brown rice with lamb',\n",
      " 'brown rice with tofu',\n",
      " 'yellow rice with beef',\n",
      " 'yellow rice with pork',\n",
      " 'yellow rice with chicken',\n",
      " 'yellow rice with shrimp',\n",
      " 'yellow rice with lamb',\n",
      " 'yellow rice with tofu']\n"
     ]
    }
   ],
   "source": [
    "# A Nested For Loop Example\n",
    "all_lunch_special_choices = []\n",
    "\n",
    "#we want to create a list with all the different choices composed of each type of rices with each type of protein\n",
    "\n",
    "for rice_choice in rices: #iterates through each type of rice\n",
    "    for protein_choice in proteins: #iterates through each type of protein\n",
    "        all_lunch_special_choices.append(rice_choice + \" with \" + protein_choice)\n",
    "\n",
    "from pprint import pprint \n",
    "pprint(all_lunch_special_choices) # use pprint to print the output in a pretty format"
   ]
  },
  {
   "cell_type": "code",
   "execution_count": 19,
   "id": "afad94b0",
   "metadata": {
    "execution": {
     "iopub.execute_input": "2024-10-01T09:21:06.934006Z",
     "iopub.status.busy": "2024-10-01T09:21:06.933703Z",
     "iopub.status.idle": "2024-10-01T09:21:06.937442Z",
     "shell.execute_reply": "2024-10-01T09:21:06.936902Z",
     "shell.execute_reply.started": "2024-10-01T09:21:06.933980Z"
    },
    "tags": []
   },
   "outputs": [
    {
     "name": "stdout",
     "output_type": "stream",
     "text": [
      "['white rice with beef',\n",
      " 'white rice with pork',\n",
      " 'white rice with chicken',\n",
      " 'white rice with shrimp',\n",
      " 'white rice with lamb',\n",
      " 'white rice with tofu',\n",
      " 'brown rice with beef',\n",
      " 'brown rice with pork',\n",
      " 'brown rice with chicken',\n",
      " 'brown rice with shrimp',\n",
      " 'brown rice with lamb',\n",
      " 'brown rice with tofu',\n",
      " 'yellow rice with beef',\n",
      " 'yellow rice with pork',\n",
      " 'yellow rice with chicken',\n",
      " 'yellow rice with shrimp',\n",
      " 'yellow rice with lamb',\n",
      " 'yellow rice with tofu']\n"
     ]
    }
   ],
   "source": [
    "# Using a list comprehension on two lists\n",
    "# Create a list of all possible combinations of rice and protein\n",
    "\n",
    "all_lunch_special_choices = [rice_choice + \" with \" + protein_choice for rice_choice in rices for protein_choice in proteins]\n",
    "\n",
    "pprint(all_lunch_special_choices)"
   ]
  },
  {
   "cell_type": "markdown",
   "id": "6a31fbe4",
   "metadata": {},
   "source": [
    "The two lists we pull from are independent of each other. You can see that even if we switch the two for loops, the result is still a valid list comprehension. "
   ]
  },
  {
   "cell_type": "code",
   "execution_count": 29,
   "id": "686702a5",
   "metadata": {
    "execution": {
     "iopub.execute_input": "2025-05-24T15:38:48.964266Z",
     "iopub.status.busy": "2025-05-24T15:38:48.963706Z",
     "iopub.status.idle": "2025-05-24T15:38:48.967398Z",
     "shell.execute_reply": "2025-05-24T15:38:48.966934Z",
     "shell.execute_reply.started": "2025-05-24T15:38:48.964247Z"
    },
    "tags": []
   },
   "outputs": [
    {
     "name": "stdout",
     "output_type": "stream",
     "text": [
      "['white rice with beef',\n",
      " 'brown rice with beef',\n",
      " 'yellow rice with beef',\n",
      " 'white rice with pork',\n",
      " 'brown rice with pork',\n",
      " 'yellow rice with pork',\n",
      " 'white rice with chicken',\n",
      " 'brown rice with chicken',\n",
      " 'yellow rice with chicken',\n",
      " 'white rice with shrimp',\n",
      " 'brown rice with shrimp',\n",
      " 'yellow rice with shrimp',\n",
      " 'white rice with lamb',\n",
      " 'brown rice with lamb',\n",
      " 'yellow rice with lamb',\n",
      " 'white rice with tofu',\n",
      " 'brown rice with tofu',\n",
      " 'yellow rice with tofu']\n"
     ]
    }
   ],
   "source": [
    "# Using a list comprehension on two lists\n",
    "# Create a list of all possible combinations of protein and rice\n",
    "\n",
    "all_lunch_special_choices = [rice_choice + \" with \" + protein_choice for protein_choice in proteins for rice_choice in rices]\n",
    "\n",
    "pprint(all_lunch_special_choices)"
   ]
  },
  {
   "cell_type": "markdown",
   "id": "767d7e3a",
   "metadata": {},
   "source": [
    "What if the lists we pull from are not independent of one another? What if one is nested in another? Can we switch the two for loops?"
   ]
  },
  {
   "cell_type": "code",
   "execution_count": 1,
   "id": "39c18524",
   "metadata": {
    "tags": []
   },
   "outputs": [
    {
     "name": "stdout",
     "output_type": "stream",
     "text": [
      "['Abby', 'Bella', 'Cecilia', 'Alex', 'Beatrice', 'Cynthia', 'David']\n"
     ]
    }
   ],
   "source": [
    "# Create a list of all names from nested lists\n",
    "\n",
    "names = [\n",
    "    ['Abby', 'Bella', 'Cecilia'],\n",
    "    ['Alex', 'Beatrice', 'Cynthia', 'David']\n",
    "]\n",
    "\n",
    "all_names = [name for sub_list in names for name in sub_list]\n",
    "print(all_names)"
   ]
  },
  {
   "cell_type": "markdown",
   "id": "74af6020",
   "metadata": {},
   "source": [
    "## Dictionary Comprehension\n",
    "The form of a dictionary comprehension is the same as for a list. Since a dictionary comprehension may deal with keys, values, or both, we need to be prepared to use `.keys()`, `.values()`, or `.items()` (for both)."
   ]
  },
  {
   "cell_type": "code",
   "execution_count": 21,
   "id": "335a87e1",
   "metadata": {
    "tags": []
   },
   "outputs": [],
   "source": [
    "# Create a dictionary of contacts and occupations\n",
    "\n",
    "contacts = {\n",
    " 'Amanda Bennett': 'Engineer, electrical',\n",
    " 'Bryan Miller': 'Radiation protection practitioner',\n",
    " 'Christopher Garrison': 'Planning and development surveyor',\n",
    " 'Debra Allen': 'Intelligence analyst',\n",
    " 'Donna Decker': 'Architect',\n",
    " 'Heather Bullock': 'Media planner',\n",
    " 'Jason Brown': 'Energy manager',\n",
    " 'Jason Soto': 'Lighting technician, broadcasting/film/video',\n",
    " 'Marissa Munoz': 'Further education lecturer',\n",
    " 'Matthew Mccall': 'Chief Technology Officer',\n",
    " 'Michael Norman': 'Translator',\n",
    " 'Nicole Leblanc': 'Financial controller',\n",
    " 'Noah Delgado': 'Engineer, civil',\n",
    " 'Rachel Charles': 'Physicist, medical',\n",
    " 'Stephanie Petty': 'Architect'}"
   ]
  },
  {
   "cell_type": "markdown",
   "id": "7a5ad5f1",
   "metadata": {},
   "source": [
    "When we loop over a dictionary, we will only loop over the keys of the dictionary. "
   ]
  },
  {
   "cell_type": "code",
   "execution_count": 22,
   "id": "c7880711",
   "metadata": {
    "tags": []
   },
   "outputs": [
    {
     "name": "stdout",
     "output_type": "stream",
     "text": [
      "Amanda Bennett\n",
      "Bryan Miller\n",
      "Christopher Garrison\n",
      "Debra Allen\n",
      "Donna Decker\n",
      "Heather Bullock\n",
      "Jason Brown\n",
      "Jason Soto\n",
      "Marissa Munoz\n",
      "Matthew Mccall\n",
      "Michael Norman\n",
      "Nicole Leblanc\n",
      "Noah Delgado\n",
      "Rachel Charles\n",
      "Stephanie Petty\n"
     ]
    }
   ],
   "source": [
    "# Looping over a dictionary only loops the keys\n",
    "for ele in contacts:\n",
    "    print(ele)"
   ]
  },
  {
   "cell_type": "code",
   "execution_count": 23,
   "id": "514f9470",
   "metadata": {
    "tags": []
   },
   "outputs": [
    {
     "name": "stdout",
     "output_type": "stream",
     "text": [
      "Amanda Bennett\n",
      "Bryan Miller\n",
      "Christopher Garrison\n",
      "Debra Allen\n",
      "Donna Decker\n",
      "Heather Bullock\n",
      "Jason Brown\n",
      "Jason Soto\n",
      "Marissa Munoz\n",
      "Matthew Mccall\n",
      "Michael Norman\n",
      "Nicole Leblanc\n",
      "Noah Delgado\n",
      "Rachel Charles\n",
      "Stephanie Petty\n"
     ]
    }
   ],
   "source": [
    "# Looping over a dictionary by specifying .keys()\n",
    "for key in contacts.keys():\n",
    "    print(key)"
   ]
  },
  {
   "cell_type": "markdown",
   "id": "7a3038f7",
   "metadata": {},
   "source": [
    "To loop over both the keys and the values, we will need to use ```dict.items()```."
   ]
  },
  {
   "cell_type": "code",
   "execution_count": 24,
   "id": "a8f83b5d",
   "metadata": {
    "scrolled": true,
    "tags": []
   },
   "outputs": [
    {
     "name": "stdout",
     "output_type": "stream",
     "text": [
      "('Amanda Bennett', 'Engineer, electrical')\n",
      "('Bryan Miller', 'Radiation protection practitioner')\n",
      "('Christopher Garrison', 'Planning and development surveyor')\n",
      "('Debra Allen', 'Intelligence analyst')\n",
      "('Donna Decker', 'Architect')\n",
      "('Heather Bullock', 'Media planner')\n",
      "('Jason Brown', 'Energy manager')\n",
      "('Jason Soto', 'Lighting technician, broadcasting/film/video')\n",
      "('Marissa Munoz', 'Further education lecturer')\n",
      "('Matthew Mccall', 'Chief Technology Officer')\n",
      "('Michael Norman', 'Translator')\n",
      "('Nicole Leblanc', 'Financial controller')\n",
      "('Noah Delgado', 'Engineer, civil')\n",
      "('Rachel Charles', 'Physicist, medical')\n",
      "('Stephanie Petty', 'Architect')\n"
     ]
    }
   ],
   "source": [
    "# Looping over a dictionary by specifying .items()\n",
    "for item in contacts.items():\n",
    "    print(item)"
   ]
  },
  {
   "cell_type": "markdown",
   "id": "6044beae",
   "metadata": {},
   "source": [
    "Note that each key/value pair is returned as a tuple. A tuple is very similar to a Python list (some commands can be used as well); the difference is that a tuple cannot be modified. The technical term in Python is immutable. \n",
    "\n",
    "* A list is mutable (can be changed)\n",
    "* A tuple is immutable (cannot be changed)\n",
    "\n",
    "We can further distinguish between them by the fact that:\n",
    "\n",
    "* A list uses hard brackets `[]`\n",
    "* A tuple uses parentheses `()`."
   ]
  },
  {
   "cell_type": "markdown",
   "id": "efe151b5",
   "metadata": {},
   "source": [
    "We can create a new dictionary from the original dictionary using a for loop to iterate through the key/value pairs. The for loop format is similar to a list except we need to use an index to refer to the key or value of the tuple."
   ]
  },
  {
   "cell_type": "code",
   "execution_count": 25,
   "id": "b6be014a",
   "metadata": {
    "tags": []
   },
   "outputs": [
    {
     "name": "stdout",
     "output_type": "stream",
     "text": [
      "{'Amanda Bennett': 'Engineer, electrical', 'Noah Delgado': 'Engineer, civil'}\n"
     ]
    }
   ],
   "source": [
    "# Create a new dictionary that only contains the engineers \n",
    "# Using a for loop\n",
    "\n",
    "engineer_contacts = {}\n",
    "#empty dictionary\n",
    "\n",
    "for ele in contacts.items():\n",
    "    if 'Engineer' in ele[1]: #it checks the second element of each tuple (same as a list); we write in ele[0] because there are different types of engeneers\n",
    "        engineer_contacts[ele[0]] = ele[1] #this is how we add the key value pair to a dictionary\n",
    "    \n",
    "print(engineer_contacts)"
   ]
  },
  {
   "cell_type": "code",
   "execution_count": 4,
   "id": "587f0e3a",
   "metadata": {
    "tags": []
   },
   "outputs": [
    {
     "data": {
      "text/plain": [
       "'John Doe'"
      ]
     },
     "execution_count": 4,
     "metadata": {},
     "output_type": "execute_result"
    }
   ],
   "source": [
    "# Use index to access the elements in a tuple\n",
    "\n",
    "person = (\"John Doe\", \"Engineer, mechanical\")\n",
    "person[0]"
   ]
  },
  {
   "cell_type": "code",
   "execution_count": 9,
   "id": "16088d4d",
   "metadata": {
    "execution": {
     "iopub.execute_input": "2025-05-25T16:03:51.851464Z",
     "iopub.status.busy": "2025-05-25T16:03:51.850956Z",
     "iopub.status.idle": "2025-05-25T16:03:51.854320Z",
     "shell.execute_reply": "2025-05-25T16:03:51.853849Z",
     "shell.execute_reply.started": "2025-05-25T16:03:51.851447Z"
    },
    "tags": []
   },
   "outputs": [
    {
     "name": "stdout",
     "output_type": "stream",
     "text": [
      "{'John': 90, 'Mary': 95, 'Sue': 98}\n"
     ]
    }
   ],
   "source": [
    "# A quick reminder of how to add key/value pairs to a dictionary\n",
    "\n",
    "grades = {'John': 90, 'Mary': 95}\n",
    "grades['Sue'] = 98\n",
    "print(grades)"
   ]
  },
  {
   "cell_type": "code",
   "execution_count": 11,
   "id": "283dfb42",
   "metadata": {
    "execution": {
     "iopub.execute_input": "2025-05-25T16:05:39.152335Z",
     "iopub.status.busy": "2025-05-25T16:05:39.152048Z",
     "iopub.status.idle": "2025-05-25T16:05:39.155653Z",
     "shell.execute_reply": "2025-05-25T16:05:39.155194Z",
     "shell.execute_reply.started": "2025-05-25T16:05:39.152319Z"
    },
    "tags": []
   },
   "outputs": [
    {
     "name": "stdout",
     "output_type": "stream",
     "text": [
      "{'Amanda Bennett': 'Engineer, electrical', 'Noah Delgado': 'Engineer, civil'}\n"
     ]
    }
   ],
   "source": [
    "# Use a dictionary comprehension to iterate through the (key, value) tuples of the items in a dictionary\n",
    "# Add each key:value pair to a new dictionary engineer_contacts\n",
    "\n",
    "engineer_contacts = {ele[0]:ele[1] for ele in contacts.items() if 'Engineer' in ele[1]} #ele[0]:ele[1] is the key value pair\n",
    "from pprint import pprint\n",
    "pprint(engineer_contacts)"
   ]
  },
  {
   "cell_type": "markdown",
   "id": "3f9372c2",
   "metadata": {},
   "source": [
    "Instead of using indices with each tuple, we can also give variable names to the keys and values respectively."
   ]
  },
  {
   "cell_type": "code",
   "execution_count": 15,
   "id": "914d22ff",
   "metadata": {
    "execution": {
     "iopub.execute_input": "2025-05-25T16:07:55.648702Z",
     "iopub.status.busy": "2025-05-25T16:07:55.648418Z",
     "iopub.status.idle": "2025-05-25T16:07:55.652236Z",
     "shell.execute_reply": "2025-05-25T16:07:55.651729Z",
     "shell.execute_reply.started": "2025-05-25T16:07:55.648686Z"
    },
    "scrolled": true,
    "tags": []
   },
   "outputs": [
    {
     "name": "stdout",
     "output_type": "stream",
     "text": [
      "{'Amanda Bennett': 'Engineer, electrical', 'Noah Delgado': 'Engineer, civil'}\n"
     ]
    }
   ],
   "source": [
    "# Use key/value variable names for each tuple\n",
    "# For loop example\n",
    "\n",
    "engineer_contacts = {} \n",
    "\n",
    "for (name, occupation) in contacts.items(): \n",
    "    if 'Engineer' in occupation:\n",
    "        engineer_contacts[name] = occupation\n",
    "\n",
    "pprint(engineer_contacts)      "
   ]
  },
  {
   "cell_type": "markdown",
   "id": "251b41d2-3008-4512-ba06-2aadc739be2e",
   "metadata": {},
   "source": [
    "Note that when we assign the keys and values to the two variables `name` and `occupation`, we use parentheses to indicate that each pair is a tuple. However, the parentheses are not obligatory. You can remove them and the code will still work. "
   ]
  },
  {
   "cell_type": "code",
   "execution_count": 16,
   "id": "25b6dfd8",
   "metadata": {
    "execution": {
     "iopub.execute_input": "2025-05-25T16:08:04.463187Z",
     "iopub.status.busy": "2025-05-25T16:08:04.462684Z",
     "iopub.status.idle": "2025-05-25T16:08:04.466602Z",
     "shell.execute_reply": "2025-05-25T16:08:04.465977Z",
     "shell.execute_reply.started": "2025-05-25T16:08:04.463170Z"
    },
    "tags": []
   },
   "outputs": [
    {
     "name": "stdout",
     "output_type": "stream",
     "text": [
      "{'Amanda Bennett': 'Engineer, electrical', 'Noah Delgado': 'Engineer, civil'}\n"
     ]
    }
   ],
   "source": [
    "# Using key/value variable names for each tuple\n",
    "# Dictionary comprehension example\n",
    "\n",
    "engineer_contacts = {name : occupation for (name, occupation) in contacts.items() if 'Engineer' in occupation}\n",
    "pprint(engineer_contacts)"
   ]
  },
  {
   "cell_type": "markdown",
   "id": "533fc542",
   "metadata": {},
   "source": [
    "In the section on list comrehensions, we saw that we can use list comprehensions to create a list from any kind of iterables. The same is true for dictionary comprehensions. We can use dictionary comprehensions to create a new dictionary based on any kind of iterables, not necessarily an old dictionary.   "
   ]
  },
  {
   "cell_type": "code",
   "execution_count": 17,
   "id": "d98a7396",
   "metadata": {
    "execution": {
     "iopub.execute_input": "2025-05-25T16:19:39.067383Z",
     "iopub.status.busy": "2025-05-25T16:19:39.066874Z",
     "iopub.status.idle": "2025-05-25T16:19:39.070528Z",
     "shell.execute_reply": "2025-05-25T16:19:39.070029Z",
     "shell.execute_reply.started": "2025-05-25T16:19:39.067365Z"
    },
    "tags": []
   },
   "outputs": [
    {
     "name": "stdout",
     "output_type": "stream",
     "text": [
      "{'more': 4, 'is': 2, 'said': 4, 'than': 4, 'done': 4}\n"
     ]
    }
   ],
   "source": [
    "# Create a dictionary based on a list of word strings\n",
    "# where keys are the words and values are the lengths of the words\n",
    "# for loop example\n",
    "\n",
    "words = ['more', 'is', 'said', 'than', 'done']\n",
    "\n",
    "word_length = {}\n",
    "\n",
    "for w in words:\n",
    "    word_length[w] = len(w)\n",
    "    \n",
    "print(word_length)  "
   ]
  },
  {
   "cell_type": "code",
   "execution_count": 18,
   "id": "700b6d41",
   "metadata": {
    "execution": {
     "iopub.execute_input": "2025-05-25T16:19:39.071671Z",
     "iopub.status.busy": "2025-05-25T16:19:39.071485Z",
     "iopub.status.idle": "2025-05-25T16:19:39.077681Z",
     "shell.execute_reply": "2025-05-25T16:19:39.077195Z",
     "shell.execute_reply.started": "2025-05-25T16:19:39.071656Z"
    },
    "tags": []
   },
   "outputs": [
    {
     "name": "stdout",
     "output_type": "stream",
     "text": [
      "{'more': 4, 'is': 2, 'said': 4, 'than': 4, 'done': 4}\n"
     ]
    }
   ],
   "source": [
    "# Create a dictionary of word/word length pairs based on a list of word strings\n",
    "# using a dictionary comprehension\n",
    "\n",
    "word_length = {w : len(w) for w in words}\n",
    "print(word_length)"
   ]
  },
  {
   "cell_type": "markdown",
   "id": "7b2d3896",
   "metadata": {},
   "source": [
    "## Set comprehension\n",
    "\n",
    "Sets in Python are written with curly braces. Curly braces `{}` are used for both dictionaries and sets in Python. Which one is created depends on whether we supply the associated value or not. We can use the `type()` function to discover what kind of object a variable is."
   ]
  },
  {
   "cell_type": "code",
   "execution_count": 30,
   "id": "b883d659",
   "metadata": {
    "execution": {
     "iopub.execute_input": "2025-05-25T16:35:12.306112Z",
     "iopub.status.busy": "2025-05-25T16:35:12.305606Z",
     "iopub.status.idle": "2025-05-25T16:35:12.309739Z",
     "shell.execute_reply": "2025-05-25T16:35:12.309105Z",
     "shell.execute_reply.started": "2025-05-25T16:35:12.306095Z"
    },
    "tags": []
   },
   "outputs": [
    {
     "data": {
      "text/plain": [
       "set"
      ]
     },
     "execution_count": 30,
     "metadata": {},
     "output_type": "execute_result"
    }
   ],
   "source": [
    "# Demonstrating a set\n",
    "# One data entry per comma in curly braces\n",
    "\n",
    "test_set = {1, 2, 3}\n",
    "type(test_set)"
   ]
  },
  {
   "cell_type": "code",
   "execution_count": 31,
   "id": "be983613",
   "metadata": {
    "execution": {
     "iopub.execute_input": "2025-05-25T16:35:14.171212Z",
     "iopub.status.busy": "2025-05-25T16:35:14.170713Z",
     "iopub.status.idle": "2025-05-25T16:35:14.174941Z",
     "shell.execute_reply": "2025-05-25T16:35:14.174277Z",
     "shell.execute_reply.started": "2025-05-25T16:35:14.171195Z"
    },
    "tags": []
   },
   "outputs": [
    {
     "data": {
      "text/plain": [
       "dict"
      ]
     },
     "execution_count": 31,
     "metadata": {},
     "output_type": "execute_result"
    }
   ],
   "source": [
    "# Demonstrating a dictionary\n",
    "# Two data entries separated by a colon per each comma in curly braces\n",
    "\n",
    "test_dict = {1 : 'apple', 2 : 'banana', 3 : 'cherry'}\n",
    "type(test_dict)"
   ]
  },
  {
   "cell_type": "markdown",
   "id": "56eb5af3",
   "metadata": {},
   "source": [
    "To create an empty set, we use the `set()` function. By default, empty curly braces will create an empty dictionary. "
   ]
  },
  {
   "cell_type": "code",
   "execution_count": 32,
   "id": "d78bbd89",
   "metadata": {
    "execution": {
     "iopub.execute_input": "2025-05-25T16:38:30.067568Z",
     "iopub.status.busy": "2025-05-25T16:38:30.067280Z",
     "iopub.status.idle": "2025-05-25T16:38:30.070896Z",
     "shell.execute_reply": "2025-05-25T16:38:30.070402Z",
     "shell.execute_reply.started": "2025-05-25T16:38:30.067551Z"
    },
    "tags": []
   },
   "outputs": [
    {
     "name": "stdout",
     "output_type": "stream",
     "text": [
      "test_set is a <class 'set'>\n",
      "test_dict is a <class 'dict'>\n"
     ]
    }
   ],
   "source": [
    "# Demonstrating creation of empty dict vs empty set\n",
    "\n",
    "test_set = set()\n",
    "test_dict = {}\n",
    "\n",
    "print(f'test_set is a {type(test_set)}')\n",
    "print(f'test_dict is a {type(test_dict)}')"
   ]
  },
  {
   "cell_type": "code",
   "execution_count": 33,
   "id": "962fe488",
   "metadata": {
    "execution": {
     "iopub.execute_input": "2025-05-25T16:38:34.171254Z",
     "iopub.status.busy": "2025-05-25T16:38:34.170663Z",
     "iopub.status.idle": "2025-05-25T16:38:34.174478Z",
     "shell.execute_reply": "2025-05-25T16:38:34.173995Z",
     "shell.execute_reply.started": "2025-05-25T16:38:34.171231Z"
    },
    "tags": []
   },
   "outputs": [
    {
     "name": "stdout",
     "output_type": "stream",
     "text": [
      "{8, 9, 6, 7}\n"
     ]
    }
   ],
   "source": [
    "# Using a for loop with a set\n",
    "\n",
    "set1 = {5, 6, 7, 8, 9}\n",
    "set2 = set() ## note how we initialize an empty set\n",
    "for num in set1:\n",
    "    if num > 5:\n",
    "        set2.add(num) # note how we add a new element to a set\n",
    "print(set2)"
   ]
  },
  {
   "cell_type": "code",
   "execution_count": 34,
   "id": "f4c568a1",
   "metadata": {
    "execution": {
     "iopub.execute_input": "2025-05-25T16:38:36.862434Z",
     "iopub.status.busy": "2025-05-25T16:38:36.862149Z",
     "iopub.status.idle": "2025-05-25T16:38:36.865646Z",
     "shell.execute_reply": "2025-05-25T16:38:36.865124Z",
     "shell.execute_reply.started": "2025-05-25T16:38:36.862415Z"
    },
    "tags": []
   },
   "outputs": [
    {
     "name": "stdout",
     "output_type": "stream",
     "text": [
      "{8, 9, 6, 7}\n"
     ]
    }
   ],
   "source": [
    "# Using a set comprehension\n",
    "\n",
    "set2 = {num for num in set1 if num > 5}\n",
    "print(set2) "
   ]
  },
  {
   "cell_type": "markdown",
   "id": "cf2fb530",
   "metadata": {},
   "source": [
    "A set is an unordered collection of distinct objects. If you change the order of the elements or list an element more than once, that does not change the set. "
   ]
  },
  {
   "cell_type": "code",
   "execution_count": 35,
   "id": "a14ae2c1",
   "metadata": {
    "execution": {
     "iopub.execute_input": "2025-05-25T16:38:39.526267Z",
     "iopub.status.busy": "2025-05-25T16:38:39.525988Z",
     "iopub.status.idle": "2025-05-25T16:38:39.529921Z",
     "shell.execute_reply": "2025-05-25T16:38:39.529370Z",
     "shell.execute_reply.started": "2025-05-25T16:38:39.526249Z"
    }
   },
   "outputs": [
    {
     "data": {
      "text/plain": [
       "True"
      ]
     },
     "execution_count": 35,
     "metadata": {},
     "output_type": "execute_result"
    }
   ],
   "source": [
    "# Using a comparison operator on two sets\n",
    "# Same elements in different order\n",
    "\n",
    "{1,2} == {2,1}"
   ]
  },
  {
   "cell_type": "code",
   "execution_count": 36,
   "id": "741a048b",
   "metadata": {
    "execution": {
     "iopub.execute_input": "2025-05-25T16:38:45.348687Z",
     "iopub.status.busy": "2025-05-25T16:38:45.348409Z",
     "iopub.status.idle": "2025-05-25T16:38:45.352336Z",
     "shell.execute_reply": "2025-05-25T16:38:45.351835Z",
     "shell.execute_reply.started": "2025-05-25T16:38:45.348670Z"
    }
   },
   "outputs": [
    {
     "data": {
      "text/plain": [
       "True"
      ]
     },
     "execution_count": 36,
     "metadata": {},
     "output_type": "execute_result"
    }
   ],
   "source": [
    "# Using a comparison operator on two sets\n",
    "# Repeated elements in a set\n",
    "\n",
    "{1,1,2} == {1,2}"
   ]
  },
  {
   "cell_type": "code",
   "execution_count": 38,
   "id": "588ce81b",
   "metadata": {
    "execution": {
     "iopub.execute_input": "2025-05-25T16:38:55.305747Z",
     "iopub.status.busy": "2025-05-25T16:38:55.305471Z",
     "iopub.status.idle": "2025-05-25T16:38:55.308689Z",
     "shell.execute_reply": "2025-05-25T16:38:55.308200Z",
     "shell.execute_reply.started": "2025-05-25T16:38:55.305729Z"
    }
   },
   "outputs": [
    {
     "name": "stdout",
     "output_type": "stream",
     "text": [
      "{1, 2}\n"
     ]
    }
   ],
   "source": [
    "# Printing a set with duplicates\n",
    "# Duplicates are removed automatically\n",
    "\n",
    "print({1, 1, 2})"
   ]
  },
  {
   "cell_type": "markdown",
   "id": "7457cc5e",
   "metadata": {},
   "source": [
    "Again, we can use set comprehensions to create a new set based on any kind of iterables that have been defined. "
   ]
  },
  {
   "cell_type": "code",
   "execution_count": 41,
   "id": "91220bfc",
   "metadata": {
    "execution": {
     "iopub.execute_input": "2025-05-25T16:39:56.341975Z",
     "iopub.status.busy": "2025-05-25T16:39:56.341700Z",
     "iopub.status.idle": "2025-05-25T16:39:56.345297Z",
     "shell.execute_reply": "2025-05-25T16:39:56.344809Z",
     "shell.execute_reply.started": "2025-05-25T16:39:56.341957Z"
    }
   },
   "outputs": [
    {
     "name": "stdout",
     "output_type": "stream",
     "text": [
      "{'Amanda Bennett',\n",
      " 'Bryan Miller',\n",
      " 'Christopher Garrison',\n",
      " 'Debra Allen',\n",
      " 'Donna Decker',\n",
      " 'Heather Bullock',\n",
      " 'Jason Brown',\n",
      " 'Jason Soto',\n",
      " 'Marissa Munoz',\n",
      " 'Matthew Mccall',\n",
      " 'Michael Norman',\n",
      " 'Nicole Leblanc',\n",
      " 'Noah Delgado',\n",
      " 'Rachel Charles',\n",
      " 'Stephanie Petty'}\n"
     ]
    }
   ],
   "source": [
    "# Create a new set containing only the names from the dictionary of contacts\n",
    "\n",
    "names = {name for name in contacts}\n",
    "\n",
    "pprint(names)"
   ]
  },
  {
   "cell_type": "markdown",
   "id": "c47aa9e3-7e9a-4499-b9c3-b8b6e630514b",
   "metadata": {},
   "source": [
    "___\n",
    "## Lesson Complete"
   ]
  },
  {
   "cell_type": "code",
   "execution_count": null,
   "id": "95f7041c-07f9-4d40-a605-f0c554bba56c",
   "metadata": {},
   "outputs": [],
   "source": []
  }
 ],
 "metadata": {
  "kernelspec": {
   "display_name": "Python 3 (ipykernel)",
   "language": "python",
   "name": "python3"
  },
  "language_info": {
   "codemirror_mode": {
    "name": "ipython",
    "version": 3
   },
   "file_extension": ".py",
   "mimetype": "text/x-python",
   "name": "python",
   "nbconvert_exporter": "python",
   "pygments_lexer": "ipython3",
   "version": "3.13.5"
  },
  "toc": {
   "base_numbering": 1,
   "nav_menu": {},
   "number_sections": true,
   "sideBar": true,
   "skip_h1_title": true,
   "title_cell": "Table of Contents",
   "title_sidebar": "Contents",
   "toc_cell": false,
   "toc_position": {},
   "toc_section_display": true,
   "toc_window_display": false
  }
 },
 "nbformat": 4,
 "nbformat_minor": 5
}
