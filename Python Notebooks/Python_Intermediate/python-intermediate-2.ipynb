{
 "cells": [
  {
   "cell_type": "markdown",
   "metadata": {},
   "source": [
    "### Credits:\n",
    "\n",
    "<img align=\"left\" src=\"https://ithaka-labs.s3.amazonaws.com/static-files/images/tdm/tdmdocs/CC_BY.png\"><br />\n",
    "\n",
    "This notebook is created by Zhuo Chen based on the notebooks created by [Nathan Kelber](http://nkelber.com) under [Creative Commons CC BY License](https://creativecommons.org/licenses/by/4.0/)<br />\n",
    "For questions/comments/improvements, email zhuo.chen@ithaka.org or nathan.kelber@ithaka.org<br />\n",
    "\n",
    "Reused and modified for internal use at Università Cattolica del Sacro Cuore di Milano, by Deborah Grbac, email deborah.grbac@unicatt.it and Valentina Schiariti, email valentina.schiariti-collaboratore@unicatt.it, released under CC BY License.\n",
    "\n",
    "This repository is founded on **Constellate notebooks**. The original Jupyter notebooks repository was designed by the educators at **ITHAKA's Constellate project**. The project was sunset on July 1, 2025. This current repository uses and resuses Constellate notebooks as Open Educational Resources (OER), free for re-use under a Creative Commons CC BY License.\n",
    "___\n"
   ]
  },
  {
   "attachments": {},
   "cell_type": "markdown",
   "metadata": {},
   "source": [
    "# Python Intermediate 2\n",
    "\n",
    "**Description:** This notebook describes how to:\n",
    "* Some of the files you can use in Python (.txt, .csv, .json)\n",
    "* How to read files in Python\n",
    "* How to write and modify files in Python\n",
    "\n",
    "This is part 2 of 5 in the series *Python Intermediate* that will prepare you to do text analysis using the Python programming language. \n",
    "\n",
    "**Note**: Running this notebook locally will give you full control to test, modify, and save your work. We strongly recommend downloading it before you begin.\n",
    "\n",
    "____\n"
   ]
  },
  {
   "cell_type": "markdown",
   "metadata": {},
   "source": [
    "We will import some sample files from ithaka labs in order to perform this notebook's activities."
   ]
  },
  {
   "cell_type": "code",
   "execution_count": 2,
   "metadata": {
    "tags": []
   },
   "outputs": [
    {
     "name": "stdout",
     "output_type": "stream",
     "text": [
      "Sample files ready.\n"
     ]
    }
   ],
   "source": [
    "### Download Sample Files for this Lesson\n",
    "import urllib.request\n",
    "from pathlib import Path\n",
    "\n",
    "# Check if a data folder exists. If not, create it.\n",
    "data_folder = Path('./data/') #creates a data folder in the directory\n",
    "data_folder.mkdir(exist_ok=True)\n",
    "\n",
    "download_urls = [\n",
    "    'https://ithaka-labs.s3.amazonaws.com/static-files/images/tdm/tdmdocs/sample.csv',\n",
    "    'https://ithaka-labs.s3.amazonaws.com/static-files/images/tdm/tdmdocs/sample.txt',\n",
    "    'https://ithaka-labs.s3.amazonaws.com/static-files/images/tdm/tdmdocs/adaptation.txt'\n",
    "]\n",
    "\n",
    "for url in download_urls:\n",
    "    urllib.request.urlretrieve(url, './data/' + url.rsplit('/', 1)[-1])\n",
    "    \n",
    "print('Sample files ready.')"
   ]
  },
  {
   "cell_type": "markdown",
   "metadata": {},
   "source": [
    "## Files in Python\n",
    "Working with files is an essential part of Python programming. When we execute code in Python, we manipulate data through the use of variables. When the program is closed, however, any data stored in those variables is erased. To save the information stored in variables, we must learn **how to write it to a file**.\n",
    "\n",
    "At the same time, we may have notebooks for applying specific analyses, but we need to have a way to bring data into the notebook for analysis. Otherwise, we would have to type all the data into the program ourselves! Both reading-in from files and writing-out data to files are important skills for data science and the digital humanities.\n",
    "\n",
    "This section describes how to work with three kinds of common data files in Python:\n",
    "* **Plain Text Files (.txt)**\n",
    "* **Comma-Separated Value files (.csv)**\n",
    "* **Javascript Object Notation files (.json)**\n",
    "\n",
    "Each of these filetypes are in wide use in data science, digital humanities, and general programming. "
   ]
  },
  {
   "cell_type": "markdown",
   "metadata": {},
   "source": [
    "## Three Common Data File Types"
   ]
  },
  {
   "cell_type": "markdown",
   "metadata": {
    "jp-MarkdownHeadingCollapsed": true
   },
   "source": [
    "### Plain Text Files (.txt)\n",
    "A plain text file is one of the simplest kinds of computer files. Plain text files can be opened with a text editor like Notepad (Windows 10) or TextEdit (OS X). The file can contain only **basic textual characters** such as letters, numbers, spaces, and line breaks. Plain text files do not contain styling such as heading sizes, italic, bold, or specialized fonts. (To including styling in a text file, writers may use other file formats such as rich text format (.rtf) or markdown (.md).)\n",
    "\n",
    "Plain text files (.txt) can be easily viewed and modified by humans by changing the text within. This is an important distinction from binary files such as images (.jpg), archives (.gzip), audio (.wav), or video (.mp4). If a binary file is opened with a text editor, the content will be largely unreadable."
   ]
  },
  {
   "cell_type": "markdown",
   "metadata": {},
   "source": [
    "### Comma-Separated Value Files (.csv)\n",
    "A comma-separated value file is also a text file that can easily be modifed with a text editor. A CSV file is generally used to **store data that fits in a series or table**(like a list or spreadsheet). A spreadsheet application (like Microsoft Excel or Google Sheets) will allow you to view and edit a CSV data in the form of a table.\n",
    "\n",
    "Each row of a CSV file represents a single row of a table. The values in a CSV are separated by commas (with no space between), but other delimiters can be chosen such as a tab or pipe (|). A tab-separated value file is called a TSV file (.tsv). Using tabs or pipes may be preferable if the data being stored contains commas (since this could make it confusing whether a comma is part of a single entry or a delimiter between entries).\n",
    "\n",
    "#### The text contents of a sample CSV file\n",
    "```\n",
    "Username,Login email,Identifier,First name,Last name\n",
    "booker12,rachel@example.com,9012,Rachel,Booker\n",
    "grey07,,2070,Laura,Grey\n",
    "johnson81,,4081,Craig,Johnson\n",
    "jenkins46,mary@example.com,9346,Mary,Jenkins\n",
    "smith79,jamie@example.com,5079,Jamie,Smith\n",
    "```\n",
    "#### The same CSV file represented in Google Sheets:\n",
    "\n",
    "![CSV table view in Google Sheets](https://ithaka-labs.s3.amazonaws.com/static-files/images/tdm/tdmdocs/csv_in_sheets.png)"
   ]
  },
  {
   "cell_type": "markdown",
   "metadata": {
    "jp-MarkdownHeadingCollapsed": true
   },
   "source": [
    "### JavaScript Object Notation (.json)\n",
    "A Javascript Object Notation file is also a text file that can be modified with a text editor. A JSON file **stores data in key/value pairs**, very similar to a Python dictionary. One of the key benefits of JSON is its compactness which makes it ideal for exchanging data between web browsers and servers.\n",
    "\n",
    "While smaller JSON files can be opened in a text editor, larger files can be difficult to read. Viewing and editing JSON is easier in specialized editors, available online at sites like: \n",
    "\n",
    "* [JSON Formatter](http://jsonformatter.org)\n",
    "* [JSON Editor Online](https://jsoneditoronline.org/)\n",
    "\n",
    "A JSON file has a **nested structure**, where smaller concepts are grouped under larger ones. Like extensible markup language (.xml), a JSON file can be checked to determine that it is valid (follows the proper format for JSON) and/or well-formed (follows the proper format defined in a specialized example, called a schema). \n",
    "\n",
    "#### The text contents of a sample JSON file\n",
    "\n",
    "```\n",
    "{\n",
    "    \"firstName\": \"Julia\",\n",
    "    \"lastName\": \"Smith\",\n",
    "    \"gender\": \"woman\",\n",
    "    \"age\": 57,\n",
    "    \"address\": {\n",
    "        \"streetAddress\": \"11434\",\n",
    "        \"city\": \"Detroit\",\n",
    "        \"state\": \"Mi\",\n",
    "        \"postalCode\": \"48202\"\n",
    "    },\n",
    "    \"phoneNumbers\": [\n",
    "        { \"type\": \"home\", \"number\": \"7383627627\" }\n",
    "    ]\n",
    "}\n",
    "```\n",
    "\n",
    "We see how keys such as *address* and *phone numbers* have multiple values attached to them.\n",
    "\n",
    "#### The same JSON file represented in JSON Editor Online\n",
    "![An image of the JSON file showing the structure](https://ithaka-labs.s3.amazonaws.com/static-files/images/tdm/tdmdocs/json_editor.png)\n"
   ]
  },
  {
   "cell_type": "markdown",
   "metadata": {},
   "source": [
    "## Opening, Reading, and Writing Text Files (.txt) \n",
    "\n",
    "Before we can read or write to a text file, we must open the file. Normally, when we open a file, a new window appears where we can see the file contents. In Python, opening a file means creating a *file object* that references the particular file. When the file has been opened, we can read or write to the file using the file object. Finally, we must close the file. Here are the three steps:\n",
    "\n",
    "1. Open the file using `with open()` using read `r`, write `w`, read+write `r+` or append `a` mode\n",
    "2. Use the `.read()` or `.write()` method on the file object\n",
    "3. Let the code block close which automatically closes the file\n",
    "\n",
    "Let's practice on `sample.txt`, a sample text file."
   ]
  },
  {
   "cell_type": "code",
   "execution_count": 1,
   "metadata": {
    "tags": []
   },
   "outputs": [
    {
     "name": "stdout",
     "output_type": "stream",
     "text": [
      "A text file can have many words in it\n",
      "These words are written on the second line\n",
      "Third line\n",
      "Fourth line\n",
      "Fifth line\n",
      "Sixth line\n",
      "Seventh line\n",
      "Eighth line\n",
      "Ninth line\n",
      "Tenth line. This is the end of the text file!\n"
     ]
    }
   ],
   "source": [
    "# Opening a file in read mode\n",
    "with open('./data/sample.txt', 'r') as f: #the path and then read mode\n",
    "    print(f.read())"
   ]
  },
  {
   "cell_type": "markdown",
   "metadata": {},
   "source": [
    "We have created a file object called `f`. The first argument (`'data/sample.txt'`) passed into the `open()` function is a string containing the file name. You can see the sample.txt is in the data directory in the file browser to the left. If your file was called reports.txt, you would replace that argument with `'data/reports.txt'`. The second argument (`'r'`) determines that we are opening the file in \"read\" mode, where the file can be read but not modified. There are four main modes that can be specified when creating a file object:\n",
    "\n",
    "|Argument|Mode Name|Description|\n",
    "|---|---|---|\n",
    "|'r'|read|Reads file but no writing allowed (protects file from modification)|\n",
    "|'w'|write|Writes to file, overwriting any information in the file (saves over the current version of the file)|\n",
    "|'r+'|read+write|Makes the file object available for both reading and writing.|\n",
    "|'a'|append|Appends (or adds) information to the end of the file (new information is added below old information)|"
   ]
  },
  {
   "cell_type": "markdown",
   "metadata": {},
   "source": [
    "### Reading Very Large Text Files (Line by Line)\n",
    "\n",
    "If the file is very large, we may want to read it one line at a time. To read a single line at a time, we can use a for loop instead of the `.read()` method. This is useful when you are working with large files that approach the amount of memory in your computer. This depends on your computer, but is probably about 8 GB or larger. (In a plain text file, that would be roughly 5.5 million pages.)"
   ]
  },
  {
   "cell_type": "code",
   "execution_count": 4,
   "metadata": {
    "execution": {
     "iopub.execute_input": "2025-05-26T16:52:06.497628Z",
     "iopub.status.busy": "2025-05-26T16:52:06.497329Z",
     "iopub.status.idle": "2025-05-26T16:52:06.500854Z",
     "shell.execute_reply": "2025-05-26T16:52:06.500425Z",
     "shell.execute_reply.started": "2025-05-26T16:52:06.497604Z"
    },
    "tags": []
   },
   "outputs": [
    {
     "name": "stdout",
     "output_type": "stream",
     "text": [
      "A text file can have many words in it\n",
      "These words are written on the second line\n",
      "Third line\n",
      "Fourth line\n",
      "Fifth line\n",
      "Sixth line\n",
      "Seventh line\n",
      "Eighth line\n",
      "Ninth line\n",
      "Tenth line. This is the end of the text file!"
     ]
    }
   ],
   "source": [
    "# Opening a file in read mode\n",
    "with open('./data/sample.txt', 'r') as f: #the open() has 2 arguments: the first one is the data path; the second is the mode that we use. The f indicated that it is a file object\n",
    "    for line in f:\n",
    "        print(line, end='') "
   ]
  },
  {
   "cell_type": "markdown",
   "metadata": {},
   "source": [
    "In the data folder is a poem called Adaptation by the 2022 American Poet Laureate, Ada Limón. The file is called `adaptation.txt`. Open the file and print it out line by line.\n",
    "\n",
    "For a more difficult challenge, print the title and author before the poem along with a number for each line."
   ]
  },
  {
   "cell_type": "code",
   "execution_count": 2,
   "metadata": {},
   "outputs": [
    {
     "name": "stdout",
     "output_type": "stream",
     "text": [
      "1 It was, for a time, a loud twittering flight\n",
      "2 of psychedelic-colored canaries: a cloud\n",
      "3 of startle and get-out in the ornamental\n",
      "4 irons of the rib cage. Nights when the moon\n",
      "5 was wide like the great eye of a universal\n",
      "6 beast coming close for a kill, it was a cave\n",
      "7 of bitten bones and snake skins, eggshell dust,\n",
      "8 and charred scraps of a frozen-over flame.\n",
      "9 All the things it has been: kitchen knife\n",
      "10 and the ancient carpâ€™s frown, cavern of rust\n",
      "11 and worms in the airless tire swing,\n",
      "12 cactus barb, cut-down tree, dead cat\n",
      "13 in the plastic crate. Still, how the great middle\n",
      "14 ticker marched on, and from all its four chambers\n",
      "15 to all its forgiveness, unlocked the sternumâ€™s\n",
      "16 door, reversed and reshaped until it was a new\n",
      "17 bright carnal species, more accustomed to grief,\n",
      "18 and ecstatic at the sight of you.\n"
     ]
    }
   ],
   "source": [
    "# Read and print the poem found in /data/adaptation.txt\n",
    "with open('./data/adaptation.txt', 'r') as f:\n",
    "    i=1\n",
    "    for line in f:\n",
    "        print(f\"{i} {line}\", end=\"\")\n",
    "        i=i+1\n"
   ]
  },
  {
   "cell_type": "code",
   "execution_count": 35,
   "metadata": {
    "execution": {
     "iopub.execute_input": "2025-05-26T17:33:58.063159Z",
     "iopub.status.busy": "2025-05-26T17:33:58.062596Z",
     "iopub.status.idle": "2025-05-26T17:33:58.066508Z",
     "shell.execute_reply": "2025-05-26T17:33:58.066052Z",
     "shell.execute_reply.started": "2025-05-26T17:33:58.063141Z"
    }
   },
   "outputs": [
    {
     "name": "stdout",
     "output_type": "stream",
     "text": [
      "Adaptation\n",
      "Ada Limón\n",
      "\n",
      "1 It was, for a time, a loud twittering flight\n",
      "2 of psychedelic-colored canaries: a cloud\n",
      "3 of startle and get-out in the ornamental\n",
      "4 irons of the rib cage. Nights when the moon\n",
      "5 was wide like the great eye of a universal\n",
      "6 beast coming close for a kill, it was a cave\n",
      "7 of bitten bones and snake skins, eggshell dust,\n",
      "8 and charred scraps of a frozen-over flame.\n",
      "9 All the things it has been: kitchen knife\n",
      "10 and the ancient carp’s frown, cavern of rust\n",
      "11 and worms in the airless tire swing,\n",
      "12 cactus barb, cut-down tree, dead cat\n",
      "13 in the plastic crate. Still, how the great middle\n",
      "14 ticker marched on, and from all its four chambers\n",
      "15 to all its forgiveness, unlocked the sternum’s\n",
      "16 door, reversed and reshaped until it was a new\n",
      "17 bright carnal species, more accustomed to grief,\n",
      "18 and ecstatic at the sight of you.\n"
     ]
    }
   ],
   "source": [
    "# Print the title and author before the poem along with a number for each line\n",
    "with open('./data/adaptation.txt', 'r') as f:\n",
    "    i=1\n",
    "    print(\"Adaptation\")\n",
    "    print(\"Ada Limón\\n\") # the \\n adds a blank line after\n",
    "    for line in f:\n",
    "        print(f\"{i} {line}\", end=\"\")\n",
    "        i=i+1"
   ]
  },
  {
   "cell_type": "markdown",
   "metadata": {},
   "source": [
    "###  Chunking file reading with `.read()` \n",
    "\n",
    "We can also read large files in chunks using `.read()` passing an argument that specifies the number of bytes to read in each chunk."
   ]
  },
  {
   "cell_type": "code",
   "execution_count": 2,
   "metadata": {
    "execution": {
     "iopub.execute_input": "2025-05-29T14:48:38.173027Z",
     "iopub.status.busy": "2025-05-29T14:48:38.172553Z",
     "iopub.status.idle": "2025-05-29T14:48:38.176439Z",
     "shell.execute_reply": "2025-05-29T14:48:38.175988Z",
     "shell.execute_reply.started": "2025-05-29T14:48:38.173009Z"
    },
    "tags": []
   },
   "outputs": [
    {
     "name": "stdout",
     "output_type": "stream",
     "text": [
      "A text\n",
      " file \n",
      "can ha\n",
      "ve man\n",
      "y word\n",
      "s in i\n",
      "t\n",
      "Thes\n",
      "e word\n",
      "s are \n",
      "writte\n",
      "n on t\n",
      "he sec\n",
      "ond li\n",
      "ne\n",
      "Thi\n",
      "rd lin\n",
      "e\n",
      "Four\n",
      "th lin\n",
      "e\n",
      "Fift\n",
      "h line\n",
      "\n",
      "Sixth\n",
      " line\n",
      "\n",
      "Sevent\n",
      "h line\n",
      "\n",
      "Eight\n",
      "h line\n",
      "\n",
      "Ninth\n",
      " line\n",
      "\n",
      "Tenth \n",
      "line. \n",
      "This i\n",
      "s the \n",
      "end of\n",
      " the t\n",
      "ext fi\n",
      "le!\n"
     ]
    }
   ],
   "source": [
    "# Reading a set number of bytes with .read()\n",
    "\n",
    "with open('./data/sample.txt', 'r') as f:\n",
    "    while True: \n",
    "        file_chunk = f.read(6) # Try changing the argument here\n",
    "        if len(file_chunk) > 0:\n",
    "            print(file_chunk)\n",
    "        else: \n",
    "            break #you should always have a break with a while true loop"
   ]
  },
  {
   "cell_type": "markdown",
   "metadata": {},
   "source": [
    "### Writing to and Creating Files with `.write()`\n",
    "The `.write()` method can be used with a file opened in write mode ('w'), read+write mode ('r+), or append mode ('a'). If you try to use the `.write()` method on a file opened in read mode ('r'), the write will fail and you will get a \"not writable\" error."
   ]
  },
  {
   "cell_type": "code",
   "execution_count": 5,
   "metadata": {
    "execution": {
     "iopub.execute_input": "2025-05-26T16:52:28.040151Z",
     "iopub.status.busy": "2025-05-26T16:52:28.039859Z",
     "iopub.status.idle": "2025-05-26T16:52:28.163866Z",
     "shell.execute_reply": "2025-05-26T16:52:28.163093Z",
     "shell.execute_reply.started": "2025-05-26T16:52:28.040129Z"
    },
    "tags": []
   },
   "outputs": [
    {
     "ename": "UnsupportedOperation",
     "evalue": "not writable",
     "output_type": "error",
     "traceback": [
      "\u001b[0;31m---------------------------------------------------------------------------\u001b[0m",
      "\u001b[0;31mUnsupportedOperation\u001b[0m                      Traceback (most recent call last)",
      "Cell \u001b[0;32mIn[5], line 5\u001b[0m\n\u001b[1;32m      1\u001b[0m \u001b[38;5;66;03m# Trying to use `.write()` on a file in read mode\u001b[39;00m\n\u001b[1;32m      2\u001b[0m \u001b[38;5;66;03m# will create an error\u001b[39;00m\n\u001b[1;32m      4\u001b[0m \u001b[38;5;28;01mwith\u001b[39;00m \u001b[38;5;28mopen\u001b[39m(\u001b[38;5;124m'\u001b[39m\u001b[38;5;124m./data/sample.txt\u001b[39m\u001b[38;5;124m'\u001b[39m, \u001b[38;5;124m'\u001b[39m\u001b[38;5;124mr\u001b[39m\u001b[38;5;124m'\u001b[39m) \u001b[38;5;28;01mas\u001b[39;00m f:\n\u001b[0;32m----> 5\u001b[0m     \u001b[43mf\u001b[49m\u001b[38;5;241;43m.\u001b[39;49m\u001b[43mwrite\u001b[49m\u001b[43m(\u001b[49m\u001b[38;5;124;43m'\u001b[39;49m\u001b[38;5;124;43mAdd this text to the file\u001b[39;49m\u001b[38;5;124;43m'\u001b[39;49m\u001b[43m)\u001b[49m \u001b[38;5;66;03m#this generates an error cause we decided to open the data as \"r\" read mode\u001b[39;00m\n",
      "\u001b[0;31mUnsupportedOperation\u001b[0m: not writable"
     ]
    }
   ],
   "source": [
    "# Trying to use `.write()` on a file in read mode\n",
    "# will create an error\n",
    "\n",
    "with open('./data/sample.txt', 'r') as f:\n",
    "    f.write('Add this text to the file') #this generates an error cause we decided to open the data as \"r\" read mode"
   ]
  },
  {
   "cell_type": "markdown",
   "metadata": {},
   "source": [
    "If you want to use the `.write()` method to write to a file, we demonstrate three common modes here: write ('w'), read+write ('r+') and append ('a') mode. \n",
    "\n",
    "**Choose write mode ('w') if:**\n",
    "* You want to create a new text file and/or write data to it\n",
    "* You want to overwrite all data in the file\n",
    "\n",
    "Be careful with write mode, since it will write over any existing file!\n",
    "\n",
    "**Choose read+write mode ('r+') if:**\n",
    "* You need to both read and write data to a file\n",
    "* You are okay overwriting the file if it already exists\n",
    "* You want the file pointer at the beginning of the file\n",
    "\n",
    "Again, be careful with read+write mode ('r+') because it can overwrite existing data.\n",
    "\n",
    "**Choose append mode ('a') if:**\n",
    "* You simply need to add more data to a file\n",
    "* You want to protect existing data in the file from being overwritten\n",
    "\n",
    "There are also additional modes for working with a text file:\n",
    "\n",
    "|Mode|Effect|\n",
    "|---|---|\n",
    "| w | Opens a file for writing only. Overwrites the file if the file exists. If the file does not exist, creates a new file for writing. |\n",
    "| r+ | Opens a file for both reading and writing. The file pointer will be at the beginning of the file. |\n",
    "| a | Opens a file for appending. The file pointer is at the end of the file if the file exists. That is, the file is in the append mode. If the file does not exist, it creates a new file for writing. |\n",
    "| w+ | Opens a file for both writing and reading. Overwrites the existing file if the file exists. If the file does not exist, it creates a new file for reading and writing. |\n",
    "| a+ | Opens a file for both appending and reading. The file pointer is at the end of the file if the file exists. The file opens in the append mode. If the file does not exist, it creates a new file for reading and writing. |"
   ]
  },
  {
   "cell_type": "markdown",
   "metadata": {},
   "source": [
    "#### Create a new file using `.write()` method and write mode ('w')\n",
    "To create a new file, open a new file object in write mode. You may then use the `.write()` method to add some initial data to the file."
   ]
  },
  {
   "cell_type": "code",
   "execution_count": 3,
   "metadata": {
    "tags": []
   },
   "outputs": [],
   "source": [
    "# Create a new file and write a string to the file\n",
    "\n",
    "with open('./data/sample_new.txt', 'w') as f: #this is creating a new file (because the file name doesn't exist yet) and opening it in write mode\n",
    "    f.write('Put this string into the new file. ')"
   ]
  },
  {
   "cell_type": "markdown",
   "metadata": {},
   "source": [
    "#### Modifying an existing file with using `.write()` method and read+write mode ('r+') \n",
    "You can read and write to the same file by opening it in read+write mode ('r+'). "
   ]
  },
  {
   "cell_type": "code",
   "execution_count": 6,
   "metadata": {
    "tags": []
   },
   "outputs": [],
   "source": [
    "# Reading and writing to a file using read+write mode\n",
    "with open('./data/sample_new.txt', 'r+') as f: #this is overwriting the file (starting from the beginning)\n",
    "    f.write('Add')"
   ]
  },
  {
   "cell_type": "code",
   "execution_count": 7,
   "metadata": {},
   "outputs": [],
   "source": [
    "# Writing to a file using write mode\n",
    "with open('./data/sample_new.txt', \"w\") as f:\n",
    "    f.write(\"Cut\")"
   ]
  },
  {
   "cell_type": "markdown",
   "metadata": {},
   "source": [
    "The difference between \"r+\" and \"w\" is that the \"w\" mode will overwrite everything with the string in the `.write( )` method; the \"r+\" will keep most of the original code except the part that is overwriting, starting from the beggining of the file"
   ]
  },
  {
   "cell_type": "markdown",
   "metadata": {},
   "source": [
    "#### Appending to an existing file using `.write()` method and append mode ('a')\n",
    "\n",
    "We might want to use the append mode when we want to be sure to preserve existing data in the file while adding something new: "
   ]
  },
  {
   "cell_type": "code",
   "execution_count": 12,
   "metadata": {
    "execution": {
     "iopub.execute_input": "2025-05-26T16:55:13.143062Z",
     "iopub.status.busy": "2025-05-26T16:55:13.142787Z",
     "iopub.status.idle": "2025-05-26T16:55:13.146628Z",
     "shell.execute_reply": "2025-05-26T16:55:13.145846Z",
     "shell.execute_reply.started": "2025-05-26T16:55:13.143041Z"
    }
   },
   "outputs": [],
   "source": [
    "# Appending to a file using the append mode ('a')\n",
    "with open('./data/sample_new.txt', 'a') as f:\n",
    "    f.write(\"I want another string later too\")\n"
   ]
  },
  {
   "cell_type": "markdown",
   "metadata": {},
   "source": [
    "## Opening, Reading, and Writing CSV Files (.csv)\n",
    "CSV file data can be easily opened, read, and written using the `pandas` library. (For large CSV files (>500 mb), you may wish to use the `csv` library to read in a single row at a time to reduce the memory footprint.) Pandas is flexible for working with tabular data, and the process for importing and exporting to CSV is simple."
   ]
  },
  {
   "cell_type": "code",
   "execution_count": null,
   "metadata": {},
   "outputs": [],
   "source": [
    "!pip install pandas"
   ]
  },
  {
   "cell_type": "code",
   "execution_count": 16,
   "metadata": {
    "tags": []
   },
   "outputs": [],
   "source": [
    "# Import pandas \n",
    "import pandas as pd #import as pd gives it a shorter alias \"pd\".\n",
    "\n",
    "# Create our dataframe\n",
    "df = pd.read_csv('./data/sample.csv')"
   ]
  },
  {
   "cell_type": "code",
   "execution_count": 14,
   "metadata": {
    "tags": []
   },
   "outputs": [
    {
     "name": "stdout",
     "output_type": "stream",
     "text": [
      "    Username         Login email  Identifier First name Last name\n",
      "0   booker12  rachel@example.com        9012     Rachel    Booker\n",
      "1     grey07                 NaN        2070      Laura      Grey\n",
      "2  johnson81                 NaN        4081      Craig   Johnson\n",
      "3  jenkins46    mary@example.com        9346       Mary   Jenkins\n",
      "4    smith79   jamie@example.com        5079      Jamie     Smith\n"
     ]
    }
   ],
   "source": [
    "# Display the dataframe\n",
    "print(df)"
   ]
  },
  {
   "cell_type": "markdown",
   "metadata": {},
   "source": [
    "After you've made any necessary changes in Pandas, write the dataframe back to the CSV file. (Remember to always back up your data before writing over the file.)"
   ]
  },
  {
   "cell_type": "code",
   "execution_count": 15,
   "metadata": {
    "tags": []
   },
   "outputs": [],
   "source": [
    "# Write data to new file\n",
    "# Keeping the Header but removing the index\n",
    "df.to_csv('./data/new_sample.csv', header=True, index=False) # header=True means that we want to keep the same header, index=False means that we don't want the index number"
   ]
  },
  {
   "cell_type": "markdown",
   "metadata": {},
   "source": [
    "## Opening, Reading, and Writing JSON Files (.json)\n",
    "\n",
    "JSON files use a key/value structure very similar to a Python dictionary. We will start with a Python dictionary called `py_dict` and then write the data to a JSON file using the `json` library."
   ]
  },
  {
   "cell_type": "code",
   "execution_count": 20,
   "metadata": {
    "tags": []
   },
   "outputs": [],
   "source": [
    "# Defining sample data in a Python dictionary\n",
    "py_dict = {\n",
    "    \"firstName\": \"Julia\",\n",
    "    \"lastName\": \"Smith\",\n",
    "    \"gender\": \"woman\",\n",
    "    \"age\": 57,\n",
    "    \"address\": {\n",
    "        \"streetAddress\": \"11434\",\n",
    "        \"city\": \"Detroit\",\n",
    "        \"state\": \"Mi\",\n",
    "        \"postalCode\": \"48202\"\n",
    "    },\n",
    "    \"phoneNumber\": \"3133627627\"\n",
    "}"
   ]
  },
  {
   "cell_type": "markdown",
   "metadata": {},
   "source": [
    "To write our dictionary to a JSON file, we will use the `with open` technique we learned that automatically closes file objects. We also need the `json` library to help dump our dictionary data into the file object. The `json.dump` function works a little differently than the write method we saw with text files. \n",
    "\n",
    "We need to specify two arguments: \n",
    "\n",
    "* The data to be dumped\n",
    "* The file object where we are dumping"
   ]
  },
  {
   "cell_type": "code",
   "execution_count": 21,
   "metadata": {
    "tags": []
   },
   "outputs": [],
   "source": [
    "# Open/create sample.json in write mode\n",
    "# as the file object `f`. The data in py_dict\n",
    "# is dumped into `f` and then `f` is closed\n",
    "\n",
    "import json\n",
    "with open('./data/sample.json', 'w') as f:\n",
    "    json.dump(py_dict, f) #you dump = write"
   ]
  },
  {
   "cell_type": "markdown",
   "metadata": {},
   "source": [
    "To read data in from a JSON file, we can use the `json.load` function on our file object. Here we load all the content into a variable called `content`. We can then print values based on particular keys."
   ]
  },
  {
   "cell_type": "code",
   "execution_count": 22,
   "metadata": {
    "tags": []
   },
   "outputs": [
    {
     "name": "stdout",
     "output_type": "stream",
     "text": [
      "{'firstName': 'Julia', 'lastName': 'Smith', 'gender': 'woman', 'age': 57, 'address': {'streetAddress': '11434', 'city': 'Detroit', 'state': 'Mi', 'postalCode': '48202'}, 'phoneNumber': '3133627627'}\n"
     ]
    }
   ],
   "source": [
    "# Open the .json file in read mode\n",
    "# and print the loaded contents\n",
    "\n",
    "with open('./data/sample.json', 'r') as f:\n",
    "    print(json.load(f)) #this is a dictionary"
   ]
  },
  {
   "cell_type": "code",
   "execution_count": 23,
   "metadata": {
    "tags": []
   },
   "outputs": [],
   "source": [
    "# Load the current data from the file into a dictionary\n",
    "# and add an entry to the dictionary\n",
    "\n",
    "with open('./data/sample.json', 'r') as f:\n",
    "    file_contents = json.load(f)\n",
    "    file_contents['pet'] = 'dog' #this is the same as adding an element to a dictionary\n",
    "\n",
    "# Write the contents of the dictionary over the existing data \n",
    "    \n",
    "with open('./data/sample.json', 'w') as f:  \n",
    "    json.dump(file_contents, f) #this dictionary will overwrite the previous values"
   ]
  },
  {
   "cell_type": "markdown",
   "metadata": {},
   "source": [
    "The `.load()` method creates a Python dictionary from the .json file object. This means that we can query a particular key/value pair after loading the data."
   ]
  },
  {
   "cell_type": "code",
   "execution_count": 36,
   "metadata": {
    "execution": {
     "iopub.execute_input": "2025-05-26T17:37:37.643944Z",
     "iopub.status.busy": "2025-05-26T17:37:37.643410Z",
     "iopub.status.idle": "2025-05-26T17:37:37.647417Z",
     "shell.execute_reply": "2025-05-26T17:37:37.646859Z",
     "shell.execute_reply.started": "2025-05-26T17:37:37.643924Z"
    },
    "tags": []
   },
   "outputs": [
    {
     "name": "stdout",
     "output_type": "stream",
     "text": [
      "dog\n"
     ]
    }
   ],
   "source": [
    "# Load the data from the json file into a dictionary\n",
    "# Check to see if there is value associated with pet\n",
    "\n",
    "with open('./data/sample.json', 'r') as f:\n",
    "    json_contents = json.load(f)\n",
    "    print(json_contents.get('pet'))"
   ]
  },
  {
   "cell_type": "markdown",
   "metadata": {},
   "source": [
    "___\n",
    "## Lesson Complete"
   ]
  }
 ],
 "metadata": {
  "kernelspec": {
   "display_name": "Python 3 (ipykernel)",
   "language": "python",
   "name": "python3"
  },
  "language_info": {
   "codemirror_mode": {
    "name": "ipython",
    "version": 3
   },
   "file_extension": ".py",
   "mimetype": "text/x-python",
   "name": "python",
   "nbconvert_exporter": "python",
   "pygments_lexer": "ipython3",
   "version": "3.13.5"
  },
  "toc": {
   "base_numbering": 1,
   "nav_menu": {},
   "number_sections": true,
   "sideBar": true,
   "skip_h1_title": true,
   "title_cell": "Table of Contents",
   "title_sidebar": "Contents",
   "toc_cell": false,
   "toc_position": {
    "height": "calc(100% - 180px)",
    "left": "10px",
    "top": "150px",
    "width": "312px"
   },
   "toc_section_display": true,
   "toc_window_display": false
  }
 },
 "nbformat": 4,
 "nbformat_minor": 4
}
