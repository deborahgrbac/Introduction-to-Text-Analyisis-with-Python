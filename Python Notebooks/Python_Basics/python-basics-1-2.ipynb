{
 "cells": [
  {
   "cell_type": "markdown",
   "metadata": {},
   "source": [
    "### Credits:\n",
    "\n",
    "<img align=\"left\" src=\"https://ithaka-labs.s3.amazonaws.com/static-files/images/tdm/tdmdocs/CC_BY.png\"><br />\n",
    "\n",
    "Created by [Nathan Kelber](http://nkelber.com) and Ted Lawless for [JSTOR Labs](https://labs.jstor.org/) under [Creative Commons CC BY License](https://creativecommons.org/licenses/by/4.0/)<br />\n",
    "For questions/comments/improvements, email nathan.kelber@ithaka.org.<br />\n",
    "\n",
    "Reused and modified for internal use at Università Cattolica del Sacro Cuore di Milano, by Deborah Grbac, email deborah.grbac@unicatt.it and Valentina Schiariti, email valentina.schiariti@unicatt.it, released under CC BY License.\n",
    "\n",
    "\n",
    "This repository is founded on **Constellate notebooks**. The original Jupyter notebooks repository was designed by the educators at **ITHAKA's Constellate project**. The project was sunset on July 1, 2025. This current repository uses and resuses Constellate notebooks as Open Educational Resources (OER), free for re-use under a Creative Commons CC BY License.\n",
    "___"
   ]
  },
  {
   "cell_type": "markdown",
   "metadata": {},
   "source": [
    "# Python Basics 1\n",
    "\n",
    "**Description**: This lesson describes operators, expressions, data types, variables, and basic functions.\n",
    "\n",
    "This is part 2 of 5 in the series *Python Basics* that will prepare you to do text analysis using the Python programming language. \n",
    "\n",
    "**Note**: Running this notebook locally will give you full control to test, modify, and save your work. We strongly recommend downloading it before you begin.\n",
    "\n",
    "____"
   ]
  },
  {
   "attachments": {},
   "cell_type": "markdown",
   "metadata": {},
   "source": [
    "## Introduction\n",
    "\n",
    "### What is a Programming Language?\n",
    "\n",
    "A **programming language** is a set of rules and syntax used to give instructions to a computer. It allows you to write code that the computer can execute — like giving step-by-step directions.\n",
    "\n",
    "There are many programming languages (such as Python, JavaScript, C++, or R), each with its own strengths. \n",
    "\n",
    "The focus for these sets of textbook is **Python** a high-level, beginner-friendly programming language that is widely used in data science and machine learning. For example, as you will partially see in this course Python can be used to perform calculations, analyze data, automate repetitive tasks and create visualizations (like graphs and charts). \n",
    "\n",
    "Before diving deeper, it’s useful to know that Python comes with a set of **built-in modules** called the [Standard Library](https://docs.python.org/3/library/index.html). These modules provide useful functions for common tasks like working with numbers, handling dates and files, and more. Using the Standard Library helps you write code more efficiently without having to build everything from scratch. Beyond the Standard Library, there are many other libraries created by the Python community. These extend Python’s capabilities to areas like data analysis, web development, and machine learning.\n",
    "\n",
    "You don’t need to learn all these libraries right now, but knowing they exist will help you as you continue to learn and work on different projects.\n"
   ]
  },
  {
   "attachments": {},
   "cell_type": "markdown",
   "metadata": {},
   "source": [
    "### Keyboard shortcuts\n",
    "\n",
    "When using Python, knowing few shortcuts could come in hand: \n",
    "\n",
    "* `Shift + Enter`: **run** the current cell and move to the next one.\n",
    "\n",
    "<img src=\"../images/tastiera _taliana_shift+enter.jpg\" width=\"500\">\n",
    "\n",
    "* `Ctrl + S`: **save** the notebook.\n",
    "\n",
    "<img src=\"../images/tastiera_italiana_ctrl+s.jpg\" width=\"500\">\n",
    "\n",
    "* `Tab`: **auto-complete** code or indent.\n",
    "\n",
    "<img src=\"../images/tastiera _taliana_tab.jpg\" width=\"500\">\n",
    "\n",
    "* `Ctrl + Z`: **undo** your last action (in edit mode or text entry).\n",
    "\n",
    "<img src=\"../images/tastiera_italiana_ctrl+z.jpg\" width=\"500\">\n",
    "\n",
    "* `D` then `D` (press `D` twice): **delete** the selected cell (in command mode).\n",
    "    \n",
    "* `Esc`: to enter **command mode**\n",
    "\n",
    "* `Enter`: to go back to **edit mode**\n",
    "\n",
    "In addition, In Python, the `#` symbol is used to write a **comment**.\n",
    "\n",
    "<img src=\"../images/tastiera _taliana_cancelletto.jpg\" width=\"500\">\n",
    "\n",
    "A comment is a line of text in your code that Python **ignores when running the program**. It's used to explain what the code is doing, which makes your code easier to read and understand.\n"
   ]
  },
  {
   "cell_type": "markdown",
   "metadata": {
    "toc-hr-collapsed": true,
    "toc-nb-collapsed": true
   },
   "source": [
    "## Data Types (Integers, Floats, and Strings)\n",
    "\n",
    "In Python you can process different type of data. There are three major data types:\n",
    "\n",
    "* integer;\n",
    "* float;\n",
    "* string;\n",
    "\n",
    "### Integers and Floats\n",
    "\n",
    "**Integers** and **floats** are **numerical data types**\n",
    "\n",
    "An **integer**, what we sometimes call a \"whole number\", is a number without a decimal point, that can be positive or negative. On the other hand, when a value uses a decimal, it is called a **float**\n",
    "\n",
    "One of the simplest operation you can do in Python programming is an mathematical expression using an operator. An **expression** is a simple mathematical statement like:\n",
    "\n",
    "> 1 + 1\n",
    "\n",
    "Python can handle a large variety of expressions. When you run, or **evaluate**, an expression in Python, the order of operations is followed. This means that expressions are evaluated in this order:\n",
    "\n",
    "1. Parentheses\n",
    "2. Exponents\n",
    "3. Multiplication and Division (from left to right)\n",
    "4. Addition and Subtraction (from left to right)\n",
    "\n",
    "Here are the main operators that you might use presented in the order they are evaluated:\n",
    "\n",
    "|Operator| Operation| Example | Evaluation |\n",
    "|---|----|---|---|\n",
    "|\\*\\*| Exponent/Power| 3 ** 3 | 27 |\n",
    "|%| Modulus/Remainder| 34 % 6 | 4 |\n",
    "|/| Division | 30 / 6 | 5|\n",
    "|\\*| Multiplication | 7 * 8 | 56 |\n",
    "|-| Subtraction | 18 - 4| 14|\n",
    "|+| Addition | 4 + 3 | 7 |\n",
    "\n",
    "### Strings\n",
    "\n",
    "Python it not only used for calculation but it can also help us manipulate text. A snippet of text in Python is called a **string**. \n",
    "Python reconizes a string when it is written with single or double quotes, as a string can consist in letters, spaces, line breaks, and numbers. \n"
   ]
  },
  {
   "cell_type": "markdown",
   "metadata": {},
   "source": [
    "In Python we can use an **addition operator** on strings but it has a different outcome compared to integers and floats: the strings are combined into a single, longer string. This is called **concatenation**."
   ]
  },
  {
   "cell_type": "code",
   "execution_count": 4,
   "metadata": {},
   "outputs": [
    {
     "data": {
      "text/plain": [
       "'helloworld'"
      ]
     },
     "execution_count": 4,
     "metadata": {},
     "output_type": "execute_result"
    }
   ],
   "source": [
    "# Combine the strings 'Hello' and 'World'\n",
    "'hello' + 'world'"
   ]
  },
  {
   "cell_type": "markdown",
   "metadata": {},
   "source": [
    "**Notice**: when we use addition operator, the values must be all numbers or all strings. Combining them will create an error."
   ]
  },
  {
   "cell_type": "code",
   "execution_count": 5,
   "metadata": {},
   "outputs": [
    {
     "ename": "TypeError",
     "evalue": "can only concatenate str (not \"int\") to str",
     "output_type": "error",
     "traceback": [
      "\u001b[31m---------------------------------------------------------------------------\u001b[39m",
      "\u001b[31mTypeError\u001b[39m                                 Traceback (most recent call last)",
      "\u001b[36mCell\u001b[39m\u001b[36m \u001b[39m\u001b[32mIn[5]\u001b[39m\u001b[32m, line 2\u001b[39m\n\u001b[32m      1\u001b[39m \u001b[38;5;66;03m# Try adding a string to an integer\u001b[39;00m\n\u001b[32m----> \u001b[39m\u001b[32m2\u001b[39m \u001b[33;43m'\u001b[39;49m\u001b[33;43m55\u001b[39;49m\u001b[33;43m'\u001b[39;49m\u001b[43m \u001b[49m\u001b[43m+\u001b[49m\u001b[43m \u001b[49m\u001b[32;43m23\u001b[39;49m\n\u001b[32m      3\u001b[39m \u001b[38;5;66;03m#you cant add together a string and a integer or a float. The addition only works with same data type\u001b[39;00m\n",
      "\u001b[31mTypeError\u001b[39m: can only concatenate str (not \"int\") to str"
     ]
    }
   ],
   "source": [
    "# Try adding a string to an integer\n",
    "'55' + 23\n",
    "#you cant add together a string and a integer or a float. The addition only works with same data type"
   ]
  },
  {
   "cell_type": "markdown",
   "metadata": {},
   "source": [
    "### Comparing data types\n",
    "|Familiar Name | Programming name | Examples |\n",
    "|---|---|---|\n",
    "|Whole number|integer| -3, 0, 2, 534|\n",
    "|Decimal|float | 6.3, -19.23, 5.0, 0.01|\n",
    "|Text|string| 'Hello world', '1700 butterflies', '', '1823'|\n",
    "\n",
    "The distinction between each of these data types may seem unimportant, but **Python treats each one differently**. For example, we can ask Python whether an integer is equal to a float, but we cannot ask whether a string is equal to an integer or a float.\n",
    "\n",
    "To evaluate whether two values are equal, we can use two equals signs between them. The expression will evaluate to either `True` or `False`."
   ]
  },
  {
   "cell_type": "code",
   "execution_count": 1,
   "metadata": {},
   "outputs": [
    {
     "data": {
      "text/plain": [
       "True"
      ]
     },
     "execution_count": 1,
     "metadata": {},
     "output_type": "execute_result"
    }
   ],
   "source": [
    "# Run this code cell to determine whether the values are equal\n",
    "42 == 42.0"
   ]
  },
  {
   "cell_type": "code",
   "execution_count": 2,
   "metadata": {},
   "outputs": [
    {
     "data": {
      "text/plain": [
       "False"
      ]
     },
     "execution_count": 2,
     "metadata": {},
     "output_type": "execute_result"
    }
   ],
   "source": [
    "# Run this code cell to compare an integer with a string\n",
    "15 == 'fifteen'"
   ]
  },
  {
   "cell_type": "code",
   "execution_count": 3,
   "metadata": {},
   "outputs": [
    {
     "data": {
      "text/plain": [
       "False"
      ]
     },
     "execution_count": 3,
     "metadata": {},
     "output_type": "execute_result"
    }
   ],
   "source": [
    "# Run this code cell to compare an integer with a string\n",
    "15 == '15'\n"
   ]
  },
  {
   "cell_type": "markdown",
   "metadata": {
    "toc-hr-collapsed": true,
    "toc-nb-collapsed": true
   },
   "source": [
    "## Variables\n",
    "\n"
   ]
  },
  {
   "cell_type": "markdown",
   "metadata": {},
   "source": [
    "A **variable** is like a container that stores information. There are many kinds of information that can be stored in a variable, including the data types we have already discussed (integers, floats, and strings). We create (or *initialize*) a variable with an **assignment statement**. The assignment statement gives the variable an initial value."
   ]
  },
  {
   "cell_type": "code",
   "execution_count": 1,
   "metadata": {},
   "outputs": [
    {
     "data": {
      "text/plain": [
       "27"
      ]
     },
     "execution_count": 1,
     "metadata": {},
     "output_type": "execute_result"
    }
   ],
   "source": [
    "# Initialize an integer variable and add 22 \n",
    "new_integer_variable = 5\n",
    "new_integer_variable + 22"
   ]
  },
  {
   "cell_type": "markdown",
   "metadata": {},
   "source": [
    "The value of a variable can be overwritten with a new value."
   ]
  },
  {
   "cell_type": "code",
   "execution_count": 2,
   "metadata": {},
   "outputs": [
    {
     "data": {
      "text/plain": [
       "9"
      ]
     },
     "execution_count": 2,
     "metadata": {},
     "output_type": "execute_result"
    }
   ],
   "source": [
    "# Overwrite the value of my_favorite_number when the commented out line of code is executed. \n",
    "# Remove the # in the line \"#my_favorite_number = 9\" to turn the line into executable code.\n",
    "\n",
    "my_favorite_number = 7\n",
    "my_favorite_number = 9\n",
    "my_favorite_number"
   ]
  },
  {
   "cell_type": "markdown",
   "metadata": {},
   "source": [
    "You can create a variable with almost any name, but there are a few guidelines that are recommended.\n",
    "\n",
    "### Variable Names\n",
    "\n",
    "The variable names should:\n",
    "\n",
    "* Be descriptive (if the variable is storing a day of the month it should be named `day_of_month` rather than `dog`);\n",
    "* Contain no spaces (`day_of_month` rather than `day of month`)\n",
    "* Contain only letters, numbers and the underscore character (\\_)\n",
    "* Not begin with a number.\n",
    "\n",
    "The three rules above describe absolute rules of Python, variable naming. If you break those rules, your code will create an error and fail to execute properly. There are also style *guidelines* that, while they won't break your code, are generally advised for making your code readable and understandable. These style guidelines are written in the Python Enhancement Proposals (PEP) Style Guide.\n",
    "\n",
    "The current version of the style guide advises that variable names should be written:\n",
    ">lowercase, with words separated by underscores as necessary to improve readability."
   ]
  },
  {
   "cell_type": "markdown",
   "metadata": {
    "toc-hr-collapsed": true,
    "toc-nb-collapsed": true
   },
   "source": [
    "## Functions\n",
    "\n",
    "A **function** is a **small snippet of code that can be quickly referenced**. \n",
    "\n",
    "As previously mentioned, there are three kinds of functions:\n",
    "\n",
    "* **Native functions built into Python**;\n",
    "* **Functions others have written that you can import**;\n",
    "* **Functions you write yourself**;\n",
    "\n",
    "We will see how to import and create functions later, so for now we will focus on few important **built-in Python fuctions**\n",
    "\n",
    "### The `print()` and `input()` functions\n",
    "\n",
    "One of the most common functions used in Python is the `print()` function which simply prints a string."
   ]
  },
  {
   "cell_type": "code",
   "execution_count": 6,
   "metadata": {},
   "outputs": [
    {
     "name": "stdout",
     "output_type": "stream",
     "text": [
      "Hello World!\n"
     ]
    }
   ],
   "source": [
    "# A print function that prints: Hello World!\n",
    "print('Hello World!')"
   ]
  },
  {
   "cell_type": "markdown",
   "metadata": {},
   "source": [
    "You can get the same result by assigning a value to a **variable** (like ```Hello World!```) and passing that variable to the print() function as an **argument** - the value inside the parentheses ()."
   ]
  },
  {
   "cell_type": "code",
   "execution_count": 7,
   "metadata": {},
   "outputs": [
    {
     "name": "stdout",
     "output_type": "stream",
     "text": [
      "Hello World!\n"
     ]
    }
   ],
   "source": [
    "# Define a string and then print it\n",
    "our_string = 'Hello World!'\n",
    "print(our_string)"
   ]
  },
  {
   "cell_type": "markdown",
   "metadata": {},
   "source": [
    "Another simple function is the an `input()` function, used to take user input.\n",
    "See how it can be used in the example below in combination with the `print()` function"
   ]
  },
  {
   "cell_type": "code",
   "execution_count": 1,
   "metadata": {},
   "outputs": [
    {
     "name": "stdout",
     "output_type": "stream",
     "text": [
      "Hi. What is your name?\n"
     ]
    },
    {
     "name": "stdin",
     "output_type": "stream",
     "text": [
      " Richard White\n"
     ]
    },
    {
     "name": "stdout",
     "output_type": "stream",
     "text": [
      "Pleased to meet you, Richard White\n"
     ]
    }
   ],
   "source": [
    "# Example: \n",
    "#A program to greet the user by name\n",
    "\n",
    "print('Hi. What is your name?') #Step 1:Ask the user for their name\n",
    "\n",
    "user_name = input() #Step 2:Take the user's input and create variable user_name\n",
    "\n",
    "print('Pleased to meet you, ' + user_name) #Step 3: Print a greeting "
   ]
  },
  {
   "cell_type": "markdown",
   "metadata": {},
   "source": [
    "In the example, we defined a string variable ```user_name``` to hold the user's input. We then called the `print()` function to print the concatenation 'Pleased to meet you, ' and the user's input that was captured in the variable) ```user_name``` using a ```+``` to concatenate, meaning join these strings together.\n",
    "\n",
    "**Pro tip**: as strings get more long and complicated we can substitute the ```+``` concatenation with a `f string`. An `f string` starts with a letter f and can automatically concatenate variables enclosed in curly braces, like `{variable_name}`."
   ]
  },
  {
   "cell_type": "code",
   "execution_count": 9,
   "metadata": {},
   "outputs": [
    {
     "name": "stdout",
     "output_type": "stream",
     "text": [
      "Pleased to meet you, Richard White\n"
     ]
    }
   ],
   "source": [
    "# Using an f string to automatically concatenate\n",
    "# Without using the plus (+) operator\n",
    "print(f'Pleased to meet you, {user_name}')"
   ]
  },
  {
   "cell_type": "markdown",
   "metadata": {},
   "source": [
    "We can concatenate many strings together, but we cannot concatenate strings with integers or floats."
   ]
  },
  {
   "cell_type": "code",
   "execution_count": 10,
   "metadata": {},
   "outputs": [
    {
     "name": "stdout",
     "output_type": "stream",
     "text": [
      "Hello, all these strings are being connected together.\n"
     ]
    }
   ],
   "source": [
    "# Concatenating many strings within a print function\n",
    "print('Hello, ' + 'all ' + 'these ' + 'strings ' + 'are ' + 'being ' + 'connected ' + 'together.')"
   ]
  },
  {
   "cell_type": "code",
   "execution_count": 12,
   "metadata": {},
   "outputs": [
    {
     "ename": "TypeError",
     "evalue": "can only concatenate str (not \"int\") to str",
     "output_type": "error",
     "traceback": [
      "\u001b[31m---------------------------------------------------------------------------\u001b[39m",
      "\u001b[31mTypeError\u001b[39m                                 Traceback (most recent call last)",
      "\u001b[36mCell\u001b[39m\u001b[36m \u001b[39m\u001b[32mIn[12]\u001b[39m\u001b[32m, line 2\u001b[39m\n\u001b[32m      1\u001b[39m \u001b[38;5;66;03m# Trying to concatenate a string with an integer causes an error\u001b[39;00m\n\u001b[32m----> \u001b[39m\u001b[32m2\u001b[39m \u001b[38;5;28mprint\u001b[39m(\u001b[33;43m'\u001b[39;49m\u001b[33;43mThere are \u001b[39;49m\u001b[33;43m'\u001b[39;49m\u001b[43m+\u001b[49m\u001b[43m \u001b[49m\u001b[32;43m7\u001b[39;49m + \u001b[33m'\u001b[39m\u001b[33m continents.\u001b[39m\u001b[33m'\u001b[39m)\n",
      "\u001b[31mTypeError\u001b[39m: can only concatenate str (not \"int\") to str"
     ]
    }
   ],
   "source": [
    "# Trying to concatenate a string with an integer causes an error\n",
    "print('There are '+ 7 + ' continents.')"
   ]
  },
  {
   "cell_type": "markdown",
   "metadata": {},
   "source": [
    "### The `str()`, `int()`, and `float()` functions\n",
    "\n",
    "To fix the error above, we can use a group of functions that **transform one variable type into another variable type**. \n",
    "These are: \n",
    "* `str()`: turns the argument of the function into a string;\n",
    "* `int()`: turns the argument of the function into a integer;\n",
    "* `float()`: turns the argument of the function into a float;\n",
    "\n",
    "For example, we can use the `str()` function to turn a number into a string value in order to concatenate it to a string. "
   ]
  },
  {
   "cell_type": "code",
   "execution_count": 13,
   "metadata": {},
   "outputs": [
    {
     "name": "stdout",
     "output_type": "stream",
     "text": [
      "There are 7 continents.\n"
     ]
    }
   ],
   "source": [
    "# Converting an integer into a string\n",
    "print('There are ' + str(7) + ' continents.')"
   ]
  },
  {
   "cell_type": "code",
   "execution_count": 14,
   "metadata": {},
   "outputs": [
    {
     "name": "stdout",
     "output_type": "stream",
     "text": [
      "5\n"
     ]
    }
   ],
   "source": [
    "variable_float = 5.6\n",
    "variable_int = int(variable_float)\n",
    "print(variable_int)"
   ]
  },
  {
   "cell_type": "code",
   "execution_count": 15,
   "metadata": {},
   "outputs": [
    {
     "name": "stdout",
     "output_type": "stream",
     "text": [
      "5.0\n"
     ]
    }
   ],
   "source": [
    "variable_int1 = 5\n",
    "variable_float1 = float(variable_int1)\n",
    "print(variable_float1)"
   ]
  },
  {
   "cell_type": "code",
   "execution_count": 16,
   "metadata": {},
   "outputs": [
    {
     "name": "stdout",
     "output_type": "stream",
     "text": [
      "15\n"
     ]
    }
   ],
   "source": [
    "# Convert the variable `number` to an integer\n",
    "# Then add 10 to it and print `number`\n",
    "number = \"5\"\n",
    "number = int(number) + 10\n",
    "print(number)\n"
   ]
  },
  {
   "cell_type": "markdown",
   "metadata": {},
   "source": [
    "These functions are particularly useful when used in combination with the `input()`, as the user inputs are treated by Python as **strings** .\n",
    "In the program below, for example, user's age input is taken in as a string. To use it in a multiplication expression we turn it into a integer. Finally we turn it into a string again to allow concatanation. "
   ]
  },
  {
   "cell_type": "code",
   "execution_count": 17,
   "metadata": {},
   "outputs": [
    {
     "name": "stdin",
     "output_type": "stream",
     "text": [
      "How old are you?  30\n"
     ]
    },
    {
     "name": "stdout",
     "output_type": "stream",
     "text": [
      "That is more than 360 months old!\n"
     ]
    }
   ],
   "source": [
    "# A program to tell a user how many months old they are\n",
    "user_age = input('How old are you? ') # Take the user input and put it into the variable user_age\n",
    "number_of_months = int(user_age) * 12 # Define a new variable number_of_months that multiplies the user's age by 12\n",
    "\n",
    "print('That is more than ' + str(number_of_months) + ' months old!' ) # Print a response that tells the user they are at least number_of_months old"
   ]
  },
  {
   "cell_type": "markdown",
   "metadata": {},
   "source": [
    "___\n",
    "# Flow Control Statements\n",
    "\n",
    "Unitl here, we wrote programs that executed line-by-line, starting at the top and running to the bottom. \n",
    "\n",
    "In Python, we can use **flow control statements** as tools to control how your code runs, what gets executed, when, and how many times.\n",
    "\n",
    "Flow control statements work like a flowchart. For example, let's say your goal is to hang out and relax with friends. There are a number of steps you might take, depending on whether your friends are available or you feel like making some new friends.\n",
    "\n",
    "![Flowchart to hangout with friends](https://ithaka-labs.s3.amazonaws.com/static-files/images/tdm/tdmdocs/friends_flowchart.png)"
   ]
  },
  {
   "cell_type": "markdown",
   "metadata": {},
   "source": [
    "### Writing a Flow Control Statement\n",
    "\n",
    "The general form of a flow control statement in Python is a condition followed by an action clause:\n",
    "\n",
    "`In this condition:`<br />\n",
    "&nbsp; &nbsp; &nbsp; &nbsp;`perform this action`\n",
    "\n",
    "In the example give (having homework) we can imagine a flow control statement that would look something like:\n",
    "\n",
    "* ```are_friends_available = False```\n",
    "* ```make_new_friends = True```\n",
    "* ```new_friend_available = True```"
   ]
  },
  {
   "cell_type": "markdown",
   "metadata": {},
   "source": [
    "**True** or **False** in Python can be considered the \"Yes\" and \"No\" in the chart. These are called **Boolean values**, and they exemplify whether a specific condition is met: \n",
    "\n",
    "* If the condition is fulfilled (evaluates to **True**), the action clause in the block of code is executed. \n",
    "* If the condition is not fulfilled (evaluates to **False**), the action clause in the block of code is skipped over.\n",
    "\n",
    "**Notice**: the level of **indentation** describes the order in which the **code blocks** will be executed. Improper indentations will make your code crash.\n",
    "\n",
    "![Visualization of code block indentations](https://ithaka-labs.s3.amazonaws.com/static-files/images/tdm/tdmdocs/code_block_indentation.png)"
   ]
  },
  {
   "cell_type": "markdown",
   "metadata": {},
   "source": [
    "\n",
    "Often, we don’t store True or False directly. Instead, we compare values to produce a Boolean result. **Comparison operators** include:\n",
    "\n",
    "|Operator|Meaning|\n",
    "|---|---|\n",
    "|==|Equal to|\n",
    "|!=|Not equal to|\n",
    "|<|Less than|\n",
    "|>|Greater than|\n",
    "|<=|Less than or equal to|\n",
    "|>=|Greater than or equal to|"
   ]
  },
  {
   "cell_type": "markdown",
   "metadata": {},
   "source": [
    "for example: "
   ]
  },
  {
   "cell_type": "code",
   "execution_count": 11,
   "metadata": {},
   "outputs": [
    {
     "name": "stdout",
     "output_type": "stream",
     "text": [
      "complete assignment\n"
     ]
    }
   ],
   "source": [
    "have_homework = True #we assess that we have homework\n",
    "if have_homework == True: \n",
    "    print(\"complete assignment\") #if having homework is a True condition, we will complete the assignment"
   ]
  },
  {
   "cell_type": "markdown",
   "metadata": {},
   "source": [
    "Moreover, we can define multiple conditions that must be satisfied toghether or alternatevely. We can do this through **Boolean Operators**\n",
    "\n",
    "```and``` → True if both conditions are True\n",
    "\n",
    "```or ``` → True if at least one condition is True\n",
    "\n",
    "```not``` → inverts True to False, and False to True"
   ]
  },
  {
   "cell_type": "code",
   "execution_count": 16,
   "metadata": {},
   "outputs": [
    {
     "name": "stdout",
     "output_type": "stream",
     "text": [
      "Let's hang out with friends!\n"
     ]
    }
   ],
   "source": [
    "friends_available = True \n",
    "have_homework = False\n",
    "if friends_available == True and have_homework == False: #in this case both conditions must be satisfied\n",
    "    print(\"Let's hang out with friends!\")"
   ]
  },
  {
   "cell_type": "markdown",
   "metadata": {},
   "source": [
    "## Types of Flow Control Statements\n",
    "\n",
    "Here's a summary of the types of flow control statements available in Python.\n",
    "\n",
    "|Statement|Means|Condition for execution|\n",
    "|---|---|---|\n",
    "|`if`|if|if the condition is fulfilled|\n",
    "|`elif`|else if|if no previous conditions were met *and* this condition is met|\n",
    "|`else`|else|if no condition is met (no condition is supplied for an `else` statement)|\n",
    "|`while`|while|while condition is true|\n",
    "|`for`|for|execute in a loop for this many times|\n",
    "|`try`|try|try this and run the `except` code if an error occurs|\n",
    "\n",
    "Let's take a look at each of these types!\n"
   ]
  },
  {
   "cell_type": "markdown",
   "metadata": {},
   "source": [
    "### Conditional Statements (`if`, `elif`, `else`)\n",
    "\n",
    "This are flow controls staments that check if specific conditions are fufilled. \n",
    "\n",
    "An `if` statement begins with an expression that evaluates to **True** or **False**.\n",
    "\n",
    "* if **True**, then perform this action\n",
    "* if **False**, skip over this action\n",
    "\n",
    "In practice, the form looks like this:\n",
    "\n",
    "`if this is True:` <br />\n",
    "&nbsp; &nbsp; &nbsp; &nbsp; `perform this action`\n",
    "\n",
    "Let's put an `if` statement into practice with a very simple program that asks the user how their day is going and then responds. Our program will use a single `if` statement. If the user types \"Yes\" or \"yes\", then our program will send a response.\n"
   ]
  },
  {
   "cell_type": "code",
   "execution_count": 18,
   "metadata": {},
   "outputs": [
    {
     "name": "stdin",
     "output_type": "stream",
     "text": [
      "Are you having a good day? (Yes or No)  yes\n"
     ]
    },
    {
     "name": "stdout",
     "output_type": "stream",
     "text": [
      "Glad to hear your day is going well!\n"
     ]
    }
   ],
   "source": [
    "# Execise: \n",
    "#A program that responds to a user having a good day\n",
    "\n",
    "having_good_day = input('Are you having a good day? (Yes or No) ')\n",
    "\n",
    "# Condition: if user input is equal to 'Yes' or 'yes'\n",
    "if having_good_day == 'Yes' or having_good_day == 'yes':\n",
    "    # Action: print \"Glad to hear your day is going well!\"\n",
    "    print('Glad to hear your day is going well!') "
   ]
  },
  {
   "cell_type": "markdown",
   "metadata": {},
   "source": [
    "The `if` statement is often paired with an `else` to make sure that the program will respond with something even when the `if` condition is not fulfilled. \n",
    "\n",
    "`if this is True:` <br />\n",
    "&nbsp; &nbsp; &nbsp; &nbsp; `perform this action`\n",
    "\n",
    "`else:` <br />\n",
    "&nbsp; &nbsp; &nbsp; &nbsp; `perform this action`"
   ]
  },
  {
   "cell_type": "code",
   "execution_count": 19,
   "metadata": {},
   "outputs": [
    {
     "name": "stdin",
     "output_type": "stream",
     "text": [
      "Are you having a good day? (Yes or No)  no\n"
     ]
    },
    {
     "name": "stdout",
     "output_type": "stream",
     "text": [
      "I wish your day was going better\n"
     ]
    }
   ],
   "source": [
    "# A program that responds to whether the user is having a good or bad day\n",
    "having_good_day = input('Are you having a good day? (Yes or No) ')\n",
    "\n",
    "if having_good_day == 'Yes' or having_good_day == 'yes':\n",
    "    print('Glad to hear your day is going well!')\n",
    "    \n",
    "# Else (if input is not equal to 'Yes' or 'yes')\n",
    "else:\n",
    "    print('I wish your day was going better')\n"
   ]
  },
  {
   "cell_type": "markdown",
   "metadata": {},
   "source": [
    "**Notice**: the else statement is not specific. If the user write 'Wonderful', for example, the program will still respond with *'I wish your day was going better'*.\n",
    "\n",
    "To add multiple conditions, we use the `elif` statement, short for \"else if,\" to create a list of possible conditions where one (and only one) action will be executed. \n",
    "\n",
    "Going back to the previous example, we could modifying like this: "
   ]
  },
  {
   "cell_type": "code",
   "execution_count": 20,
   "metadata": {},
   "outputs": [
    {
     "name": "stdin",
     "output_type": "stream",
     "text": [
      "Are you having a good day? (Yes or No)  Wonderful\n"
     ]
    },
    {
     "name": "stdout",
     "output_type": "stream",
     "text": [
      "Sorry, I only understand \"Yes\" or \"No\"\n"
     ]
    }
   ],
   "source": [
    "# A program that responds to whether the user is having a good or bad day\n",
    "having_good_day = input('Are you having a good day? (Yes or No) ')\n",
    "\n",
    "# 1st Condition: If the user has input the string 'Yes' or 'yes'\n",
    "if having_good_day == 'Yes' or having_good_day == 'yes': \n",
    "    print('Glad to hear your day is going well!') \n",
    "\n",
    "# 2nd Condition: If the user has input the string 'No' or 'no'\n",
    "elif having_good_day == \"No\" or having_good_day == \"no\" :\n",
    "    print(\"I'm sorry about that!\")\n",
    "\n",
    "# An else statement that catches if the answer is not 'yes' or 'no'\n",
    "else: # Execute this if none of the other branches executes\n",
    "    print('Sorry, I only understand \"Yes\" or \"No\"')"
   ]
  },
  {
   "cell_type": "markdown",
   "metadata": {},
   "source": [
    "### Loops\n",
    "\n",
    "Loops are codes that will run on the same action a repeated number of times until some condition is met. \n",
    "\n",
    "#### The `while` loop\n",
    "\n",
    "The `while` loop statement takes the form:\n",
    "\n",
    "`while condition is True:` <br />\n",
    "&nbsp; &nbsp; &nbsp; &nbsp;`take this action`\n",
    "\n",
    "After the code block is executed, the program loops back to check and see if the `while` loop condition has changed from **True** to **False**. The code block stops looping when the condition becomes **False**.\n",
    "\n",
    "To visualize this, look at the flow chart below: \n",
    "\n",
    "![flowchart for number-guessing program](https://ithaka-labs.s3.amazonaws.com/static-files/images/tdm/tdmdocs/guess_number_flowchart.png)\n"
   ]
  },
  {
   "cell_type": "code",
   "execution_count": 2,
   "metadata": {},
   "outputs": [
    {
     "name": "stdin",
     "output_type": "stream",
     "text": [
      "Are you having a good day? (Yes or No)  absolutely\n",
      "Are you having a good day? (Yes or No)  sure\n",
      "Are you having a good day? (Yes or No)  no\n"
     ]
    },
    {
     "name": "stdout",
     "output_type": "stream",
     "text": [
      "I'm sorry about that!\n"
     ]
    }
   ],
   "source": [
    "# A program that responds to whether the user is having a good or bad day\n",
    "having_good_day = input('Are you having a good day? (Yes or No) ') # Define a variable having_good_day to hold the user's input\n",
    "\n",
    "while having_good_day != 'Yes' and having_good_day != 'yes' and having_good_day != \"no\" and having_good_day != \"No\" :\n",
    "    having_good_day = input('Are you having a good day? (Yes or No) ')\n",
    "\n",
    "if having_good_day == 'Yes' or having_good_day == 'yes': # If the user has input the string 'Yes' or 'yes'\n",
    "    print('Glad to hear your day is going well!') # Print: Glad to hear your day is going well!\n",
    "\n",
    "# Write an elif statement for having_good_day == 'No'\n",
    "elif having_good_day == \"no\" or having_good_day == \"No\" :\n",
    "    print(\"I'm sorry about that!\")"
   ]
  },
  {
   "cell_type": "markdown",
   "metadata": {},
   "source": [
    "### `for` Loop Statements with a `range()` Function\n",
    "\n",
    "An abbreviated way to write a `while` loop that repeats a specified number of times is using a `for` loop with a `range()` function. This loop takes the form:\n",
    "\n",
    "`for i in range(j):` <br />\n",
    "&nbsp; &nbsp; &nbsp; &nbsp;`take this action`\n",
    "    \n",
    "where `i` is a generic variable for counting the number of iterations and `j` is the number of times you want the code block to repeat.\n",
    "\n",
    "The starting value of `i` is 0. After each loop, `i` increases by one until it reaches `j`. The loop then stops. The variable names `i` and `j` are merely conventions. Using a different name may make the purpose of your code clearer to readers."
   ]
  },
  {
   "cell_type": "code",
   "execution_count": 2,
   "metadata": {},
   "outputs": [
    {
     "name": "stdout",
     "output_type": "stream",
     "text": [
      "0\n",
      "1\n",
      "2\n",
      "3\n",
      "4\n"
     ]
    }
   ],
   "source": [
    "for i in range(5):\n",
    "    print(i)"
   ]
  },
  {
   "cell_type": "code",
   "execution_count": 3,
   "metadata": {
    "scrolled": true
   },
   "outputs": [
    {
     "name": "stdout",
     "output_type": "stream",
     "text": [
      "0\n",
      "1\n",
      "2\n",
      "3\n",
      "4\n"
     ]
    }
   ],
   "source": [
    "for number in range(5):\n",
    "    print(number)"
   ]
  },
  {
   "cell_type": "markdown",
   "metadata": {},
   "source": [
    "### `Continue` and `Break` Statements\n",
    "`while` loops and `for` loops can also use `continue` and `break` statements to affect flow control. \n",
    "* A `continue` statement immediately restarts the loop.\n",
    "* A `break` statement immediately exits the loop.\n",
    "\n",
    "Let's return to our secret number guessing program. We will write the same program workflow using `continue` and `break` statements.\n",
    "\n",
    "![Flowchart for secret number guessing program](https://ithaka-labs.s3.amazonaws.com/static-files/images/tdm/tdmdocs/guess_number_flowchart.png)"
   ]
  },
  {
   "cell_type": "code",
   "execution_count": 4,
   "metadata": {},
   "outputs": [
    {
     "name": "stdout",
     "output_type": "stream",
     "text": [
      "I am thinking of a number between 1 and 10.\n"
     ]
    },
    {
     "name": "stdin",
     "output_type": "stream",
     "text": [
      "What is your guess?  3\n",
      "What is your guess?  6\n",
      "What is your guess?  4\n"
     ]
    },
    {
     "name": "stdout",
     "output_type": "stream",
     "text": [
      "You guessed the secret number, 4\n"
     ]
    }
   ],
   "source": [
    "# A program that asks the user to guess a number\n",
    "\n",
    "# Initialize the variables `guess` and `secret_number`\n",
    "guess = 0\n",
    "secret_number = str(4) # The secret number is set here by the programmer. Notice it is turned into a string so it can be easily compared with user inputs.\n",
    "\n",
    "# Ask the user to make a guess\n",
    "print('I am thinking of a number between 1 and 10.') \n",
    "\n",
    "# Test whether the user guess matches `secret_number`\n",
    "while True:\n",
    "    guess = input('What is your guess? ')\n",
    "    if guess == secret_number:\n",
    "        break\n",
    "    else:\n",
    "        continue        \n",
    "        \n",
    "# After loop ends, print a congratulations message with the secret number       \n",
    "print('You guessed the secret number, ' + secret_number)"
   ]
  },
  {
   "cell_type": "markdown",
   "metadata": {},
   "source": [
    "### Exception Handling with `try` and `except`\n",
    "\n",
    "When running code that may create an error, we can use `try` and `except` statements to stop a program from crashing."
   ]
  },
  {
   "cell_type": "code",
   "execution_count": 5,
   "metadata": {},
   "outputs": [
    {
     "name": "stdin",
     "output_type": "stream",
     "text": [
      "Please enter a whole number:  5,1\n"
     ]
    },
    {
     "name": "stdout",
     "output_type": "stream",
     "text": [
      "That is not a whole number.\n"
     ]
    }
   ],
   "source": [
    "try:\n",
    "    user_number = input('Please enter a whole number: ')\n",
    "    user_number = int(user_number)\n",
    "    print('Thank you for entering a whole number.')\n",
    "\n",
    "except:\n",
    "    print('That is not a whole number.')"
   ]
  }
 ],
 "metadata": {
  "kernelspec": {
   "display_name": "Python 3 (ipykernel)",
   "language": "python",
   "name": "python3"
  },
  "language_info": {
   "codemirror_mode": {
    "name": "ipython",
    "version": 3
   },
   "file_extension": ".py",
   "mimetype": "text/x-python",
   "name": "python",
   "nbconvert_exporter": "python",
   "pygments_lexer": "ipython3",
   "version": "3.13.5"
  },
  "toc": {
   "base_numbering": 1,
   "nav_menu": {},
   "number_sections": true,
   "sideBar": true,
   "skip_h1_title": true,
   "title_cell": "Table of Contents",
   "title_sidebar": "Contents",
   "toc_cell": false,
   "toc_position": {},
   "toc_section_display": true,
   "toc_window_display": false
  },
  "toc-autonumbering": false,
  "toc-showcode": false,
  "toc-showmarkdowntxt": false,
  "toc-showtags": false
 },
 "nbformat": 4,
 "nbformat_minor": 4
}
