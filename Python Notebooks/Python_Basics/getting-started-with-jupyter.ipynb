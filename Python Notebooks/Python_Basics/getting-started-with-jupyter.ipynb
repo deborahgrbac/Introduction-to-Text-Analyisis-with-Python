{
 "cells": [
  {
   "cell_type": "markdown",
   "metadata": {
    "jp-MarkdownHeadingCollapsed": true
   },
   "source": [
    "### Credits:\n",
    "\n",
    "<img align=\"left\" src=\"https://ithaka-labs.s3.amazonaws.com/static-files/images/tdm/tdmdocs/CC_BY.png\"><br />\n",
    "\n",
    "Created by [Nathan Kelber](http://nkelber.com) and Ted Lawless for [JSTOR Labs](https://labs.jstor.org/) under [Creative Commons CC BY License](https://creativecommons.org/licenses/by/4.0/)<br />\n",
    "For questions/comments/improvements, email nathan.kelber@ithaka.org.<br />\n",
    "\n",
    "Reused and modified for internal use at Università Cattolica del Sacro Cuore di Milano, by Deborah Grbac, email deborah.grbac@unicatt.it and Valentina Schiariti, email valentina.schiariti@unicatt.it, released under CC BY License.\n",
    "\n",
    "\n",
    "This repository is founded on **Constellate notebooks**. The original Jupyter notebooks repository was designed by the educators at **ITHAKA's Constellate project**. The project was sunset on July 1, 2025. This current repository uses and resuses Constellate notebooks as Open Educational Resources (OER), free for re-use under a Creative Commons CC BY License.\n",
    "___"
   ]
  },
  {
   "cell_type": "markdown",
   "metadata": {},
   "source": [
    "# Getting Started with Jupyter Notebooks\n",
    "\n",
    "**Description:** This lesson introduces Jupyter notebooks and Python for absolute beginners. If you are completely new to text analysis, this is the place to start.\n",
    "\n",
    "This is part 1 of 5 in the series *Python Basics* that will prepare you to do text analysis using the Python programming language. \n",
    "\n",
    "**Note**: Running this notebook locally will give you full control to test, modify, and save your work. We strongly recommend downloading it before you begin.\n",
    "___"
   ]
  },
  {
   "cell_type": "markdown",
   "metadata": {},
   "source": [
    "## Introduction\n",
    "For this course, we recommend using **JupyterLab**, a powerful interactive development environment for data science and programming. JupyterLab allows you to work with **Jupyter Notebooks**, which are documents that combine **code**, **text**, and **visualizations** in a single, flexible workspace.\n",
    "\n",
    "With JupyterLab, you can:\n",
    "\n",
    "* Write and run code (e.g. in Python or R)  \n",
    "* Visualize data using plots and charts  \n",
    "* Document your work using Markdown (for notes, headings, equations, etc.)  \n",
    "* Manage files, terminals, and notebooks — all in one window  \n",
    "\n",
    "\n",
    "### What is a Jupyter Notebook?\n",
    "\n",
    "A **Jupyter Notebook** is made up of individual **cells**. Each cell has a specific role, and there are three main types:\n",
    "\n",
    "- **Code cells**: These are for writing and executing code (in this course, mainly Python).\n",
    "- **Markdown cells**: These allow you to add formatted text, notes, headers, lists, and even equations — but they are *not executable*.\n",
    "- **Raw cells**: These contain plain text and are not processed or rendered. They're rarely used by beginners.\n",
    "\n",
    "A code cell can be distinguished from a markdown cell by the fact that it contains a pair of brackets with a colon to its left, like so ``[ ]:``"
   ]
  },
  {
   "cell_type": "code",
   "execution_count": null,
   "metadata": {},
   "outputs": [],
   "source": [
    "# This is a code cell "
   ]
  },
  {
   "cell_type": "markdown",
   "metadata": {},
   "source": [
    "A markdown cell provides information, but a code cell can be executed to perform an action. The code cell above does not contain any executable content, only a text comment. We can tell the text in the code cell is a comment because it is prefixed by a ``#``. In Python, any time a line is prefaced by a ``#`` that line is a comment and will not be executed if the code is run. In a code cell, comments are also blueish-green in color."
   ]
  },
  {
   "cell_type": "markdown",
   "metadata": {},
   "source": [
    "## Cells\n",
    "\n",
    "### Creating a Cell"
   ]
  },
  {
   "cell_type": "markdown",
   "metadata": {},
   "source": [
    "![Creating a Cell](../images/creating_a_new_cell.gif)"
   ]
  },
  {
   "cell_type": "markdown",
   "metadata": {},
   "source": [
    "By default, a code cell is created. To change the cell type, click on the dropdown menu."
   ]
  },
  {
   "cell_type": "markdown",
   "metadata": {
    "jp-MarkdownHeadingCollapsed": true
   },
   "source": [
    "### Deleting a Cell\n",
    "\n",
    "To delete a cell, select the cell (or set of cells) and select \"Delete Cells\" from the \"Edit\" menu. (Alternatively, press the key \"D\" twice.)\n",
    "\n",
    "![deleting a cell](../images/deleting_a_cell.gif)"
   ]
  },
  {
   "cell_type": "markdown",
   "metadata": {},
   "source": [
    "## Code Cells: Hello World!\n",
    "\n",
    "A code cell is a place where you can write and run code in a Jupyter Notebook. It is traditional in programming education to begin with a program that prints ``Hello World``. In Python, this is a simple task. We will use the ``print()`` function. This function simply prints out whatever is inside the parentheses (). We will pass the quotation \"Hello World\" to the print function like so:\n",
    "\n",
    "```print(\"Hello World\")```\n",
    "\n",
    "To execute our code, we have a couple options:\n",
    "1. Click the code cell you wish to run and press Ctrl + Enter (Windows) or shift + return (OS X) on your keyboard.\n",
    "2. Click the code cell you wish to run and then push the \"Run\" button above.\n",
    "\n",
    "![How to run a cell](../images/creating_a_new_cell.png)\n",
    "\n",
    "Type ```print(\"Hello World\")``` into the box below and then run the cell."
   ]
  },
  {
   "cell_type": "code",
   "execution_count": null,
   "metadata": {
    "tags": []
   },
   "outputs": [],
   "source": []
  },
  {
   "cell_type": "markdown",
   "metadata": {},
   "source": [
    "After your code runs, you'll receive any output and a **number** will appear in the pair of brackets `[ ]:` to the left of the code cell **to show the order the cell was run**. If your code is complicated or takes some time to execute, an asterisk * will be displayed in the pair of brackets `[*]:` while the code executes. "
   ]
  },
  {
   "cell_type": "markdown",
   "metadata": {},
   "source": [
    "## Markdown Cell\n",
    "\n",
    "A markdown cell is a place where you can write text instead of code in a Jupyter Notebook. It allows you to mark out where headings, italics, bold, and other kinds of basic formatting."
   ]
  },
  {
   "cell_type": "markdown",
   "metadata": {},
   "source": [
    "### How do I write my own Markdown?\n",
    "Here are some basic examples to get you started. Double-click on this cell to see how each was made. There are many markdown [cheatsheets](https://www.markdownguide.org/basic-syntax) available on the web.\n",
    "\n",
    "#### Headers and highlighting text\n",
    "\n",
    "|Markdown Syntax|Rendered Result|\n",
    "|---|---|\n",
    "|`# header title`| Largest header size |\n",
    "|`## header title`| Second largest header |\n",
    "|`### header title`| Third largest header |\n",
    "|`*asterisks*`| *italics* |\n",
    "|`**double asterisks**`| **bold** |\n",
    "\n",
    "\n",
    "#### Lists\n",
    "\n",
    "A list of ordered items:\n",
    "1. List item 1\n",
    "2. List item 2\n",
    "\n",
    "Unordered items:\n",
    "* List item (using * or - or + )\n",
    "* Also a list item\n",
    "\n",
    "#### Links\n",
    "\n",
    "This is a link to [JSTOR](http://jstor.org). \n",
    "\n",
    "#### Images\n",
    "\n",
    "![Description of the image for accessibility(Python Logo)](../images/python_logo.jpeg)\n"
   ]
  }
 ],
 "metadata": {
  "kernelspec": {
   "display_name": "Python 3 (ipykernel)",
   "language": "python",
   "name": "python3"
  },
  "language_info": {
   "codemirror_mode": {
    "name": "ipython",
    "version": 3
   },
   "file_extension": ".py",
   "mimetype": "text/x-python",
   "name": "python",
   "nbconvert_exporter": "python",
   "pygments_lexer": "ipython3",
   "version": "3.13.5"
  },
  "toc": {
   "base_numbering": 1,
   "nav_menu": {},
   "number_sections": true,
   "sideBar": true,
   "skip_h1_title": true,
   "title_cell": "Table of Contents",
   "title_sidebar": "Contents",
   "toc_cell": false,
   "toc_position": {},
   "toc_section_display": true,
   "toc_window_display": false
  }
 },
 "nbformat": 4,
 "nbformat_minor": 4
}
