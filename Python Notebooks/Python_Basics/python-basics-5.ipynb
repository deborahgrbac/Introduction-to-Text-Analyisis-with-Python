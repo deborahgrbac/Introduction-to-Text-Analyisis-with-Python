{
 "cells": [
  {
   "cell_type": "markdown",
   "id": "9b3de194",
   "metadata": {},
   "source": [
    "<img align=\"left\" src=\"https://ithaka-labs.s3.amazonaws.com/static-files/images/tdm/tdmdocs/CC_BY.png\"><br />\n",
    "\n",
    "Created by [Nathan Kelber](http://nkelber.com) for [JSTOR Labs](https://labs.jstor.org/) under [Creative Commons CC BY License](https://creativecommons.org/licenses/by/4.0/)<br />\n",
    "For questions/comments/improvements, email nathan.kelber@ithaka.org.<br />\n",
    "____"
   ]
  },
  {
   "cell_type": "markdown",
   "id": "c619379c",
   "metadata": {},
   "source": [
    "# Python Basics 5\n",
    "\n",
    "**Description:**\n",
    "This notebook focuses on strings, preparing learners to use:\n",
    "* Escape characters\n",
    "* String methods\n",
    "\n",
    "**Use Case:** For Learners (Detailed explanation, not ideal for researchers)\n",
    "\n",
    "**Difficulty:** Beginner\n",
    "\n",
    "**Completion time:** 75-90 minutes\n",
    "\n",
    "**Knowledge Required:** \n",
    "* [Getting Started with Jupyter Notebooks](./getting-started-with-jupyter.ipynb)\n",
    "* [Python Basics 1](./python-basics-1.ipynb)\n",
    "* [Python Basics 2](./python-basics-2.ipynb)\n",
    "* [Python Basics 3](./python-basics-3.ipynb)\n",
    "* [Python Basics 4](./python-basics-4.ipynb)\n",
    "\n",
    "**Knowledge Recommended:** None\n",
    "\n",
    "**Data Format:** None\n",
    "\n",
    "**Libraries Used:** None\n",
    "\n",
    "**Research Pipeline:** None\n",
    "___"
   ]
  },
  {
   "cell_type": "markdown",
   "id": "76c472c1",
   "metadata": {},
   "source": [
    "## The `print()` function\n",
    "\n"
   ]
  },
  {
   "cell_type": "markdown",
   "id": "129651fc",
   "metadata": {},
   "source": [
    "Often when working with strings, we use the `print()` function. A deeper understanding of `print()` will help us work with strings more flexibly."
   ]
  },
  {
   "cell_type": "markdown",
   "id": "3597b244",
   "metadata": {},
   "source": [
    "### Escape characters\n",
    "\n",
    "Python strings can use single or double quotes. If the string contains a single quote character, it may be beneficial to use double quotes. Try printing out the string in the next code cell:"
   ]
  },
  {
   "cell_type": "code",
   "execution_count": 2,
   "id": "82427fa8",
   "metadata": {
    "execution": {
     "iopub.execute_input": "2024-09-22T13:11:39.747421Z",
     "iopub.status.busy": "2024-09-22T13:11:39.747122Z",
     "iopub.status.idle": "2024-09-22T13:11:39.750897Z",
     "shell.execute_reply": "2024-09-22T13:11:39.750348Z",
     "shell.execute_reply.started": "2024-09-22T13:11:39.747400Z"
    }
   },
   "outputs": [
    {
     "name": "stdout",
     "output_type": "stream",
     "text": [
      "Hello World: Here's a string.\n"
     ]
    }
   ],
   "source": [
    "# Print out a string using single or double quotes\n",
    "string = \"Hello World: Here's a string.\"\n",
    "print(string)"
   ]
  },
  {
   "cell_type": "markdown",
   "id": "8f0ecf62",
   "metadata": {},
   "source": [
    "An easy solution would be to use double quotes, such as:\n",
    "> string = \"Hello World: Here's a string.\"\n",
    "\n",
    "The use of double quotes keeps Python from ending the string prematurely. But what if your string contains both single and double quotes? Escape characters help us insert certain characters into a string. An escape character begins with a `\\`. For example, we could insert a single quote into a string surrounded by single quotes by using an escape character."
   ]
  },
  {
   "cell_type": "code",
   "execution_count": 3,
   "id": "3789d134",
   "metadata": {
    "execution": {
     "iopub.execute_input": "2024-09-22T13:12:49.012609Z",
     "iopub.status.busy": "2024-09-22T13:12:49.012305Z",
     "iopub.status.idle": "2024-09-22T13:12:49.015743Z",
     "shell.execute_reply": "2024-09-22T13:12:49.015193Z",
     "shell.execute_reply.started": "2024-09-22T13:12:49.012590Z"
    }
   },
   "outputs": [
    {
     "name": "stdout",
     "output_type": "stream",
     "text": [
      "There's an escape character in this string.\n"
     ]
    }
   ],
   "source": [
    "# Print out a single quote in a Python string\n",
    "string = 'There\\'s an escape character in this string.'\n",
    "print(string)"
   ]
  },
  {
   "cell_type": "markdown",
   "id": "d2c92240",
   "metadata": {},
   "source": [
    "The backslash character `\\` in front of the single quote tells Python not to end the string prematurely. Of course, this opens a new question: How do we create a string with a backslash? The answer is another escape character using two backslashes."
   ]
  },
  {
   "cell_type": "code",
   "execution_count": 4,
   "id": "5259ad33",
   "metadata": {
    "execution": {
     "iopub.execute_input": "2024-09-22T13:13:20.392864Z",
     "iopub.status.busy": "2024-09-22T13:13:20.392573Z",
     "iopub.status.idle": "2024-09-22T13:13:20.395956Z",
     "shell.execute_reply": "2024-09-22T13:13:20.395471Z",
     "shell.execute_reply.started": "2024-09-22T13:13:20.392845Z"
    }
   },
   "outputs": [
    {
     "name": "stdout",
     "output_type": "stream",
     "text": [
      "Adding a backslash \\ requires an escape character.\n"
     ]
    }
   ],
   "source": [
    "# Print a backslash using an escape character\n",
    "string = 'Adding a backslash \\\\ requires an escape character.'\n",
    "print(string)"
   ]
  },
  {
   "cell_type": "markdown",
   "id": "8e0a8229",
   "metadata": {},
   "source": [
    "Another option is to use a raw string, which ignores any escape characters. A raw string simply starts with an `r` similar to an `f` string."
   ]
  },
  {
   "cell_type": "code",
   "execution_count": 5,
   "id": "1e2c936a",
   "metadata": {
    "execution": {
     "iopub.execute_input": "2024-09-22T13:14:27.531046Z",
     "iopub.status.busy": "2024-09-22T13:14:27.530371Z",
     "iopub.status.idle": "2024-09-22T13:14:27.534334Z",
     "shell.execute_reply": "2024-09-22T13:14:27.533642Z",
     "shell.execute_reply.started": "2024-09-22T13:14:27.531018Z"
    }
   },
   "outputs": [
    {
     "name": "stdout",
     "output_type": "stream",
     "text": [
      "No escape characters \\ here\n"
     ]
    }
   ],
   "source": [
    "string = r'No escape characters \\ here'\n",
    "print(string)"
   ]
  },
  {
   "cell_type": "markdown",
   "id": "777c3dad",
   "metadata": {},
   "source": [
    "Escape characters also do more than just allow us to add quotes and backslashes. They are also responsible for string formatting for aspects such as tabs and new lines."
   ]
  },
  {
   "cell_type": "markdown",
   "id": "9d6f8e62",
   "metadata": {},
   "source": [
    "|Code|Result|\n",
    "|---|---|\n",
    "|`\\'`| ' |\n",
    "|`\\\\`| \\ |\n",
    "|`\\t`| tab |\n",
    "|`\\n`| new line|"
   ]
  },
  {
   "cell_type": "code",
   "execution_count": 1,
   "id": "0ca47314",
   "metadata": {
    "execution": {
     "iopub.execute_input": "2025-05-22T17:10:58.828719Z",
     "iopub.status.busy": "2025-05-22T17:10:58.828324Z",
     "iopub.status.idle": "2025-05-22T17:10:58.833653Z",
     "shell.execute_reply": "2025-05-22T17:10:58.833096Z",
     "shell.execute_reply.started": "2025-05-22T17:10:58.828701Z"
    },
    "scrolled": true
   },
   "outputs": [
    {
     "name": "stdout",
     "output_type": "stream",
     "text": [
      "String with \n",
      " two lines\n"
     ]
    }
   ],
   "source": [
    "# Print out a string with two lines\n",
    "string = \"String with \\n two lines\"\n",
    "print(string)"
   ]
  },
  {
   "cell_type": "code",
   "execution_count": 15,
   "id": "d7022443",
   "metadata": {
    "execution": {
     "iopub.execute_input": "2024-09-22T13:21:36.953130Z",
     "iopub.status.busy": "2024-09-22T13:21:36.952832Z",
     "iopub.status.idle": "2024-09-22T13:21:36.956263Z",
     "shell.execute_reply": "2024-09-22T13:21:36.955690Z",
     "shell.execute_reply.started": "2024-09-22T13:21:36.953113Z"
    }
   },
   "outputs": [
    {
     "name": "stdout",
     "output_type": "stream",
     "text": [
      "String with \t space\n"
     ]
    }
   ],
   "source": [
    "# Print out a string with a tab\n",
    "string = \"String with \\t space\"\n",
    "print(string)\n"
   ]
  },
  {
   "cell_type": "markdown",
   "id": "99ea0eea",
   "metadata": {},
   "source": [
    "___\n",
    "<h3 style=\"color:red; display:inline\">Try it! &lt; / &gt; </h3>\n",
    "\n",
    "**Can you print a string with a new line? How about a tab?**\n",
    "___"
   ]
  },
  {
   "cell_type": "code",
   "execution_count": 13,
   "id": "7b1eddd3-bbe2-4cc7-a09f-a227a6e802af",
   "metadata": {
    "execution": {
     "iopub.execute_input": "2024-09-22T13:20:28.518623Z",
     "iopub.status.busy": "2024-09-22T13:20:28.518343Z",
     "iopub.status.idle": "2024-09-22T13:20:28.522290Z",
     "shell.execute_reply": "2024-09-22T13:20:28.521570Z",
     "shell.execute_reply.started": "2024-09-22T13:20:28.518605Z"
    }
   },
   "outputs": [
    {
     "name": "stdout",
     "output_type": "stream",
     "text": [
      "String with the first line \n",
      "and the second line after\n"
     ]
    }
   ],
   "source": [
    "string = \"String with the first line \\nand the second line after\"\n",
    "print(string)"
   ]
  },
  {
   "cell_type": "markdown",
   "id": "92c9f387",
   "metadata": {},
   "source": [
    "The newline escape character `\\n` can affect readability for many lines. Consider this string containing four lines of a Shakespeare sonnet."
   ]
  },
  {
   "cell_type": "code",
   "execution_count": 14,
   "id": "8f6f445d",
   "metadata": {
    "execution": {
     "iopub.execute_input": "2024-09-22T13:21:06.748118Z",
     "iopub.status.busy": "2024-09-22T13:21:06.747809Z",
     "iopub.status.idle": "2024-09-22T13:21:06.751379Z",
     "shell.execute_reply": "2024-09-22T13:21:06.750769Z",
     "shell.execute_reply.started": "2024-09-22T13:21:06.748099Z"
    },
    "scrolled": true
   },
   "outputs": [
    {
     "name": "stdout",
     "output_type": "stream",
     "text": [
      "Shall I compare thee to a summer’s day?\n",
      "Thou art more lovely and more temperate:\n",
      "Rough winds do shake the darling buds of May,\n",
      "And summer’s lease hath all too short a date;\n",
      "\n"
     ]
    }
   ],
   "source": [
    "string = 'Shall I compare thee to a summer’s day?\\nThou art more lovely and more temperate:\\nRough winds do shake the darling buds of May,\\nAnd summer’s lease hath all too short a date;\\n'\n",
    "print(string)"
   ]
  },
  {
   "cell_type": "markdown",
   "id": "0bfd3f7e",
   "metadata": {},
   "source": [
    "A more readable option is to create a string with a triple quote (single or double). This string type can also automatically interpret new lines and tabs."
   ]
  },
  {
   "cell_type": "code",
   "execution_count": 5,
   "id": "5e60b074",
   "metadata": {
    "execution": {
     "iopub.execute_input": "2025-05-22T17:15:38.812671Z",
     "iopub.status.busy": "2025-05-22T17:15:38.812394Z",
     "iopub.status.idle": "2025-05-22T17:15:38.815924Z",
     "shell.execute_reply": "2025-05-22T17:15:38.815504Z",
     "shell.execute_reply.started": "2025-05-22T17:15:38.812651Z"
    }
   },
   "outputs": [
    {
     "name": "stdout",
     "output_type": "stream",
     "text": [
      "Shall I compare thee to a summer’s day?\n",
      "Thou art more lovely and more temperate:\n",
      "Rough winds do shake the darling buds of May,\n",
      "And summer’s lease hath all too short a date;\n",
      "Sometime too hot the eye of heaven shines,\n",
      "And often is his gold complexion dimm'd;\n",
      "And every fair from fair sometime declines,\n",
      "By chance or nature’s changing course untrimm'd;\n",
      "But thy eternal summer shall not fade,\n",
      "Nor lose possession of that fair thou ow’st;\n",
      "Nor shall death brag thou wander’st in his shade,\n",
      "When in eternal lines to time thou grow’st:\n",
      "    So long as men can breathe or eyes can see,\n",
      "    So long lives this, and this gives life to thee.\n"
     ]
    }
   ],
   "source": [
    "# Print out Shakespeare's Sonnet 18\n",
    "string = \"\"\"Shall I compare thee to a summer’s day?\n",
    "Thou art more lovely and more temperate:\n",
    "Rough winds do shake the darling buds of May,\n",
    "And summer’s lease hath all too short a date;\n",
    "Sometime too hot the eye of heaven shines,\n",
    "And often is his gold complexion dimm'd;\n",
    "And every fair from fair sometime declines,\n",
    "By chance or nature’s changing course untrimm'd;\n",
    "But thy eternal summer shall not fade,\n",
    "Nor lose possession of that fair thou ow’st;\n",
    "Nor shall death brag thou wander’st in his shade,\n",
    "When in eternal lines to time thou grow’st:\n",
    "    So long as men can breathe or eyes can see,\n",
    "    So long lives this, and this gives life to thee.\"\"\" #Triple quotes allow a string to span multiple lines without needing \\n\n",
    "#triple quotes are also used in python for the definition of functions\n",
    "\n",
    "print(string)\n"
   ]
  },
  {
   "cell_type": "markdown",
   "id": "c11ddb56",
   "metadata": {},
   "source": [
    "### Formatted strings (f-strings)\n",
    "\n",
    "An f-string can help us concatenate a variable inside of string. Consider this example where a print function must concatenate three strings:"
   ]
  },
  {
   "cell_type": "code",
   "execution_count": 18,
   "id": "f7b0ab96",
   "metadata": {
    "execution": {
     "iopub.execute_input": "2024-09-22T13:23:19.883118Z",
     "iopub.status.busy": "2024-09-22T13:23:19.882831Z",
     "iopub.status.idle": "2024-09-22T13:23:23.393495Z",
     "shell.execute_reply": "2024-09-22T13:23:23.392894Z",
     "shell.execute_reply.started": "2024-09-22T13:23:19.883099Z"
    }
   },
   "outputs": [
    {
     "name": "stdin",
     "output_type": "stream",
     "text": [
      "Hi. What is your name?  Valentina\n"
     ]
    },
    {
     "name": "stdout",
     "output_type": "stream",
     "text": [
      "Hello Valentina!\n"
     ]
    }
   ],
   "source": [
    "# Greeting a user with a concatenated string\n",
    "username = input('Hi. What is your name? ')\n",
    "\n",
    "print('Hello ' + username + '!')"
   ]
  },
  {
   "cell_type": "markdown",
   "id": "68dc2f89",
   "metadata": {},
   "source": [
    "We used the `+` operator twice to concatenate `username` between the strings `'Hello '` and `'!'`. A simpler method would be to use an f-string. Similar to the way a raw string begins with an **r** `r'string'`, the formatted string begins with an **f** `f'string'`. The variable to be concatenated is then included in curly brackets `{}`."
   ]
  },
  {
   "cell_type": "code",
   "execution_count": 20,
   "id": "bb82830b",
   "metadata": {
    "execution": {
     "iopub.execute_input": "2024-09-22T13:23:42.619272Z",
     "iopub.status.busy": "2024-09-22T13:23:42.619003Z",
     "iopub.status.idle": "2024-09-22T13:23:42.622705Z",
     "shell.execute_reply": "2024-09-22T13:23:42.622135Z",
     "shell.execute_reply.started": "2024-09-22T13:23:42.619254Z"
    }
   },
   "outputs": [
    {
     "name": "stdout",
     "output_type": "stream",
     "text": [
      "Hello Valentina!\n"
     ]
    }
   ],
   "source": [
    "# Print the username inside a formatted string\n",
    "print(f'Hello {username}!')"
   ]
  },
  {
   "cell_type": "markdown",
   "id": "9b5a7105",
   "metadata": {},
   "source": [
    "### Using `print()` with a `sep` or `end` argument\n",
    "The `print()` function can accept additional arguments such as `sep` or `end`. These can help format a string appropriately for output. By default, the print function will print many objects separated by a comma."
   ]
  },
  {
   "cell_type": "code",
   "execution_count": 21,
   "id": "ab505b0b",
   "metadata": {
    "execution": {
     "iopub.execute_input": "2024-09-22T13:23:59.391682Z",
     "iopub.status.busy": "2024-09-22T13:23:59.391359Z",
     "iopub.status.idle": "2024-09-22T13:23:59.394823Z",
     "shell.execute_reply": "2024-09-22T13:23:59.394363Z",
     "shell.execute_reply.started": "2024-09-22T13:23:59.391660Z"
    }
   },
   "outputs": [
    {
     "name": "stdout",
     "output_type": "stream",
     "text": [
      "Hello World !\n"
     ]
    }
   ],
   "source": [
    "# Print multiple objects with a single print() statement\n",
    "string1 = 'Hello'\n",
    "string2 = 'World'\n",
    "string3 = '!'\n",
    "\n",
    "print(string1, string2, string3) #the print fuction can take multiple arguments"
   ]
  },
  {
   "cell_type": "markdown",
   "id": "9d2c0e03",
   "metadata": {},
   "source": [
    "Notice that the `print()` function defaults to include a single space separator between the objects it prints. We can change this default separator by using the `sep` parameter."
   ]
  },
  {
   "cell_type": "code",
   "execution_count": 22,
   "id": "2c09dc1e",
   "metadata": {
    "execution": {
     "iopub.execute_input": "2024-09-22T13:25:01.391084Z",
     "iopub.status.busy": "2024-09-22T13:25:01.390868Z",
     "iopub.status.idle": "2024-09-22T13:25:01.394639Z",
     "shell.execute_reply": "2024-09-22T13:25:01.394060Z",
     "shell.execute_reply.started": "2024-09-22T13:25:01.391067Z"
    }
   },
   "outputs": [
    {
     "name": "stdout",
     "output_type": "stream",
     "text": [
      "Hello+World+!\n"
     ]
    }
   ],
   "source": [
    "# Use a plus as a separator\n",
    "print(string1, string2, string3, sep='+') #the print has a parameter (separator) that can be used to put stuff in between the different portions"
   ]
  },
  {
   "cell_type": "markdown",
   "id": "17dbca0c",
   "metadata": {},
   "source": [
    "We can even remove the separator by specifying an empty string."
   ]
  },
  {
   "cell_type": "code",
   "execution_count": 23,
   "id": "7adf6664",
   "metadata": {
    "execution": {
     "iopub.execute_input": "2024-09-22T13:26:16.121062Z",
     "iopub.status.busy": "2024-09-22T13:26:16.120760Z",
     "iopub.status.idle": "2024-09-22T13:26:16.124480Z",
     "shell.execute_reply": "2024-09-22T13:26:16.123895Z",
     "shell.execute_reply.started": "2024-09-22T13:26:16.121041Z"
    }
   },
   "outputs": [
    {
     "name": "stdout",
     "output_type": "stream",
     "text": [
      "HelloWorld!\n"
     ]
    }
   ],
   "source": [
    "# Specify an empty string for no separation\n",
    "print(string1, string2, string3, sep='')"
   ]
  },
  {
   "cell_type": "markdown",
   "id": "61457b17",
   "metadata": {},
   "source": [
    "The print `print()` function also concatenates a new line by default. The is specified in the default argument `end='\\n'`."
   ]
  },
  {
   "cell_type": "code",
   "execution_count": 30,
   "id": "17e38ed5",
   "metadata": {
    "execution": {
     "iopub.execute_input": "2024-09-22T13:29:46.390268Z",
     "iopub.status.busy": "2024-09-22T13:29:46.389967Z",
     "iopub.status.idle": "2024-09-22T13:29:46.393399Z",
     "shell.execute_reply": "2024-09-22T13:29:46.392899Z",
     "shell.execute_reply.started": "2024-09-22T13:29:46.390248Z"
    }
   },
   "outputs": [
    {
     "name": "stdout",
     "output_type": "stream",
     "text": [
      "Hello\n",
      "World\n"
     ]
    }
   ],
   "source": [
    "# Two strings printed on separate lines\n",
    "print('Hello', end='\\n')\n",
    "print('World', end='\\n')"
   ]
  },
  {
   "cell_type": "markdown",
   "id": "34d45ce7",
   "metadata": {},
   "source": [
    "___\n",
    "<h3 style=\"color:red; display:inline\">Try it! &lt; / &gt; </h3>\n",
    "\n",
    "**Keeping both `print()` functions above, can you print the outputs on the same line?**\n",
    "___"
   ]
  },
  {
   "cell_type": "code",
   "execution_count": 29,
   "id": "f944ba1f-706c-4ed7-b567-619061c80024",
   "metadata": {
    "execution": {
     "iopub.execute_input": "2024-09-22T13:29:17.390890Z",
     "iopub.status.busy": "2024-09-22T13:29:17.390256Z",
     "iopub.status.idle": "2024-09-22T13:29:17.394217Z",
     "shell.execute_reply": "2024-09-22T13:29:17.393669Z",
     "shell.execute_reply.started": "2024-09-22T13:29:17.390862Z"
    }
   },
   "outputs": [
    {
     "name": "stdout",
     "output_type": "stream",
     "text": [
      "Hello World\n"
     ]
    }
   ],
   "source": [
    "# Two strings printed on separate lines\n",
    "print('Hello', end=' ')\n",
    "print('World')"
   ]
  },
  {
   "cell_type": "markdown",
   "id": "87d47712",
   "metadata": {},
   "source": [
    "## String slices and methods"
   ]
  },
  {
   "cell_type": "markdown",
   "id": "d25aa3c5",
   "metadata": {},
   "source": [
    "### String slices\n",
    "The characters of a string can also be indexed and sliced like the items of a list. "
   ]
  },
  {
   "cell_type": "code",
   "execution_count": 31,
   "id": "68247bf4",
   "metadata": {
    "execution": {
     "iopub.execute_input": "2024-09-22T13:31:02.090951Z",
     "iopub.status.busy": "2024-09-22T13:31:02.090672Z",
     "iopub.status.idle": "2024-09-22T13:31:02.095989Z",
     "shell.execute_reply": "2024-09-22T13:31:02.095556Z",
     "shell.execute_reply.started": "2024-09-22T13:31:02.090931Z"
    }
   },
   "outputs": [
    {
     "data": {
      "text/plain": [
       "'P'"
      ]
     },
     "execution_count": 31,
     "metadata": {},
     "output_type": "execute_result"
    }
   ],
   "source": [
    "# Using a string index\n",
    "string = 'Python Basics'\n",
    "string[0]"
   ]
  },
  {
   "cell_type": "code",
   "execution_count": 32,
   "id": "69fede5a",
   "metadata": {
    "execution": {
     "iopub.execute_input": "2024-09-22T13:31:08.390368Z",
     "iopub.status.busy": "2024-09-22T13:31:08.389956Z",
     "iopub.status.idle": "2024-09-22T13:31:08.394131Z",
     "shell.execute_reply": "2024-09-22T13:31:08.393566Z",
     "shell.execute_reply.started": "2024-09-22T13:31:08.390351Z"
    }
   },
   "outputs": [
    {
     "data": {
      "text/plain": [
       "'Python'"
      ]
     },
     "execution_count": 32,
     "metadata": {},
     "output_type": "execute_result"
    }
   ],
   "source": [
    "# Slicing a string\n",
    "string = 'Python Basics'\n",
    "string[0:6]"
   ]
  },
  {
   "cell_type": "markdown",
   "id": "cc435661",
   "metadata": {},
   "source": [
    "We can use flow control on a string the same way we would with a list."
   ]
  },
  {
   "cell_type": "code",
   "execution_count": 12,
   "id": "1dce18e5",
   "metadata": {
    "execution": {
     "iopub.execute_input": "2024-09-23T17:05:08.134535Z",
     "iopub.status.busy": "2024-09-23T17:05:08.133993Z",
     "iopub.status.idle": "2024-09-23T17:05:08.138105Z",
     "shell.execute_reply": "2024-09-23T17:05:08.137434Z",
     "shell.execute_reply.started": "2024-09-23T17:05:08.134515Z"
    }
   },
   "outputs": [
    {
     "name": "stdout",
     "output_type": "stream",
     "text": [
      "Hell Wrld"
     ]
    }
   ],
   "source": [
    "# Use a for loop on the string\n",
    "# To print each character except any letter 'o'\n",
    "string = 'Hello World'\n",
    "for char in string:\n",
    "    if char != \"o\" :\n",
    "        print(char,end=\"\")\n",
    "    \n",
    "\n"
   ]
  },
  {
   "cell_type": "markdown",
   "id": "6ff7f667",
   "metadata": {},
   "source": [
    "___\n",
    "<h3 style=\"color:red; display:inline\">Try it! &lt; / &gt; </h3>\n",
    "\n",
    "**Can you use a `for` loop to print each character of the string `Hello World` without printing the letter 'o'?**\n",
    "___"
   ]
  },
  {
   "cell_type": "markdown",
   "id": "62b96ff9",
   "metadata": {},
   "source": [
    "### String methods"
   ]
  },
  {
   "cell_type": "markdown",
   "id": "627ab00f",
   "metadata": {},
   "source": [
    "There are a variety of methods for manipulating strings. \n",
    "\n",
    "\n",
    "|Method | Purpose | Form |\n",
    "|---|---|---|\n",
    "|.lower()| change the string to lowercase | string.lower()|\n",
    "|.upper()| change the string to uppercase | string.upper()|\n",
    "|.join()| joins together a list of strings | ' '.join(string_list)|\n",
    "|.split()| splits strings apart | string.split()|\n",
    "|.replace()| replaces characters in a string | string.replace(oldvalue, newvalue)|\n",
    "|.rjust(), .ljust(), .center()| pad out a string | string.rjust(5)|\n",
    "|.rstrip(), .lstrip(), .strip()| strip out whitespace | string.rstrip()|\n"
   ]
  },
  {
   "cell_type": "markdown",
   "id": "dc115416",
   "metadata": {},
   "source": [
    "All of the characters in a string can be lowercased with `.lower()` or uppercased with `.upper()`."
   ]
  },
  {
   "cell_type": "code",
   "execution_count": 6,
   "id": "dd711113",
   "metadata": {
    "execution": {
     "iopub.execute_input": "2025-05-22T17:46:55.812954Z",
     "iopub.status.busy": "2025-05-22T17:46:55.812671Z",
     "iopub.status.idle": "2025-05-22T17:46:55.817734Z",
     "shell.execute_reply": "2025-05-22T17:46:55.817344Z",
     "shell.execute_reply.started": "2025-05-22T17:46:55.812936Z"
    }
   },
   "outputs": [
    {
     "data": {
      "text/plain": [
       "'hello world'"
      ]
     },
     "execution_count": 6,
     "metadata": {},
     "output_type": "execute_result"
    }
   ],
   "source": [
    "# Lowercase a string\n",
    "string = 'Hello World'\n",
    "string.lower() #the original variable is still inctact"
   ]
  },
  {
   "cell_type": "code",
   "execution_count": 8,
   "id": "1ad81ae0-8cb6-44c5-b999-5e352b58f9fd",
   "metadata": {
    "execution": {
     "iopub.execute_input": "2025-05-22T17:47:20.812211Z",
     "iopub.status.busy": "2025-05-22T17:47:20.811938Z",
     "iopub.status.idle": "2025-05-22T17:47:20.815049Z",
     "shell.execute_reply": "2025-05-22T17:47:20.814571Z",
     "shell.execute_reply.started": "2025-05-22T17:47:20.812194Z"
    }
   },
   "outputs": [
    {
     "name": "stdout",
     "output_type": "stream",
     "text": [
      "Hello World\n"
     ]
    }
   ],
   "source": [
    "print(string)  #the original variable is still inctact"
   ]
  },
  {
   "cell_type": "code",
   "execution_count": 9,
   "id": "665d37f4-0afd-448b-b112-b2a074b14697",
   "metadata": {
    "execution": {
     "iopub.execute_input": "2025-05-22T17:47:38.547468Z",
     "iopub.status.busy": "2025-05-22T17:47:38.547183Z",
     "iopub.status.idle": "2025-05-22T17:47:43.061033Z",
     "shell.execute_reply": "2025-05-22T17:47:43.060577Z",
     "shell.execute_reply.started": "2025-05-22T17:47:38.547450Z"
    }
   },
   "outputs": [
    {
     "name": "stdin",
     "output_type": "stream",
     "text": [
      "Are you having a good day? YES\n"
     ]
    },
    {
     "name": "stdout",
     "output_type": "stream",
     "text": [
      "I'm glad to hear that\n"
     ]
    }
   ],
   "source": [
    "having_good_day = input(\"Are you having a good day?\")\n",
    "if having_good_day.lower() == \"yes\" : #allows you to compare all the variables based on strings alone and not upper lower case\n",
    "      print(\"I'm glad to hear that\")"
   ]
  },
  {
   "cell_type": "markdown",
   "id": "f662ad15",
   "metadata": {},
   "source": [
    "These methods do not change the original string, but they return a string that can be saved to a new variable."
   ]
  },
  {
   "cell_type": "code",
   "execution_count": 14,
   "id": "07355978",
   "metadata": {
    "execution": {
     "iopub.execute_input": "2024-09-23T17:07:33.520070Z",
     "iopub.status.busy": "2024-09-23T17:07:33.519778Z",
     "iopub.status.idle": "2024-09-23T17:07:33.523174Z",
     "shell.execute_reply": "2024-09-23T17:07:33.522726Z",
     "shell.execute_reply.started": "2024-09-23T17:07:33.520053Z"
    }
   },
   "outputs": [
    {
     "name": "stdout",
     "output_type": "stream",
     "text": [
      "Hello World\n",
      "HELLO WORLD\n"
     ]
    }
   ],
   "source": [
    "# The original string is unchanged\n",
    "print(string)\n",
    "\n",
    "# The returned string can be assigned to a new variable\n",
    "new_string = string.upper()\n",
    "print(new_string)"
   ]
  },
  {
   "cell_type": "markdown",
   "id": "ed8475ef",
   "metadata": {},
   "source": [
    "A string can be split on any character, or set of characters, passed into `.split()`. By default, strings are split on any whitespace including spaces, new lines, and tabs."
   ]
  },
  {
   "cell_type": "code",
   "execution_count": 10,
   "id": "715edb2a",
   "metadata": {
    "execution": {
     "iopub.execute_input": "2025-05-22T17:49:46.337235Z",
     "iopub.status.busy": "2025-05-22T17:49:46.336711Z",
     "iopub.status.idle": "2025-05-22T17:49:46.340364Z",
     "shell.execute_reply": "2025-05-22T17:49:46.339978Z",
     "shell.execute_reply.started": "2025-05-22T17:49:46.337217Z"
    }
   },
   "outputs": [
    {
     "data": {
      "text/plain": [
       "['This', 'string', 'will', 'be', 'split', 'on', 'whitespace.']"
      ]
     },
     "execution_count": 10,
     "metadata": {},
     "output_type": "execute_result"
    }
   ],
   "source": [
    "# Splitting a string on white space\n",
    "string = 'This string will be split on whitespace.'\n",
    "string.split()\n",
    "#this is a process that plays into \"tokenization\" in word analysis\n",
    "#the period in this case doesn't get separated"
   ]
  },
  {
   "cell_type": "code",
   "execution_count": 11,
   "id": "74aa2f03",
   "metadata": {
    "execution": {
     "iopub.execute_input": "2025-05-22T17:49:53.812625Z",
     "iopub.status.busy": "2025-05-22T17:49:53.812360Z",
     "iopub.status.idle": "2025-05-22T17:49:53.815914Z",
     "shell.execute_reply": "2025-05-22T17:49:53.815523Z",
     "shell.execute_reply.started": "2025-05-22T17:49:53.812608Z"
    }
   },
   "outputs": [
    {
     "data": {
      "text/plain": [
       "['313', '555', '3434']"
      ]
     },
     "execution_count": 11,
     "metadata": {},
     "output_type": "execute_result"
    }
   ],
   "source": [
    "# Splitting a phone string based on the '-' character\n",
    "phone_string = '313-555-3434'\n",
    "phone_string.split('-') # We can specify a method for the split. in this case it splits when encountering a dash"
   ]
  },
  {
   "cell_type": "markdown",
   "id": "19bdaa25",
   "metadata": {},
   "source": [
    "Similarly, lists of strings can be joined together by passing them into `.join()`. A joining string must be specified before the `.join()`, even if it is the empty string `''`."
   ]
  },
  {
   "cell_type": "code",
   "execution_count": 12,
   "id": "4a1ac4a0",
   "metadata": {
    "execution": {
     "iopub.execute_input": "2025-05-22T17:53:36.812985Z",
     "iopub.status.busy": "2025-05-22T17:53:36.812712Z",
     "iopub.status.idle": "2025-05-22T17:53:36.816469Z",
     "shell.execute_reply": "2025-05-22T17:53:36.816075Z",
     "shell.execute_reply.started": "2025-05-22T17:53:36.812968Z"
    }
   },
   "outputs": [
    {
     "data": {
      "text/plain": [
       "'Sam, Delilah, Jordan'"
      ]
     },
     "execution_count": 12,
     "metadata": {},
     "output_type": "execute_result"
    }
   ],
   "source": [
    "# List of strings joined together\n",
    "name_list = ['Sam', 'Delilah', 'Jordan']\n",
    "', '.join(name_list)\n",
    "#you put the string that you want to be the separator and then you pass in the list\n",
    "#you treat the separator as an objects"
   ]
  },
  {
   "cell_type": "code",
   "execution_count": 13,
   "id": "6aaaa5db-2847-4cb7-b903-e6dc7d188e5b",
   "metadata": {
    "execution": {
     "iopub.execute_input": "2025-05-22T17:53:42.928609Z",
     "iopub.status.busy": "2025-05-22T17:53:42.928221Z",
     "iopub.status.idle": "2025-05-22T17:53:42.931832Z",
     "shell.execute_reply": "2025-05-22T17:53:42.931370Z",
     "shell.execute_reply.started": "2025-05-22T17:53:42.928591Z"
    }
   },
   "outputs": [
    {
     "data": {
      "text/plain": [
       "'Sam/ Delilah/ Jordan'"
      ]
     },
     "execution_count": 13,
     "metadata": {},
     "output_type": "execute_result"
    }
   ],
   "source": [
    "\"/ \".join(name_list)"
   ]
  },
  {
   "cell_type": "markdown",
   "id": "e9ef7c18",
   "metadata": {},
   "source": [
    "The `.strip()` method will strip leading and trailing whitespace (including spaces, tabs, and new lines) from a string. Remember, these changes will not affect the original string, but they can be assigned to a new variable."
   ]
  },
  {
   "cell_type": "code",
   "execution_count": 14,
   "id": "eef78d92",
   "metadata": {
    "execution": {
     "iopub.execute_input": "2025-05-22T17:54:42.812585Z",
     "iopub.status.busy": "2025-05-22T17:54:42.812307Z",
     "iopub.status.idle": "2025-05-22T17:54:42.816072Z",
     "shell.execute_reply": "2025-05-22T17:54:42.815631Z",
     "shell.execute_reply.started": "2025-05-22T17:54:42.812568Z"
    }
   },
   "outputs": [
    {
     "data": {
      "text/plain": [
       "'Python Basics'"
      ]
     },
     "execution_count": 14,
     "metadata": {},
     "output_type": "execute_result"
    }
   ],
   "source": [
    "# Stripping leading and trailing whitespaces from a string\n",
    "string = '    Python Basics '\n",
    "string.strip() #takes away the excess whitespaces spaces from the string"
   ]
  },
  {
   "cell_type": "markdown",
   "id": "ba3411fd",
   "metadata": {},
   "source": [
    "It is also possible to only strip whitespace from the right or left of a string."
   ]
  },
  {
   "cell_type": "code",
   "execution_count": 26,
   "id": "6feb4695",
   "metadata": {
    "execution": {
     "iopub.execute_input": "2024-09-23T17:23:27.520808Z",
     "iopub.status.busy": "2024-09-23T17:23:27.520522Z",
     "iopub.status.idle": "2024-09-23T17:23:27.524612Z",
     "shell.execute_reply": "2024-09-23T17:23:27.524035Z",
     "shell.execute_reply.started": "2024-09-23T17:23:27.520790Z"
    }
   },
   "outputs": [
    {
     "data": {
      "text/plain": [
       "'Python Basics '"
      ]
     },
     "execution_count": 26,
     "metadata": {},
     "output_type": "execute_result"
    }
   ],
   "source": [
    "# Stripping leading whitespace from the leftside of a string\n",
    "string = '    Python Basics '\n",
    "string.lstrip()"
   ]
  },
  {
   "cell_type": "markdown",
   "id": "2b5bdf99",
   "metadata": {},
   "source": [
    "Characters in a string can be replaced with other characters using the `.replace()` method."
   ]
  },
  {
   "cell_type": "code",
   "execution_count": 27,
   "id": "44f57f41",
   "metadata": {
    "execution": {
     "iopub.execute_input": "2024-09-23T17:23:38.519815Z",
     "iopub.status.busy": "2024-09-23T17:23:38.519534Z",
     "iopub.status.idle": "2024-09-23T17:23:38.523393Z",
     "shell.execute_reply": "2024-09-23T17:23:38.522903Z",
     "shell.execute_reply.started": "2024-09-23T17:23:38.519797Z"
    }
   },
   "outputs": [
    {
     "data": {
      "text/plain": [
       "'Hexxo worxd'"
      ]
     },
     "execution_count": 27,
     "metadata": {},
     "output_type": "execute_result"
    }
   ],
   "source": [
    "# Replacing characters in a string with .replace()\n",
    "string = 'Hello world'\n",
    "string.replace('l', 'x')"
   ]
  },
  {
   "cell_type": "code",
   "execution_count": 28,
   "id": "64291285",
   "metadata": {
    "execution": {
     "iopub.execute_input": "2024-09-23T17:23:51.168188Z",
     "iopub.status.busy": "2024-09-23T17:23:51.167695Z",
     "iopub.status.idle": "2024-09-23T17:23:51.171632Z",
     "shell.execute_reply": "2024-09-23T17:23:51.171191Z",
     "shell.execute_reply.started": "2024-09-23T17:23:51.168166Z"
    }
   },
   "outputs": [
    {
     "data": {
      "text/plain": [
       "'Hello World'"
      ]
     },
     "execution_count": 28,
     "metadata": {},
     "output_type": "execute_result"
    }
   ],
   "source": [
    "# Removing characters from a string\n",
    "# using .replace with an empty string\n",
    "string = 'Hello! World!'\n",
    "string.replace('!', '')"
   ]
  },
  {
   "cell_type": "code",
   "execution_count": 15,
   "id": "91a0976f-0bfb-44cf-af42-adec2e21a7f9",
   "metadata": {
    "execution": {
     "iopub.execute_input": "2025-05-22T17:57:56.812489Z",
     "iopub.status.busy": "2025-05-22T17:57:56.812212Z",
     "iopub.status.idle": "2025-05-22T17:57:56.815985Z",
     "shell.execute_reply": "2025-05-22T17:57:56.815503Z",
     "shell.execute_reply.started": "2025-05-22T17:57:56.812472Z"
    }
   },
   "outputs": [
    {
     "data": {
      "text/plain": [
       "'Hello Word'"
      ]
     },
     "execution_count": 15,
     "metadata": {},
     "output_type": "execute_result"
    }
   ],
   "source": [
    "string = \"Hello-Word\"\n",
    "string.replace(\"-\",\" \")"
   ]
  },
  {
   "cell_type": "markdown",
   "id": "08ce5b1d",
   "metadata": {},
   "source": [
    "Finally, strings can be justified (or padded out) with characters leading, trailing, or both. By default, strings are justified with spaces but other characters can be specified by passing a second argument."
   ]
  },
  {
   "cell_type": "code",
   "execution_count": 19,
   "id": "59f5efdf",
   "metadata": {
    "execution": {
     "iopub.execute_input": "2025-05-22T18:00:19.812078Z",
     "iopub.status.busy": "2025-05-22T18:00:19.811800Z",
     "iopub.status.idle": "2025-05-22T18:00:19.815046Z",
     "shell.execute_reply": "2025-05-22T18:00:19.814588Z",
     "shell.execute_reply.started": "2025-05-22T18:00:19.812061Z"
    }
   },
   "outputs": [
    {
     "name": "stdout",
     "output_type": "stream",
     "text": [
      "Hello     world!\n"
     ]
    }
   ],
   "source": [
    "# Left justifying a string\n",
    "string1 = 'Hello'\n",
    "string2 = 'world!'\n",
    "\n",
    "print(string1.ljust(10) + string2) #left justifying, the 10 counts the numerber of leght of the string"
   ]
  },
  {
   "cell_type": "code",
   "execution_count": 20,
   "id": "d7f4ed4f",
   "metadata": {
    "execution": {
     "iopub.execute_input": "2025-05-22T18:00:21.969402Z",
     "iopub.status.busy": "2025-05-22T18:00:21.969008Z",
     "iopub.status.idle": "2025-05-22T18:00:21.972203Z",
     "shell.execute_reply": "2025-05-22T18:00:21.971765Z",
     "shell.execute_reply.started": "2025-05-22T18:00:21.969383Z"
    }
   },
   "outputs": [
    {
     "name": "stdout",
     "output_type": "stream",
     "text": [
      "Hello+++++world!\n"
     ]
    }
   ],
   "source": [
    "# Left justifying a string with pluses\n",
    "string1 = 'Hello'\n",
    "string2 = 'world!'\n",
    "\n",
    "print(string1.ljust(10, '+') + string2)"
   ]
  },
  {
   "cell_type": "code",
   "execution_count": 21,
   "id": "521c61e9",
   "metadata": {
    "execution": {
     "iopub.execute_input": "2025-05-22T18:00:38.813027Z",
     "iopub.status.busy": "2025-05-22T18:00:38.812714Z",
     "iopub.status.idle": "2025-05-22T18:00:38.816006Z",
     "shell.execute_reply": "2025-05-22T18:00:38.815576Z",
     "shell.execute_reply.started": "2025-05-22T18:00:38.813005Z"
    }
   },
   "outputs": [
    {
     "name": "stdout",
     "output_type": "stream",
     "text": [
      "Hello    world!\n"
     ]
    }
   ],
   "source": [
    "# Right justifying a string\n",
    "string1 = 'Hello'\n",
    "string2 = 'world!'\n",
    "\n",
    "print(string1 + string2.rjust(10))"
   ]
  },
  {
   "cell_type": "code",
   "execution_count": 22,
   "id": "c8d4029c",
   "metadata": {
    "execution": {
     "iopub.execute_input": "2025-05-22T18:01:27.975111Z",
     "iopub.status.busy": "2025-05-22T18:01:27.974576Z",
     "iopub.status.idle": "2025-05-22T18:01:27.978094Z",
     "shell.execute_reply": "2025-05-22T18:01:27.977516Z",
     "shell.execute_reply.started": "2025-05-22T18:01:27.975092Z"
    }
   },
   "outputs": [
    {
     "name": "stdout",
     "output_type": "stream",
     "text": [
      "|    Hello world!    |\n"
     ]
    }
   ],
   "source": [
    "# Center a string\n",
    "string = 'Hello world!'\n",
    "\n",
    "print('|' + string.center(20) + '|')"
   ]
  },
  {
   "cell_type": "code",
   "execution_count": 23,
   "id": "a9096482",
   "metadata": {
    "execution": {
     "iopub.execute_input": "2025-05-22T18:01:44.248133Z",
     "iopub.status.busy": "2025-05-22T18:01:44.247664Z",
     "iopub.status.idle": "2025-05-22T18:01:44.251335Z",
     "shell.execute_reply": "2025-05-22T18:01:44.250736Z",
     "shell.execute_reply.started": "2025-05-22T18:01:44.248115Z"
    }
   },
   "outputs": [
    {
     "name": "stdout",
     "output_type": "stream",
     "text": [
      "|++++Hello world!++++|\n"
     ]
    }
   ],
   "source": [
    "# Center a string\n",
    "string = 'Hello world!'\n",
    "\n",
    "print('|' + string.center(20, '+') + '|')"
   ]
  },
  {
   "cell_type": "code",
   "execution_count": 32,
   "id": "6dd3b489",
   "metadata": {
    "execution": {
     "iopub.execute_input": "2025-05-22T18:08:47.325742Z",
     "iopub.status.busy": "2025-05-22T18:08:47.325248Z",
     "iopub.status.idle": "2025-05-22T18:08:47.329443Z",
     "shell.execute_reply": "2025-05-22T18:08:47.328898Z",
     "shell.execute_reply.started": "2025-05-22T18:08:47.325724Z"
    }
   },
   "outputs": [
    {
     "name": "stdout",
     "output_type": "stream",
     "text": [
      "NAME                          OCCUPATION\n",
      "Amanda Bennett                 Engineer, electrical\n",
      "Bryan Miller                   Radiation protection practitioner\n",
      "Christopher Garrison           Planning and development surveyor\n",
      "Debra Allen                    Intelligence analyst\n"
     ]
    }
   ],
   "source": [
    "# Printing a dictionary of contacts in neat columns\n",
    "contacts ={\n",
    " 'Amanda Bennett': 'Engineer, electrical',\n",
    " 'Bryan Miller': 'Radiation protection practitioner',\n",
    " 'Christopher Garrison': 'Planning and development surveyor',\n",
    " 'Debra Allen': 'Intelligence analyst'}\n",
    "\n",
    "name_variable = \"NAME\"\n",
    "occupation_variable = \"OCCUPATION\"\n",
    "print(name_variable.ljust(30) + occupation_variable)\n",
    "for name, occupation in contacts.items():\n",
    "    print(name.ljust (30), occupation)"
   ]
  },
  {
   "cell_type": "markdown",
   "id": "f9c9520b",
   "metadata": {},
   "source": [
    "___\n",
    "<h3 style=\"color:red; display:inline\">Try it! &lt; / &gt; </h3>\n",
    "\n",
    "**Can you clean up the printing of the contacts dictionary?**\n",
    "___"
   ]
  },
  {
   "cell_type": "markdown",
   "id": "54c6f97a",
   "metadata": {},
   "source": [
    "### Checking string contents\n",
    "\n",
    "There are a variety of ways to to verify the contents of a string. These return a Boolean `True` or `False` and are useful for flow control. For example, we can check if a particular set of characters is inside of a string with the `in` and `not in` operators. The result is a Boolean True or False."
   ]
  },
  {
   "cell_type": "code",
   "execution_count": 33,
   "id": "f4a960cb",
   "metadata": {
    "execution": {
     "iopub.execute_input": "2025-05-22T18:16:54.465535Z",
     "iopub.status.busy": "2025-05-22T18:16:54.465147Z",
     "iopub.status.idle": "2025-05-22T18:16:54.468913Z",
     "shell.execute_reply": "2025-05-22T18:16:54.468440Z",
     "shell.execute_reply.started": "2025-05-22T18:16:54.465516Z"
    }
   },
   "outputs": [
    {
     "data": {
      "text/plain": [
       "True"
      ]
     },
     "execution_count": 33,
     "metadata": {},
     "output_type": "execute_result"
    }
   ],
   "source": [
    "# Check whether a set of characters can be found in a string\n",
    "string = 'Python Basics'\n",
    "'Basics' in string\n",
    "#this can be used for example to check if some words are in a text"
   ]
  },
  {
   "cell_type": "markdown",
   "id": "f9f5cd5d",
   "metadata": {},
   "source": [
    "The following string methods also return Boolean `True` or `False` values.\n",
    "\n",
    "|Method | Purpose | Form |\n",
    "|---|---|---|\n",
    "|.startswith(), .endswith()| returns `True` if the string starts/ends with another string | string.startswith('abc')|\n",
    "|.isupper(), .islower()| returns `True` if all characters are upper or lowercase| string.isupper()|\n",
    "|.isalpha()| returns `True` if string is only letters and not blank | string.isalpha()|\n",
    "|.isalnum()| returns `True` if string only letters or numbers but not blank | string.alnum()|\n",
    "|.isdigit()| returns`True` if string is only numbers and not blank | string.isdigit()|"
   ]
  },
  {
   "cell_type": "code",
   "execution_count": 34,
   "id": "83686070",
   "metadata": {
    "execution": {
     "iopub.execute_input": "2025-05-22T18:19:33.502583Z",
     "iopub.status.busy": "2025-05-22T18:19:33.502301Z",
     "iopub.status.idle": "2025-05-22T18:19:33.506211Z",
     "shell.execute_reply": "2025-05-22T18:19:33.505701Z",
     "shell.execute_reply.started": "2025-05-22T18:19:33.502564Z"
    }
   },
   "outputs": [
    {
     "data": {
      "text/plain": [
       "True"
      ]
     },
     "execution_count": 34,
     "metadata": {},
     "output_type": "execute_result"
    }
   ],
   "source": [
    "# Checking if a string starts \n",
    "# with a particular set of characters\n",
    "\n",
    "string = 'Python Basics'\n",
    "string.startswith('Python')"
   ]
  },
  {
   "cell_type": "code",
   "execution_count": 35,
   "id": "446c6f2e",
   "metadata": {
    "execution": {
     "iopub.execute_input": "2025-05-22T18:19:37.083928Z",
     "iopub.status.busy": "2025-05-22T18:19:37.083664Z",
     "iopub.status.idle": "2025-05-22T18:19:37.087300Z",
     "shell.execute_reply": "2025-05-22T18:19:37.086892Z",
     "shell.execute_reply.started": "2025-05-22T18:19:37.083910Z"
    }
   },
   "outputs": [
    {
     "data": {
      "text/plain": [
       "True"
      ]
     },
     "execution_count": 35,
     "metadata": {},
     "output_type": "execute_result"
    }
   ],
   "source": [
    "# Checking if a string is lowercased\n",
    "string = 'python basics'\n",
    "string.islower()"
   ]
  },
  {
   "cell_type": "code",
   "execution_count": 36,
   "id": "7faf2cef",
   "metadata": {
    "execution": {
     "iopub.execute_input": "2025-05-22T18:19:39.813683Z",
     "iopub.status.busy": "2025-05-22T18:19:39.813422Z",
     "iopub.status.idle": "2025-05-22T18:19:39.816847Z",
     "shell.execute_reply": "2025-05-22T18:19:39.816462Z",
     "shell.execute_reply.started": "2025-05-22T18:19:39.813666Z"
    }
   },
   "outputs": [
    {
     "data": {
      "text/plain": [
       "True"
      ]
     },
     "execution_count": 36,
     "metadata": {},
     "output_type": "execute_result"
    }
   ],
   "source": [
    "# Checking if a string is alphabet characters\n",
    "string = 'PythonBasics'\n",
    "string.isalpha()"
   ]
  },
  {
   "cell_type": "code",
   "execution_count": 37,
   "id": "6e1796b8",
   "metadata": {
    "execution": {
     "iopub.execute_input": "2025-05-22T18:19:42.813062Z",
     "iopub.status.busy": "2025-05-22T18:19:42.812799Z",
     "iopub.status.idle": "2025-05-22T18:19:42.816313Z",
     "shell.execute_reply": "2025-05-22T18:19:42.815914Z",
     "shell.execute_reply.started": "2025-05-22T18:19:42.813045Z"
    }
   },
   "outputs": [
    {
     "data": {
      "text/plain": [
       "True"
      ]
     },
     "execution_count": 37,
     "metadata": {},
     "output_type": "execute_result"
    }
   ],
   "source": [
    "# Checking if a string only\n",
    "# alphabetic characters and numbers\n",
    "string = 'PythonBasics5'\n",
    "string.isalnum()"
   ]
  },
  {
   "cell_type": "code",
   "execution_count": 38,
   "id": "be02879a",
   "metadata": {
    "execution": {
     "iopub.execute_input": "2025-05-22T18:19:50.293190Z",
     "iopub.status.busy": "2025-05-22T18:19:50.292698Z",
     "iopub.status.idle": "2025-05-22T18:19:50.296115Z",
     "shell.execute_reply": "2025-05-22T18:19:50.295722Z",
     "shell.execute_reply.started": "2025-05-22T18:19:50.293173Z"
    }
   },
   "outputs": [
    {
     "data": {
      "text/plain": [
       "True"
      ]
     },
     "execution_count": 38,
     "metadata": {},
     "output_type": "execute_result"
    }
   ],
   "source": [
    "# Checking if a string is only numbers\n",
    "string = '50'\n",
    "string.isdigit()"
   ]
  },
  {
   "cell_type": "markdown",
   "id": "989e820b",
   "metadata": {},
   "source": [
    "The `.isdigit()` method checks each character to verify it is a digit between 0-9. It will return `false` if there is a negative (-) or decimal point (.) character."
   ]
  },
  {
   "cell_type": "markdown",
   "id": "2ec43ee3",
   "metadata": {},
   "source": [
    "___\n",
    "<h2 style=\"color:red; display:inline\">Coding Challenge! &lt; / &gt; </h2>\n",
    "\n",
    "**Use flow control on the staff list below to print the name of every person with the first name 'Patricia' or the the last name 'Mitchell'**\n",
    "___"
   ]
  },
  {
   "cell_type": "code",
   "execution_count": 3,
   "id": "b02ea9e9",
   "metadata": {
    "execution": {
     "iopub.execute_input": "2025-05-23T13:26:46.602889Z",
     "iopub.status.busy": "2025-05-23T13:26:46.602393Z",
     "iopub.status.idle": "2025-05-23T13:26:46.607206Z",
     "shell.execute_reply": "2025-05-23T13:26:46.606664Z",
     "shell.execute_reply.started": "2025-05-23T13:26:46.602869Z"
    }
   },
   "outputs": [
    {
     "name": "stdout",
     "output_type": "stream",
     "text": [
      "Anthony Mitchell\n",
      "Patricia Clark\n",
      "Danielle Mitchell\n",
      "Patricia Walker\n",
      "Patricia Mosley\n",
      "Anna Mitchell\n"
     ]
    }
   ],
   "source": [
    "# A list of staff members\n",
    "staff = ['Tara Richards',\n",
    " 'Tammy French',\n",
    " 'Justin Douglas',\n",
    " 'Lauren Marquez',\n",
    " 'Aaron Wilson',\n",
    " 'Dennis Howell',\n",
    " 'Brandon Reed',\n",
    " 'Kelly Baker',\n",
    " 'Justin Howard',\n",
    " 'Sarah Myers',\n",
    " 'Vanessa Burgess',\n",
    " 'Timothy Davidson',\n",
    " 'Jessica Lee',\n",
    " 'Christopher Miller',\n",
    " 'Lisa Grant',\n",
    " 'Ryan Chan',\n",
    " 'Gary Carson',\n",
    " 'Anthony Mitchell',\n",
    " 'Jacob Turner',\n",
    " 'Jennifer Bonilla',\n",
    " 'Rachel Gonzalez',\n",
    " 'Patricia Clark',\n",
    " 'Richard Pearson',\n",
    " 'Glenn Allen',\n",
    " 'Jacqueline Gallagher',\n",
    " 'Carlos Mcdowell',\n",
    " 'Jeffrey Harris',\n",
    " 'Danielle Mitchell',\n",
    " 'Sarah Craig',\n",
    " 'Vernon Vasquez',\n",
    " 'Anthony Burton',\n",
    " 'Erica Bryant',\n",
    " 'Patricia Walker',\n",
    " 'Karen Brown',\n",
    " 'Terri Walker',\n",
    " 'Michelle Knight',\n",
    " 'Kathleen Douglas',\n",
    " 'Debbie Estrada',\n",
    " 'Jennifer Brewer',\n",
    " 'Taylor Rodriguez',\n",
    " 'Lisa Turner',\n",
    " 'Julie Hudson',\n",
    " 'Christina Cox',\n",
    " 'Nancy Patrick',\n",
    " 'Patricia Mosley',\n",
    " 'Nicholas Gordon',\n",
    " 'Wanda Vasquez',\n",
    " 'Jason Lopez',\n",
    " 'Anna Mitchell',\n",
    " 'Tyler Perez']\n",
    "\n",
    "for staff_member in staff: #we use a for loop to iterate through the elements of the list\n",
    "    staff_name = staff_member.split() #we store the split version of each string element in a new variable\n",
    "    if \"Patricia\" in staff_name or \"Mitchell\" in staff_name: #we create a flow control statement to check if the split version of each elements is equal to \"Patricia\" or \"Mitchell\"\n",
    "        print(staff_member) #if above true we print the staff_member"
   ]
  },
  {
   "cell_type": "markdown",
   "id": "bd4c9c17",
   "metadata": {},
   "source": [
    "___\n",
    "<h2 style=\"color:red; display:inline\">Coding Challenge! &lt; / &gt; </h2>\n",
    "\n",
    "**Print all the first names in the staff list. The `.split()` method would be useful.**\n",
    "___"
   ]
  },
  {
   "cell_type": "code",
   "execution_count": 4,
   "id": "61116417",
   "metadata": {
    "execution": {
     "iopub.execute_input": "2025-05-23T13:26:49.476997Z",
     "iopub.status.busy": "2025-05-23T13:26:49.476422Z",
     "iopub.status.idle": "2025-05-23T13:26:49.480412Z",
     "shell.execute_reply": "2025-05-23T13:26:49.479966Z",
     "shell.execute_reply.started": "2025-05-23T13:26:49.476968Z"
    }
   },
   "outputs": [
    {
     "name": "stdout",
     "output_type": "stream",
     "text": [
      "Tara\n",
      "Tammy\n",
      "Justin\n",
      "Lauren\n",
      "Aaron\n",
      "Dennis\n",
      "Brandon\n",
      "Kelly\n",
      "Justin\n",
      "Sarah\n",
      "Vanessa\n",
      "Timothy\n",
      "Jessica\n",
      "Christopher\n",
      "Lisa\n",
      "Ryan\n",
      "Gary\n",
      "Anthony\n",
      "Jacob\n",
      "Jennifer\n",
      "Rachel\n",
      "Patricia\n",
      "Richard\n",
      "Glenn\n",
      "Jacqueline\n",
      "Carlos\n",
      "Jeffrey\n",
      "Danielle\n",
      "Sarah\n",
      "Vernon\n",
      "Anthony\n",
      "Erica\n",
      "Patricia\n",
      "Karen\n",
      "Terri\n",
      "Michelle\n",
      "Kathleen\n",
      "Debbie\n",
      "Jennifer\n",
      "Taylor\n",
      "Lisa\n",
      "Julie\n",
      "Christina\n",
      "Nancy\n",
      "Patricia\n",
      "Nicholas\n",
      "Wanda\n",
      "Jason\n",
      "Anna\n",
      "Tyler\n"
     ]
    }
   ],
   "source": [
    "# Print all the first names in the staff list\n",
    "for staff_member in staff:\n",
    "    staff_name = staff_member.split() #when we do the split() function we create a list object\n",
    "    print(staff_name [0]) #because we created a list we can use the index 0 to have the first name"
   ]
  },
  {
   "cell_type": "markdown",
   "id": "07a22cd1",
   "metadata": {},
   "source": [
    "___\n",
    "<h2 style=\"color:red; display:inline\">Coding Challenge! &lt; / &gt; </h2>\n",
    "\n",
    "**Use flow control on the staff list to add all of the staff list to the colleagues list below. You will need to split the first and last names apart using the `.split()` method. You will also need to create a dictionary for each entry in the colleagues list and append the dictionary to colleagues list. Print out the first names of all colleagues.**\n",
    "___"
   ]
  },
  {
   "cell_type": "code",
   "execution_count": 7,
   "id": "13eb9af2-c75a-4aeb-bbb3-935181bb7e29",
   "metadata": {
    "execution": {
     "iopub.execute_input": "2025-05-23T13:31:00.120777Z",
     "iopub.status.busy": "2025-05-23T13:31:00.120274Z",
     "iopub.status.idle": "2025-05-23T13:31:00.124623Z",
     "shell.execute_reply": "2025-05-23T13:31:00.124162Z",
     "shell.execute_reply.started": "2025-05-23T13:31:00.120752Z"
    }
   },
   "outputs": [
    {
     "name": "stdout",
     "output_type": "stream",
     "text": [
      "{'first_name': 'Tara', 'last_name': 'Richards'}\n",
      "{'first_name': 'Tammy', 'last_name': 'French'}\n",
      "{'first_name': 'Justin', 'last_name': 'Douglas'}\n",
      "{'first_name': 'Lauren', 'last_name': 'Marquez'}\n",
      "{'first_name': 'Aaron', 'last_name': 'Wilson'}\n",
      "{'first_name': 'Dennis', 'last_name': 'Howell'}\n",
      "{'first_name': 'Brandon', 'last_name': 'Reed'}\n",
      "{'first_name': 'Kelly', 'last_name': 'Baker'}\n",
      "{'first_name': 'Justin', 'last_name': 'Howard'}\n",
      "{'first_name': 'Sarah', 'last_name': 'Myers'}\n",
      "{'first_name': 'Vanessa', 'last_name': 'Burgess'}\n",
      "{'first_name': 'Timothy', 'last_name': 'Davidson'}\n",
      "{'first_name': 'Jessica', 'last_name': 'Lee'}\n",
      "{'first_name': 'Christopher', 'last_name': 'Miller'}\n",
      "{'first_name': 'Lisa', 'last_name': 'Grant'}\n",
      "{'first_name': 'Ryan', 'last_name': 'Chan'}\n",
      "{'first_name': 'Gary', 'last_name': 'Carson'}\n",
      "{'first_name': 'Anthony', 'last_name': 'Mitchell'}\n",
      "{'first_name': 'Jacob', 'last_name': 'Turner'}\n",
      "{'first_name': 'Jennifer', 'last_name': 'Bonilla'}\n",
      "{'first_name': 'Rachel', 'last_name': 'Gonzalez'}\n",
      "{'first_name': 'Patricia', 'last_name': 'Clark'}\n",
      "{'first_name': 'Richard', 'last_name': 'Pearson'}\n",
      "{'first_name': 'Glenn', 'last_name': 'Allen'}\n",
      "{'first_name': 'Jacqueline', 'last_name': 'Gallagher'}\n",
      "{'first_name': 'Carlos', 'last_name': 'Mcdowell'}\n",
      "{'first_name': 'Jeffrey', 'last_name': 'Harris'}\n",
      "{'first_name': 'Danielle', 'last_name': 'Mitchell'}\n",
      "{'first_name': 'Sarah', 'last_name': 'Craig'}\n",
      "{'first_name': 'Vernon', 'last_name': 'Vasquez'}\n",
      "{'first_name': 'Anthony', 'last_name': 'Burton'}\n",
      "{'first_name': 'Erica', 'last_name': 'Bryant'}\n",
      "{'first_name': 'Patricia', 'last_name': 'Walker'}\n",
      "{'first_name': 'Karen', 'last_name': 'Brown'}\n",
      "{'first_name': 'Terri', 'last_name': 'Walker'}\n",
      "{'first_name': 'Michelle', 'last_name': 'Knight'}\n",
      "{'first_name': 'Kathleen', 'last_name': 'Douglas'}\n",
      "{'first_name': 'Debbie', 'last_name': 'Estrada'}\n",
      "{'first_name': 'Jennifer', 'last_name': 'Brewer'}\n",
      "{'first_name': 'Taylor', 'last_name': 'Rodriguez'}\n",
      "{'first_name': 'Lisa', 'last_name': 'Turner'}\n",
      "{'first_name': 'Julie', 'last_name': 'Hudson'}\n",
      "{'first_name': 'Christina', 'last_name': 'Cox'}\n",
      "{'first_name': 'Nancy', 'last_name': 'Patrick'}\n",
      "{'first_name': 'Patricia', 'last_name': 'Mosley'}\n",
      "{'first_name': 'Nicholas', 'last_name': 'Gordon'}\n",
      "{'first_name': 'Wanda', 'last_name': 'Vasquez'}\n",
      "{'first_name': 'Jason', 'last_name': 'Lopez'}\n",
      "{'first_name': 'Anna', 'last_name': 'Mitchell'}\n",
      "{'first_name': 'Tyler', 'last_name': 'Perez'}\n"
     ]
    }
   ],
   "source": [
    "from pprint import pprint #we import the pretty print function useful for printing out dictionaries in a neat order\n",
    "\n",
    "staff_dict ={}  #we create an empty dict that we will use to put all the stuff name in the dict format\n",
    "for staff_member in staff: #for loop: we iterate through every element of the list (staff) \n",
    "    staff_name = staff_member.split() #we create a new variable that will be all the separated names. The split fuction will create a list with all of the elements that were splitted\n",
    "    first_name = staff_name[0] #we create the first name variable\n",
    "    last_name = staff_name[1] #we create the last name variable\n",
    "    staff_dict['first_name'] = first_name #this assign a key to the variable value\n",
    "    staff_dict['last_name'] = last_name\n",
    "    pprint(staff_dict)"
   ]
  },
  {
   "cell_type": "code",
   "execution_count": 17,
   "id": "ad70ad86",
   "metadata": {
    "execution": {
     "iopub.execute_input": "2025-05-23T13:48:28.613753Z",
     "iopub.status.busy": "2025-05-23T13:48:28.613234Z",
     "iopub.status.idle": "2025-05-23T13:48:28.617642Z",
     "shell.execute_reply": "2025-05-23T13:48:28.617077Z",
     "shell.execute_reply.started": "2025-05-23T13:48:28.613732Z"
    }
   },
   "outputs": [
    {
     "ename": "SyntaxError",
     "evalue": "closing parenthesis ']' does not match opening parenthesis '(' (1745904368.py, line 15)",
     "output_type": "error",
     "traceback": [
      "\u001b[0;36m  Cell \u001b[0;32mIn[17], line 15\u001b[0;36m\u001b[0m\n\u001b[0;31m    pprint(entry'first_name']) # Print the first name of the first colleague\u001b[0m\n\u001b[0m                            ^\u001b[0m\n\u001b[0;31mSyntaxError\u001b[0m\u001b[0;31m:\u001b[0m closing parenthesis ']' does not match opening parenthesis '('\n"
     ]
    }
   ],
   "source": [
    "colleagues = [\n",
    "    {'first_name': 'Ada', 'last_name': 'Lovelace'},\n",
    "    {'first_name': 'Charles', 'last_name': 'Babbage'}\n",
    "]\n",
    "staff_dict ={} \n",
    "for staff_member in staff:\n",
    "    staff_name = staff_member.split() \n",
    "    first_name = staff_name[0]\n",
    "    last_name = staff_name[1]\n",
    "    staff_dict['first_name'] = first_name\n",
    "    staff_dict['last_name'] = last_name\n",
    "    colleagues.append(staff_dict)\n",
    "\n",
    "for entry in colleagues:\n",
    "    pprint(entry'first_name']) # Print the first name of the first colleague\n"
   ]
  },
  {
   "cell_type": "markdown",
   "id": "27309841",
   "metadata": {},
   "source": [
    "___\n",
    "## Lesson Complete\n",
    "Congratulations! You've completed the *Python Basics* series. \n",
    "\n",
    "Considering the amount of material in *Python Basics 1-5* there's a good chance you won't retain it all. That's okay. Programmers often need to look up things to accomplish a task they haven't done in a while, particularly if it is in a language they don't often use. When you're working on a project, you can always come back to these lessons as reference materials. In other words, you've learned an incredible amount, so don't be surprised if it doesn't all stick at first.\n",
    "\n",
    "If you want to help yourself retain what you've learned, the best way is to start putting it into practice. Try your hand at creating some small Python projects and recognize that the things you've learned here will cement with time and practice. When you do forget a particular thing&mdash;as we all do&mdash;a quick web search often turns up some useful examples.\n",
    "\n",
    "\n",
    "### Start An Intermediate Python Skills Lesson: \n",
    "* [Python Intermediate 1](../Python-intermediate/python-intermediate-1.ipynb)\n",
    "* [Pandas basics 1](../Pandas-basics/pandas-basics-1.ipynb)\n",
    "\n",
    "### Start a Text Analysis Lesson:\n",
    "* [Exploring Metadata](../Exploring-metadata/exploring-metadata.ipynb) \n",
    "\n",
    "\n",
    "### Coding Solutions\n",
    "\n",
    "Here are a few solutions for exercises in this lesson.\n",
    "___"
   ]
  },
  {
   "cell_type": "code",
   "execution_count": null,
   "id": "ddd0114d",
   "metadata": {},
   "outputs": [],
   "source": [
    "# Using a for loop on a string\n",
    "string = 'Hello World'\n",
    "\n",
    "for character in string:\n",
    "    if character != 'o':\n",
    "        print(character, end='')"
   ]
  },
  {
   "cell_type": "code",
   "execution_count": null,
   "id": "a1a0dec0",
   "metadata": {},
   "outputs": [],
   "source": [
    "# Printing a dictionary of contacts in neat columns\n",
    "contacts ={\n",
    " 'Amanda Bennett': 'Engineer, electrical',\n",
    " 'Bryan Miller': 'Radiation protection practitioner',\n",
    " 'Christopher Garrison': 'Planning and development surveyor',\n",
    " 'Debra Allen': 'Intelligence analyst'}\n",
    "\n",
    "print('Name'.ljust(22), 'Occupation')\n",
    "print('|'.center(44, '-'))\n",
    "for name, occupation in contacts.items():\n",
    "    print(name.ljust(20), '|', occupation)"
   ]
  },
  {
   "cell_type": "code",
   "execution_count": null,
   "id": "dea437e9",
   "metadata": {},
   "outputs": [],
   "source": [
    "# Print all staff names with the first name Patricia or last name Mitchell\n",
    "for name in staff:\n",
    "   if name.startswith('Patricia') or name.endswith('Mitchell'):\n",
    "        print(name)"
   ]
  },
  {
   "cell_type": "code",
   "execution_count": null,
   "id": "c3c07a7e",
   "metadata": {},
   "outputs": [],
   "source": [
    "# Print all the first names in the staff list\n",
    "for name in staff:\n",
    "    print(name.split()[0])"
   ]
  },
  {
   "cell_type": "code",
   "execution_count": 15,
   "id": "6695cd9b",
   "metadata": {
    "execution": {
     "iopub.execute_input": "2025-05-23T13:40:43.681479Z",
     "iopub.status.busy": "2025-05-23T13:40:43.681195Z",
     "iopub.status.idle": "2025-05-23T13:40:43.685461Z",
     "shell.execute_reply": "2025-05-23T13:40:43.685001Z",
     "shell.execute_reply.started": "2025-05-23T13:40:43.681459Z"
    }
   },
   "outputs": [
    {
     "name": "stdout",
     "output_type": "stream",
     "text": [
      "Ada\n",
      "Charles\n",
      "Tara\n",
      "Tammy\n",
      "Justin\n",
      "Lauren\n",
      "Aaron\n",
      "Dennis\n",
      "Brandon\n",
      "Kelly\n",
      "Justin\n",
      "Sarah\n",
      "Vanessa\n",
      "Timothy\n",
      "Jessica\n",
      "Christopher\n",
      "Lisa\n",
      "Ryan\n",
      "Gary\n",
      "Anthony\n",
      "Jacob\n",
      "Jennifer\n",
      "Rachel\n",
      "Patricia\n",
      "Richard\n",
      "Glenn\n",
      "Jacqueline\n",
      "Carlos\n",
      "Jeffrey\n",
      "Danielle\n",
      "Sarah\n",
      "Vernon\n",
      "Anthony\n",
      "Erica\n",
      "Patricia\n",
      "Karen\n",
      "Terri\n",
      "Michelle\n",
      "Kathleen\n",
      "Debbie\n",
      "Jennifer\n",
      "Taylor\n",
      "Lisa\n",
      "Julie\n",
      "Christina\n",
      "Nancy\n",
      "Patricia\n",
      "Nicholas\n",
      "Wanda\n",
      "Jason\n",
      "Anna\n",
      "Tyler\n"
     ]
    }
   ],
   "source": [
    "# Add the first and last names of the staff list to the colleagues list\n",
    "\n",
    "colleagues = [\n",
    "    {'first_name': 'Ada', 'last_name': 'Lovelace'},\n",
    "    {'first_name': 'Charles', 'last_name': 'Babbage'}\n",
    "]\n",
    "\n",
    "# Add staff names to colleagues list\n",
    "for name in staff:\n",
    "    colleague_dict = {}\n",
    "    first_name = name.split()[0]\n",
    "    last_name = name.split()[1]\n",
    "    colleague_dict['first_name'] = first_name\n",
    "    colleague_dict['last_name'] = last_name\n",
    "    colleagues.append(colleague_dict)\n",
    "\n",
    "for entry in colleagues:\n",
    "    print(entry['first_name'])\n",
    "    \n",
    "# Verify all the colleagues were added    \n",
    "#from pprint import pprint\n",
    "#pprint(colleagues)"
   ]
  },
  {
   "cell_type": "code",
   "execution_count": null,
   "id": "ed0a3c9d-2acc-4ccb-91d3-47e7a9b9d802",
   "metadata": {},
   "outputs": [],
   "source": []
  }
 ],
 "metadata": {
  "kernelspec": {
   "display_name": "Python 3 (ipykernel)",
   "language": "python",
   "name": "python3"
  },
  "language_info": {
   "codemirror_mode": {
    "name": "ipython",
    "version": 3
   },
   "file_extension": ".py",
   "mimetype": "text/x-python",
   "name": "python",
   "nbconvert_exporter": "python",
   "pygments_lexer": "ipython3",
   "version": "3.13.5"
  },
  "toc": {
   "base_numbering": 1,
   "nav_menu": {},
   "number_sections": true,
   "sideBar": true,
   "skip_h1_title": true,
   "title_cell": "Table of Contents",
   "title_sidebar": "Contents",
   "toc_cell": false,
   "toc_position": {
    "height": "calc(100% - 180px)",
    "left": "10px",
    "top": "150px",
    "width": "165px"
   },
   "toc_section_display": true,
   "toc_window_display": false
  }
 },
 "nbformat": 4,
 "nbformat_minor": 5
}
