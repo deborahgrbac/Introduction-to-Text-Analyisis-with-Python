{
 "cells": [
  {
   "cell_type": "markdown",
   "id": "3826bcf1",
   "metadata": {},
   "source": [
    "### Credits:\n",
    "\n",
    "<img align=\"left\" src=\"https://ithaka-labs.s3.amazonaws.com/static-files/images/tdm/tdmdocs/CC_BY.png\"><br />\n",
    "\n",
    "Created by [Nathan Kelber](http://nkelber.com) and Ted Lawless for [JSTOR Labs](https://labs.jstor.org/) under [Creative Commons CC BY License](https://creativecommons.org/licenses/by/4.0/)<br />\n",
    "For questions/comments/improvements, email nathan.kelber@ithaka.org.<br />\n",
    "\n",
    "Reused and modified for internal use at Università Cattolica del Sacro Cuore di Milano, by Deborah Grbac, email deborah.grbac@unicatt.it and released under CC BY License.\n",
    "___"
   ]
  },
  {
   "cell_type": "markdown",
   "id": "71697c60",
   "metadata": {},
   "source": [
    "# Python Basics 4\n",
    "\n",
    "**Description:** \n",
    "This lesson describes the basics of writing your own functions including:\n",
    "\n",
    "* `def` statements\n",
    "* Local scope\n",
    "* Global scope\n",
    "\n",
    "This lesson concludes with a description of popular Python packages and directions for installing them in Constellate.\n",
    "\n",
    "This is part 4 of 5 in the series *Python Basics* that will prepare you to do text analysis using the Python programming language.\n",
    "\n",
    "**Use Case:** For Learners (Detailed explanation, not ideal for researchers)\n",
    "\n",
    "**Difficulty:** Beginner\n",
    "\n",
    "**Completion Time:** 90 minutes\n",
    "\n",
    "**Knowledge Required:** \n",
    "* [Getting Started with Jupyter Notebooks](./getting-started-with-jupyter.ipynb)\n",
    "* [Python Basics 1](./python-basics-1.ipynb)\n",
    "* [Python Basics 2](./python-basics-2.ipynb)\n",
    "* [Python Basics 3](./python-basics-3.ipynb)\n",
    "\n",
    "**Knowledge Recommended:** None\n",
    "\n",
    "**Data Format:** None\n",
    "\n",
    "**Libraries Used:** \n",
    "`time` to put make the computer wait a few seconds\n",
    "`random` to generate random numbers\n",
    "\n",
    "**Research Pipeline:** None\n",
    "___"
   ]
  },
  {
   "cell_type": "markdown",
   "id": "697fe708",
   "metadata": {},
   "source": [
    "## Functions\n",
    "\n",
    "A **function** is a reusable **block of code** that performs a **specific task**. It can take **input values** (called **arguments**), process them, and optionally **return an output**. We have used several **Python functions** already, including `print()`, `input()`, and `range()`. You can identify a function by the fact that it ends with a set of parentheses `()` where the argument(s) can be passed into the function. Depending on the function(and your goals for using it), a function may accept no arguments, a single argument, or many arguments. For example, when we use the `print()` function, we pass a string (or a variable containing a string) as an argument. For more details, you can refer to the official Python documentation for the function you’re interested in (here’s the link for the [`print()` function](https://docs.python.org/3/library/functions.html#print)).\n",
    "\n",
    "**Functions** are a convenient shorthand, like a mini-program, that makes our code more **modular**. We don't need to know all the details of how the `print()` function works in order to use it. Functions are sometimes called \"black boxes\", in that we can put an argument  into the box and a return value comes out. We don't need to know the inner details of the \"black box\" to use it. (Of course, as you advance your programming skills, you may become curious about how certain functions work. And if you work with sensitive data, you may *need* to peer in the black box to ensure the security and accuracy of the output.)\n",
    "\n",
    "### Libraries and Modules\n",
    "\n",
    "While Python comes with many functions, there are thousands more that others have written. Adding them all to Python would create mass confusion, since many people could use the same name for functions that do different things. The solution then is that **functions are stored in modules**  that can be **imported** for use. A **module** is a Python file (extension \".py\") that contains the definitions for the functions written in Python. These modules (individual Python files) can then be collected into even larger groups called **packages and libraries**. Depending on how many functions you need for the program you are writing, you may import a single module, a package of modules, or a whole library.\n",
    "\n",
    "The general form of importing a module is:\n",
    "`import module_name`\n",
    "\n",
    "For example, here's how you can import the **`time` module** and use the `sleep()` function that will delay the code completion for a set amount of time, in this case 5 seconds."
   ]
  },
  {
   "cell_type": "code",
   "execution_count": 1,
   "id": "00ad02a0",
   "metadata": {},
   "outputs": [
    {
     "name": "stdout",
     "output_type": "stream",
     "text": [
      "Waiting 5 seconds...\n",
      "Done\n"
     ]
    }
   ],
   "source": [
    "# A program that waits five seconds then prints \"Done\"\n",
    "\n",
    "import time # We import all the functions in the `time` module\n",
    "\n",
    "print('Waiting 5 seconds...')\n",
    "time.sleep(5) # We run the sleep() function from the time module using `time.sleep()`\n",
    "print('Done')"
   ]
  },
  {
   "cell_type": "markdown",
   "id": "c9d4846c",
   "metadata": {},
   "source": [
    "We can also just import the `sleep()` function without importing the whole `time` module. The syntax is:\n",
    "\n",
    "`from module import function`"
   ]
  },
  {
   "cell_type": "code",
   "execution_count": 2,
   "id": "353cac6a",
   "metadata": {},
   "outputs": [
    {
     "name": "stdout",
     "output_type": "stream",
     "text": [
      "Waiting 5 seconds...\n",
      "Done\n"
     ]
    }
   ],
   "source": [
    "# A program that waits five seconds then prints \"Done\"\n",
    "\n",
    "from time import sleep # We import just the sleep() function from the time module\n",
    "\n",
    "\n",
    "print('Waiting 5 seconds...')\n",
    "\n",
    "sleep(5) # Notice that we just call the sleep() function, not time.sleep()\n",
    "print('Done')"
   ]
  },
  {
   "cell_type": "markdown",
   "id": "04255709-bdf6-4fcc-b4d5-e6546a04a47a",
   "metadata": {},
   "source": [
    "Notice the difference in syntax depending on whether you import the entire module or just a single function:\n",
    "\n",
    "* Importing the whole module: the function needs to be called with the module name first (`module_name.module_function()`);\n",
    "* Importing a single function: the function can be used on its own (`module_function()`)"
   ]
  },
  {
   "cell_type": "markdown",
   "id": "589a12a4",
   "metadata": {},
   "source": [
    "## Writing a Function\n",
    "\n",
    "In the above examples, we **called** a function  that was already written. However, we can also create our own functions!\n",
    "\n",
    "The first step is to define the function before we call it. We use a **function definition statement** followed by a function description and a code block containing the function's actions:\n",
    "\n",
    "```\n",
    "def my_function():\n",
    "    \"\"\"Description of what the functions does\"\"\"\n",
    "    python code to be executed\n",
    "```\n",
    "\n",
    "\n",
    "After the function is defined, we can **call** on it to do us a favor whenever we need by simply executing the function like so:\n",
    "\n",
    "`my_function()`\n",
    "\n",
    "After the function is defined, we can call it as many times as we want without having to rewrite its code. In the example below, we create a function called `complimenter_function` then call it twice."
   ]
  },
  {
   "cell_type": "code",
   "execution_count": 6,
   "id": "c659fdeb",
   "metadata": {
    "execution": {
     "iopub.execute_input": "2025-05-03T20:32:37.042089Z",
     "iopub.status.busy": "2025-05-03T20:32:37.041718Z",
     "iopub.status.idle": "2025-05-03T20:32:37.045114Z",
     "shell.execute_reply": "2025-05-03T20:32:37.044624Z",
     "shell.execute_reply.started": "2025-05-03T20:32:37.042058Z"
    }
   },
   "outputs": [],
   "source": [
    "# Create a complimenter function\n",
    "def complimenter_function():\n",
    "    \"\"\"prints a compliment\"\"\" # Function definition statement: triple quote string \"\"\"string\"\"\". We can write in what it does and what variable can pass in\n",
    "    print('You are looking great today!')"
   ]
  },
  {
   "cell_type": "markdown",
   "id": "82b8e059",
   "metadata": {},
   "source": [
    "After you define a function, don't forget to call it to make it do the work!"
   ]
  },
  {
   "cell_type": "code",
   "execution_count": 7,
   "id": "f5853d2e",
   "metadata": {
    "execution": {
     "iopub.execute_input": "2025-05-03T20:32:38.964608Z",
     "iopub.status.busy": "2025-05-03T20:32:38.964081Z",
     "iopub.status.idle": "2025-05-03T20:32:38.967150Z",
     "shell.execute_reply": "2025-05-03T20:32:38.966710Z",
     "shell.execute_reply.started": "2025-05-03T20:32:38.964587Z"
    }
   },
   "outputs": [
    {
     "name": "stdout",
     "output_type": "stream",
     "text": [
      "You are looking great today!\n"
     ]
    }
   ],
   "source": [
    "# Give a compliment by calling the function\n",
    "complimenter_function()"
   ]
  },
  {
   "cell_type": "markdown",
   "id": "ce038c1c",
   "metadata": {},
   "source": [
    "Ideally, a function definition statement should specify the data that the function takes and whether it returns any data. The triple quote notation can use single or double quotes, and it allows the string for the definition statement to expand over multiple lines in Python. If you would like to see a function's definition statement, you can use the `help()` function to check it out."
   ]
  },
  {
   "cell_type": "code",
   "execution_count": 8,
   "id": "6f62e946",
   "metadata": {
    "execution": {
     "iopub.execute_input": "2025-05-03T20:32:41.523506Z",
     "iopub.status.busy": "2025-05-03T20:32:41.522971Z",
     "iopub.status.idle": "2025-05-03T20:32:41.526282Z",
     "shell.execute_reply": "2025-05-03T20:32:41.525834Z",
     "shell.execute_reply.started": "2025-05-03T20:32:41.523479Z"
    }
   },
   "outputs": [
    {
     "name": "stdout",
     "output_type": "stream",
     "text": [
      "Help on function complimenter_function in module __main__:\n",
      "\n",
      "complimenter_function()\n",
      "    prints a compliment\n",
      "\n"
     ]
    }
   ],
   "source": [
    "# Examining the function definition statement for our function\n",
    "# Note that the parentheses are not included with complimenter_function\n",
    "help(complimenter_function)"
   ]
  },
  {
   "cell_type": "code",
   "execution_count": 9,
   "id": "534c1286",
   "metadata": {
    "execution": {
     "iopub.execute_input": "2025-05-03T20:32:44.000872Z",
     "iopub.status.busy": "2025-05-03T20:32:44.000603Z",
     "iopub.status.idle": "2025-05-03T20:32:44.003726Z",
     "shell.execute_reply": "2025-05-03T20:32:44.003274Z",
     "shell.execute_reply.started": "2025-05-03T20:32:44.000852Z"
    }
   },
   "outputs": [
    {
     "name": "stdout",
     "output_type": "stream",
     "text": [
      "Help on built-in function sleep in module time:\n",
      "\n",
      "sleep(...)\n",
      "    sleep(seconds)\n",
      "    \n",
      "    Delay execution for a given number of seconds.  The argument may be\n",
      "    a floating point number for subsecond precision.\n",
      "\n"
     ]
    }
   ],
   "source": [
    "# Try using help() to read the definition for the sleep function\n",
    "help(sleep)"
   ]
  },
  {
   "cell_type": "markdown",
   "id": "a39772ed",
   "metadata": {},
   "source": [
    "### Parameters vs. Arguments\n",
    "\n",
    "When we write a function definition, we can define a parameter to work with the function. We use the word parameter to describe the variable in parentheses within a function definition:\n",
    "\n",
    "```\n",
    "def my_function(input_variable):\n",
    "    \"\"\"Takes in X and returns Y\"\"\"\n",
    "    do this task\n",
    "```\n",
    "\n",
    "\n",
    "In the pseudo-code above, `input_variable` is a parameter because it is being used within the context of a function *definition*. When we actually call and run our function, the actual variable or value we pass to the function is called an argument."
   ]
  },
  {
   "cell_type": "code",
   "execution_count": 10,
   "id": "94da95a0",
   "metadata": {
    "execution": {
     "iopub.execute_input": "2025-05-03T20:39:09.986801Z",
     "iopub.status.busy": "2025-05-03T20:39:09.986297Z",
     "iopub.status.idle": "2025-05-03T20:39:09.989316Z",
     "shell.execute_reply": "2025-05-03T20:39:09.988801Z",
     "shell.execute_reply.started": "2025-05-03T20:39:09.986783Z"
    },
    "tags": []
   },
   "outputs": [],
   "source": [
    "# Change the complimenter function to give user-dependent compliment\n",
    "def complimenter_function(user_name):\n",
    "    \"\"\"Takes in a name string, prints a compliment with the name\"\"\"\n",
    "    print(f'You are looking great today, {user_name}!')"
   ]
  },
  {
   "cell_type": "code",
   "execution_count": 11,
   "id": "ed626493",
   "metadata": {
    "execution": {
     "iopub.execute_input": "2025-05-03T20:40:20.431373Z",
     "iopub.status.busy": "2025-05-03T20:40:20.431110Z",
     "iopub.status.idle": "2025-05-03T20:40:20.434212Z",
     "shell.execute_reply": "2025-05-03T20:40:20.433713Z",
     "shell.execute_reply.started": "2025-05-03T20:40:20.431354Z"
    },
    "tags": []
   },
   "outputs": [
    {
     "name": "stdout",
     "output_type": "stream",
     "text": [
      "You are looking great today, Sam!\n"
     ]
    }
   ],
   "source": [
    "# Pass an argument to a function\n",
    "complimenter_function('Sam')"
   ]
  },
  {
   "cell_type": "markdown",
   "id": "fcbc25d2-2303-44db-bc60-8106117cf5b0",
   "metadata": {},
   "source": [
    "Arguments can be passed in based on parameter order (positional) or they can be explicitly passed using an `=`. (This could be useful if we wanted to pass an argument for the 10th parameter, but we did not want to pass arguments for the nine other parameters defined before it.)"
   ]
  },
  {
   "cell_type": "code",
   "execution_count": 12,
   "id": "b3390e31-f90b-42d0-a1b3-88585f9a4f23",
   "metadata": {
    "execution": {
     "iopub.execute_input": "2025-05-03T20:41:18.638519Z",
     "iopub.status.busy": "2025-05-03T20:41:18.638240Z",
     "iopub.status.idle": "2025-05-03T20:41:18.641309Z",
     "shell.execute_reply": "2025-05-03T20:41:18.640863Z",
     "shell.execute_reply.started": "2025-05-03T20:41:18.638498Z"
    },
    "tags": []
   },
   "outputs": [
    {
     "name": "stdout",
     "output_type": "stream",
     "text": [
      "You are looking great today, Sam!\n"
     ]
    }
   ],
   "source": [
    "# Pass an argument with =\n",
    "# user_name is the parameter, 'Sam' is the argument\n",
    "complimenter_function(user_name='Sam')"
   ]
  },
  {
   "cell_type": "markdown",
   "id": "d58135fb",
   "metadata": {},
   "source": [
    "In the above example, we passed a string into our function, but we could also pass a variable. Try this next. Since the `complimenter_function` has already been defined, you can call it in the next cell without defining it again."
   ]
  },
  {
   "cell_type": "code",
   "execution_count": 13,
   "id": "be8ef139",
   "metadata": {
    "execution": {
     "iopub.execute_input": "2025-05-03T20:46:35.964542Z",
     "iopub.status.busy": "2025-05-03T20:46:35.964040Z",
     "iopub.status.idle": "2025-05-03T20:46:39.588844Z",
     "shell.execute_reply": "2025-05-03T20:46:39.588376Z",
     "shell.execute_reply.started": "2025-05-03T20:46:35.964525Z"
    }
   },
   "outputs": [
    {
     "name": "stdin",
     "output_type": "stream",
     "text": [
      "What's your name? Valentina\n"
     ]
    },
    {
     "name": "stdout",
     "output_type": "stream",
     "text": [
      "You are looking great today, Valentina!\n"
     ]
    }
   ],
   "source": [
    "# Ask the user for their name and store it in a variable called name\n",
    "# Then call the complimenter_function and pass in the name variable\n",
    "name = input(\"What's your name?\")\n",
    "complimenter_function(name)\n"
   ]
  },
  {
   "cell_type": "markdown",
   "id": "e0a51d7c",
   "metadata": {},
   "source": [
    "A variable passed into a function could contain a list or dictionary. The type of objects that should be passed in and returned can [optionally be suggested through type hinting](https://docs.python.org/3/library/typing.html) in Python."
   ]
  },
  {
   "cell_type": "code",
   "execution_count": 14,
   "id": "468bc093",
   "metadata": {
    "execution": {
     "iopub.execute_input": "2025-05-03T20:51:10.965152Z",
     "iopub.status.busy": "2025-05-03T20:51:10.964642Z",
     "iopub.status.idle": "2025-05-03T20:51:10.968161Z",
     "shell.execute_reply": "2025-05-03T20:51:10.967724Z",
     "shell.execute_reply.started": "2025-05-03T20:51:10.965133Z"
    }
   },
   "outputs": [
    {
     "name": "stdout",
     "output_type": "stream",
     "text": [
      "Hi Jenny!\n",
      "Hi Pierre!\n",
      "Hi Hamed!\n"
     ]
    }
   ],
   "source": [
    "# A list of names\n",
    "list_of_names = ['Jenny', 'Pierre', 'Hamed']\n",
    "\n",
    "def greet_a_list(names):\n",
    "    \"\"\"takes a list of names and prints out a greeting for each name\"\"\"\n",
    "    for name in names:\n",
    "        print(f'Hi {name}!')\n",
    "\n",
    "greet_a_list(list_of_names)"
   ]
  },
  {
   "cell_type": "markdown",
   "id": "eb4f09f4",
   "metadata": {},
   "source": [
    "### The Importance of Avoiding Duplication\n",
    "\n",
    "Using functions makes it easier for us to update our code. Let's say we wanted to change our compliment. We can simply change the function definition one time to make the change everywhere. See if you can change the compliment given by our complimenter function."
   ]
  },
  {
   "cell_type": "code",
   "execution_count": 1,
   "id": "9649e738",
   "metadata": {
    "execution": {
     "iopub.execute_input": "2025-05-04T10:11:08.215396Z",
     "iopub.status.busy": "2025-05-04T10:11:08.214915Z",
     "iopub.status.idle": "2025-05-04T10:11:08.220099Z",
     "shell.execute_reply": "2025-05-04T10:11:08.219604Z",
     "shell.execute_reply.started": "2025-05-04T10:11:08.215377Z"
    }
   },
   "outputs": [],
   "source": [
    "# Create a complimenter function that gives compliment\n",
    "def complimenter_function(user_name):\n",
    "    \"\"\"Takes in a name string, prints a compliment with the name\"\"\"\n",
    "    print(f'You are looking great today, {user_name}!')"
   ]
  },
  {
   "cell_type": "code",
   "execution_count": 2,
   "id": "78c9a90e",
   "metadata": {
    "execution": {
     "iopub.execute_input": "2025-05-04T10:11:40.988341Z",
     "iopub.status.busy": "2025-05-04T10:11:40.987851Z",
     "iopub.status.idle": "2025-05-04T10:11:51.241378Z",
     "shell.execute_reply": "2025-05-04T10:11:51.240956Z",
     "shell.execute_reply.started": "2025-05-04T10:11:40.988322Z"
    }
   },
   "outputs": [
    {
     "name": "stdin",
     "output_type": "stream",
     "text": [
      "What is your name?  Valentina\n"
     ]
    },
    {
     "name": "stdout",
     "output_type": "stream",
     "text": [
      "You are looking great today, Valentina!\n"
     ]
    },
    {
     "name": "stdin",
     "output_type": "stream",
     "text": [
      "Who is your friend?  Filip\n"
     ]
    },
    {
     "name": "stdout",
     "output_type": "stream",
     "text": [
      "You are looking great today, Filip!\n"
     ]
    }
   ],
   "source": [
    "# Give a new compliment by calling the function\n",
    "name = input('What is your name? ')\n",
    "complimenter_function(name)\n",
    "\n",
    "friend = input('Who is your friend? ')\n",
    "complimenter_function(friend)"
   ]
  },
  {
   "cell_type": "markdown",
   "id": "1d85c0b9",
   "metadata": {},
   "source": [
    "By changing our function definition just one time, we were able to make our program behave differently every time it was called. If our program was large, it might call our custom function hundreds of times. If our code repeated like that, we would need to change it in every place!\n",
    "\n",
    "Generally, it is good practice to avoid duplicating program code to avoid having to change it in multiple places. When programmers edit their code, they may spend time **deduplicating** (getting rid of code that repeats). This makes the code easier to read and maintain."
   ]
  },
  {
   "cell_type": "markdown",
   "id": "26568407",
   "metadata": {},
   "source": [
    "___\n",
    "<h2 style=\"color:red; display:inline\">Coding Challenge! &lt; / &gt; </h2>\n",
    "\n",
    "**In the next cell, try writing a function that accepts a [dictionary](https://constellate.org/docs/key-terms/#dictionary) as an [argument](https://constellate.org/docs/key-terms/#argument). Use a flow control statement to print out all the names and occupations for the contacts.**\n",
    "___\n",
    "\n"
   ]
  },
  {
   "cell_type": "code",
   "execution_count": 23,
   "id": "a3d16303",
   "metadata": {
    "execution": {
     "iopub.execute_input": "2025-05-04T10:40:38.446129Z",
     "iopub.status.busy": "2025-05-04T10:40:38.445608Z",
     "iopub.status.idle": "2025-05-04T10:40:38.449249Z",
     "shell.execute_reply": "2025-05-04T10:40:38.448784Z",
     "shell.execute_reply.started": "2025-05-04T10:40:38.446110Z"
    }
   },
   "outputs": [],
   "source": [
    "# A dictionary of names and occupations\n",
    "contacts = {\n",
    " 'Amanda Bennett': 'Engineer, electrical',\n",
    " 'Bryan Miller': 'Radiation protection practitioner',\n",
    " 'Chris Garrison': 'Planning and development surveyor',\n",
    " 'Debra Allen': 'Intelligence analyst'}\n",
    "\n",
    "# Define and then call your function here\n",
    "\n",
    "def occupation_finder(contact_name):\n",
    "    \"\"\"A function that tells you what occupation this person has\"\"\"\n",
    "    for name, occupation in contacts.items():\n",
    "        if name == contact_name :\n",
    "            print(f\"{name} is a {occupation}\")\n",
    "            break\n",
    "    else:\n",
    "            print(f\"{contact_name} is not in the list\")"
   ]
  },
  {
   "cell_type": "code",
   "execution_count": 25,
   "id": "225cbd93-03c1-43e3-b0b5-336d042871f8",
   "metadata": {
    "execution": {
     "iopub.execute_input": "2025-05-04T10:41:04.638492Z",
     "iopub.status.busy": "2025-05-04T10:41:04.638218Z",
     "iopub.status.idle": "2025-05-04T10:41:04.641252Z",
     "shell.execute_reply": "2025-05-04T10:41:04.640840Z",
     "shell.execute_reply.started": "2025-05-04T10:41:04.638474Z"
    },
    "scrolled": true
   },
   "outputs": [
    {
     "name": "stdout",
     "output_type": "stream",
     "text": [
      "Amanda Bennett is a Engineer, electrical\n",
      "Valentina Schiariti is not in the list\n"
     ]
    }
   ],
   "source": [
    "occupation_finder(\"Amanda Bennett\")\n",
    "occupation_finder(\"Valentina Schiariti\")"
   ]
  },
  {
   "cell_type": "markdown",
   "id": "21b93edb",
   "metadata": {},
   "source": [
    "### Function Return Values\n",
    "\n",
    "Whether or not a function takes an argument, it will always return a value. If we do not specify that return value in our function definition, it is automatically set to `None`, a special value like the Boolean `True` and `False` that simply means null or nothing. (`None` is not the same thing as, say, the integer `0`.) We can also specify return values for our function using a flow control statement followed by `return` in a code block.\n",
    "\n",
    "If you don't write a `Return` statement in your function, a `None` value will be returned. If you don't write a `Return` statement in your function, a `None` value will be returned. "
   ]
  },
  {
   "cell_type": "code",
   "execution_count": 26,
   "id": "4ec37309",
   "metadata": {
    "execution": {
     "iopub.execute_input": "2025-05-04T10:44:37.086262Z",
     "iopub.status.busy": "2025-05-04T10:44:37.085747Z",
     "iopub.status.idle": "2025-05-04T10:44:37.089152Z",
     "shell.execute_reply": "2025-05-04T10:44:37.088715Z",
     "shell.execute_reply.started": "2025-05-04T10:44:37.086243Z"
    },
    "tags": []
   },
   "outputs": [
    {
     "name": "stdout",
     "output_type": "stream",
     "text": [
      "You are looking great today, Sam!\n",
      "None\n"
     ]
    }
   ],
   "source": [
    "# Find out the returned value for the following function\n",
    "\n",
    "def complimenter_function(user_name):\n",
    "    \"\"\"Takes in a name string, prints a compliment with the name\"\"\"\n",
    "    print(f'You are looking great today, {user_name}!')\n",
    "\n",
    "print(complimenter_function('Sam'))"
   ]
  },
  {
   "cell_type": "markdown",
   "id": "f8e649ef-f83e-4137-ae32-58763f048a12",
   "metadata": {},
   "source": [
    "Instead of automatically printing inside the function, the better approach is to return a string value and let the user decide whether to print it or do something else with it. Ideally, our function definition statement should indicate what goes into the function and what is returned by the function."
   ]
  },
  {
   "cell_type": "code",
   "execution_count": 27,
   "id": "da623e0c-6af8-456b-9cfb-0864328fe7f0",
   "metadata": {
    "execution": {
     "iopub.execute_input": "2025-05-04T10:45:15.713725Z",
     "iopub.status.busy": "2025-05-04T10:45:15.713183Z",
     "iopub.status.idle": "2025-05-04T10:45:15.716787Z",
     "shell.execute_reply": "2025-05-04T10:45:15.716183Z",
     "shell.execute_reply.started": "2025-05-04T10:45:15.713707Z"
    },
    "tags": []
   },
   "outputs": [
    {
     "name": "stdout",
     "output_type": "stream",
     "text": [
      "You are looking great today, Sam!\n"
     ]
    }
   ],
   "source": [
    "# Adding a return statement\n",
    "def complimenter_function(user_name):\n",
    "    \"\"\"Takes in a name string, returns a compliment with the name\"\"\" # We are returning now\n",
    "    return f'You are looking great today, {user_name}!'\n",
    "\n",
    "compliment = complimenter_function('Sam')\n",
    "print(compliment)"
   ]
  },
  {
   "cell_type": "markdown",
   "id": "197457c8-e161-447c-8601-6c9e52b77f54",
   "metadata": {},
   "source": [
    "Returning the string allows the programmer to use the output instead of just printing it automatically. This is usually the better practice. \n",
    "\n",
    "We can also offer multiple return statements with flow control. Let's write a function for telling fortunes. We can call it `fortune_picker` and it will accept a number (1-6) then return a string for the fortune."
   ]
  },
  {
   "cell_type": "code",
   "execution_count": 28,
   "id": "78d9baee",
   "metadata": {
    "execution": {
     "iopub.execute_input": "2025-05-04T10:49:24.675567Z",
     "iopub.status.busy": "2025-05-04T10:49:24.675020Z",
     "iopub.status.idle": "2025-05-04T10:49:24.679274Z",
     "shell.execute_reply": "2025-05-04T10:49:24.678670Z",
     "shell.execute_reply.started": "2025-05-04T10:49:24.675549Z"
    }
   },
   "outputs": [
    {
     "name": "stdout",
     "output_type": "stream",
     "text": [
      "A new friend will help you find yourself.\n"
     ]
    }
   ],
   "source": [
    "# A fortune-teller program that contains a function `fortune_picker`\n",
    "# `fortune_picker` accepts an integer (1-6) and returns a fortune string\n",
    "\n",
    "def fortune_picker(fortune_number): # A function definition statement that has a parameter `fortune_number`\n",
    "    \"\"\"takes an integer (1-6) and returns a fortune string\"\"\"\n",
    "    if fortune_number == 1:\n",
    "        return 'You will have six children.'\n",
    "    elif fortune_number == 2:\n",
    "        return 'You will become very wise.'\n",
    "    elif  fortune_number == 3:\n",
    "        return 'A new friend will help you find yourself.'\n",
    "    elif fortune_number == 4:\n",
    "        return 'A great fortune is coming to you.'\n",
    "    elif fortune_number == 5:\n",
    "        return 'That promising venture... it is a trap.'\n",
    "    elif fortune_number == 6: \n",
    "        return 'Sort yourself out then find love.'\n",
    "\n",
    "fortune = fortune_picker(3) # return a fortune string and store it in fortune\n",
    "print(fortune)"
   ]
  },
  {
   "cell_type": "code",
   "execution_count": 30,
   "id": "19cc7603-7983-4b86-8310-ecb4334b4c76",
   "metadata": {
    "execution": {
     "iopub.execute_input": "2025-05-04T10:51:17.193788Z",
     "iopub.status.busy": "2025-05-04T10:51:17.193260Z",
     "iopub.status.idle": "2025-05-04T10:51:17.197187Z",
     "shell.execute_reply": "2025-05-04T10:51:17.196775Z",
     "shell.execute_reply.started": "2025-05-04T10:51:17.193770Z"
    }
   },
   "outputs": [
    {
     "name": "stdout",
     "output_type": "stream",
     "text": [
      "A new friend will help you find yourself.\n"
     ]
    }
   ],
   "source": [
    "# A fortune-teller program that contains a function `fortune_picker`\n",
    "# `fortune_picker` accepts an integer (1-6) and returns a fortune string\n",
    "\n",
    "def fortune_picker(fortune_number): # A function definition statement that has a parameter `fortune_number`\n",
    "    \"\"\"takes an integer (1-6) and returns a fortune string\"\"\"\n",
    "    if fortune_number == 1:\n",
    "        return 'You will have six children.'\n",
    "    elif fortune_number == 2:\n",
    "        return 'You will become very wise.'\n",
    "    elif  fortune_number == 3:\n",
    "        return 'A new friend will help you find yourself.'\n",
    "    elif fortune_number == 4:\n",
    "        return 'A great fortune is coming to you.'\n",
    "    elif fortune_number == 5:\n",
    "        return 'That promising venture... it is a trap.'\n",
    "    elif fortune_number == 6: \n",
    "        return 'Sort yourself out then find love.'\n",
    "\n",
    "fortune = fortune_picker(3) # return a fortune string and store it in fortune\n",
    "print(fortune)"
   ]
  },
  {
   "cell_type": "markdown",
   "id": "67870781",
   "metadata": {},
   "source": [
    "In our example, we passed the argument `3` that returned the string `'A new friend will help you find yourself'`. To change the fortune, we would have to pass a different integer into the function. To make our fortune-teller random, we could import the function `randint()` that chooses a random number between two integers. We pass the two integers as arguments separated by a comma."
   ]
  },
  {
   "cell_type": "code",
   "execution_count": 31,
   "id": "eb7c1875",
   "metadata": {
    "execution": {
     "iopub.execute_input": "2025-05-04T10:54:53.150375Z",
     "iopub.status.busy": "2025-05-04T10:54:53.149881Z",
     "iopub.status.idle": "2025-05-04T10:55:02.042292Z",
     "shell.execute_reply": "2025-05-04T10:55:02.041835Z",
     "shell.execute_reply.started": "2025-05-04T10:54:53.150357Z"
    },
    "scrolled": true
   },
   "outputs": [
    {
     "name": "stdout",
     "output_type": "stream",
     "text": [
      "Your fortune is: \n",
      "You will become very wise.\n",
      "Would you like another fortune?\n"
     ]
    },
    {
     "name": "stdin",
     "output_type": "stream",
     "text": [
      " no\n"
     ]
    },
    {
     "name": "stdout",
     "output_type": "stream",
     "text": [
      "I have no more fortunes to share.\n"
     ]
    }
   ],
   "source": [
    "# A fortune-teller program that uses a random integer\n",
    "\n",
    "from random import randint # import the randint() function from the random module\n",
    "\n",
    "def fortune_picker(fortune_number): # A function definition statement that has a parameter `fortune_number`\n",
    "    if fortune_number == 1:\n",
    "        return 'You will have six children.'\n",
    "    elif fortune_number == 2:\n",
    "        return 'You will become very wise.'\n",
    "    elif  fortune_number == 3:\n",
    "        return 'A new friend will help you find yourself.'\n",
    "    elif fortune_number == 4:\n",
    "        return 'A great fortune is coming to you.'\n",
    "    elif fortune_number == 5:\n",
    "        return 'That promising venture... it is a trap.'\n",
    "    elif fortune_number == 6: \n",
    "        return 'Sort yourself out then find love.'\n",
    "\n",
    "random_number = randint(1, 6) # Choose a random number between 1 and 6 and assign it to a new variable `random_number`\n",
    "fortune = fortune_picker(random_number) # Return a fortune string\n",
    "\n",
    "print('Your fortune is: ')\n",
    "print(fortune)\n",
    "    \n",
    "while True:\n",
    "    print('Would you like another fortune?')\n",
    "    repeat_fortune = input()\n",
    "    if repeat_fortune == 'yes' or repeat_fortune == 'Yes':\n",
    "        random_number = randint(1, 6) \n",
    "        print(fortune_picker(random_number))\n",
    "        continue\n",
    "    else:\n",
    "        print('I have no more fortunes to share.')\n",
    "        break"
   ]
  },
  {
   "cell_type": "markdown",
   "id": "e3e7ccae",
   "metadata": {},
   "source": [
    "___\n",
    "<h2 style=\"color:red; display:inline\">Coding Challenge! &lt; / &gt; </h2>\n",
    "\n",
    "**Try writing a function that accepts user inputting a name and returns the person's occupation. You can use the `.get()` method to retrieve the relevant occupation, such as:**\n",
    "\n",
    "`contacts.get('Amanda', 'No contact with that name')`\n",
    "\n",
    "**Remember, the second string will be returned if the name 'Amanda' is not in our dictionary.**\n",
    "___"
   ]
  },
  {
   "cell_type": "code",
   "execution_count": null,
   "id": "598ced7f",
   "metadata": {},
   "outputs": [],
   "source": [
    "# A program that returns the occupation when users supply a given name\n",
    "\n",
    "# A dictionary of names and occupations\n",
    "contacts = {\n",
    " 'Amanda': 'Engineer, electrical',\n",
    " 'Bryan': 'Radiation protection practitioner',\n",
    " 'Christopher': 'Planning and development surveyor',\n",
    " 'Debra': 'Intelligence analyst'}\n",
    "\n",
    "# The function definition and program\n"
   ]
  },
  {
   "cell_type": "markdown",
   "id": "09ceb9ce",
   "metadata": {},
   "source": [
    "### Local and Global Scope\n",
    "\n",
    "We have seen that functions make maintaining code easier by avoiding duplication. One of the most dangerous areas for duplication is variable names. As programming projects become larger, the possibility that a variable will be re-used goes up. This can cause weird errors in our programs that are hard to track down. We can alleviate the problem of duplicate variable names through the concepts of local scope and global scope.\n",
    "\n",
    "We use the phrase local scope to describe what happens within a function. The local scope of a function may contain a local variables, but once that function has completed the local variables and their contents are erased.\n",
    "\n",
    "On the other hand, we can also create global variables that persist at the top-level of the program *and also* within the local scope of a function.\n",
    "\n",
    "* In the global scope, Python does not recognize any local variable from within the program's functions\n",
    "* In the local scope of a function, Python can recognize any global variables\n",
    "* It is possible for there to be a global variable and a local variable with the same name\n",
    "\n",
    "Ideally, Python programs should limit the number of global variables and create most variables in a local scope. This keeps confounding variables localized in functions where they are used and then discarded."
   ]
  },
  {
   "cell_type": "code",
   "execution_count": 32,
   "id": "f355fd60",
   "metadata": {
    "execution": {
     "iopub.execute_input": "2025-05-04T11:10:13.278646Z",
     "iopub.status.busy": "2025-05-04T11:10:13.278372Z",
     "iopub.status.idle": "2025-05-04T11:10:13.281989Z",
     "shell.execute_reply": "2025-05-04T11:10:13.281496Z",
     "shell.execute_reply.started": "2025-05-04T11:10:13.278628Z"
    }
   },
   "outputs": [
    {
     "name": "stdout",
     "output_type": "stream",
     "text": [
      "We are in the local context:\n",
      "global\n",
      "local\n"
     ]
    }
   ],
   "source": [
    "# Demonstration of global variable being used in a local scope\n",
    "# The program crashes when a local variable is used in a global scope\n",
    "global_string = 'global'\n",
    "\n",
    "def print_strings():\n",
    "    print('We are in the local context:')\n",
    "    local_string = 'local'\n",
    "    print(global_string)\n",
    "    print(local_string)\n",
    "    \n",
    "\n",
    "print_strings()"
   ]
  },
  {
   "cell_type": "markdown",
   "id": "9994b91f",
   "metadata": {},
   "source": [
    "The code above defines a global variable `global_string` with the value of 'global'. A function, called `print_strings`, then defines a local variable  `local_string` with a value of 'local'. When we call the `print_strings()` function, it prints the local variable and the global variable. "
   ]
  },
  {
   "cell_type": "code",
   "execution_count": 33,
   "id": "07150127",
   "metadata": {
    "execution": {
     "iopub.execute_input": "2025-05-04T11:10:20.615019Z",
     "iopub.status.busy": "2025-05-04T11:10:20.614635Z",
     "iopub.status.idle": "2025-05-04T11:10:20.626700Z",
     "shell.execute_reply": "2025-05-04T11:10:20.626128Z",
     "shell.execute_reply.started": "2025-05-04T11:10:20.615002Z"
    }
   },
   "outputs": [
    {
     "name": "stdout",
     "output_type": "stream",
     "text": [
      "We are now in the global context: \n",
      "global\n"
     ]
    },
    {
     "ename": "NameError",
     "evalue": "name 'local_string' is not defined",
     "output_type": "error",
     "traceback": [
      "\u001b[0;31m---------------------------------------------------------------------------\u001b[0m",
      "\u001b[0;31mNameError\u001b[0m                                 Traceback (most recent call last)",
      "Cell \u001b[0;32mIn[33], line 4\u001b[0m\n\u001b[1;32m      2\u001b[0m \u001b[38;5;28mprint\u001b[39m(\u001b[38;5;124m'\u001b[39m\u001b[38;5;124mWe are now in the global context: \u001b[39m\u001b[38;5;124m'\u001b[39m)\n\u001b[1;32m      3\u001b[0m \u001b[38;5;28mprint\u001b[39m(global_string)\n\u001b[0;32m----> 4\u001b[0m \u001b[38;5;28mprint\u001b[39m(\u001b[43mlocal_string\u001b[49m)\n",
      "\u001b[0;31mNameError\u001b[0m: name 'local_string' is not defined"
     ]
    }
   ],
   "source": [
    "# The function has closed, now the local string has been discarded\n",
    "print('We are now in the global context: ')\n",
    "print(global_string)\n",
    "print(local_string)"
   ]
  },
  {
   "cell_type": "markdown",
   "id": "6f37ff80",
   "metadata": {},
   "source": [
    "After the `print_strings()` function completes, we try to print both variables in a global scope. The program prints `global_string` but crashes when trying to print `local_string` in a global scope.\n",
    "\n",
    "It's a good practice not to name a local variable the same thing as a global variable. If we define a variable with the same name in a local scope, it becomes a local variable within that scope. Once the function is closed, the global variable retains its original value."
   ]
  },
  {
   "cell_type": "code",
   "execution_count": 34,
   "id": "e1ed2293",
   "metadata": {
    "execution": {
     "iopub.execute_input": "2025-05-04T11:10:32.694959Z",
     "iopub.status.busy": "2025-05-04T11:10:32.694457Z",
     "iopub.status.idle": "2025-05-04T11:10:32.698192Z",
     "shell.execute_reply": "2025-05-04T11:10:32.697676Z",
     "shell.execute_reply.started": "2025-05-04T11:10:32.694941Z"
    }
   },
   "outputs": [
    {
     "name": "stdout",
     "output_type": "stream",
     "text": [
      "local\n"
     ]
    }
   ],
   "source": [
    "# A demonstration of global and local scope using the same variable name\n",
    "# print(string) returns two different results\n",
    "string = 'global'\n",
    "\n",
    "def share_strings():\n",
    "    string = 'local'\n",
    "    print(string)\n",
    "\n",
    "share_strings()"
   ]
  },
  {
   "cell_type": "code",
   "execution_count": 35,
   "id": "7dd7e713",
   "metadata": {
    "execution": {
     "iopub.execute_input": "2025-05-04T11:10:36.242624Z",
     "iopub.status.busy": "2025-05-04T11:10:36.242363Z",
     "iopub.status.idle": "2025-05-04T11:10:36.245816Z",
     "shell.execute_reply": "2025-05-04T11:10:36.245214Z",
     "shell.execute_reply.started": "2025-05-04T11:10:36.242607Z"
    }
   },
   "outputs": [
    {
     "name": "stdout",
     "output_type": "stream",
     "text": [
      "global\n"
     ]
    }
   ],
   "source": [
    "# print the string variable in the global context\n",
    "print(string)"
   ]
  },
  {
   "cell_type": "markdown",
   "id": "f57ecf6e-8149-4639-bf2b-fed7d72b7efa",
   "metadata": {},
   "source": [
    "## Popular Python Packages\n",
    "\n",
    "Modules containing functions for a similar type of task are often grouped together into a package. Here are some of the most popular packages used in Python:\n",
    "\n",
    "### Processing and cleaning data\n",
    "\n",
    "* [NumPy](https://numpy.org/) (num-pie)- Speeds up scientific analysis of very large amounts of data in arrays\n",
    "* [pandas](https://pandas.pydata.org/)- Completes data manipulation, particularly moving, cleaning, and improving data quality\n",
    "\n",
    "### Visualizing data\n",
    "* [matplotlib](https://matplotlib.org/)- Creates static, animated, and interactive visualizations. \n",
    "* [Seaborn](https://seaborn.pydata.org/)- An expansion of matplotlib that provides a \"high-level interface for drawing attractive and informative statistical graphics\n",
    "* [Plotly](https://plotly.com/)- Create graphs, analytics, and statistics visualizations\n",
    "* [Dash](https://plotly.com/dash/)- Create interactive web applications and dashboards\n",
    "\n",
    "### Text Analysis\n",
    "* [spaCy](https://spacy.io/)- Do text analysis on a large variety of languages\n",
    "* [gensim](https://radimrehurek.com/gensim/)- Do topic modeling\n",
    "* [NLTK](https://www.nltk.org/) (Natural Language Tool Kit)-  Access corpora and complete text analysis tasks like tokenization, stemming, tagging, parsing, and semantic reasoning\n",
    "\n",
    "### Artificial Intelligence and Machine Learning\n",
    "\n",
    "* [sci-kit-learn](https://scikit-learn.org/stable/)- Implement machine learning in areas such as classification, predictive analytics, regression, and clustering\n",
    "* [Keras](https://keras.io/)- Implement deep learning using neural networks\n",
    "* [TensorFlow](https://www.tensorflow.org/)- Implement machine learning with a particular focus on training and deep neural networks\n",
    "* [🤗 Transformers](https://huggingface.co/docs/transformers/index)- Easily work a variety of models based on Hugging Face 🤗\n",
    "\n",
    "### Data Gathering\n",
    "\n",
    "* [Requests](https://requests.readthedocs.io/en/latest/)- An HTTP client that helps connect to websites and download files\n",
    "* [urllib3](https://urllib3.readthedocs.io/en/stable/)- Another HTTP client that helps connect to websites and download files\n",
    "* [Beautiful Soup](https://www.crummy.com/software/BeautifulSoup/bs4/doc/)- Pull data out of HTML or XML files, helpful for scraping information from websites\n",
    "* [Scrapy](https://scrapy.org/)- Helps extract data from websites\n",
    "\n",
    "### Textual Digitization\n",
    "\n",
    "* [Tesseract](https://github.com/tesseract-ocr/tesseract)- Use optical character recognition to convert images into plaintext\n",
    "* [Pillow](https://pillow.readthedocs.io/en/stable/)- Read and manipulate images with Python\n",
    "\n",
    "Packages are generally installed by using [PyPI](https://pypi.org/), the official Python package index. As of April 2022, there are over 350,000 packages available."
   ]
  },
  {
   "cell_type": "markdown",
   "id": "fd3640ce",
   "metadata": {},
   "source": [
    "## Installing a Python Package in Constellate\n",
    "\n",
    "If you would like to install a package that is not in Constellate, we recommend using the pip installer with packages from the [Python Package Index](https://pypi.org/). In a code cell insert the following code:\n",
    "\n",
    "`!pip install package_name`\n",
    "\n",
    "for the relevant package you would like to install. The exclamation point indicates the line should be run as a terminal command. \n",
    "\n",
    "Refer to the package's documentation for guidance."
   ]
  },
  {
   "cell_type": "code",
   "execution_count": null,
   "id": "7d4872e9",
   "metadata": {
    "tags": []
   },
   "outputs": [],
   "source": [
    "# Install Scrapy\n",
    "!pip install scrapy"
   ]
  },
  {
   "cell_type": "markdown",
   "id": "3201fa86",
   "metadata": {},
   "source": [
    "Many packages are pre-installed in Constellate. You can see [a list of pre-installed packages](https://constellate.org/docs/python-packages)."
   ]
  },
  {
   "cell_type": "markdown",
   "id": "d28f96a1",
   "metadata": {},
   "source": [
    "___\n",
    "## Lesson Complete\n",
    "\n",
    "Congratulations! You have completed *Python Basics 4*. There is one more lesson in *Python Basics*:\n",
    "\n",
    "* *Python Basics 5*\n",
    "\n",
    "### Start Next Lesson: [Python Basics 5](./python-basics-5.ipynb)\n",
    "\n",
    "### Exercise Solutions\n",
    "Here are a few solutions for exercises in this lesson.\n"
   ]
  },
  {
   "cell_type": "code",
   "execution_count": null,
   "id": "bb187c3e",
   "metadata": {},
   "outputs": [],
   "source": [
    "# A dictionary of names and occupations\n",
    "contacts = {\n",
    " 'Amanda Bennett': 'Engineer, electrical',\n",
    " 'Bryan Miller': 'Radiation protection practitioner',\n",
    " 'Chris Garrison': 'Planning and development surveyor',\n",
    " 'Debra Allen': 'Intelligence analyst'}\n",
    "\n",
    "# Define and then call your function here\n",
    "\n",
    "def print_contacts(contacts_names):\n",
    "    \"\"\"Prints out all the contacts in a contacts dictionary\"\"\"\n",
    "    for name, occupation in contacts.items():\n",
    "        print(name.ljust(15), '|', occupation)\n",
    "\n",
    "print_contacts(contacts)"
   ]
  },
  {
   "cell_type": "code",
   "execution_count": null,
   "id": "5a38505e",
   "metadata": {},
   "outputs": [],
   "source": [
    "# A dictionary of names and occupations\n",
    "contacts = {\n",
    " 'Amanda': 'Engineer, electrical',\n",
    " 'Bryan': 'Radiation protection practitioner',\n",
    " 'Christopher': 'Planning and development surveyor',\n",
    " 'Debra': 'Intelligence analyst'}\n",
    "\n",
    "\n",
    "def occupation_finder(name):\n",
    "    \"\"\"Allows a user to find the occupation of a particular contact\"\"\"\n",
    "    return contacts.get(name, 'No contact with that name')\n",
    "    \n",
    "while True:\n",
    "    print('Enter a name to look up an occupation (or enter quit):')\n",
    "    name = input()\n",
    "    if name == 'quit':\n",
    "        print('Shutting down..')\n",
    "        break\n",
    "    else:\n",
    "        print(occupation_finder(name))\n",
    "        continue"
   ]
  },
  {
   "cell_type": "code",
   "execution_count": null,
   "id": "3f49e6a1",
   "metadata": {},
   "outputs": [],
   "source": []
  }
 ],
 "metadata": {
  "kernelspec": {
   "display_name": "Python 3 (ipykernel)",
   "language": "python",
   "name": "python3"
  },
  "language_info": {
   "codemirror_mode": {
    "name": "ipython",
    "version": 3
   },
   "file_extension": ".py",
   "mimetype": "text/x-python",
   "name": "python",
   "nbconvert_exporter": "python",
   "pygments_lexer": "ipython3",
   "version": "3.13.5"
  },
  "toc": {
   "base_numbering": 1,
   "nav_menu": {},
   "number_sections": true,
   "sideBar": true,
   "skip_h1_title": true,
   "title_cell": "Table of Contents",
   "title_sidebar": "Contents",
   "toc_cell": false,
   "toc_position": {
    "height": "calc(100% - 180px)",
    "left": "10px",
    "top": "150px",
    "width": "165px"
   },
   "toc_section_display": true,
   "toc_window_display": false
  }
 },
 "nbformat": 4,
 "nbformat_minor": 5
}
