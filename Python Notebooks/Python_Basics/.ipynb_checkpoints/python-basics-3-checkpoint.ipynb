{
 "cells": [
  {
   "cell_type": "markdown",
   "metadata": {},
   "source": [
    "<img align=\"left\" src=\"https://ithaka-labs.s3.amazonaws.com/static-files/images/tdm/tdmdocs/CC_BY.png\"><br />\n",
    "\n",
    "Created by [Nathan Kelber](http://nkelber.com) and Ted Lawless for [JSTOR Labs](https://labs.jstor.org/) under [Creative Commons CC BY License](https://creativecommons.org/licenses/by/4.0/)<br />\n",
    "For questions/comments/improvements, email nathan.kelber@ithaka.org.<br />\n",
    "___"
   ]
  },
  {
   "cell_type": "markdown",
   "metadata": {},
   "source": [
    "# Python Basics 3\n",
    "\n",
    "**Description:** \n",
    "This lesson describes the basics of [lists](https://constellate.org/docs/key-terms/#list) and [dictionaries](https://constellate.org/docs/key-terms/#dictionary) including:\n",
    "\n",
    "* The `in` and `not in` [operators](https://constellate.org/docs/key-terms/#operator)\n",
    "* [Lists](https://constellate.org/docs/key-terms/#list)\n",
    "* [List](https://constellate.org/docs/key-terms/#list) methods (`index()`, `append()`, `insert()`, `sort()`)\n",
    "* [Dictionaries](https://constellate.org/docs/key-terms/#dictionary)\n",
    "* [Dictionary](https://constellate.org/docs/key-terms/#dictionary) methods (`update()`, `keys()`, `values()`, `items()`, `get()`)\n",
    "\n",
    "This is part 3 of 5 in the series *Python Basics* that will prepare you to do text analysis using the [Python](https://constellate.org/docs/key-terms/#python) programming language.\n",
    "\n",
    "**Use Case:** For Learners (Detailed explanation, not ideal for researchers)\n",
    "\n",
    "**Difficulty:** Beginner\n",
    "\n",
    "**Completion Time:** 90 minutes\n",
    "\n",
    "**Knowledge Required:** \n",
    "* [Getting Started with Jupyter Notebooks](./getting-started-with-jupyter.ipynb)\n",
    "* [Python Basics 1](./python-basics-1.ipynb)\n",
    "* [Python Basics 2](./python-basics-2.ipynb)\n",
    "\n",
    "**Knowledge Recommended:** None\n",
    "\n",
    "**Data Format:** None\n",
    "\n",
    "**Libraries Used:** None\n",
    "\n",
    "**Research Pipeline:** None\n",
    "___"
   ]
  },
  {
   "cell_type": "markdown",
   "metadata": {},
   "source": [
    "In *Python Basics 1*, we learned about three data types: integers, floats, and strings. In this lesson, we will learn about two additional data types: lists and dictionaries. **Lists** and **dictionaries** help us store many values inside a single variable. This is helpful for a few reasons.\n",
    "\n",
    "* We can store many items in a single list or dictionary, making it easier to keep the data together\n",
    "* Lists and dictionaries only require a single assignment statement\n",
    "* Lists and dictionaries have additional capabilities that will make organizing our data easier\n",
    "\n",
    "The fundamental **difference between a list and a dictionary** is that a list stores items in sequential order (starting from 0) while a dictionary  stores items in **key/value pairs**. When we want to retrieve an item in a list, we use an index number or a set of index numbers called a slice as a reference. When we want to retrieve an item from a dictionary, we supply a key that returns the value (or set of values) associated with that key. Each of these approaches can be beneficial depending on what kind of data we are working with (and what we intend to do with the data)."
   ]
  },
  {
   "cell_type": "markdown",
   "metadata": {},
   "source": [
    "## Lists\n",
    "\n",
    "A list can store anywhere from zero to millions of items. The items that can be stored in a list include the data types we have already learned: integers, floats, and strings. A list assignment statement takes the form.\n",
    "`my_list = [item1, item2, item3, item4...]`"
   ]
  },
  {
   "cell_type": "code",
   "execution_count": 2,
   "metadata": {},
   "outputs": [
    {
     "name": "stdout",
     "output_type": "stream",
     "text": [
      "[7, 21, 100]\n"
     ]
    }
   ],
   "source": [
    "# A list containing integers\n",
    "my_favorite_numbers = [7, 21, 100]\n",
    "print(my_favorite_numbers)"
   ]
  },
  {
   "cell_type": "code",
   "execution_count": 3,
   "metadata": {},
   "outputs": [
    {
     "name": "stdout",
     "output_type": "stream",
     "text": [
      "['Harriet Tubman', 'Rosa Parks', 'Pauli Murray']\n"
     ]
    }
   ],
   "source": [
    "# A list containing strings\n",
    "my_inspirations = ['Harriet Tubman', 'Rosa Parks', 'Pauli Murray']\n",
    "print(my_inspirations)"
   ]
  },
  {
   "cell_type": "markdown",
   "metadata": {},
   "source": [
    "Both `my_favorite_numbers` and `my_inspirations` have three items, but we could have also initialized them with no items `my_favorite_numbers = []` or many more items. "
   ]
  },
  {
   "cell_type": "code",
   "execution_count": 10,
   "metadata": {},
   "outputs": [
    {
     "data": {
      "text/plain": [
       "list"
      ]
     },
     "execution_count": 10,
     "metadata": {},
     "output_type": "execute_result"
    }
   ],
   "source": [
    "type(my_favorite_numbers)\n",
    "type(my_inspirations)"
   ]
  },
  {
   "cell_type": "markdown",
   "metadata": {},
   "source": [
    "### List Index\n",
    "\n",
    "Each item has an **index number** that depends on their order. The first item is 0, the second item is 1, the third item is 2, etc. In the `my_inspirations` list, `'Pauli Murray'` is item 2."
   ]
  },
  {
   "cell_type": "code",
   "execution_count": 4,
   "metadata": {},
   "outputs": [
    {
     "data": {
      "text/plain": [
       "'Pauli Murray'"
      ]
     },
     "execution_count": 4,
     "metadata": {},
     "output_type": "execute_result"
    }
   ],
   "source": [
    "# Retrieving an item in a list\n",
    "my_inspirations[2]"
   ]
  },
  {
   "cell_type": "markdown",
   "metadata": {},
   "source": [
    "\n",
    "Lists can also contain other lists. To retrieve a value from a list within a list, we use two indexes (or indices)."
   ]
  },
  {
   "cell_type": "code",
   "execution_count": 5,
   "metadata": {},
   "outputs": [
    {
     "data": {
      "text/plain": [
       "'Pauli Murray'"
      ]
     },
     "execution_count": 5,
     "metadata": {},
     "output_type": "execute_result"
    }
   ],
   "source": [
    "# Retrieving an item from a list within a list\n",
    "my_inspirations = [\n",
    "    ['Harriet Tubman', 'Rosa Parks', 'Pauli Murray'], \n",
    "    ['Martin Luther King Jr.', 'Frederick Douglass', 'Malcolm X']] \n",
    "my_inspirations[0][2] #to retrieve an item, we have to write two indices: the first one indicates in which list, and the second is the position within the list\n"
   ]
  },
  {
   "cell_type": "markdown",
   "metadata": {},
   "source": [
    "We can also select items from a list beginning from the end/right side of a list by using negative index numbers."
   ]
  },
  {
   "cell_type": "code",
   "execution_count": 6,
   "metadata": {},
   "outputs": [
    {
     "data": {
      "text/plain": [
       "'Pauli Murray'"
      ]
     },
     "execution_count": 6,
     "metadata": {},
     "output_type": "execute_result"
    }
   ],
   "source": [
    "# Retrieving an item from the end of a list by using negative indices\n",
    "my_inspirations = ['Harriet Tubman', 'Rosa Parks', 'Pauli Murray']\n",
    "my_inspirations[-1] #we count in the opposite direction NB: here we don't have -0 so we start directly form -1"
   ]
  },
  {
   "cell_type": "markdown",
   "metadata": {},
   "source": [
    "### List Functions\n",
    "\n",
    "It is not uncommon for lists to be hundreds or thousands of items long. It would be a chore to count all those items to create a slice . If you want to know the length of a list, you can use the **`len()` function**. This function can also be used on strings to determine their lenght."
   ]
  },
  {
   "cell_type": "code",
   "execution_count": 7,
   "metadata": {},
   "outputs": [
    {
     "data": {
      "text/plain": [
       "11"
      ]
     },
     "execution_count": 7,
     "metadata": {},
     "output_type": "execute_result"
    }
   ],
   "source": [
    "len(\"hello world\") #legnth of words"
   ]
  },
  {
   "cell_type": "code",
   "execution_count": 8,
   "metadata": {},
   "outputs": [
    {
     "data": {
      "text/plain": [
       "7"
      ]
     },
     "execution_count": 8,
     "metadata": {},
     "output_type": "execute_result"
    }
   ],
   "source": [
    "# Using the len() function to discover the number of items in the list\n",
    "staff = ['Aaron Aston',\n",
    "         'Brianna Barton',\n",
    "         'Carla Cameron',\n",
    "         'Delia Darcy',\n",
    "         'Evelyn Elgin',\n",
    "         'Frederick Federov',\n",
    "         'Gaston Garbo']\n",
    "len(staff)"
   ]
  },
  {
   "cell_type": "markdown",
   "metadata": {},
   "source": [
    "### Slicing a list\n",
    "We can also retrieve a group of consecutive items from a list using slices instead of a single index number. We create a **slice** by indicating a starting and ending index number. The slice is a smaller list containing all the items between our starting and stopping index number."
   ]
  },
  {
   "cell_type": "code",
   "execution_count": 11,
   "metadata": {},
   "outputs": [
    {
     "data": {
      "text/plain": [
       "['Brianna Barton', 'Carla Cameron']"
      ]
     },
     "execution_count": 11,
     "metadata": {},
     "output_type": "execute_result"
    }
   ],
   "source": [
    "# Taking a slice of a list\n",
    "staff = ['Aaron Aston',\n",
    "         'Brianna Barton',\n",
    "         'Carla Cameron',\n",
    "         'Delia Darcy',\n",
    "         'Evelyn Elgin',\n",
    "         'Frederick Federov',\n",
    "         'Gaston Garbo']\n",
    "staff[1:3] #we slice a list. \n",
    "#NB: the indexes start from 0 and the 3 is not inclusive so if we write 1 we actually start from the 2nd position and we don't include the 4th position"
   ]
  },
  {
   "cell_type": "markdown",
   "metadata": {},
   "source": [
    "Notice in our slice that the second index in a slice is the stopping point. That is our return list contains `staff[1]` (`'Brianna Barton'`) and `staff[2]` (`'Carla Cameron'`), but it does not include `staff[3]` (`'Delia Darcy'`). This can be confusing if you were expecting three items instead of two. One way to remember this is by subtracting the indexes in your head (3 - 1 = 2 items)."
   ]
  },
  {
   "cell_type": "markdown",
   "metadata": {},
   "source": [
    "The `staff` list is 7 items long, meaning the whole list is within the slice `staff[0:7]`. When we take a slice of a list we can also leave out the first index number (0 is assumed) or the stopping index number (the last item is assumed)."
   ]
  },
  {
   "cell_type": "code",
   "execution_count": 16,
   "metadata": {},
   "outputs": [
    {
     "data": {
      "text/plain": [
       "['Aaron Aston',\n",
       " 'Brianna Barton',\n",
       " 'Carla Cameron',\n",
       " 'Delia Darcy',\n",
       " 'Evelyn Elgin']"
      ]
     },
     "execution_count": 16,
     "metadata": {},
     "output_type": "execute_result"
    }
   ],
   "source": [
    "# Taking a slice of a list without a beginning index\n",
    "staff = ['Aaron Aston',\n",
    "         'Brianna Barton',\n",
    "         'Carla Cameron',\n",
    "         'Delia Darcy',\n",
    "         'Evelyn Elgin',\n",
    "         'Frederick Federov',\n",
    "         'Gaston Garbo']\n",
    "staff[:5]\n",
    "#a slice that starts from zero to 5"
   ]
  },
  {
   "cell_type": "code",
   "execution_count": 17,
   "metadata": {},
   "outputs": [
    {
     "data": {
      "text/plain": [
       "['Evelyn Elgin', 'Frederick Federov', 'Gaston Garbo']"
      ]
     },
     "execution_count": 17,
     "metadata": {},
     "output_type": "execute_result"
    }
   ],
   "source": [
    "staff[-3:]\n",
    "#a slice that takes the last 3 postitions of the list"
   ]
  },
  {
   "cell_type": "markdown",
   "metadata": {},
   "source": [
    "### The `in` and `not in` Operators\n",
    "\n",
    "If we have a long list, it may be helpful to check whether a value is in the list. We can do this with the `in` and `not in` operators, which return a boolean value: **True** or **False**."
   ]
  },
  {
   "cell_type": "code",
   "execution_count": 21,
   "metadata": {},
   "outputs": [
    {
     "name": "stdout",
     "output_type": "stream",
     "text": [
      "False\n",
      "True\n"
     ]
    }
   ],
   "source": [
    "# Checking whether an item is in a list using the `in` operator\n",
    "\n",
    "# Create a list called `staff`\n",
    "staff = ['Tara Richards',\n",
    " 'Tammy French',\n",
    " 'Justin Douglas',\n",
    " 'Lauren Marquez',\n",
    " 'Aaron Wilson',\n",
    " 'Dennis Howell',\n",
    " 'Brandon Reed',\n",
    " 'Kelly Baker',\n",
    " 'Justin Howard',\n",
    " 'Sarah Myers',\n",
    " 'Vanessa Burgess',\n",
    " 'Timothy Davidson',\n",
    " 'Jessica Lee',\n",
    " 'Christopher Miller',\n",
    " 'Lisa Grant',\n",
    " 'Ryan Chan',\n",
    " 'Gary Carson',\n",
    " 'Anthony Mitchell',\n",
    " 'Jacob Turner',\n",
    " 'Jennifer Bonilla',\n",
    " 'Rachel Gonzalez',\n",
    " 'Andrew Clark',\n",
    " 'Richard Pearson',\n",
    " 'Glenn Allen',\n",
    " 'Jacqueline Gallagher',\n",
    " 'Carlos Mcdowell',\n",
    " 'Jeffrey Harris',\n",
    " 'Danielle Griffith',\n",
    " 'Sarah Craig',\n",
    " 'Vernon Vasquez',\n",
    " 'Anthony Burton',\n",
    " 'Erica Bryant',\n",
    " 'Patricia Walker',\n",
    " 'Karen Brown',\n",
    " 'Terri Walker',\n",
    " 'Michelle Knight',\n",
    " 'Kathleen Douglas',\n",
    " 'Debbie Estrada',\n",
    " 'Jennifer Brewer',\n",
    " 'Taylor Rodriguez',\n",
    " 'Lisa Turner',\n",
    " 'Julie Hudson',\n",
    " 'Christina Cox',\n",
    " 'Nancy Patrick',\n",
    " 'Rita Mosley',\n",
    " 'Nicholas Gordon',\n",
    " 'Wanda Vasquez',\n",
    " 'Jason Lopez',\n",
    " 'Anna Powers',\n",
    " 'Tyler Perez']\n",
    "\n",
    "# Check whether a name is in staff\n",
    "print(\"Rita McDowell\" in staff)\n",
    "print(\"Erica Bryant\" in staff)"
   ]
  },
  {
   "cell_type": "code",
   "execution_count": 22,
   "metadata": {},
   "outputs": [
    {
     "data": {
      "text/plain": [
       "False"
      ]
     },
     "execution_count": 22,
     "metadata": {},
     "output_type": "execute_result"
    }
   ],
   "source": [
    "#For now this is case dependend meaning that if we wrote it in a different way we might get a false negative\n",
    "'patricia walker' in staff"
   ]
  },
  {
   "cell_type": "markdown",
   "metadata": {},
   "source": [
    "We can change the value of any item in a list using an assignment statement that contains the item's index number."
   ]
  },
  {
   "cell_type": "code",
   "execution_count": 27,
   "metadata": {
    "execution": {
     "iopub.execute_input": "2025-04-25T10:14:02.014018Z",
     "iopub.status.busy": "2025-04-25T10:14:02.013514Z",
     "iopub.status.idle": "2025-04-25T10:14:02.016934Z",
     "shell.execute_reply": "2025-04-25T10:14:02.016510Z",
     "shell.execute_reply.started": "2025-04-25T10:14:02.014000Z"
    }
   },
   "outputs": [
    {
     "name": "stdout",
     "output_type": "stream",
     "text": [
      "['Tara Richards', 'Tammy French', 'Justin Douglas']\n",
      "['Tara Richards', 'Tammy Simons', 'Justin Douglas']\n"
     ]
    }
   ],
   "source": [
    "# Changing the value of an item in a list\n",
    "staff = ['Tara Richards', 'Tammy French', 'Justin Douglas']\n",
    "print(staff)\n",
    "\n",
    "# Changing an item using an assignment statement with an index number\n",
    "staff[1] = 'Tammy Simons'\n",
    "print(staff)\n"
   ]
  },
  {
   "cell_type": "markdown",
   "metadata": {},
   "source": [
    "Now we know how to change an item in a list. And can use the `in` and `not in` operator to determine if an item is in the list. But if we don't know the index number of the item, we won't know which index number to change. \n",
    "\n",
    "We need a way to pass both the name of the list and the name of the item simultaneously to a function. To do that, we'll use a special kind of function called a method."
   ]
  },
  {
   "cell_type": "markdown",
   "metadata": {},
   "source": [
    "## List Methods\n",
    "\n",
    "A method is a kind of function. (Remember, functions end in parentheses.) Methods, however, act on objects (like lists ) so they have a slightly different written form. We will take a look at five useful methods for working with lists.\n",
    "\n",
    "|Method Name | Purpose | Form |\n",
    "|---|---|---|\n",
    "|index()| search for an item in a list and return the index number | list_name.index(item_name)|\n",
    "|append()| add an item to the end of a list | list_name.append(item_name)|\n",
    "|insert()| insert an item in the middle of a list | list_name.insert(index_number, item_name)|\n",
    "|remove()| remove an item from a list based on value | list_name.remove('item_value')|\n",
    "|sort()| sort the order of a list | list_name.sort()|\n",
    "\n",
    "### The `index()` Method\n",
    "\n",
    "The `index()` method checks to see if a value is in a list. If the value is found, it returns the index number for the first item with that value. (Keep in mind, there could be multiple items with a single value in a list). If the value is not found, the `index()` method  returns a `ValueError`."
   ]
  },
  {
   "cell_type": "code",
   "execution_count": 23,
   "metadata": {},
   "outputs": [
    {
     "data": {
      "text/plain": [
       "12"
      ]
     },
     "execution_count": 23,
     "metadata": {},
     "output_type": "execute_result"
    }
   ],
   "source": [
    "# Using the index() method to return the index number of an item by passing a value\n",
    "staff = ['Tara Richards',\n",
    " 'Tammy French',\n",
    " 'Justin Douglas',\n",
    " 'Lauren Marquez',\n",
    " 'Aaron Wilson',\n",
    " 'Dennis Howell',\n",
    " 'Brandon Reed',\n",
    " 'Kelly Baker',\n",
    " 'Justin Howard',\n",
    " 'Sarah Myers',\n",
    " 'Vanessa Burgess',\n",
    " 'Timothy Davidson',\n",
    " 'Jessica Lee',\n",
    " 'Christopher Miller',\n",
    " 'Lisa Grant',\n",
    " 'Ryan Chan',\n",
    " 'Gary Carson',\n",
    " 'Anthony Mitchell',\n",
    " 'Jacob Turner',\n",
    " 'Jennifer Bonilla',\n",
    " 'Rachel Gonzalez',\n",
    " 'Andrew Clark',\n",
    " 'Richard Pearson',\n",
    " 'Glenn Allen']\n",
    "\n",
    "# Find the index number of a list item\n",
    "staff.index('Jessica Lee')"
   ]
  },
  {
   "cell_type": "markdown",
   "metadata": {},
   "source": [
    "Lists can contain multiple identical items. If there are multiple identical items, we need to use some flow control to return all the indices. The `enumerate()` function allows us to keep track of the `index` and `element` at the same time. Notice that this `for` loop defines two variables. The first variable keeps track of the current index number in the loop, the second variable keeps track of the value for the current element."
   ]
  },
  {
   "cell_type": "code",
   "execution_count": 24,
   "metadata": {
    "scrolled": true
   },
   "outputs": [
    {
     "name": "stdout",
     "output_type": "stream",
     "text": [
      "1\n",
      "4\n"
     ]
    }
   ],
   "source": [
    "# Getting all indices for items that repeat\n",
    "\n",
    "staff = ['Tara Richards',\n",
    " 'John Smith',\n",
    " 'Justin Douglas',\n",
    " 'Lauren Marquez',\n",
    " 'John Smith']\n",
    "\n",
    "# Use the enumerate function\n",
    "for index, name in enumerate(staff):\n",
    "    if name == 'John Smith':\n",
    "        print(index)"
   ]
  },
  {
   "cell_type": "markdown",
   "metadata": {},
   "source": [
    "The `enumerate()`  function adds a counter (index) to an iterable (like a list), and returns it as an enumerate object, which you can loop through to get both the index and the value."
   ]
  },
  {
   "cell_type": "markdown",
   "metadata": {},
   "source": [
    "### The `append()` Method\n",
    "\n",
    "The `append()` method) adds a value to the end of a list."
   ]
  },
  {
   "cell_type": "code",
   "execution_count": 25,
   "metadata": {},
   "outputs": [
    {
     "data": {
      "text/plain": [
       "['Tara Richards',\n",
       " 'Tammy French',\n",
       " 'Justin Douglas',\n",
       " 'Lauren Marquez',\n",
       " 'Aaron Wilson',\n",
       " 'Dennis Howell',\n",
       " 'Brandon Reed',\n",
       " 'Kelly Baker',\n",
       " 'Justin Howard',\n",
       " 'Sarah Myers',\n",
       " 'Vanessa Burgess',\n",
       " 'Timothy Davidson',\n",
       " 'Jessica Lee',\n",
       " 'Christopher Miller',\n",
       " 'Lisa Grant',\n",
       " 'Ryan Chan',\n",
       " 'Gary Carson',\n",
       " 'Anthony Mitchell',\n",
       " 'Jacob Turner',\n",
       " 'Jennifer Bonilla',\n",
       " 'Rachel Gonzalez',\n",
       " 'Andrew Clark',\n",
       " 'Richard Pearson',\n",
       " 'Glenn Allen',\n",
       " 'Clara Read']"
      ]
     },
     "execution_count": 25,
     "metadata": {},
     "output_type": "execute_result"
    }
   ],
   "source": [
    "# Using the append() method to add an item to the end of a list\n",
    "staff = ['Tara Richards',\n",
    " 'Tammy French',\n",
    " 'Justin Douglas',\n",
    " 'Lauren Marquez',\n",
    " 'Aaron Wilson',\n",
    " 'Dennis Howell',\n",
    " 'Brandon Reed',\n",
    " 'Kelly Baker',\n",
    " 'Justin Howard',\n",
    " 'Sarah Myers',\n",
    " 'Vanessa Burgess',\n",
    " 'Timothy Davidson',\n",
    " 'Jessica Lee',\n",
    " 'Christopher Miller',\n",
    " 'Lisa Grant',\n",
    " 'Ryan Chan',\n",
    " 'Gary Carson',\n",
    " 'Anthony Mitchell',\n",
    " 'Jacob Turner',\n",
    " 'Jennifer Bonilla',\n",
    " 'Rachel Gonzalez',\n",
    " 'Andrew Clark',\n",
    " 'Richard Pearson',\n",
    " 'Glenn Allen']\n",
    "\n",
    "# Append a staff member to the list\n",
    "\n",
    "staff.append(\"Clara Read\")\n",
    "\n",
    "# The list() function will print our list in an easier to read format than the print() function.\n",
    "# Prints `staff` in a vertical list format to check that the name was added. \n",
    "list(staff) "
   ]
  },
  {
   "cell_type": "markdown",
   "metadata": {},
   "source": [
    "We can also add an item to the end of a list by using an assignment statement."
   ]
  },
  {
   "cell_type": "code",
   "execution_count": 15,
   "metadata": {
    "execution": {
     "iopub.execute_input": "2024-10-07T08:59:04.668062Z",
     "iopub.status.busy": "2024-10-07T08:59:04.667589Z",
     "iopub.status.idle": "2024-10-07T08:59:04.671391Z",
     "shell.execute_reply": "2024-10-07T08:59:04.670998Z",
     "shell.execute_reply.started": "2024-10-07T08:59:04.668045Z"
    }
   },
   "outputs": [
    {
     "data": {
      "text/plain": [
       "['Tara Richards',\n",
       " 'Tammy French',\n",
       " 'Justin Douglas',\n",
       " 'Lauren Marquez',\n",
       " 'Aaron Wilson',\n",
       " 'Dennis Howell',\n",
       " 'Brandon Reed',\n",
       " 'Kelly Baker',\n",
       " 'Justin Howard',\n",
       " 'Sarah Myers',\n",
       " 'Vanessa Burgess',\n",
       " 'Timothy Davidson',\n",
       " 'Jessica Lee',\n",
       " 'Christopher Miller',\n",
       " 'Lisa Grant',\n",
       " 'Ryan Chan',\n",
       " 'Gary Carson',\n",
       " 'Anthony Mitchell',\n",
       " 'Jacob Turner',\n",
       " 'Jennifer Bonilla',\n",
       " 'Rachel Gonzalez',\n",
       " 'Andrew Clark',\n",
       " 'Richard Pearson',\n",
       " 'Glenn Allen',\n",
       " 'Valentina Schiariti',\n",
       " 'Dustin Henderson']"
      ]
     },
     "execution_count": 15,
     "metadata": {},
     "output_type": "execute_result"
    }
   ],
   "source": [
    "# Adding an item to a list using an assignment statement\n",
    "# We are concatenating two lists\n",
    "\n",
    "staff = staff + ['Dustin Henderson'] # Concatenate staff list with the list ['Dustin Henderson']\n",
    "list(staff)"
   ]
  },
  {
   "cell_type": "markdown",
   "metadata": {},
   "source": [
    "### The `insert()` Method\n",
    "\n",
    "The `insert()` method is similar to `append()` but it takes an argument that lets us choose an index number to insert the new item."
   ]
  },
  {
   "cell_type": "code",
   "execution_count": 26,
   "metadata": {},
   "outputs": [
    {
     "data": {
      "text/plain": [
       "['Tara Richards',\n",
       " 'Tammy French',\n",
       " 'Justin Douglas',\n",
       " 'Lauren Marquez',\n",
       " 'Aaron Wilson',\n",
       " 'Arya Stark',\n",
       " 'Dennis Howell',\n",
       " 'Brandon Reed',\n",
       " 'Kelly Baker',\n",
       " 'Justin Howard',\n",
       " 'Sarah Myers',\n",
       " 'Vanessa Burgess',\n",
       " 'Timothy Davidson',\n",
       " 'Jessica Lee',\n",
       " 'Christopher Miller',\n",
       " 'Lisa Grant',\n",
       " 'Ryan Chan',\n",
       " 'Gary Carson',\n",
       " 'Anthony Mitchell',\n",
       " 'Jacob Turner',\n",
       " 'Jennifer Bonilla',\n",
       " 'Rachel Gonzalez',\n",
       " 'Andrew Clark',\n",
       " 'Richard Pearson',\n",
       " 'Glenn Allen']"
      ]
     },
     "execution_count": 26,
     "metadata": {},
     "output_type": "execute_result"
    }
   ],
   "source": [
    "# Using the insert() method to add an item at a specific index number\n",
    "staff = ['Tara Richards',\n",
    " 'Tammy French',\n",
    " 'Justin Douglas',\n",
    " 'Lauren Marquez',\n",
    " 'Aaron Wilson',\n",
    " 'Dennis Howell',\n",
    " 'Brandon Reed',\n",
    " 'Kelly Baker',\n",
    " 'Justin Howard',\n",
    " 'Sarah Myers',\n",
    " 'Vanessa Burgess',\n",
    " 'Timothy Davidson',\n",
    " 'Jessica Lee',\n",
    " 'Christopher Miller',\n",
    " 'Lisa Grant',\n",
    " 'Ryan Chan',\n",
    " 'Gary Carson',\n",
    " 'Anthony Mitchell',\n",
    " 'Jacob Turner',\n",
    " 'Jennifer Bonilla',\n",
    " 'Rachel Gonzalez',\n",
    " 'Andrew Clark',\n",
    " 'Richard Pearson',\n",
    " 'Glenn Allen']\n",
    "\n",
    "staff.insert(5, 'Arya Stark') # Insert the name 'Arya Stark' at index 5 (The sixth name on the list)\n",
    "list(staff)"
   ]
  },
  {
   "cell_type": "markdown",
   "metadata": {},
   "source": [
    "### The `remove()` Method\n",
    "\n",
    "The `remove()` method removes the first item from the list that has a matching value."
   ]
  },
  {
   "cell_type": "code",
   "execution_count": 27,
   "metadata": {},
   "outputs": [
    {
     "data": {
      "text/plain": [
       "['Tara Richards',\n",
       " 'Tammy French',\n",
       " 'Justin Douglas',\n",
       " 'Lauren Marquez',\n",
       " 'Aaron Wilson',\n",
       " 'Dennis Howell',\n",
       " 'Brandon Reed',\n",
       " 'Kelly Baker',\n",
       " 'Justin Howard',\n",
       " 'Sarah Myers',\n",
       " 'Vanessa Burgess',\n",
       " 'Timothy Davidson',\n",
       " 'Jessica Lee',\n",
       " 'Christopher Miller',\n",
       " 'Lisa Grant',\n",
       " 'Ryan Chan',\n",
       " 'Gary Carson',\n",
       " 'Anthony Mitchell',\n",
       " 'Jacob Turner',\n",
       " 'Jennifer Bonilla',\n",
       " 'Rachel Gonzalez',\n",
       " 'Andrew Clark',\n",
       " 'Glenn Allen']"
      ]
     },
     "execution_count": 27,
     "metadata": {},
     "output_type": "execute_result"
    }
   ],
   "source": [
    "# Using the remove() method to remove the first item with a matching value\n",
    "staff = ['Tara Richards',\n",
    " 'Tammy French',\n",
    " 'Justin Douglas',\n",
    " 'Lauren Marquez',\n",
    " 'Aaron Wilson',\n",
    " 'Dennis Howell',\n",
    " 'Brandon Reed',\n",
    " 'Kelly Baker',\n",
    " 'Justin Howard',\n",
    " 'Sarah Myers',\n",
    " 'Vanessa Burgess',\n",
    " 'Timothy Davidson',\n",
    " 'Jessica Lee',\n",
    " 'Christopher Miller',\n",
    " 'Lisa Grant',\n",
    " 'Ryan Chan',\n",
    " 'Gary Carson',\n",
    " 'Anthony Mitchell',\n",
    " 'Jacob Turner',\n",
    " 'Jennifer Bonilla',\n",
    " 'Rachel Gonzalez',\n",
    " 'Andrew Clark',\n",
    " 'Richard Pearson',\n",
    " 'Glenn Allen']\n",
    "\n",
    "staff.remove('Richard Pearson')\n",
    "list(staff) "
   ]
  },
  {
   "cell_type": "markdown",
   "metadata": {},
   "source": [
    "Like the `.index()` method, the `.remove()` only works on the first item it finds in the list. If there are repeating items on the list, you can use some flow control to make sure you remove them all."
   ]
  },
  {
   "cell_type": "code",
   "execution_count": 28,
   "metadata": {},
   "outputs": [
    {
     "data": {
      "text/plain": [
       "['Lauren Marquez']"
      ]
     },
     "execution_count": 28,
     "metadata": {},
     "output_type": "execute_result"
    }
   ],
   "source": [
    "# Removing an item that appears multiple times on the list\n",
    "\n",
    "staff = ['John Smith',\n",
    " 'Lauren Marquez',\n",
    " 'John Smith']\n",
    "\n",
    "# Use a while loop for flow control\n",
    "while 'John Smith' in staff:\n",
    "    staff.remove('John Smith')\n",
    "\n",
    "# List the staff members after the removal\n",
    "list(staff)"
   ]
  },
  {
   "cell_type": "markdown",
   "metadata": {},
   "source": [
    "If you know the value you wish to remove then the `remove()` method is the best option. If you know the index number of the item, you can use a `del` statement to delete list items."
   ]
  },
  {
   "cell_type": "code",
   "execution_count": 21,
   "metadata": {
    "execution": {
     "iopub.execute_input": "2024-10-07T09:00:03.301082Z",
     "iopub.status.busy": "2024-10-07T09:00:03.300802Z",
     "iopub.status.idle": "2024-10-07T09:00:03.305120Z",
     "shell.execute_reply": "2024-10-07T09:00:03.304692Z",
     "shell.execute_reply.started": "2024-10-07T09:00:03.301065Z"
    }
   },
   "outputs": [
    {
     "data": {
      "text/plain": [
       "['Tara Richards',\n",
       " 'Tammy French',\n",
       " 'Justin Douglas',\n",
       " 'Lauren Marquez',\n",
       " 'Aaron Wilson',\n",
       " 'Dennis Howell',\n",
       " 'Brandon Reed',\n",
       " 'Kelly Baker',\n",
       " 'Justin Howard',\n",
       " 'Sarah Myers',\n",
       " 'Vanessa Burgess',\n",
       " 'Timothy Davidson',\n",
       " 'Jessica Lee',\n",
       " 'Christopher Miller',\n",
       " 'Lisa Grant',\n",
       " 'Ryan Chan',\n",
       " 'Gary Carson',\n",
       " 'Anthony Mitchell',\n",
       " 'Jacob Turner',\n",
       " 'Jennifer Bonilla',\n",
       " 'Rachel Gonzalez',\n",
       " 'Andrew Clark',\n",
       " 'Richard Pearson']"
      ]
     },
     "execution_count": 21,
     "metadata": {},
     "output_type": "execute_result"
    }
   ],
   "source": [
    "# Using a `del` statement to delete a list item\n",
    "staff = ['Tara Richards',\n",
    " 'Tammy French',\n",
    " 'Justin Douglas',\n",
    " 'Lauren Marquez',\n",
    " 'Aaron Wilson',\n",
    " 'Dennis Howell',\n",
    " 'Brandon Reed',\n",
    " 'Kelly Baker',\n",
    " 'Justin Howard',\n",
    " 'Sarah Myers',\n",
    " 'Vanessa Burgess',\n",
    " 'Timothy Davidson',\n",
    " 'Jessica Lee',\n",
    " 'Christopher Miller',\n",
    " 'Lisa Grant',\n",
    " 'Ryan Chan',\n",
    " 'Gary Carson',\n",
    " 'Anthony Mitchell',\n",
    " 'Jacob Turner',\n",
    " 'Jennifer Bonilla',\n",
    " 'Rachel Gonzalez',\n",
    " 'Andrew Clark',\n",
    " 'Richard Pearson',\n",
    " 'Glenn Allen']\n",
    "del staff[-1] # Delete the final item in the list. In this case, 'Glenn Allen'.\n",
    "list(staff)"
   ]
  },
  {
   "cell_type": "markdown",
   "metadata": {},
   "source": [
    "### The `sort()` Method\n",
    "\n",
    "The `sort()` method sorts a list in alphabetical order, where strings with capital letters are sorted A-Z, then strings with lowercase letters are sorted A-Z."
   ]
  },
  {
   "cell_type": "code",
   "execution_count": 30,
   "metadata": {},
   "outputs": [
    {
     "data": {
      "text/plain": [
       "['Aaron Wilson',\n",
       " 'Andrew Clark',\n",
       " 'Anthony Mitchell',\n",
       " 'Brandon Reed',\n",
       " 'Christopher Miller',\n",
       " 'Dennis Howell',\n",
       " 'Gary Carson',\n",
       " 'Glenn Allen',\n",
       " 'Jacob Turner',\n",
       " 'Jennifer Bonilla',\n",
       " 'Jessica Lee',\n",
       " 'Justin Douglas',\n",
       " 'Justin Howard',\n",
       " 'Kelly Baker',\n",
       " 'Lauren Marquez',\n",
       " 'Lisa Grant',\n",
       " 'Rachel Gonzalez',\n",
       " 'Richard Pearson',\n",
       " 'Ryan Chan',\n",
       " 'Sarah Myers',\n",
       " 'Tammy French',\n",
       " 'Tara Richards',\n",
       " 'Timothy Davidson',\n",
       " 'Vanessa Burgess']"
      ]
     },
     "execution_count": 30,
     "metadata": {},
     "output_type": "execute_result"
    }
   ],
   "source": [
    "# Using the `sort()` method to sort a list in alpha-numeric order\n",
    "staff = ['Tara Richards',\n",
    " 'Tammy French',\n",
    " 'Justin Douglas',\n",
    " 'Lauren Marquez',\n",
    " 'Aaron Wilson',\n",
    " 'Dennis Howell',\n",
    " 'Brandon Reed',\n",
    " 'Kelly Baker',\n",
    " 'Justin Howard',\n",
    " 'Sarah Myers',\n",
    " 'Vanessa Burgess',\n",
    " 'Timothy Davidson',\n",
    " 'Jessica Lee',\n",
    " 'Christopher Miller',\n",
    " 'Lisa Grant',\n",
    " 'Ryan Chan',\n",
    " 'Gary Carson',\n",
    " 'Anthony Mitchell',\n",
    " 'Jacob Turner',\n",
    " 'Jennifer Bonilla',\n",
    " 'Rachel Gonzalez',\n",
    " 'Andrew Clark',\n",
    " 'Richard Pearson',\n",
    " 'Glenn Allen']\n",
    "staff.sort()\n",
    "list(staff)"
   ]
  },
  {
   "cell_type": "markdown",
   "metadata": {},
   "source": [
    "It is important to remember that once the `sort()` method is used, the result can't be undone. If we want to preserve the original sorting, it can be better to create first a copy of the list (for example, by slicing the list taking all of its values: `list.slice[0:]`) and then sort that list."
   ]
  },
  {
   "cell_type": "markdown",
   "metadata": {},
   "source": [
    "The `sort()` method can take the argument `reverse=True` to have a sorting from Z to A: "
   ]
  },
  {
   "cell_type": "code",
   "execution_count": 31,
   "metadata": {},
   "outputs": [
    {
     "data": {
      "text/plain": [
       "['Vanessa Burgess',\n",
       " 'Timothy Davidson',\n",
       " 'Tara Richards',\n",
       " 'Tammy French',\n",
       " 'Sarah Myers',\n",
       " 'Ryan Chan',\n",
       " 'Richard Pearson',\n",
       " 'Rachel Gonzalez',\n",
       " 'Lisa Grant',\n",
       " 'Lauren Marquez',\n",
       " 'Kelly Baker',\n",
       " 'Justin Howard',\n",
       " 'Justin Douglas',\n",
       " 'Jessica Lee',\n",
       " 'Jennifer Bonilla',\n",
       " 'Jacob Turner',\n",
       " 'Glenn Allen',\n",
       " 'Gary Carson',\n",
       " 'Dennis Howell',\n",
       " 'Christopher Miller',\n",
       " 'Brandon Reed',\n",
       " 'Anthony Mitchell',\n",
       " 'Andrew Clark',\n",
       " 'Aaron Wilson']"
      ]
     },
     "execution_count": 31,
     "metadata": {},
     "output_type": "execute_result"
    }
   ],
   "source": [
    "staff.sort(reverse=True)\n",
    "list(staff)"
   ]
  },
  {
   "cell_type": "markdown",
   "metadata": {},
   "source": [
    "### Iterate through a list with a `for` loop\n",
    "We can use a `for` loop to iterate through all the items in a list. The `for` loop will *create* a new temporary variable to store the current item in the list (no assignment statement required). "
   ]
  },
  {
   "cell_type": "code",
   "execution_count": 10,
   "metadata": {
    "execution": {
     "iopub.execute_input": "2025-05-01T08:47:29.356499Z",
     "iopub.status.busy": "2025-05-01T08:47:29.355819Z",
     "iopub.status.idle": "2025-05-01T08:47:29.360408Z",
     "shell.execute_reply": "2025-05-01T08:47:29.359668Z",
     "shell.execute_reply.started": "2025-05-01T08:47:29.356471Z"
    }
   },
   "outputs": [
    {
     "name": "stdout",
     "output_type": "stream",
     "text": [
      "Tara Richards\n",
      "Tammy French\n",
      "Justin Douglas\n",
      "Lauren Marquez\n",
      "Aaron Wilson\n",
      "Dennis Howell\n",
      "Brandon Reed\n",
      "Kelly Baker\n",
      "Justin Howard\n",
      "Sarah Myers\n",
      "Vanessa Burgess\n",
      "Timothy Davidson\n",
      "Jessica Lee\n",
      "Christopher Miller\n",
      "Lisa Grant\n",
      "Ryan Chan\n",
      "Gary Carson\n",
      "Anthony Mitchell\n",
      "Jacob Turner\n",
      "Jennifer Bonilla\n",
      "Rachel Gonzalez\n",
      "Andrew Clark\n",
      "Glenn Allen\n"
     ]
    }
   ],
   "source": [
    "# Using a for loop with a list\n",
    "for person in staff: # Whatever is after `for` becomes the temporary variable\n",
    "    print(person)"
   ]
  },
  {
   "cell_type": "markdown",
   "metadata": {},
   "source": [
    "## Dictionaries\n",
    "\n",
    "Like a list, a **dictionary** can hold many values within a single variable. We have seen that the items of a list are stored in a strictly-ordered fashion, starting from item 0. In a dictionary, each value is stored in relation to a descriptive key, forming a key/value pair. Technically, as of Python 3.7 (June 2018), dictionaries are also ordered by insertion. In practice, however, the most useful aspect of a dictionary is the ability to supply a key and receive a value without reference to indices. \n",
    "\n",
    "Whereas a list is typed with brackets `[]`, a dictionary is typed with braces `{}`. The key and/or value can be an integer, float, or string.\n",
    "\n",
    "`example_dictionary = {key1 : value1, key2 : value2, key3 : value3}`\n",
    "\n",
    "We could imagine, for example, a dictionary with our professional contacts' names as keys and their occupations as values."
   ]
  },
  {
   "cell_type": "code",
   "execution_count": 32,
   "metadata": {},
   "outputs": [
    {
     "name": "stdout",
     "output_type": "stream",
     "text": [
      "{'Amanda Bennett': 'Engineer, electrical',\n",
      " 'Bryan Miller': 'Radiation protection practitioner',\n",
      " 'Christopher Garrison': 'Planning and development surveyor',\n",
      " 'Debra Allen': 'Intelligence analyst',\n",
      " 'Donna Decker': 'Architect',\n",
      " 'Heather Bullock': 'Media planner',\n",
      " 'Jason Brown': 'Energy manager',\n",
      " 'Jason Soto': 'Lighting technician, broadcasting/film/video',\n",
      " 'Marissa Munoz': 'Further education lecturer',\n",
      " 'Matthew Mccall': 'Chief Technology Officer',\n",
      " 'Michael Norman': 'Translator',\n",
      " 'Nicole Leblanc': 'Financial controller',\n",
      " 'Noah Delgado': 'Engineer, land',\n",
      " 'Rachel Charles': 'Physicist, medical',\n",
      " 'Stephanie Petty': 'Architect'}\n"
     ]
    }
   ],
   "source": [
    "# An example of a dictionary storing names and occupations\n",
    "contacts ={\n",
    " 'Amanda Bennett': 'Engineer, electrical',\n",
    " 'Bryan Miller': 'Radiation protection practitioner',\n",
    " 'Christopher Garrison': 'Planning and development surveyor',\n",
    " 'Debra Allen': 'Intelligence analyst',\n",
    " 'Donna Decker': 'Architect',\n",
    " 'Heather Bullock': 'Media planner',\n",
    " 'Jason Brown': 'Energy manager',\n",
    " 'Jason Soto': 'Lighting technician, broadcasting/film/video',\n",
    " 'Marissa Munoz': 'Further education lecturer',\n",
    " 'Matthew Mccall': 'Chief Technology Officer',\n",
    " 'Michael Norman': 'Translator',\n",
    " 'Nicole Leblanc': 'Financial controller',\n",
    " 'Noah Delgado': 'Engineer, land',\n",
    " 'Rachel Charles': 'Physicist, medical',\n",
    " 'Stephanie Petty': 'Architect'}\n",
    "from pprint import pprint # We import the pretty print function, which prints out dictionaries in a neater fashion than the built-in print() function\n",
    "pprint(contacts) # Use the pretty print function to print `contacts`"
   ]
  },
  {
   "cell_type": "markdown",
   "metadata": {},
   "source": [
    "We can add a new key/value pair to our dictionary using an assignment statement."
   ]
  },
  {
   "cell_type": "code",
   "execution_count": 33,
   "metadata": {},
   "outputs": [
    {
     "name": "stdout",
     "output_type": "stream",
     "text": [
      "{'Amanda Bennett': 'Engineer, electrical',\n",
      " 'Bryan Miller': 'Radiation protection practitioner',\n",
      " 'Christopher Garrison': 'Planning and development surveyor',\n",
      " 'Debra Allen': 'Intelligence analyst',\n",
      " 'Donna Decker': 'Architect',\n",
      " 'Heather Bullock': 'Media planner',\n",
      " 'Jason Brown': 'Energy manager',\n",
      " 'Jason Soto': 'Lighting technician, broadcasting/film/video',\n",
      " 'Marissa Munoz': 'Further education lecturer',\n",
      " 'Matthew Mccall': 'Chief Technology Officer',\n",
      " 'Michael Norman': 'Translator',\n",
      " 'Nathan Kelber': 'Constellate Education Manager',\n",
      " 'Nicole Leblanc': 'Financial controller',\n",
      " 'Noah Delgado': 'Engineer, land',\n",
      " 'Rachel Charles': 'Physicist, medical',\n",
      " 'Stephanie Petty': 'Architect'}\n"
     ]
    }
   ],
   "source": [
    "# Adding the key 'Nathan Kelber' with the value 'Constellate Education Manager' to the dictionary contact\n",
    "contacts['Nathan Kelber'] = 'Constellate Education Manager'\n",
    "\n",
    "pprint(contacts) # Use the pretty print function to print `contacts`"
   ]
  },
  {
   "cell_type": "markdown",
   "metadata": {},
   "source": [
    "Similar to deleting an item from a list, we can use a `del` statement to delete a key/value pair. We do not need to worry about duplicates because every key in a dictionary must be unique."
   ]
  },
  {
   "cell_type": "code",
   "execution_count": 34,
   "metadata": {},
   "outputs": [
    {
     "name": "stdout",
     "output_type": "stream",
     "text": [
      "{'Amanda Bennett': 'Engineer, electrical',\n",
      " 'Christopher Garrison': 'Planning and development surveyor',\n",
      " 'Debra Allen': 'Intelligence analyst',\n",
      " 'Donna Decker': 'Architect',\n",
      " 'Heather Bullock': 'Media planner',\n",
      " 'Jason Brown': 'Energy manager',\n",
      " 'Jason Soto': 'Lighting technician, broadcasting/film/video',\n",
      " 'Marissa Munoz': 'Further education lecturer',\n",
      " 'Matthew Mccall': 'Chief Technology Officer',\n",
      " 'Michael Norman': 'Translator',\n",
      " 'Nathan Kelber': 'Constellate Education Manager',\n",
      " 'Nicole Leblanc': 'Financial controller',\n",
      " 'Noah Delgado': 'Engineer, land',\n",
      " 'Rachel Charles': 'Physicist, medical',\n",
      " 'Stephanie Petty': 'Architect'}\n"
     ]
    }
   ],
   "source": [
    "# Deleting a key/value pair from the dictionary contacts\n",
    "del contacts['Bryan Miller'] \n",
    "\n",
    "pprint(contacts) # Use the pretty print function to print `contacts`"
   ]
  },
  {
   "cell_type": "markdown",
   "metadata": {},
   "source": [
    "## Dictionary Methods\n",
    "\n",
    "We'll take a look at five useful methods for working with dictionaries: `update()`, `keys()`, `values()`, `items()`, and `get()`.\n",
    "\n",
    "|Method Name | Purpose | Form |\n",
    "|---|---|---|\n",
    "|update()| add new key/value pairs to a dictionary | dict_name.update({key1:value1, key2:value2})|\n",
    "| &nbsp; | combine two dictionaries |dict_name.update(dict_name2)|\n",
    "|keys()| check if a key is in a dictionary (True/False) | key_name in dict_name.keys()|\n",
    "| &nbsp; | Loop through the keys in a dictionary | for k in dict.keys():|\n",
    "|values()| check if a value is in a dictionary (True/False) | value_name in dict_name.values()|\n",
    "| &nbsp;| Loop through the values in a dictionary | for v in dict.values():|\n",
    "|items()| Loop through the keys and values in a dictionary | for k, v in dict.items():|\n",
    "|get()| retrieve the value for a specific key | dict_name.get(key_name) |"
   ]
  },
  {
   "cell_type": "markdown",
   "metadata": {},
   "source": [
    "### The `update()` Method\n",
    "\n",
    "The `update()` method is useful for adding many key/value pairs to a dictionary at once. The `update()` method accepts a single key/value pair , multiple pairs, or even other dictionaries."
   ]
  },
  {
   "cell_type": "code",
   "execution_count": 11,
   "metadata": {
    "execution": {
     "iopub.execute_input": "2024-09-28T10:30:29.690598Z",
     "iopub.status.busy": "2024-09-28T10:30:29.690304Z",
     "iopub.status.idle": "2024-09-28T10:30:29.694015Z",
     "shell.execute_reply": "2024-09-28T10:30:29.693526Z",
     "shell.execute_reply.started": "2024-09-28T10:30:29.690579Z"
    }
   },
   "outputs": [
    {
     "name": "stdout",
     "output_type": "stream",
     "text": [
      "{'Amanda Bennett': 'Engineer, electrical',\n",
      " 'Christopher Garrison': 'Planning and development surveyor',\n",
      " 'Debra Allen': 'Intelligence analyst',\n",
      " 'Donna Decker': 'Architect',\n",
      " 'Heather Bullock': 'Media planner',\n",
      " 'Jason Brown': 'Energy manager',\n",
      " 'Jason Soto': 'Lighting technician, broadcasting/film/video',\n",
      " 'Marissa Munoz': 'Further education lecturer',\n",
      " 'Matthew Mccall': 'Chief Technology Officer',\n",
      " 'Michael Norman': 'Translator',\n",
      " 'Nathan Kelber': 'Constellate Education Manager',\n",
      " 'Nicole Leblanc': 'Financial controller',\n",
      " 'Noah Delgado': 'Engineer, land',\n",
      " 'Rachel Charles': 'Physicist, medical',\n",
      " 'Stephanie Petty': 'Architect'}\n"
     ]
    }
   ],
   "source": [
    "# Add a single key/value pair to the dictionary contacts using the update() method\n",
    "contacts.update(\n",
    "    {'Nathan Kelber': 'Constellate Education Manager'}\n",
    ")\n",
    "\n",
    "pprint(contacts) # Use the pretty print function to print `contacts`"
   ]
  },
  {
   "cell_type": "code",
   "execution_count": 12,
   "metadata": {
    "execution": {
     "iopub.execute_input": "2024-09-28T10:30:32.478033Z",
     "iopub.status.busy": "2024-09-28T10:30:32.477509Z",
     "iopub.status.idle": "2024-09-28T10:30:32.481082Z",
     "shell.execute_reply": "2024-09-28T10:30:32.480648Z",
     "shell.execute_reply.started": "2024-09-28T10:30:32.478013Z"
    }
   },
   "outputs": [
    {
     "name": "stdout",
     "output_type": "stream",
     "text": [
      "{'Amanda Bennett': 'Engineer, electrical',\n",
      " 'Christopher Garrison': 'Planning and development surveyor',\n",
      " 'Debra Allen': 'Intelligence analyst',\n",
      " 'Donna Decker': 'Architect',\n",
      " 'Heather Bullock': 'Media planner',\n",
      " 'Ian DesJardins': 'Software Engineer',\n",
      " 'Jason Brown': 'Energy manager',\n",
      " 'Jason Soto': 'Lighting technician, broadcasting/film/video',\n",
      " 'Marissa Munoz': 'Further education lecturer',\n",
      " 'Matt Lincoln': 'Software Engineer',\n",
      " 'Matthew Mccall': 'Chief Technology Officer',\n",
      " 'Michael Norman': 'Translator',\n",
      " 'Nathan Kelber': 'Constellate Education Manager',\n",
      " 'Nicole Leblanc': 'Financial controller',\n",
      " 'Noah Delgado': 'Engineer, land',\n",
      " 'Rachel Charles': 'Physicist, medical',\n",
      " 'Stephanie Petty': 'Architect',\n",
      " 'Zhuo Chen': 'Text Analysis Instructor'}\n"
     ]
    }
   ],
   "source": [
    "# Adding several key/value pairs to the dictionary contacts using the update() method\n",
    "contacts.update(\n",
    "    {\"Matt Lincoln\": \"Software Engineer\",\n",
    "     'Ian DesJardins': 'Software Engineer',\n",
    "    'Zhuo Chen': 'Text Analysis Instructor'}\n",
    ")\n",
    "\n",
    "pprint(contacts) # Use the pretty print function to print `contacts`"
   ]
  },
  {
   "cell_type": "markdown",
   "metadata": {},
   "source": [
    "### The `keys()` and `values()` Methods\n",
    "\n",
    "The `keys()`, `values()`, and `items()` methods are useful for when checking whether a particular key or value  exists in a dictionary. We can pair them with `in` or `not in` operators to check whether a value is in our dictionary (just like we did with lists)."
   ]
  },
  {
   "cell_type": "code",
   "execution_count": 13,
   "metadata": {
    "execution": {
     "iopub.execute_input": "2024-09-28T10:30:35.366145Z",
     "iopub.status.busy": "2024-09-28T10:30:35.365868Z",
     "iopub.status.idle": "2024-09-28T10:30:35.369593Z",
     "shell.execute_reply": "2024-09-28T10:30:35.369172Z",
     "shell.execute_reply.started": "2024-09-28T10:30:35.366128Z"
    }
   },
   "outputs": [
    {
     "data": {
      "text/plain": [
       "True"
      ]
     },
     "execution_count": 13,
     "metadata": {},
     "output_type": "execute_result"
    }
   ],
   "source": [
    "# Checking if a key is in the contacts dictionary\n",
    "# Do I know a Noah Delgado?\n",
    "'Noah Delgado' in contacts.keys()"
   ]
  },
  {
   "cell_type": "code",
   "execution_count": 14,
   "metadata": {
    "execution": {
     "iopub.execute_input": "2024-09-28T10:30:37.443133Z",
     "iopub.status.busy": "2024-09-28T10:30:37.442855Z",
     "iopub.status.idle": "2024-09-28T10:30:37.446805Z",
     "shell.execute_reply": "2024-09-28T10:30:37.446283Z",
     "shell.execute_reply.started": "2024-09-28T10:30:37.443111Z"
    }
   },
   "outputs": [
    {
     "data": {
      "text/plain": [
       "True"
      ]
     },
     "execution_count": 14,
     "metadata": {},
     "output_type": "execute_result"
    }
   ],
   "source": [
    "# Checking if a value is in the contacts dictionary\n",
    "# Do I know an Architect?\n",
    "'Architect' in contacts.values()"
   ]
  },
  {
   "cell_type": "markdown",
   "metadata": {},
   "source": [
    "### The `get()` Method\n",
    "\n",
    "If we are sure a key exists, we can return the corresponding value using:\n",
    "\n",
    "`dict_name[key_name]` "
   ]
  },
  {
   "cell_type": "code",
   "execution_count": 2,
   "metadata": {
    "execution": {
     "iopub.execute_input": "2025-05-03T19:58:59.511881Z",
     "iopub.status.busy": "2025-05-03T19:58:59.511587Z",
     "iopub.status.idle": "2025-05-03T19:58:59.516667Z",
     "shell.execute_reply": "2025-05-03T19:58:59.516201Z",
     "shell.execute_reply.started": "2025-05-03T19:58:59.511854Z"
    }
   },
   "outputs": [
    {
     "data": {
      "text/plain": [
       "'Engineer, land'"
      ]
     },
     "execution_count": 2,
     "metadata": {},
     "output_type": "execute_result"
    }
   ],
   "source": [
    "# Return a value for a particular key\n",
    "contacts['Noah Delgado']"
   ]
  },
  {
   "cell_type": "markdown",
   "metadata": {},
   "source": [
    "However, if the [key](https://constellate.org/docs/key-terms/#key-value-pair) is not found, the result will be a `KeyError`. "
   ]
  },
  {
   "cell_type": "code",
   "execution_count": 16,
   "metadata": {
    "execution": {
     "iopub.execute_input": "2024-09-28T10:30:43.408642Z",
     "iopub.status.busy": "2024-09-28T10:30:43.408078Z",
     "iopub.status.idle": "2024-09-28T10:30:43.419161Z",
     "shell.execute_reply": "2024-09-28T10:30:43.418597Z",
     "shell.execute_reply.started": "2024-09-28T10:30:43.408616Z"
    }
   },
   "outputs": [
    {
     "ename": "KeyError",
     "evalue": "'Mickey Mouse'",
     "output_type": "error",
     "traceback": [
      "\u001b[0;31m---------------------------------------------------------------------------\u001b[0m",
      "\u001b[0;31mKeyError\u001b[0m                                  Traceback (most recent call last)",
      "Cell \u001b[0;32mIn[16], line 2\u001b[0m\n\u001b[1;32m      1\u001b[0m \u001b[38;5;66;03m# Asking for a key that does not exist\u001b[39;00m\n\u001b[0;32m----> 2\u001b[0m \u001b[43mcontacts\u001b[49m\u001b[43m[\u001b[49m\u001b[38;5;124;43m'\u001b[39;49m\u001b[38;5;124;43mMickey Mouse\u001b[39;49m\u001b[38;5;124;43m'\u001b[39;49m\u001b[43m]\u001b[49m\n",
      "\u001b[0;31mKeyError\u001b[0m: 'Mickey Mouse'"
     ]
    }
   ],
   "source": [
    "# Asking for a key that does not exist\n",
    "contacts['Mickey Mouse']"
   ]
  },
  {
   "cell_type": "code",
   "execution_count": 3,
   "metadata": {
    "execution": {
     "iopub.execute_input": "2025-05-03T20:01:02.964139Z",
     "iopub.status.busy": "2025-05-03T20:01:02.963661Z",
     "iopub.status.idle": "2025-05-03T20:01:02.966935Z",
     "shell.execute_reply": "2025-05-03T20:01:02.966466Z",
     "shell.execute_reply.started": "2025-05-03T20:01:02.964117Z"
    }
   },
   "outputs": [
    {
     "name": "stdout",
     "output_type": "stream",
     "text": [
      "There's no conctact with that name\n"
     ]
    }
   ],
   "source": [
    "# Asking for a key that does not exist\n",
    "try:\n",
    "    contacts['Mickey Mouse']\n",
    "except: #we can use try and except when we get an error to fix the error\n",
    "    print(\"There's no conctact with that name\")"
   ]
  },
  {
   "cell_type": "markdown",
   "metadata": {},
   "source": [
    "The more robust approach is to use the `get()` method. If the key is not found, the `None` value will be returned. (Optionally, we can also specify a default message to return.)\n",
    "\n",
    "`dict_name.get('key_name', 'key_not_found_message')`"
   ]
  },
  {
   "cell_type": "code",
   "execution_count": 4,
   "metadata": {
    "execution": {
     "iopub.execute_input": "2025-05-03T20:01:42.664615Z",
     "iopub.status.busy": "2025-05-03T20:01:42.664113Z",
     "iopub.status.idle": "2025-05-03T20:01:42.667818Z",
     "shell.execute_reply": "2025-05-03T20:01:42.667374Z",
     "shell.execute_reply.started": "2025-05-03T20:01:42.664594Z"
    }
   },
   "outputs": [
    {
     "data": {
      "text/plain": [
       "'Further education lecturer'"
      ]
     },
     "execution_count": 4,
     "metadata": {},
     "output_type": "execute_result"
    }
   ],
   "source": [
    "# Using the get() method to retrieve the value for the key 'Marissa Munoz'\n",
    "contacts.get('Marissa Munoz')"
   ]
  },
  {
   "cell_type": "code",
   "execution_count": 10,
   "metadata": {
    "execution": {
     "iopub.execute_input": "2025-05-03T20:05:36.966010Z",
     "iopub.status.busy": "2025-05-03T20:05:36.965438Z",
     "iopub.status.idle": "2025-05-03T20:05:36.968578Z",
     "shell.execute_reply": "2025-05-03T20:05:36.968142Z",
     "shell.execute_reply.started": "2025-05-03T20:05:36.965987Z"
    }
   },
   "outputs": [
    {
     "name": "stdout",
     "output_type": "stream",
     "text": [
      "None\n"
     ]
    }
   ],
   "source": [
    "# Asking for a key that does not exist\n",
    "print(contacts.get('Mickey Mouse')) #with the get method if there's no value associated with the key it returns none (we have to write print first)"
   ]
  },
  {
   "cell_type": "markdown",
   "metadata": {},
   "source": [
    "### Combining `keys()`, `values()`, and `items()` with Flow Control Statements\n",
    "\n",
    "It is often usful to combine `for` loops with the keys(), values(), or items() methods to repeat a task for each entry in a dictionary . We have the following options:\n",
    "\n",
    "* `.keys()` iterates through only the dictionary keys\n",
    "* `.values()` iterates through only the dictionary values\n",
    "* `.items()` iterates through the keys *and* values\n",
    "\n",
    "Just like a list `for` loop, a temporary variable will be created based on whatever name comes after `for`."
   ]
  },
  {
   "cell_type": "code",
   "execution_count": 11,
   "metadata": {
    "execution": {
     "iopub.execute_input": "2025-05-03T20:07:41.964854Z",
     "iopub.status.busy": "2025-05-03T20:07:41.964312Z",
     "iopub.status.idle": "2025-05-03T20:07:41.967533Z",
     "shell.execute_reply": "2025-05-03T20:07:41.967129Z",
     "shell.execute_reply.started": "2025-05-03T20:07:41.964829Z"
    }
   },
   "outputs": [
    {
     "name": "stdout",
     "output_type": "stream",
     "text": [
      "Amanda Bennett\n",
      "Bryan Miller\n",
      "Christopher Garrison\n",
      "Debra Allen\n",
      "Donna Decker\n",
      "Heather Bullock\n",
      "Jason Brown\n",
      "Jason Soto\n",
      "Marissa Munoz\n",
      "Matthew Mccall\n",
      "Michael Norman\n",
      "Nicole Leblanc\n",
      "Noah Delgado\n",
      "Rachel Charles\n",
      "Stephanie Petty\n"
     ]
    }
   ],
   "source": [
    "# Print every key in our contacts dictionary\n",
    "for name in contacts.keys(): # The variable `name` could be any variable name we choose. The .key() method iterates through all the keys\n",
    "    print(name)"
   ]
  },
  {
   "cell_type": "code",
   "execution_count": 13,
   "metadata": {
    "execution": {
     "iopub.execute_input": "2025-05-03T20:08:12.964443Z",
     "iopub.status.busy": "2025-05-03T20:08:12.963921Z",
     "iopub.status.idle": "2025-05-03T20:08:12.967188Z",
     "shell.execute_reply": "2025-05-03T20:08:12.966773Z",
     "shell.execute_reply.started": "2025-05-03T20:08:12.964421Z"
    }
   },
   "outputs": [
    {
     "name": "stdout",
     "output_type": "stream",
     "text": [
      "Engineer, electrical\n",
      "Radiation protection practitioner\n",
      "Planning and development surveyor\n",
      "Intelligence analyst\n",
      "Architect\n",
      "Media planner\n",
      "Energy manager\n",
      "Lighting technician, broadcasting/film/video\n",
      "Further education lecturer\n",
      "Chief Technology Officer\n",
      "Translator\n",
      "Financial controller\n",
      "Engineer, land\n",
      "Physicist, medical\n",
      "Architect\n"
     ]
    }
   ],
   "source": [
    "# Print every value in our contacts dictionary\n",
    "for occupation in contacts.values(): # The variable `occupation` here could be any variable name we choose #the .values() method iterates through all the values\n",
    "    print(occupation)"
   ]
  },
  {
   "cell_type": "markdown",
   "metadata": {},
   "source": [
    "If we use the `.items()` method, we need to define *two* variable names. It is valid Python to define two variables at once."
   ]
  },
  {
   "cell_type": "code",
   "execution_count": 14,
   "metadata": {
    "execution": {
     "iopub.execute_input": "2025-05-03T20:13:15.203338Z",
     "iopub.status.busy": "2025-05-03T20:13:15.202843Z",
     "iopub.status.idle": "2025-05-03T20:13:15.206206Z",
     "shell.execute_reply": "2025-05-03T20:13:15.205683Z",
     "shell.execute_reply.started": "2025-05-03T20:13:15.203315Z"
    }
   },
   "outputs": [
    {
     "name": "stdout",
     "output_type": "stream",
     "text": [
      "Python\n",
      "Basics\n"
     ]
    }
   ],
   "source": [
    "# We can define two variables at once in Python and assign to each one of the two strings\n",
    "word1, word2 = 'Python', 'Basics'\n",
    "\n",
    "# Verify the variables have been properly assigned\n",
    "print(word1)\n",
    "print(word2)"
   ]
  },
  {
   "cell_type": "code",
   "execution_count": 16,
   "metadata": {
    "execution": {
     "iopub.execute_input": "2025-05-03T20:13:19.604325Z",
     "iopub.status.busy": "2025-05-03T20:13:19.603825Z",
     "iopub.status.idle": "2025-05-03T20:13:19.607235Z",
     "shell.execute_reply": "2025-05-03T20:13:19.606734Z",
     "shell.execute_reply.started": "2025-05-03T20:13:19.604307Z"
    }
   },
   "outputs": [
    {
     "name": "stdout",
     "output_type": "stream",
     "text": [
      "Amanda Bennett has the job: Engineer, electrical\n",
      "Bryan Miller has the job: Radiation protection practitioner\n",
      "Christopher Garrison has the job: Planning and development surveyor\n",
      "Debra Allen has the job: Intelligence analyst\n",
      "Donna Decker has the job: Architect\n",
      "Heather Bullock has the job: Media planner\n",
      "Jason Brown has the job: Energy manager\n",
      "Jason Soto has the job: Lighting technician, broadcasting/film/video\n",
      "Marissa Munoz has the job: Further education lecturer\n",
      "Matthew Mccall has the job: Chief Technology Officer\n",
      "Michael Norman has the job: Translator\n",
      "Nicole Leblanc has the job: Financial controller\n",
      "Noah Delgado has the job: Engineer, land\n",
      "Rachel Charles has the job: Physicist, medical\n",
      "Stephanie Petty has the job: Architect\n"
     ]
    }
   ],
   "source": [
    "# Print every key and value in our contacts dictionary\n",
    "for name, occupation in contacts.items(): #the .item() method iterades through all of the keys and values at the same time\n",
    "    print(f'{name} has the job: {occupation}')"
   ]
  },
  {
   "cell_type": "markdown",
   "metadata": {},
   "source": [
    "___\n",
    "<h2 style=\"color:red; display:inline\">Coding Challenge! &lt; / &gt; </h2>\n",
    "\n",
    "**Using your knowledge of flow control statements and dictionaries, can you write a program that lists all the architects in your contacts? Check the end of this notebook for possible solutions.**\n",
    "___"
   ]
  },
  {
   "cell_type": "code",
   "execution_count": 58,
   "metadata": {
    "execution": {
     "iopub.execute_input": "2024-09-28T11:30:37.451430Z",
     "iopub.status.busy": "2024-09-28T11:30:37.451145Z",
     "iopub.status.idle": "2024-09-28T11:30:37.455368Z",
     "shell.execute_reply": "2024-09-28T11:30:37.454891Z",
     "shell.execute_reply.started": "2024-09-28T11:30:37.451410Z"
    }
   },
   "outputs": [
    {
     "name": "stdout",
     "output_type": "stream",
     "text": [
      "Donna Decker\n",
      "Stephanie Petty\n"
     ]
    }
   ],
   "source": [
    "# Level 1 Challenge\n",
    "# A challenge to search a contacts dictionary and output any individuals who are architects. The result\n",
    "# should contain the name of any contacts who are architects.\n",
    "\n",
    "contacts ={\n",
    " 'Amanda Bennett': 'Engineer, electrical',\n",
    " 'Bryan Miller': 'Radiation protection practitioner',\n",
    " 'Christopher Garrison': 'Planning and development surveyor',\n",
    " 'Debra Allen': 'Intelligence analyst',\n",
    " 'Donna Decker': 'Architect',\n",
    " 'Heather Bullock': 'Media planner',\n",
    " 'Jason Brown': 'Energy manager',\n",
    " 'Jason Soto': 'Lighting technician, broadcasting/film/video',\n",
    " 'Marissa Munoz': 'Further education lecturer',\n",
    " 'Matthew Mccall': 'Chief Technology Officer',\n",
    " 'Michael Norman': 'Translator',\n",
    " 'Nicole Leblanc': 'Financial controller',\n",
    " 'Noah Delgado': 'Engineer, land',\n",
    " 'Rachel Charles': 'Physicist, medical',\n",
    " 'Stephanie Petty': 'Architect'}\n",
    "\n",
    "# Write your solution here. Example solutions at the end of this notebook.\n",
    "\n",
    "for name, occupation in contacts.items() : \n",
    "    if occupation == \"Architect\" :\n",
    "        print(name)\n"
   ]
  },
  {
   "cell_type": "code",
   "execution_count": 63,
   "metadata": {
    "execution": {
     "iopub.execute_input": "2024-09-28T11:37:53.247590Z",
     "iopub.status.busy": "2024-09-28T11:37:53.247069Z",
     "iopub.status.idle": "2024-09-28T11:37:53.251403Z",
     "shell.execute_reply": "2024-09-28T11:37:53.250996Z",
     "shell.execute_reply.started": "2024-09-28T11:37:53.247569Z"
    }
   },
   "outputs": [
    {
     "data": {
      "text/plain": [
       "['Donna Decker', 'Heather Bullock', 'Michael Norman', 'Stephanie Petty']"
      ]
     },
     "execution_count": 63,
     "metadata": {},
     "output_type": "execute_result"
    }
   ],
   "source": [
    "# Level 2 Challenge\n",
    "# From the dictionary called contacts, create a Python list called `leads` containing the names of people \n",
    "# who are architects, translators, or media planners.\n",
    "\n",
    "leads = []\n",
    "\n",
    "for name, occupation in contacts.items() : \n",
    "    if occupation == \"Architect\" or occupation == \"Translator\" or occupation == \"Media planner\":\n",
    "        leads.append(name)\n",
    "\n",
    "list(leads)\n",
    "    "
   ]
  },
  {
   "cell_type": "markdown",
   "metadata": {},
   "source": [
    "___\n",
    "## Lesson Complete\n",
    "Congratulations! You have completed *Python Basics 3*. There are two more lessons in *Python Basics*:\n",
    "\n",
    "* *Python Basics 4*\n",
    "* *Python Basics 5*\n",
    "\n",
    "### Start Next Lesson: [Python Basics 4](./python-basics-4.ipynb)"
   ]
  },
  {
   "cell_type": "markdown",
   "metadata": {},
   "source": [
    "### Coding Challenge! Solutions\n"
   ]
  },
  {
   "cell_type": "code",
   "execution_count": null,
   "metadata": {
    "execution": {
     "iopub.status.busy": "2024-09-28T10:29:42.227183Z",
     "iopub.status.idle": "2024-09-28T10:29:42.227468Z",
     "shell.execute_reply": "2024-09-28T10:29:42.227370Z",
     "shell.execute_reply.started": "2024-09-28T10:29:42.227361Z"
    }
   },
   "outputs": [],
   "source": [
    "# Level 1 Solution\n",
    "# Correct the errors in the ranking list\n",
    "\n",
    "# Create the list\n",
    "ranking = ['USA',\n",
    "           'Germany',\n",
    "           'Sweden',\n",
    "           'France',\n",
    "           'Uruguay',\n",
    "           'Spain',\n",
    "           'Canda',\n",
    "           'Brazil',\n",
    "           'Netherlands',]\n",
    "\n",
    "# Correct the spelling of Canada\n",
    "ranking[6] = 'Canada'\n",
    "\n",
    "# Remove Uruguay and add Australia\n",
    "if 'Uruguay' in ranking:\n",
    "    ranking.remove('Uruguay')\n",
    "\n",
    "ranking.append('Australia')\n",
    "\n",
    "# Add England after Sweden\n",
    "if 'Sweden' in ranking:\n",
    "    england_index = ranking.index('Sweden') + 1\n",
    "    ranking.insert(england_index, 'England')"
   ]
  },
  {
   "cell_type": "code",
   "execution_count": null,
   "metadata": {
    "execution": {
     "iopub.status.busy": "2024-09-28T10:29:42.228040Z",
     "iopub.status.idle": "2024-09-28T10:29:42.228231Z",
     "shell.execute_reply": "2024-09-28T10:29:42.228147Z",
     "shell.execute_reply.started": "2024-09-28T10:29:42.228139Z"
    }
   },
   "outputs": [],
   "source": [
    "# Level 2 Solution\n",
    "# Write a program that lets the user input any country and check if they are in the top ten ranking\n",
    "\n",
    "# Create the ranking list\n",
    "ranking = ['USA',\n",
    " 'Germany',\n",
    " 'Sweden',\n",
    " 'England',\n",
    " 'France',\n",
    " 'Spain',\n",
    " 'Canada',\n",
    " 'Brazil',\n",
    " 'Netherlands',\n",
    " 'Australia']\n",
    "\n",
    "# Get the country from the user\n",
    "country = input('Which country are you interested in? ')\n",
    "\n",
    "if country in ranking:\n",
    "    print(f'{country} is in the top ten!')\n",
    "else:\n",
    "    print(f'{country} is not in the top ten.')"
   ]
  },
  {
   "cell_type": "code",
   "execution_count": null,
   "metadata": {
    "execution": {
     "iopub.status.busy": "2024-09-28T10:29:42.228786Z",
     "iopub.status.idle": "2024-09-28T10:29:42.228970Z",
     "shell.execute_reply": "2024-09-28T10:29:42.228885Z",
     "shell.execute_reply.started": "2024-09-28T10:29:42.228877Z"
    }
   },
   "outputs": [],
   "source": [
    "# Level 3 Solution\n",
    "# Write a program that lets a user input a country and receive their rank\n",
    "\n",
    "# Create the ranking list\n",
    "ranking = ['USA',\n",
    " 'Germany',\n",
    " 'Sweden',\n",
    " 'England',\n",
    " 'France',\n",
    " 'Spain',\n",
    " 'Canada',\n",
    " 'Brazil',\n",
    " 'Netherlands',\n",
    " 'Australia']\n",
    "\n",
    "# Get the country from the user\n",
    "country = input('Which country are you interested in? ')\n",
    "\n",
    "if country in ranking:\n",
    "    rank = ranking.index(country) + 1\n",
    "    print(f'{country} is ranked {rank}')\n",
    "else:\n",
    "    print(f'{country} is not in the top ten.')"
   ]
  },
  {
   "cell_type": "code",
   "execution_count": null,
   "metadata": {
    "execution": {
     "iopub.status.busy": "2024-09-28T10:29:42.229619Z",
     "iopub.status.idle": "2024-09-28T10:29:42.229816Z",
     "shell.execute_reply": "2024-09-28T10:29:42.229722Z",
     "shell.execute_reply.started": "2024-09-28T10:29:42.229713Z"
    }
   },
   "outputs": [],
   "source": [
    "# Level 4 Solution\n",
    "# Write a program that lets a user input a country and return all the teams with a higher rank\n",
    "\n",
    "# Create the ranking list\n",
    "ranking = ['USA',\n",
    " 'Germany',\n",
    " 'Sweden',\n",
    " 'England',\n",
    " 'France',\n",
    " 'Spain',\n",
    " 'Canada',\n",
    " 'Brazil',\n",
    " 'Netherlands',\n",
    " 'Australia']\n",
    "\n",
    "# Get the country from the user\n",
    "country = input('Which country are you interested in? ')\n",
    "\n",
    "if country in ranking:\n",
    "    index = ranking.index(country)\n",
    "else:\n",
    "    index = None\n",
    "    print('That country is not in the top ten.')\n",
    "\n",
    "if index != None:\n",
    "    print('These countries have a higher rank:')\n",
    "    for each_country in ranking[:index]:\n",
    "        print(each_country)"
   ]
  },
  {
   "cell_type": "markdown",
   "metadata": {},
   "source": [
    "#### Dictionaries Challenge Level 1"
   ]
  },
  {
   "cell_type": "code",
   "execution_count": null,
   "metadata": {
    "execution": {
     "iopub.status.busy": "2024-09-28T10:29:42.230414Z",
     "iopub.status.idle": "2024-09-28T10:29:42.230598Z",
     "shell.execute_reply": "2024-09-28T10:29:42.230514Z",
     "shell.execute_reply.started": "2024-09-28T10:29:42.230505Z"
    }
   },
   "outputs": [],
   "source": [
    "# Level 1 Challenge Solution\n",
    "# A challenge to search a contacts dictionary and output any individuals who are architects. The result\n",
    "# should contain the name of any contacts who are architects.\n",
    "\n",
    "contacts ={\n",
    " 'Amanda Bennett': 'Engineer, electrical',\n",
    " 'Bryan Miller': 'Radiation protection practitioner',\n",
    " 'Christopher Garrison': 'Planning and development surveyor',\n",
    " 'Debra Allen': 'Intelligence analyst',\n",
    " 'Donna Decker': 'Architect',\n",
    " 'Heather Bullock': 'Media planner',\n",
    " 'Jason Brown': 'Energy manager',\n",
    " 'Jason Soto': 'Lighting technician, broadcasting/film/video',\n",
    " 'Marissa Munoz': 'Further education lecturer',\n",
    " 'Matthew Mccall': 'Chief Technology Officer',\n",
    " 'Michael Norman': 'Translator',\n",
    " 'Nicole Leblanc': 'Financial controller',\n",
    " 'Noah Delgado': 'Engineer, land',\n",
    " 'Rachel Charles': 'Physicist, medical',\n",
    " 'Stephanie Petty': 'Architect'}\n",
    "\n",
    "# Write your solution here. Example solutions at the end of this notebook.\n",
    "\n",
    "for name, occupation in contacts.items():\n",
    "    if occupation == 'Architect':\n",
    "        print(name)"
   ]
  },
  {
   "cell_type": "markdown",
   "metadata": {},
   "source": [
    "#### Dictionaries Challenge Level 2"
   ]
  },
  {
   "cell_type": "code",
   "execution_count": null,
   "metadata": {
    "execution": {
     "iopub.status.busy": "2024-09-28T10:29:42.231074Z",
     "iopub.status.idle": "2024-09-28T10:29:42.231256Z",
     "shell.execute_reply": "2024-09-28T10:29:42.231174Z",
     "shell.execute_reply.started": "2024-09-28T10:29:42.231166Z"
    }
   },
   "outputs": [],
   "source": [
    "# Level 2 Challenge\n",
    "# From the dictionary called contacts, create a Python list called `leads` containing the names of people \n",
    "# who are architects, translators, or media planners.\n",
    "leads = []\n",
    "\n",
    "for name, occupation in contacts.items():\n",
    "    if occupation == 'Architect' or occupation == 'Translator' or occupation =='Media planner':\n",
    "        leads.append(name)\n",
    "\n",
    "print(leads)"
   ]
  }
 ],
 "metadata": {
  "kernelspec": {
   "display_name": "Python 3 (ipykernel)",
   "language": "python",
   "name": "python3"
  },
  "language_info": {
   "codemirror_mode": {
    "name": "ipython",
    "version": 3
   },
   "file_extension": ".py",
   "mimetype": "text/x-python",
   "name": "python",
   "nbconvert_exporter": "python",
   "pygments_lexer": "ipython3",
   "version": "3.13.5"
  },
  "toc": {
   "base_numbering": 1,
   "nav_menu": {},
   "number_sections": true,
   "sideBar": true,
   "skip_h1_title": true,
   "title_cell": "Table of Contents",
   "title_sidebar": "Contents",
   "toc_cell": false,
   "toc_position": {
    "height": "calc(100% - 180px)",
    "left": "10px",
    "top": "150px",
    "width": "354px"
   },
   "toc_section_display": true,
   "toc_window_display": false
  }
 },
 "nbformat": 4,
 "nbformat_minor": 4
}
