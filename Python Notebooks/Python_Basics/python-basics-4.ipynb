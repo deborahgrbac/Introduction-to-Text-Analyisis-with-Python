{
 "cells": [
  {
   "cell_type": "markdown",
   "id": "3826bcf1",
   "metadata": {
    "jp-MarkdownHeadingCollapsed": true
   },
   "source": [
    "### Credits:\n",
    "\n",
    "<img align=\"left\" src=\"https://ithaka-labs.s3.amazonaws.com/static-files/images/tdm/tdmdocs/CC_BY.png\"><br />\n",
    "\n",
    "This notebook is created by Zhuo Chen based on the notebooks created by [Nathan Kelber](http://nkelber.com) under [Creative Commons CC BY License](https://creativecommons.org/licenses/by/4.0/)<br />\n",
    "For questions/comments/improvements, email zhuo.chen@ithaka.org or nathan.kelber@ithaka.org<br />\n",
    "\n",
    "Reused and modified for internal use at Università Cattolica del Sacro Cuore di Milano, by Deborah Grbac, email deborah.grbac@unicatt.it and Valentina Schiariti, email valentina.schiariti-collaboratore@unicatt.it, released under CC BY License.\n",
    "\n",
    "This repository is founded on **Constellate notebooks**. The original Jupyter notebooks repository was designed by the educators at **ITHAKA's Constellate project**. The project was sunset on July 1, 2025. This current repository uses and resuses Constellate notebooks as Open Educational Resources (OER), free for re-use under a Creative Commons CC BY License.\n",
    "___"
   ]
  },
  {
   "attachments": {},
   "cell_type": "markdown",
   "id": "71697c60",
   "metadata": {},
   "source": [
    "# Python Basics 4\n",
    "\n",
    "**Description:** \n",
    "This lesson will describe:  \n",
    "* What are functions;\n",
    "* How to import external libraries and modules;\n",
    "* How to write your own functions (`def` statements, Local scope and global scope);\n",
    "* The importance of functions and why to use them;\n",
    "* Some popular Python packages and their usage.\n",
    "\n",
    "This is part 4 of 5 in the series *Python Basics* that will prepare you to do text analysis using the Python programming language. \n",
    "\n",
    "**Note**: Running this notebook locally will give you full control to test, modify, and save your work. We strongly recommend downloading it before you begin.\n",
    "___"
   ]
  },
  {
   "cell_type": "markdown",
   "id": "697fe708",
   "metadata": {},
   "source": [
    "## Functions\n",
    "\n",
    "A **function** is a reusable **block of code** that performs a **specific task**. It can take **input values** (called **arguments**), process them, and optionally **return an output**. We have used several **Python functions** already, including `print()`, `input()`, and `range()`. \n",
    "\n",
    "You can identify a function by the fact that it ends with a set of parentheses `()` where the argument(s) can be passed into the function. Depending on the function(and your goals for using it), a function may accept no arguments, a single argument, or many arguments. For example, when we use the `print()` function, we pass a string (or a variable containing a string) as an argument. For more details, you can refer to the official Python documentation for the function you’re interested in (here’s the link for the [`print()` function](https://docs.python.org/3/library/functions.html#print)).\n",
    "\n",
    "### Libraries and Modules\n",
    "\n",
    "While Python comes with many functions, there are thousands more that others have written. Adding them all to Python would create mass confusion, since many people could use the same name for functions that do different things. The solution then is that **functions are stored in modules**  that can be **imported** for use. A **module** is a Python file (extension \".py\") that contains the definitions for the functions written in Python. These modules (individual Python files) can then be collected into even larger groups called **packages and libraries**. Depending on how many functions you need for the program you are writing, you may import a single module, a package of modules, or a whole library.\n",
    "\n",
    "The general form of importing a module is:\n",
    "`import module_name`\n",
    "\n",
    "For example, here's how you can import the **`time` module** and use the `sleep()` function that will delay the code completion for a set amount of time, in this case 5 seconds."
   ]
  },
  {
   "cell_type": "code",
   "execution_count": 1,
   "id": "00ad02a0",
   "metadata": {},
   "outputs": [
    {
     "name": "stdout",
     "output_type": "stream",
     "text": [
      "Waiting 5 seconds...\n",
      "Done\n"
     ]
    }
   ],
   "source": [
    "# A program that waits five seconds then prints \"Done\"\n",
    "\n",
    "import time # We import all the functions in the `time` module\n",
    "\n",
    "print('Waiting 5 seconds...')\n",
    "\n",
    "time.sleep(5) # We run the sleep() function from the time module using `time.sleep()`\n",
    "print('Done')"
   ]
  },
  {
   "cell_type": "markdown",
   "id": "c9d4846c",
   "metadata": {},
   "source": [
    "We can also just import the `sleep()` function without importing the whole `time` module. The syntax is:\n",
    "\n",
    "`from module import function`"
   ]
  },
  {
   "cell_type": "code",
   "execution_count": 2,
   "id": "353cac6a",
   "metadata": {},
   "outputs": [
    {
     "name": "stdout",
     "output_type": "stream",
     "text": [
      "Waiting 5 seconds...\n",
      "Done\n"
     ]
    }
   ],
   "source": [
    "# A program that waits five seconds then prints \"Done\"\n",
    "\n",
    "from time import sleep # We import just the sleep() function from the time module\n",
    "\n",
    "print('Waiting 5 seconds...')\n",
    "\n",
    "sleep(5) # Notice that we just call the sleep() function, not time.sleep()\n",
    "print('Done')"
   ]
  },
  {
   "cell_type": "markdown",
   "id": "04255709-bdf6-4fcc-b4d5-e6546a04a47a",
   "metadata": {},
   "source": [
    "Notice the **difference in syntax** depending on whether you import the entire module or just a single function:\n",
    "\n",
    "* Importing the whole module: the function needs to be called with the module name first (`module_name.module_function()`);\n",
    "* Importing a single function: the function is used on its own (`module_function()`)"
   ]
  },
  {
   "cell_type": "markdown",
   "id": "589a12a4",
   "metadata": {},
   "source": [
    "## Writing a Function\n",
    "\n",
    "In the above examples, we called a function  that was already written. However, we can also create our own functions!\n",
    "\n",
    "The first step is to **define the function** before we call it. We use a **function definition statement** followed by a **function description** and a **code block** containing the function's actions:\n",
    "\n",
    "```\n",
    "def my_function():\n",
    "    \"\"\"Description of what the functions does\"\"\"\n",
    "    python code to be executed\n",
    "```\n",
    "\n",
    "\n",
    "After the function is defined, we can **call** on it whenever we need it by simply executing the function like so:\n",
    "\n",
    "`my_function()`\n",
    "\n",
    "After the function is defined, we can call it as many times as we want without having to rewrite its code. \n",
    "\n",
    "In the example below, we create a function called `complimenter_function` then call it twice."
   ]
  },
  {
   "cell_type": "code",
   "execution_count": 6,
   "id": "c659fdeb",
   "metadata": {},
   "outputs": [],
   "source": [
    "# Create a complimenter function\n",
    "def complimenter_function():\n",
    "    \"\"\"prints a compliment\"\"\" # Function description statement\n",
    "    print('You are looking great today!')"
   ]
  },
  {
   "cell_type": "markdown",
   "id": "82b8e059",
   "metadata": {},
   "source": [
    "After you define a function, don't forget to call it to make it do the work!"
   ]
  },
  {
   "cell_type": "code",
   "execution_count": 5,
   "id": "f5853d2e",
   "metadata": {},
   "outputs": [
    {
     "name": "stdout",
     "output_type": "stream",
     "text": [
      "You are looking great today!\n"
     ]
    }
   ],
   "source": [
    "# Give a compliment by calling the function\n",
    "complimenter_function()"
   ]
  },
  {
   "cell_type": "markdown",
   "id": "ce038c1c",
   "metadata": {},
   "source": [
    "Ideally, a function definition statement should specify the data that the function takes and whether it returns any data. The triple quote notation can use single or double quotes, and it allows the string for the definition statement to expand over multiple lines in Python. If you would like to see a function's definition statement, you can use the `help()` function to check it out."
   ]
  },
  {
   "cell_type": "code",
   "execution_count": 8,
   "id": "6f62e946",
   "metadata": {
    "execution": {
     "iopub.execute_input": "2025-05-03T20:32:41.523506Z",
     "iopub.status.busy": "2025-05-03T20:32:41.522971Z",
     "iopub.status.idle": "2025-05-03T20:32:41.526282Z",
     "shell.execute_reply": "2025-05-03T20:32:41.525834Z",
     "shell.execute_reply.started": "2025-05-03T20:32:41.523479Z"
    }
   },
   "outputs": [
    {
     "name": "stdout",
     "output_type": "stream",
     "text": [
      "Help on function complimenter_function in module __main__:\n",
      "\n",
      "complimenter_function()\n",
      "    prints a compliment\n",
      "\n"
     ]
    }
   ],
   "source": [
    "# Examining the function definition statement for our function\n",
    "# Note that the parentheses are not included with complimenter_function\n",
    "help(complimenter_function)"
   ]
  },
  {
   "cell_type": "markdown",
   "id": "a39772ed",
   "metadata": {},
   "source": [
    "### Parameters vs. Arguments\n",
    "\n",
    "When we write a function definition, we can define a **parameter** to work with the function. A parameter is a variable that you define inside the parentheses of a function and acts as a **placeholder** for the value (called an argument) that you pass to the function when you call it.\n",
    "\n",
    "```\n",
    "def my_function(input_variable):\n",
    "    \"\"\"Takes in X and returns Y\"\"\"\n",
    "    do this task\n",
    "```\n",
    "\n",
    "\n",
    "In the pseudo-code above, `input_variable` is a parameter because it is being used within the context of a function *definition*. When we actually call and run our function, the actual variable or value we pass to the function is called an argument."
   ]
  },
  {
   "cell_type": "code",
   "execution_count": 10,
   "id": "94da95a0",
   "metadata": {
    "execution": {
     "iopub.execute_input": "2025-05-03T20:39:09.986801Z",
     "iopub.status.busy": "2025-05-03T20:39:09.986297Z",
     "iopub.status.idle": "2025-05-03T20:39:09.989316Z",
     "shell.execute_reply": "2025-05-03T20:39:09.988801Z",
     "shell.execute_reply.started": "2025-05-03T20:39:09.986783Z"
    },
    "tags": []
   },
   "outputs": [],
   "source": [
    "# Change the complimenter function to give user-dependent compliment\n",
    "def complimenter_function(user_name):\n",
    "    \"\"\"Takes in a name string, prints a compliment with the name\"\"\"\n",
    "    print(f'You are looking great today, {user_name}!')"
   ]
  },
  {
   "cell_type": "code",
   "execution_count": 11,
   "id": "ed626493",
   "metadata": {
    "execution": {
     "iopub.execute_input": "2025-05-03T20:40:20.431373Z",
     "iopub.status.busy": "2025-05-03T20:40:20.431110Z",
     "iopub.status.idle": "2025-05-03T20:40:20.434212Z",
     "shell.execute_reply": "2025-05-03T20:40:20.433713Z",
     "shell.execute_reply.started": "2025-05-03T20:40:20.431354Z"
    },
    "tags": []
   },
   "outputs": [
    {
     "name": "stdout",
     "output_type": "stream",
     "text": [
      "You are looking great today, Sam!\n"
     ]
    }
   ],
   "source": [
    "# Pass an argument to a function\n",
    "complimenter_function('Sam')"
   ]
  },
  {
   "cell_type": "markdown",
   "id": "d58135fb",
   "metadata": {},
   "source": [
    "In the above example, we passed a string into our function, but we could also pass a variable. Try this next. Since the `complimenter_function` has already been defined, you can call it in the next cell without defining it again."
   ]
  },
  {
   "cell_type": "code",
   "execution_count": 2,
   "id": "be8ef139",
   "metadata": {
    "scrolled": true
   },
   "outputs": [
    {
     "name": "stdin",
     "output_type": "stream",
     "text": [
      "What's your name? Valentina\n"
     ]
    },
    {
     "name": "stdout",
     "output_type": "stream",
     "text": [
      "You are looking great today, Valentina!\n"
     ]
    }
   ],
   "source": [
    "# Ask the user for their name and store it in a variable called name\n",
    "# Then call the complimenter_function and pass in the name variable\n",
    "name = input(\"What's your name?\")\n",
    "complimenter_function(name)\n"
   ]
  },
  {
   "attachments": {},
   "cell_type": "markdown",
   "id": "09ceb9ce",
   "metadata": {},
   "source": [
    "### Local and Global Scope\n",
    "\n",
    "We have seen that functions make maintaining code easier by avoiding duplication. One of the most dangerous areas for duplication is variable names. As programming projects become larger, the possibility that a variable will be re-used goes up. This can cause weird errors in our programs that are hard to track down. We can alleviate this problem through the concepts of local scope and global scope.\n",
    "\n",
    "Variables defined inside a function and variables defined outside a function exist in two different scopes, which reduces the risk of the function code and the general code interfering with each other.\n",
    "\n",
    "* When we create a variable inside a function, we call it a **local variable**. This variable exists only within the scope of that function and is “destroyed” once the function finishes running.\n",
    "\n",
    "* Variables created outside of any function are called **global variables**. These belong to the entire program and can be accessed from anywhere.\n",
    "\n",
    "Because of this, global variables can be used by any function, while local variables can only be used within the specific function in which they were defined.\n",
    "\n",
    "Look at the example below:"
   ]
  },
  {
   "cell_type": "code",
   "execution_count": 3,
   "id": "f355fd60",
   "metadata": {
    "scrolled": true
   },
   "outputs": [
    {
     "name": "stdout",
     "output_type": "stream",
     "text": [
      "We are in the local context:\n",
      "global\n",
      "local\n"
     ]
    }
   ],
   "source": [
    "# Demonstration of global variable being used in a local scope\n",
    "# The program crashes when a local variable is used in a global scope\n",
    "global_string = 'global'\n",
    "\n",
    "def print_strings():\n",
    "    print('We are in the local context:')\n",
    "    local_string = 'local'\n",
    "    print(global_string)\n",
    "    print(local_string)\n",
    "    \n",
    "\n",
    "print_strings()"
   ]
  },
  {
   "cell_type": "markdown",
   "id": "9994b91f",
   "metadata": {},
   "source": [
    "The code above defines a global variable `global_string` with the value 'global' and a `local variable` local_string with the value 'local'.\n",
    "\n",
    "When we call the `print_strings()` function, the function can access and print both the local and global variables. This is because a function always has access to variables defined within its own scope (local) as well as variables in the global scope, unless shadowed by a local variable of the same name.\n",
    "\n",
    "However, outside the function, only the global variable persists."
   ]
  },
  {
   "cell_type": "code",
   "execution_count": 4,
   "id": "07150127",
   "metadata": {},
   "outputs": [
    {
     "name": "stdout",
     "output_type": "stream",
     "text": [
      "We are now in the global context: \n",
      "global\n"
     ]
    },
    {
     "ename": "NameError",
     "evalue": "name 'local_string' is not defined",
     "output_type": "error",
     "traceback": [
      "\u001b[31m---------------------------------------------------------------------------\u001b[39m",
      "\u001b[31mNameError\u001b[39m                                 Traceback (most recent call last)",
      "\u001b[36mCell\u001b[39m\u001b[36m \u001b[39m\u001b[32mIn[4]\u001b[39m\u001b[32m, line 4\u001b[39m\n\u001b[32m      2\u001b[39m \u001b[38;5;28mprint\u001b[39m(\u001b[33m'\u001b[39m\u001b[33mWe are now in the global context: \u001b[39m\u001b[33m'\u001b[39m)\n\u001b[32m      3\u001b[39m \u001b[38;5;28mprint\u001b[39m(global_string)\n\u001b[32m----> \u001b[39m\u001b[32m4\u001b[39m \u001b[38;5;28mprint\u001b[39m(\u001b[43mlocal_string\u001b[49m)\n",
      "\u001b[31mNameError\u001b[39m: name 'local_string' is not defined"
     ]
    }
   ],
   "source": [
    "# The function has closed, now the local string has been discarded\n",
    "print('We are now in the global context: ')\n",
    "print(global_string)\n",
    "print(local_string)"
   ]
  },
  {
   "cell_type": "markdown",
   "id": "705aa212-19b9-4d4d-a8e8-34fa44a3c521",
   "metadata": {},
   "source": [
    " The local variable local_string exists only during the execution of `print_strings()` and is forgotten once the function finishes.\n",
    " \n",
    " Ideally, Python programs should limit the number of global variables and create most variables in a local scope. This keeps confounding variables localized in functions where they are used and then discarded."
   ]
  },
  {
   "attachments": {},
   "cell_type": "markdown",
   "id": "eb4f09f4",
   "metadata": {},
   "source": [
    "## Why to Use Functions\n",
    "\n",
    "There are several reason why using functions instead of simple code could be useful: \n",
    "\n",
    "* **Avoid Repetition**: instead of having to write the same code multiple times we can define it into a function only once and then call it when we need it;\n",
    "* **Improve readability**: functions help to break down larger programs into smaller, manageable pieces making it easier to read, understand, and maintain;\n",
    "* **Easier Debugging**: if something goes wrong with the code, we can debug only the function definition instead of the entire codebase;\n",
    "* **Easier Modification**: similarly, if we wanted to update our code (ex. change the type of compliment in the complimenter( )function) we can simply update the function definition statement to make it change everywhere we used it."
   ]
  },
  {
   "cell_type": "markdown",
   "id": "f57ecf6e-8149-4639-bf2b-fed7d72b7efa",
   "metadata": {},
   "source": [
    "## Popular Python Packages\n",
    "\n",
    "Modules containing functions for a similar type of task are often grouped together into a package. Here are some of the most popular packages used in Python:\n",
    "\n",
    "### Processing and cleaning data\n",
    "\n",
    "* [NumPy](https://numpy.org/) (num-pie)- Speeds up scientific analysis of very large amounts of data in arrays\n",
    "* [pandas](https://pandas.pydata.org/)- Completes data manipulation, particularly moving, cleaning, and improving data quality\n",
    "\n",
    "### Visualizing data\n",
    "* [matplotlib](https://matplotlib.org/)- Creates static, animated, and interactive visualizations. \n",
    "* [Seaborn](https://seaborn.pydata.org/)- An expansion of matplotlib that provides a \"high-level interface for drawing attractive and informative statistical graphics\n",
    "* [Plotly](https://plotly.com/)- Create graphs, analytics, and statistics visualizations\n",
    "* [Dash](https://plotly.com/dash/)- Create interactive web applications and dashboards\n",
    "\n",
    "### Text Analysis\n",
    "* [spaCy](https://spacy.io/)- Do text analysis on a large variety of languages\n",
    "* [gensim](https://radimrehurek.com/gensim/)- Do topic modeling\n",
    "* [NLTK](https://www.nltk.org/) (Natural Language Tool Kit)-  Access corpora and complete text analysis tasks like tokenization, stemming, tagging, parsing, and semantic reasoning\n",
    "\n",
    "### Artificial Intelligence and Machine Learning\n",
    "\n",
    "* [sci-kit-learn](https://scikit-learn.org/stable/)- Implement machine learning in areas such as classification, predictive analytics, regression, and clustering\n",
    "* [Keras](https://keras.io/)- Implement deep learning using neural networks\n",
    "* [TensorFlow](https://www.tensorflow.org/)- Implement machine learning with a particular focus on training and deep neural networks\n",
    "* [🤗 Transformers](https://huggingface.co/docs/transformers/index)- Easily work a variety of models based on Hugging Face 🤗\n",
    "\n",
    "### Data Gathering\n",
    "\n",
    "* [Requests](https://requests.readthedocs.io/en/latest/)- An HTTP client that helps connect to websites and download files\n",
    "* [urllib3](https://urllib3.readthedocs.io/en/stable/)- Another HTTP client that helps connect to websites and download files\n",
    "* [Beautiful Soup](https://www.crummy.com/software/BeautifulSoup/bs4/doc/)- Pull data out of HTML or XML files, helpful for scraping information from websites\n",
    "* [Scrapy](https://scrapy.org/)- Helps extract data from websites\n",
    "\n",
    "### Textual Digitization\n",
    "\n",
    "* [Tesseract](https://github.com/tesseract-ocr/tesseract)- Use optical character recognition to convert images into plaintext\n",
    "* [Pillow](https://pillow.readthedocs.io/en/stable/)- Read and manipulate images with Python\n",
    "\n",
    "Packages are generally installed by using [PyPI](https://pypi.org/), the official Python package index. As of April 2022, there are over 350,000 packages available."
   ]
  },
  {
   "cell_type": "markdown",
   "id": "fd3640ce",
   "metadata": {},
   "source": [
    "## How to Install a Python Package\n",
    "\n",
    "In a code cell insert the following code:\n",
    "\n",
    "`!pip install package_name`\n",
    "\n",
    "for the relevant package you would like to install. The exclamation point indicates the line should be run as a terminal command. \n",
    "\n",
    "Refer to the package's documentation for guidance."
   ]
  }
 ],
 "metadata": {
  "kernelspec": {
   "display_name": "Python 3 (ipykernel)",
   "language": "python",
   "name": "python3"
  },
  "language_info": {
   "codemirror_mode": {
    "name": "ipython",
    "version": 3
   },
   "file_extension": ".py",
   "mimetype": "text/x-python",
   "name": "python",
   "nbconvert_exporter": "python",
   "pygments_lexer": "ipython3",
   "version": "3.13.5"
  },
  "toc": {
   "base_numbering": 1,
   "nav_menu": {},
   "number_sections": true,
   "sideBar": true,
   "skip_h1_title": true,
   "title_cell": "Table of Contents",
   "title_sidebar": "Contents",
   "toc_cell": false,
   "toc_position": {
    "height": "calc(100% - 180px)",
    "left": "10px",
    "top": "150px",
    "width": "165px"
   },
   "toc_section_display": true,
   "toc_window_display": false
  }
 },
 "nbformat": 4,
 "nbformat_minor": 5
}
