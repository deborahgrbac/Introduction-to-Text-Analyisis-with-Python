{
 "cells": [
  {
   "cell_type": "markdown",
   "metadata": {},
   "source": [
    "<img align=\"left\" src=\"https://ithaka-labs.s3.amazonaws.com/static-files/images/tdm/tdmdocs/CC_BY.png\"><br />\n",
    "\n",
    "Created by [Nathan Kelber](http://nkelber.com) and Ted Lawless for [JSTOR Labs](https://labs.jstor.org/) under [Creative Commons CC BY License](https://creativecommons.org/licenses/by/4.0/)<br />\n",
    "For questions/comments/improvements, email nathan.kelber@ithaka.org.<br />\n",
    "___"
   ]
  },
  {
   "cell_type": "markdown",
   "metadata": {},
   "source": [
    "# Python Basics 2\n",
    "\n",
    "**Description:** This lesson describes the basics of [flow control statements](https://constellate.org/docs/key-terms/#flow-control-statement) including:\n",
    "* [Boolean values](https://constellate.org/docs/key-terms/#boolean-value)\n",
    "* [Boolean operators](https://constellate.org/docs/key-terms/#boolean-operator)\n",
    "* [Comparison operators](https://constellate.org/docs/key-terms/#comparison-operator)\n",
    "* `if` statements\n",
    "* `else` statements\n",
    "* `elif` statements\n",
    "* `while` and `for` loop statements\n",
    "* Handling errors with `try` and `except`\n",
    "\n",
    "This is part 2 of 5 in the series *Python Basics* that will prepare you to do text analysis using the [Python](https://constellate.org/docs/key-terms/#python) programming language.\n",
    "\n",
    "**Use Case:** For Learners (Detailed explanation, not ideal for researchers)\n",
    "\n",
    "**Difficulty:** Beginner\n",
    "\n",
    "**Completion Time:** 90 minutes\n",
    "\n",
    "**Knowledge Required:** \n",
    "* [Getting Started with Jupyter Notebooks](./getting-started-with-jupyter.ipynb)\n",
    "* [Python Basics 1](./python-basics-1.ipynb)\n",
    "\n",
    "**Knowledge Recommended:** None\n",
    "\n",
    "**Data Format:** None\n",
    "\n",
    "**Libraries Used:** `random` to generate random numbers\n",
    "\n",
    "**Research Pipeline:** None\n",
    "___"
   ]
  },
  {
   "cell_type": "markdown",
   "metadata": {},
   "source": [
    "## Flow Control Statements\n",
    "\n",
    "In *Python Basics 1*, you learned about expressions, operators, variables, and a few native Python functions. We wrote programs that executed line-by-line, starting at the top and running to the bottom. This approach works great for simple programs that may execute a few tasks, but as you begin writing programs that can do multiple tasks you'll need a way for your programs to decide which action comes next. We can control when (or if) code gets executed with flow control statements. If a program is a set of steps for accomplishing a task, then flow control statements help the program decide the next action.\n",
    "\n",
    "Flow control statements work like a flowchart. For example, let's say your goal is to hang out and relax with friends. There are a number of steps you might take, depending on whether your friends are available or you feel like making some new friends.\n",
    "\n",
    "![Flowchart to hangout with friends](https://ithaka-labs.s3.amazonaws.com/static-files/images/tdm/tdmdocs/friends_flowchart.png)\n",
    "\n",
    "Each diamond in our flowchart represents a decision that has to be made about the best step to take next. This is the essence of flow control statements. They help a program decide what the next step should be given the current circumstances."
   ]
  },
  {
   "cell_type": "markdown",
   "metadata": {},
   "source": [
    "### Boolean Values\n",
    "\n",
    "One way we to create flow control statements is with boolean values that have two possible values: **True** or **False**. In our example above, we could consider a \"Yes\" to be \"True\" and a \"No\" to be \"False.\" When we have the data we need to answer each question, we could store that answer in a variable, like:\n",
    "\n",
    "* ```are_friends_available = False```\n",
    "* ```make_new_friends = True```\n",
    "* ```new_friend_available = True```\n",
    "\n",
    "This would allow us to determine which action to take next. When we assign boolean values to a variable, the first letter must be capitalized:"
   ]
  },
  {
   "cell_type": "code",
   "execution_count": 1,
   "metadata": {
    "execution": {
     "iopub.execute_input": "2024-09-19T12:53:09.507926Z",
     "iopub.status.busy": "2024-09-19T12:53:09.507657Z",
     "iopub.status.idle": "2024-09-19T12:53:09.512843Z",
     "shell.execute_reply": "2024-09-19T12:53:09.512383Z",
     "shell.execute_reply.started": "2024-09-19T12:53:09.507908Z"
    }
   },
   "outputs": [
    {
     "name": "stdout",
     "output_type": "stream",
     "text": [
      "False\n"
     ]
    }
   ],
   "source": [
    "# Note, the first letter of a boolean value must always be capitalized in Python\n",
    "are_friends_available = False\n",
    "print(are_friends_available)"
   ]
  },
  {
   "cell_type": "code",
   "execution_count": 1,
   "metadata": {
    "execution": {
     "iopub.execute_input": "2024-09-17T20:05:02.595558Z",
     "iopub.status.busy": "2024-09-17T20:05:02.595279Z",
     "iopub.status.idle": "2024-09-17T20:05:02.600790Z",
     "shell.execute_reply": "2024-09-17T20:05:02.600243Z",
     "shell.execute_reply.started": "2024-09-17T20:05:02.595540Z"
    }
   },
   "outputs": [
    {
     "ename": "SyntaxError",
     "evalue": "cannot assign to True (1353647414.py, line 3)",
     "output_type": "error",
     "traceback": [
      "\u001b[0;36m  Cell \u001b[0;32mIn[1], line 3\u001b[0;36m\u001b[0m\n\u001b[0;31m    True = 7\u001b[0m\n\u001b[0m    ^\u001b[0m\n\u001b[0;31mSyntaxError\u001b[0m\u001b[0;31m:\u001b[0m cannot assign to True\n"
     ]
    }
   ],
   "source": [
    "# The boolean values **True** and **False** cannot be used for variable names. \n",
    "# Treating the boolean value True as a variable will create an error\n",
    "True = 7"
   ]
  },
  {
   "cell_type": "code",
   "execution_count": 2,
   "metadata": {
    "execution": {
     "iopub.execute_input": "2024-09-19T12:53:22.318490Z",
     "iopub.status.busy": "2024-09-19T12:53:22.318226Z",
     "iopub.status.idle": "2024-09-19T12:53:22.321051Z",
     "shell.execute_reply": "2024-09-19T12:53:22.320628Z",
     "shell.execute_reply.started": "2024-09-19T12:53:22.318470Z"
    }
   },
   "outputs": [],
   "source": [
    "# But we can store Boolean values in a variable\n",
    "\n",
    "futbol_is_life = False\n",
    "tacos_are_life = True"
   ]
  },
  {
   "cell_type": "markdown",
   "metadata": {},
   "source": [
    "### Comparison Operators\n",
    "Now that we have a way to store integers, floats, strings, and boolean values in variables, we can use a comparison operator to help make decisions based on those values. We used the comparison operator `==` in *Python Basics 1*. This operator asks whether two expressions are equal to each other."
   ]
  },
  {
   "cell_type": "code",
   "execution_count": 2,
   "metadata": {
    "execution": {
     "iopub.execute_input": "2024-09-17T20:09:28.084995Z",
     "iopub.status.busy": "2024-09-17T20:09:28.084716Z",
     "iopub.status.idle": "2024-09-17T20:09:28.089645Z",
     "shell.execute_reply": "2024-09-17T20:09:28.089277Z",
     "shell.execute_reply.started": "2024-09-17T20:09:28.084977Z"
    }
   },
   "outputs": [
    {
     "data": {
      "text/plain": [
       "True"
      ]
     },
     "execution_count": 2,
     "metadata": {},
     "output_type": "execute_result"
    }
   ],
   "source": [
    "# Comparing two values with the comparison operator ==\n",
    "67 == 67"
   ]
  },
  {
   "cell_type": "code",
   "execution_count": 3,
   "metadata": {
    "execution": {
     "iopub.execute_input": "2024-09-19T13:05:34.615780Z",
     "iopub.status.busy": "2024-09-19T13:05:34.615230Z",
     "iopub.status.idle": "2024-09-19T13:05:34.618900Z",
     "shell.execute_reply": "2024-09-19T13:05:34.618273Z",
     "shell.execute_reply.started": "2024-09-19T13:05:34.615755Z"
    }
   },
   "outputs": [
    {
     "ename": "SyntaxError",
     "evalue": "cannot assign to literal here. Maybe you meant '==' instead of '='? (3752282301.py, line 3)",
     "output_type": "error",
     "traceback": [
      "\u001b[0;36m  Cell \u001b[0;32mIn[3], line 3\u001b[0;36m\u001b[0m\n\u001b[0;31m    67 = 67\u001b[0m\n\u001b[0m    ^\u001b[0m\n\u001b[0;31mSyntaxError\u001b[0m\u001b[0;31m:\u001b[0m cannot assign to literal here. Maybe you meant '==' instead of '='?\n"
     ]
    }
   ],
   "source": [
    "# Note, a comparison operator uses ==\n",
    "# Do not confuse with variable assignment statement which uses a single =\n",
    "67 = 67"
   ]
  },
  {
   "cell_type": "markdown",
   "metadata": {},
   "source": [
    "There are additional comparison operators that can help us with flow control statements.\n",
    "\n",
    "|Operator|Meaning|\n",
    "|---|---|\n",
    "|==|Equal to|\n",
    "|!=|Not equal to|\n",
    "|<|Less than|\n",
    "|>|Greater than|\n",
    "|<=|Less than or equal to|\n",
    "|>=|Greater than or equal to|"
   ]
  },
  {
   "cell_type": "code",
   "execution_count": 3,
   "metadata": {
    "execution": {
     "iopub.execute_input": "2024-09-17T20:09:46.492515Z",
     "iopub.status.busy": "2024-09-17T20:09:46.491965Z",
     "iopub.status.idle": "2024-09-17T20:09:46.496018Z",
     "shell.execute_reply": "2024-09-17T20:09:46.495527Z",
     "shell.execute_reply.started": "2024-09-17T20:09:46.492491Z"
    }
   },
   "outputs": [
    {
     "data": {
      "text/plain": [
       "False"
      ]
     },
     "execution_count": 3,
     "metadata": {},
     "output_type": "execute_result"
    }
   ],
   "source": [
    "# Use the \"Not equal to\" operator\n",
    "65 != 65"
   ]
  },
  {
   "cell_type": "code",
   "execution_count": 6,
   "metadata": {
    "execution": {
     "iopub.execute_input": "2024-09-17T20:11:26.958021Z",
     "iopub.status.busy": "2024-09-17T20:11:26.957724Z",
     "iopub.status.idle": "2024-09-17T20:11:26.962082Z",
     "shell.execute_reply": "2024-09-17T20:11:26.961470Z",
     "shell.execute_reply.started": "2024-09-17T20:11:26.958001Z"
    }
   },
   "outputs": [
    {
     "data": {
      "text/plain": [
       "False"
      ]
     },
     "execution_count": 6,
     "metadata": {},
     "output_type": "execute_result"
    }
   ],
   "source": [
    "# Use the \"equal to\" operator with a string\n",
    "\"Cat\" == \"Dog\"\n",
    "#remember the \" for the strings!!!"
   ]
  },
  {
   "cell_type": "markdown",
   "metadata": {},
   "source": [
    "A string cannot be equal to a float or an integer."
   ]
  },
  {
   "cell_type": "code",
   "execution_count": 24,
   "metadata": {
    "execution": {
     "iopub.execute_input": "2024-09-21T19:18:21.258769Z",
     "iopub.status.busy": "2024-09-21T19:18:21.258492Z",
     "iopub.status.idle": "2024-09-21T19:18:21.263672Z",
     "shell.execute_reply": "2024-09-21T19:18:21.263209Z",
     "shell.execute_reply.started": "2024-09-21T19:18:21.258749Z"
    }
   },
   "outputs": [
    {
     "data": {
      "text/plain": [
       "False"
      ]
     },
     "execution_count": 24,
     "metadata": {},
     "output_type": "execute_result"
    }
   ],
   "source": [
    "# Try using the \"equal to\" operator to compare a string with an integer\n",
    "\"Baby\" == 7\n"
   ]
  },
  {
   "cell_type": "markdown",
   "metadata": {},
   "source": [
    "But an integer can be equal to a float."
   ]
  },
  {
   "cell_type": "code",
   "execution_count": 4,
   "metadata": {
    "execution": {
     "iopub.execute_input": "2024-09-20T14:10:48.175544Z",
     "iopub.status.busy": "2024-09-20T14:10:48.175270Z",
     "iopub.status.idle": "2024-09-20T14:10:48.178880Z",
     "shell.execute_reply": "2024-09-20T14:10:48.178456Z",
     "shell.execute_reply.started": "2024-09-20T14:10:48.175524Z"
    }
   },
   "outputs": [
    {
     "data": {
      "text/plain": [
       "True"
      ]
     },
     "execution_count": 4,
     "metadata": {},
     "output_type": "execute_result"
    }
   ],
   "source": [
    "# Try using the \"equal to\" operator to compare an integer with a float\n",
    "6 == 6.0"
   ]
  },
  {
   "cell_type": "markdown",
   "metadata": {},
   "source": [
    "We can use the comparison operator with variables."
   ]
  },
  {
   "cell_type": "code",
   "execution_count": 5,
   "metadata": {
    "execution": {
     "iopub.execute_input": "2024-09-22T14:16:50.440377Z",
     "iopub.status.busy": "2024-09-22T14:16:50.440080Z",
     "iopub.status.idle": "2024-09-22T14:16:50.445508Z",
     "shell.execute_reply": "2024-09-22T14:16:50.445062Z",
     "shell.execute_reply.started": "2024-09-22T14:16:50.440357Z"
    }
   },
   "outputs": [
    {
     "data": {
      "text/plain": [
       "False"
      ]
     },
     "execution_count": 5,
     "metadata": {},
     "output_type": "execute_result"
    }
   ],
   "source": [
    "# Using a comparison operator on a variable\n",
    "# Create a variable number_of_dogs and assign the value of zero\n",
    "number_of_dogs = 0\n",
    "# Check whether number_of_dogs is greater than or equal to 1\n",
    "number_of_dogs >= 1"
   ]
  },
  {
   "cell_type": "markdown",
   "metadata": {},
   "source": [
    "### Boolean Operators (and/or/not)\n",
    "We can also use Boolean operators (**and**/**or**/**not**) to create expressions that evaluate to a single Boolean value (**True**/**False**).\n",
    "\n",
    "#### Using the Boolean Operator `and`\n",
    "The `and` operator determines whether *both* conditions are **True**."
   ]
  },
  {
   "cell_type": "code",
   "execution_count": 11,
   "metadata": {
    "execution": {
     "iopub.execute_input": "2024-09-17T20:17:09.277521Z",
     "iopub.status.busy": "2024-09-17T20:17:09.277252Z",
     "iopub.status.idle": "2024-09-17T20:17:09.280893Z",
     "shell.execute_reply": "2024-09-17T20:17:09.280441Z",
     "shell.execute_reply.started": "2024-09-17T20:17:09.277503Z"
    }
   },
   "outputs": [
    {
     "data": {
      "text/plain": [
       "True"
      ]
     },
     "execution_count": 11,
     "metadata": {},
     "output_type": "execute_result"
    }
   ],
   "source": [
    "# If condition one is True AND condition two is True\n",
    "# What will the evaluation be?\n",
    "True and True"
   ]
  },
  {
   "cell_type": "code",
   "execution_count": 12,
   "metadata": {
    "execution": {
     "iopub.execute_input": "2024-09-17T20:17:16.880760Z",
     "iopub.status.busy": "2024-09-17T20:17:16.880256Z",
     "iopub.status.idle": "2024-09-17T20:17:16.883872Z",
     "shell.execute_reply": "2024-09-17T20:17:16.883422Z",
     "shell.execute_reply.started": "2024-09-17T20:17:16.880737Z"
    }
   },
   "outputs": [
    {
     "data": {
      "text/plain": [
       "False"
      ]
     },
     "execution_count": 12,
     "metadata": {},
     "output_type": "execute_result"
    }
   ],
   "source": [
    "# If condition one is True AND condition two is False\n",
    "# What will the evaluation be?\n",
    "True and False"
   ]
  },
  {
   "cell_type": "markdown",
   "metadata": {},
   "source": [
    "In order for an ```and``` expression to evaluate to **True**, every condition must be **True**. Here is the \"Truth Table\" for every pair:\n",
    "\n",
    "|Expression|Evaluation|\n",
    "|---|---|\n",
    "|True and True|True|\n",
    "|True and False|False|\n",
    "|False and True|False|\n",
    "|False and False|False|\n",
    "\n",
    "Since `and` expressions require all conditions to be **True**, they can easily result in **False** evaluations.\n",
    "\n",
    "#### Using the Boolean Operator ```or```\n",
    "The ```or``` operator determines whether *any* condition is **True**."
   ]
  },
  {
   "cell_type": "code",
   "execution_count": 6,
   "metadata": {
    "execution": {
     "iopub.execute_input": "2024-09-20T14:14:23.228294Z",
     "iopub.status.busy": "2024-09-20T14:14:23.228008Z",
     "iopub.status.idle": "2024-09-20T14:14:23.232255Z",
     "shell.execute_reply": "2024-09-20T14:14:23.231616Z",
     "shell.execute_reply.started": "2024-09-20T14:14:23.228273Z"
    }
   },
   "outputs": [
    {
     "data": {
      "text/plain": [
       "True"
      ]
     },
     "execution_count": 6,
     "metadata": {},
     "output_type": "execute_result"
    }
   ],
   "source": [
    "# Is expression one True OR is expression two True?\n",
    "True or False"
   ]
  },
  {
   "cell_type": "code",
   "execution_count": 7,
   "metadata": {
    "execution": {
     "iopub.execute_input": "2024-09-20T14:14:25.307924Z",
     "iopub.status.busy": "2024-09-20T14:14:25.307649Z",
     "iopub.status.idle": "2024-09-20T14:14:25.311200Z",
     "shell.execute_reply": "2024-09-20T14:14:25.310774Z",
     "shell.execute_reply.started": "2024-09-20T14:14:25.307905Z"
    }
   },
   "outputs": [
    {
     "data": {
      "text/plain": [
       "False"
      ]
     },
     "execution_count": 7,
     "metadata": {},
     "output_type": "execute_result"
    }
   ],
   "source": [
    "# Is condition one True OR is condition two True?\n",
    "False or False"
   ]
  },
  {
   "cell_type": "markdown",
   "metadata": {},
   "source": [
    "An ```or``` expression evaluates to **True** if *any* condition is **True**. Here is the \"Truth Table\" for every pair:\n",
    "\n",
    "|Expression|Evaluation|\n",
    "|---|---|\n",
    "|True or True|True|\n",
    "|True or False|True|\n",
    "|False or True|True|\n",
    "|False or False|False|\n",
    "\n",
    "Since ```or``` expressions only require a single condition to be **True**, they can easily result in **True** evaluations.\n",
    "\n",
    "#### Using the Boolean Operator ```not```\n",
    "The```not``` operator only operates on a single expression, essentially flipping **True** to **False** or **False** to **True**. "
   ]
  },
  {
   "cell_type": "code",
   "execution_count": 13,
   "metadata": {
    "execution": {
     "iopub.execute_input": "2024-09-17T20:18:34.501759Z",
     "iopub.status.busy": "2024-09-17T20:18:34.501484Z",
     "iopub.status.idle": "2024-09-17T20:18:34.505019Z",
     "shell.execute_reply": "2024-09-17T20:18:34.504597Z",
     "shell.execute_reply.started": "2024-09-17T20:18:34.501743Z"
    }
   },
   "outputs": [
    {
     "data": {
      "text/plain": [
       "True"
      ]
     },
     "execution_count": 13,
     "metadata": {},
     "output_type": "execute_result"
    }
   ],
   "source": [
    "# The not operator flips a True to False\n",
    "not False"
   ]
  },
  {
   "cell_type": "markdown",
   "metadata": {},
   "source": [
    "#### Combining Boolean and Comparison Operators\n",
    "\n",
    "We can combine Boolean operators and comparison operators to create even more nuanced **Truth** tests."
   ]
  },
  {
   "cell_type": "code",
   "execution_count": 14,
   "metadata": {
    "execution": {
     "iopub.execute_input": "2024-09-17T20:19:40.244949Z",
     "iopub.status.busy": "2024-09-17T20:19:40.244680Z",
     "iopub.status.idle": "2024-09-17T20:19:40.248305Z",
     "shell.execute_reply": "2024-09-17T20:19:40.247899Z",
     "shell.execute_reply.started": "2024-09-17T20:19:40.244931Z"
    }
   },
   "outputs": [
    {
     "data": {
      "text/plain": [
       "False"
      ]
     },
     "execution_count": 14,
     "metadata": {},
     "output_type": "execute_result"
    }
   ],
   "source": [
    "# Evaluating two conditions with integers at once\n",
    "(3 < 22) and (60 == 34) # What does each condition evaluate to?"
   ]
  },
  {
   "cell_type": "code",
   "execution_count": 16,
   "metadata": {
    "execution": {
     "iopub.execute_input": "2024-09-17T20:23:16.436774Z",
     "iopub.status.busy": "2024-09-17T20:23:16.436502Z",
     "iopub.status.idle": "2024-09-17T20:23:16.439996Z",
     "shell.execute_reply": "2024-09-17T20:23:16.439565Z",
     "shell.execute_reply.started": "2024-09-17T20:23:16.436758Z"
    }
   },
   "outputs": [
    {
     "data": {
      "text/plain": [
       "False"
      ]
     },
     "execution_count": 16,
     "metadata": {},
     "output_type": "execute_result"
    }
   ],
   "source": [
    "True and False"
   ]
  },
  {
   "cell_type": "code",
   "execution_count": 15,
   "metadata": {
    "execution": {
     "iopub.execute_input": "2024-09-17T20:22:44.432158Z",
     "iopub.status.busy": "2024-09-17T20:22:44.431648Z",
     "iopub.status.idle": "2024-09-17T20:22:44.435164Z",
     "shell.execute_reply": "2024-09-17T20:22:44.434746Z",
     "shell.execute_reply.started": "2024-09-17T20:22:44.432140Z"
    }
   },
   "outputs": [
    {
     "data": {
      "text/plain": [
       "True"
      ]
     },
     "execution_count": 15,
     "metadata": {},
     "output_type": "execute_result"
    }
   ],
   "source": [
    "# Evaluating two conditions with integers at once\n",
    "(3 == 45) or (3 != 7) # What does each condition evaluate to?"
   ]
  },
  {
   "cell_type": "markdown",
   "metadata": {},
   "source": [
    "So far, we have evaluated one or two conditions at once, but we could compare even more at once. (In practice, this is  rare since it creates code that can be difficult to read.) Boolean operators also have an order of operations like mathematical operators. They resolve in the order of `not`, `and`, then `or`."
   ]
  },
  {
   "cell_type": "markdown",
   "metadata": {},
   "source": [
    "## Writing a Flow Control Statement\n",
    "\n",
    "The general form of a flow control statement](https://constellate.org/docs/key-terms/#flow-control-statement) in Python is a condition followed by an action clause:\n",
    "\n",
    "`In this condition:`<br />\n",
    "&nbsp; &nbsp; &nbsp; &nbsp;`perform this action`\n",
    "\n",
    "Let's return to part of our flowchart for hanging out with friends.\n",
    "\n",
    "![Flowchart showing if homework is yes then do assignment](https://ithaka-labs.s3.amazonaws.com/static-files/images/tdm/tdmdocs/do_homework_chart.png)\n",
    "\n",
    "We can imagine a [flow control statement](https://constellate.org/docs/key-terms/#flow-control-statement) that would look something like:\n",
    "\n",
    "`if have_homework == True:`<br />\n",
    "&nbsp; &nbsp; &nbsp; &nbsp; `complete assignment`\n",
    "    \n",
    "The condition is given followed by a colon (:). The action clause then follows on the next line, indented into a [code block](https://constellate.org/docs/key-terms/#code-block).\n",
    "\n",
    "* If the condition is fulfilled (evaluates to **True**), the action clause in the block of code is executed. \n",
    "* If the condition is not fulfilled (evaluates to **False**), the action clause in the block of code is skipped over."
   ]
  },
  {
   "cell_type": "markdown",
   "metadata": {},
   "source": [
    "### Code Blocks\n",
    "A [code block](https://constellate.org/docs/key-terms/#code-block) is a snippet of code that begins with an indentation. A [code block](https://constellate.org/docs/key-terms/#code-block) can be a single line or many lines long. Blocks can contain other blocks forming a hierarchal structure. In such a case, the second block is indented an additional degree. Any given block ends when the number of indentations in the current line is less than the number that started the block.\n",
    "\n",
    "![Visualization of code block indentations](https://ithaka-labs.s3.amazonaws.com/static-files/images/tdm/tdmdocs/code_block_indentation.png)\n",
    "\n",
    "Since the level of indentation describes which code block will be executed, improper indentations will make your code crash. When using indentations to create code blocks, look carefully to make sure you are working in the code block you intend. Each indentation for a code block is created by pressing the tab key."
   ]
  },
  {
   "cell_type": "markdown",
   "metadata": {},
   "source": [
    "## Types of Flow Control Statements\n",
    "\n",
    "The code example above uses an `if` statement, but there are other kinds of [flow control statements](https://constellate.org/docs/key-terms/#flow-control-statement) available in [Python](https://constellate.org/docs/key-terms/#python).\n",
    "\n",
    "|Statement|Means|Condition for execution|\n",
    "|---|---|---|\n",
    "|`if`|if|if the condition is fulfilled|\n",
    "|`elif`|else if|if no previous conditions were met *and* this condition is met|\n",
    "|`else`|else|if no condition is met (no condition is supplied for an `else` statement)|\n",
    "|`while`|while|while condition is true|\n",
    "|`for`|for|execute in a loop for this many times|\n",
    "|`try`|try|try this and run the `except` code if an error occurs|\n",
    "\n",
    "Let's take a look at each of these [flow control statement](https://constellate.org/docs/key-terms/#flow-control-statement) types."
   ]
  },
  {
   "cell_type": "markdown",
   "metadata": {},
   "source": [
    "### `if` Statements\n",
    "\n",
    "An `if` statement begins with an [expression](https://constellate.org/docs/key-terms/#expression) that evaluates to **True** or **False**.\n",
    "\n",
    "* if **True**, then perform this action\n",
    "* if **False**, skip over this action\n",
    "\n",
    "In practice, the form looks like this:\n",
    "\n",
    "`if this is True:` <br />\n",
    "&nbsp; &nbsp; &nbsp; &nbsp; `perform this action`\n",
    "\n",
    "Let's put an `if` statement into practice with a very simple program that asks the user how their day is going and then responds. We can visualize the flow of the program in a flowchart.\n",
    "\n",
    "![Flowchart of a good day program](https://ithaka-labs.s3.amazonaws.com/static-files/images/tdm/tdmdocs/good_day_flowchart.png)\n",
    "\n",
    "Our program will use a single `if` statement. If the user types \"Yes\" or \"yes\", then our program will send a response."
   ]
  },
  {
   "cell_type": "code",
   "execution_count": 6,
   "metadata": {
    "execution": {
     "iopub.execute_input": "2024-09-22T14:20:30.011634Z",
     "iopub.status.busy": "2024-09-22T14:20:30.011344Z",
     "iopub.status.idle": "2024-09-22T14:20:32.441126Z",
     "shell.execute_reply": "2024-09-22T14:20:32.440618Z",
     "shell.execute_reply.started": "2024-09-22T14:20:30.011614Z"
    }
   },
   "outputs": [
    {
     "name": "stdin",
     "output_type": "stream",
     "text": [
      "Are you having a good day? (Yes or No)  meh\n"
     ]
    }
   ],
   "source": [
    "# A program that responds to a user having a good day\n",
    "having_good_day = input('Are you having a good day? (Yes or No) ') # Define a variable having_good_day to hold the user's input in a string\n",
    "\n",
    "if having_good_day == 'Yes' or having_good_day == 'yes':  # If the user has input the string 'Yes' or 'yes'\n",
    "    print('Glad to hear your day is going well!') # Print: Glad to hear your day is going well!"
   ]
  },
  {
   "cell_type": "markdown",
   "metadata": {},
   "source": [
    "Our program works fairly well so long as the user inputs 'Yes' or 'yes'. If they type 'no' or something else, it simply ends. If we want to have our program still respond, we can use an `else` statement."
   ]
  },
  {
   "cell_type": "markdown",
   "metadata": {},
   "source": [
    "### `else` Statements\n",
    "\n",
    "An `else` statement *does not require a condition* to evaluate to **True** or **False**. It simply executes when none of the previous conditions are met. The form looks like this:\n",
    "\n",
    "`else:` <br />\n",
    "&nbsp; &nbsp; &nbsp; &nbsp; `perform this action`\n",
    "\n",
    "Our updated flowchart now contains a second branch for our program.\n",
    "\n",
    "![The program flowchart with two branches](https://ithaka-labs.s3.amazonaws.com/static-files/images/tdm/tdmdocs/good_day_flowchart2.png)\n",
    "    \n"
   ]
  },
  {
   "cell_type": "code",
   "execution_count": 18,
   "metadata": {
    "execution": {
     "iopub.execute_input": "2024-09-17T20:39:27.520293Z",
     "iopub.status.busy": "2024-09-17T20:39:27.520014Z",
     "iopub.status.idle": "2024-09-17T20:39:31.935491Z",
     "shell.execute_reply": "2024-09-17T20:39:31.934955Z",
     "shell.execute_reply.started": "2024-09-17T20:39:27.520273Z"
    }
   },
   "outputs": [
    {
     "name": "stdin",
     "output_type": "stream",
     "text": [
      "Are you having a good day? (Yes or No)  meh\n"
     ]
    },
    {
     "name": "stdout",
     "output_type": "stream",
     "text": [
      "I wish your day was going better\n"
     ]
    }
   ],
   "source": [
    "# A program that responds to whether the user is having a good or bad day\n",
    "having_good_day = input('Are you having a good day? (Yes or No) ') # Define a variable having_good_day to hold the user's input\n",
    "\n",
    "if having_good_day == 'Yes' or having_good_day == 'yes': # If the user has input the string 'Yes' or 'yes'\n",
    "    print('Glad to hear your day is going well!') # Print: Glad to hear your day is going well!\n",
    "    \n",
    "# Write an else statement here\n",
    "else:\n",
    "    print('I wish your day was going better')\n"
   ]
  },
  {
   "cell_type": "markdown",
   "metadata": {},
   "source": [
    "Our new program is more robust. The new `else` statement still gives the user a response if they do not respond \"Yes\" or \"yes\". But what if we wanted to add an option for when a user says \"No\"? Or when a user inputs something besides \"Yes\" or \"No\"? We could use a series of `elif` statements."
   ]
  },
  {
   "cell_type": "markdown",
   "metadata": {},
   "source": [
    "### `elif` Statements\n",
    "\n",
    "An `elif` statement, short for \"else if,\" allows us to create a list of possible conditions where one (and only one) action will be executed. `elif` statements come after an initial `if` statement and before an `else` statement:\n",
    "\n",
    "`if condition A is True:` <br />\n",
    "&nbsp; &nbsp; &nbsp; &nbsp; `perform action A` <br />\n",
    "`elif condition B is True:` <br />\n",
    "&nbsp; &nbsp; &nbsp; &nbsp; `perform action B` <br />\n",
    "`elif condition C is True:` <br />\n",
    "&nbsp; &nbsp; &nbsp; &nbsp; `perform action C` <br />\n",
    "`elif condition D is True:` <br />\n",
    "&nbsp; &nbsp; &nbsp; &nbsp; `perform action D` <br />\n",
    "`else:` <br />\n",
    "&nbsp; &nbsp; &nbsp; &nbsp;`perform action E`\n",
    "\n",
    "For example, we could add an `elif` statement to our program so it responds to both \"Yes\" and \"No\" with unique answers. We could then add an `else` statement that responds to any user input that is not \"Yes\" or \"No\".\n",
    "\n",
    "![Flowchart showing three branches](https://ithaka-labs.s3.amazonaws.com/static-files/images/tdm/tdmdocs/good_day_flowchart3.png)"
   ]
  },
  {
   "cell_type": "code",
   "execution_count": 3,
   "metadata": {},
   "outputs": [
    {
     "name": "stdin",
     "output_type": "stream",
     "text": [
      "Are you having a good day? (Yes or No)  yes\n"
     ]
    },
    {
     "name": "stdout",
     "output_type": "stream",
     "text": [
      "Glad to hear your day is going well!\n"
     ]
    }
   ],
   "source": [
    "# A program that responds to whether the user is having a good or bad day\n",
    "having_good_day = input('Are you having a good day? (Yes or No) ') # Define a variable having_good_day to hold the user's input\n",
    "\n",
    "if having_good_day == 'Yes' or having_good_day == 'yes': # If the user has input the string 'Yes' or 'yes'\n",
    "    print('Glad to hear your day is going well!') # Print: Glad to hear your day is going well!\n",
    "\n",
    "# Write an elif statement for having_good_day == 'No'\n",
    "elif having_good_day == \"no\" or having_good_day == \"No\" :\n",
    "    print(\"I'm sorry about that!\")\n",
    "\n",
    "# An else statement that catches if the answer is not 'yes' or 'no'\n",
    "else: # Execute this if none of the other branches executes\n",
    "    print('Sorry, I only understand \"Yes\" or \"No\"') # Note that we can use double quotations in our string because it begins and ends with single quotes"
   ]
  },
  {
   "cell_type": "markdown",
   "metadata": {},
   "source": [
    "#### The difference between`elif` and `if`?\n",
    "\n",
    "When an `elif` condition is met, all other `elif` statements are skipped over. This means that one (and only one) [flow control statement](https://constellate.org/docs/key-terms/#flow-control-statement) is executed when using `elif` statements. The fact that only one `elif` statement is executed is important because it may be possible for multiple [flow control statements](https://constellate.org/docs/key-terms/#flow-control-statement) to evaluate to **True**. A series of `elif` statements evaluates from top-to-bottom, only executing the first `elif` statement whose condition evaluates to **True**. The rest of the `elif` statements are skipped over (whether they are **True** or **False**).\n",
    "\n",
    "In practice, a set of mutually exclusive `if` statements will result in the same actions as an `if` statement followed by `elif` statements. There are a few good reasons, however, to use `elif` statements:\n",
    "\n",
    "1. A series of `elif` statements helps someone reading your code understand that a single flow control choice is being made.\n",
    "2. Using `elif` statements will make your program run faster since other conditional statements are skipped after the first evaluates to **True**. Otherwise, every `if` statement has to be evaluated before the program moves to the next step.\n",
    "3. Writing a mutually exclusive set of `if` statements can be very complex.\n",
    "\n",
    "In the previous code cell, try changing the `elif` to an `if`. Then answer the question with a \"Yes.\" You'll receive two responses! Why do you think that is?"
   ]
  },
  {
   "cell_type": "markdown",
   "metadata": {},
   "source": [
    "if a put 2 if one after the other i will have two conditions together, risking to get 2 outputs together"
   ]
  },
  {
   "cell_type": "markdown",
   "metadata": {},
   "source": [
    "### `while` Loop Statements\n",
    "\n",
    "So far, we have used [flow control statements](https://constellate.org/docs/key-terms/#flow-control-statement) like decision-making branches to decide what action should be taken next. Sometimes, however, we want a particular action to loop (or repeat) until some condition is met. We can accomplish this with a `while` loop statement that takes the form:\n",
    "\n",
    "`while condition is True:` <br />\n",
    "&nbsp; &nbsp; &nbsp; &nbsp;`take this action`\n",
    "\n",
    "After the [code block](https://constellate.org/docs/key-terms/#code-block) is executed, the program loops back to check and see if the `while` loop condition has changed from **True** to **False**. The code block stops looping when the condition becomes **False**.\n",
    "\n",
    "In the following program, the user will guess a number until they get it correct. \n",
    "\n",
    "![flowchart for number-guessing program](https://ithaka-labs.s3.amazonaws.com/static-files/images/tdm/tdmdocs/guess_number_flowchart.png)"
   ]
  },
  {
   "cell_type": "code",
   "execution_count": 4,
   "metadata": {},
   "outputs": [
    {
     "name": "stdin",
     "output_type": "stream",
     "text": [
      "I am thinking of a number between 1 and 10. Can you guess it?  9\n",
      "Nope. Guess again!  4\n"
     ]
    },
    {
     "name": "stdout",
     "output_type": "stream",
     "text": [
      "You guessed the secret number, 4\n"
     ]
    }
   ],
   "source": [
    "# A program that asks the user to guess a number\n",
    "\n",
    "# The secret number is set here by the programmer.\n",
    "secret_number = str(4) # We convert the integer to a string to compare easily with a user input string\n",
    "\n",
    "# Ask the user to make a guess and take input in a string\n",
    "guess = input('I am thinking of a number between 1 and 10. Can you guess it? ') # Take the user's first guess\n",
    "\n",
    "# Check to see if the user guess matches our secret number\n",
    "while guess != secret_number: # While the users guess does not equal secret_number\n",
    "    guess = input('Nope. Guess again! ') # Allow the user to change the value of guess\n",
    "\n",
    "print('You guessed the secret number, ' + secret_number) # Print a congratulations message with the secret number"
   ]
  },
  {
   "cell_type": "code",
   "execution_count": 21,
   "metadata": {
    "execution": {
     "iopub.execute_input": "2024-09-22T14:40:10.523229Z",
     "iopub.status.busy": "2024-09-22T14:40:10.522709Z",
     "iopub.status.idle": "2024-09-22T14:40:24.535151Z",
     "shell.execute_reply": "2024-09-22T14:40:24.534601Z",
     "shell.execute_reply.started": "2024-09-22T14:40:10.523211Z"
    }
   },
   "outputs": [
    {
     "name": "stdin",
     "output_type": "stream",
     "text": [
      "Are you having a good day? (Yes or No)  bu\n",
      "Are you having a good day? (Yes or No)  s\n",
      "Are you having a good day? (Yes or No)  ye\n",
      "Are you having a good day? (Yes or No)  yes\n"
     ]
    },
    {
     "name": "stdout",
     "output_type": "stream",
     "text": [
      "Glad to hear your day is going well!\n"
     ]
    }
   ],
   "source": [
    "# A program that responds to whether the user is having a good or bad day\n",
    "having_good_day = input('Are you having a good day? (Yes or No) ') # Define a variable having_good_day to hold the user's input\n",
    "\n",
    "while having_good_day != 'Yes' and having_good_day != 'yes' and having_good_day != \"no\" and having_good_day != \"No\" :\n",
    "    having_good_day = input('Are you having a good day? (Yes or No) ')\n",
    "\n",
    "if having_good_day == 'Yes' or having_good_day == 'yes': # If the user has input the string 'Yes' or 'yes'\n",
    "    print('Glad to hear your day is going well!') # Print: Glad to hear your day is going well!\n",
    "\n",
    "# Write an elif statement for having_good_day == 'No'\n",
    "elif having_good_day == \"no\" or having_good_day == \"No\" :\n",
    "    print(\"I'm sorry about that!\")\n",
    "    "
   ]
  },
  {
   "cell_type": "markdown",
   "metadata": {},
   "source": [
    "#### Stopping Accidental Infinite Loops\n",
    "When using a `while` loop, it is possible to accidentally create an infinite loop that never ends. This happens because the `while` condition *never* becomes **False**. \n",
    "\n",
    "If you accidentally write code that infinitely repeats, you can stop the execution by selecting **Interrupt** from the **Kernel** menu. (Alternatively, you can press the letter **i** twice on your keyboard.) It is also a good idea to remove the output of the rogue cell. You can do this from the **Edit** menu.\n",
    "* Clearing output from a single cell: **Edit** ▶ **Clear Cell Output**\n",
    "* Clearing output from all cells: **Edit** ▶ **Clear Outputs of All Cells**\n",
    "\n",
    "![Clearing current outputs.](https://ithaka-labs.s3.amazonaws.com/static-files/images/tdm/tdmdocs/clear_output.gif)"
   ]
  },
  {
   "cell_type": "code",
   "execution_count": null,
   "metadata": {},
   "outputs": [],
   "source": [
    "# Run this infinite loop then interrupt the kernel\n",
    "from time import sleep # Importing the sleep module so we can slow down our infinite loop\n",
    "\n",
    "while True:\n",
    "    print('Oh noes!')\n",
    "    sleep(1) # A one second pause so our infinite loop doesn't make the notebook gigantic!"
   ]
  },
  {
   "cell_type": "markdown",
   "metadata": {},
   "source": [
    "If you didn't already, try clearing the output from the infinite loop code cell!"
   ]
  },
  {
   "cell_type": "markdown",
   "metadata": {},
   "source": [
    "#### A Repeating `while` Loop\n",
    "\n",
    "In the program above, the `while` loop checked to see if the user guessed a particular number. We could also use a `while` loop to repeat a [code block](https://constellate.org/docs/key-terms/#code-block) a particular number of times."
   ]
  },
  {
   "cell_type": "code",
   "execution_count": 4,
   "metadata": {
    "execution": {
     "iopub.execute_input": "2024-09-21T16:13:36.367776Z",
     "iopub.status.busy": "2024-09-21T16:13:36.367324Z",
     "iopub.status.idle": "2024-09-21T16:13:36.370828Z",
     "shell.execute_reply": "2024-09-21T16:13:36.370344Z",
     "shell.execute_reply.started": "2024-09-21T16:13:36.367757Z"
    },
    "scrolled": true
   },
   "outputs": [
    {
     "name": "stdout",
     "output_type": "stream",
     "text": [
      "0\n",
      "1\n",
      "2\n"
     ]
    }
   ],
   "source": [
    "# A loop program that prints out 0, 1, 2\n",
    "i = 0 # A variable to help count how many loops have been completed\n",
    "\n",
    "while i < 3:\n",
    "    print(i)\n",
    "    i = i + 1 # We can also write an equivalent shortcut: i += 1"
   ]
  },
  {
   "cell_type": "markdown",
   "metadata": {},
   "source": [
    "i is the variable in Phyton that starts from zero. it counts how many cycles you have made"
   ]
  },
  {
   "cell_type": "markdown",
   "metadata": {},
   "source": [
    "### `for` Loop Statements with a `range()` Function\n",
    "\n",
    "An abbreviated way to write a `while` loop that repeats a specified number of times is using a `for` loop with a `range()` function. This loop takes the form:\n",
    "\n",
    "`for i in range(j):` <br />\n",
    "&nbsp; &nbsp; &nbsp; &nbsp;`take this action`\n",
    "    \n",
    "where `i` is a generic [variable](https://constellate.org/docs/key-terms/#variable) for counting the number of iterations and `j` is the number of times you want the [code block](https://constellate.org/docs/key-terms/#code-block) to repeat.\n",
    "\n",
    "The starting value of `i` is 0. After each loop, `i` increases by one until it reaches `j`. The loop then stops. The [variable](https://constellate.org/docs/key-terms/#variable) names `i` and `j` are merely conventions. Using a different name may make the purpose of your code clearer to readers."
   ]
  },
  {
   "cell_type": "code",
   "execution_count": 23,
   "metadata": {
    "execution": {
     "iopub.execute_input": "2024-09-21T16:33:07.650046Z",
     "iopub.status.busy": "2024-09-21T16:33:07.649778Z",
     "iopub.status.idle": "2024-09-21T16:33:07.652847Z",
     "shell.execute_reply": "2024-09-21T16:33:07.652412Z",
     "shell.execute_reply.started": "2024-09-21T16:33:07.650027Z"
    }
   },
   "outputs": [
    {
     "name": "stdout",
     "output_type": "stream",
     "text": [
      "0\n",
      "1\n",
      "2\n"
     ]
    }
   ],
   "source": [
    "# A `for` loop that prints the value of the current iteration, here called `i`. \n",
    "for i in range(3):\n",
    "    print(i)"
   ]
  },
  {
   "cell_type": "markdown",
   "metadata": {},
   "source": [
    "Try your hand at a repeating loop. Write a program that prints \"What?\" five times."
   ]
  },
  {
   "cell_type": "code",
   "execution_count": 12,
   "metadata": {
    "execution": {
     "iopub.execute_input": "2024-09-21T16:18:35.719207Z",
     "iopub.status.busy": "2024-09-21T16:18:35.718920Z",
     "iopub.status.idle": "2024-09-21T16:18:35.722290Z",
     "shell.execute_reply": "2024-09-21T16:18:35.721777Z",
     "shell.execute_reply.started": "2024-09-21T16:18:35.719188Z"
    }
   },
   "outputs": [
    {
     "name": "stdout",
     "output_type": "stream",
     "text": [
      "What?\n",
      "What?\n",
      "What?\n",
      "What?\n",
      "What?\n"
     ]
    }
   ],
   "source": [
    "# A `for` loop that repeats 'What?'\n",
    "for i in range(5) :\n",
    "    print(\"What?\")\n"
   ]
  },
  {
   "cell_type": "markdown",
   "metadata": {},
   "source": [
    "Try changing the variable name `i` to something else. What effect does that have on the program?"
   ]
  },
  {
   "cell_type": "code",
   "execution_count": 9,
   "metadata": {
    "execution": {
     "iopub.execute_input": "2024-09-21T16:17:12.174836Z",
     "iopub.status.busy": "2024-09-21T16:17:12.174561Z",
     "iopub.status.idle": "2024-09-21T16:17:12.177859Z",
     "shell.execute_reply": "2024-09-21T16:17:12.177349Z",
     "shell.execute_reply.started": "2024-09-21T16:17:12.174816Z"
    }
   },
   "outputs": [
    {
     "name": "stdout",
     "output_type": "stream",
     "text": [
      "What?\n",
      "What?\n",
      "What?\n",
      "What?\n",
      "What?\n"
     ]
    }
   ],
   "source": [
    "# A `for` loop that repeats 'What?'\n",
    "for baby in range(5) :\n",
    "    print(\"What?\")\n"
   ]
  },
  {
   "cell_type": "code",
   "execution_count": 10,
   "metadata": {
    "execution": {
     "iopub.execute_input": "2024-09-21T16:18:06.603956Z",
     "iopub.status.busy": "2024-09-21T16:18:06.603685Z",
     "iopub.status.idle": "2024-09-21T16:18:06.607012Z",
     "shell.execute_reply": "2024-09-21T16:18:06.606518Z",
     "shell.execute_reply.started": "2024-09-21T16:18:06.603936Z"
    }
   },
   "outputs": [
    {
     "name": "stdout",
     "output_type": "stream",
     "text": [
      "0\n",
      "1\n",
      "2\n",
      "3\n",
      "4\n"
     ]
    }
   ],
   "source": [
    "# A `for` loop that repeats 'What?'\n",
    "for baby in range(5) :\n",
    "    print(baby)\n"
   ]
  },
  {
   "cell_type": "markdown",
   "metadata": {},
   "source": [
    "### `Continue` and `Break` Statements\n",
    "`while` loops and `for` loops can also use `continue` and `break` statements to affect flow control. \n",
    "* A `continue` statement immediately restarts the loop.\n",
    "* A `break` statement immediately exits the loop.\n",
    "\n",
    "Let's return to our secret number guessing program. We will write the same program workflow using `continue` and `break` statements.\n",
    "\n",
    "![Flowchart for secret number guessing program](https://ithaka-labs.s3.amazonaws.com/static-files/images/tdm/tdmdocs/guess_number_flowchart.png)"
   ]
  },
  {
   "cell_type": "code",
   "execution_count": 30,
   "metadata": {
    "execution": {
     "iopub.execute_input": "2024-09-22T14:54:51.601588Z",
     "iopub.status.busy": "2024-09-22T14:54:51.601303Z",
     "iopub.status.idle": "2024-09-22T14:54:55.441917Z",
     "shell.execute_reply": "2024-09-22T14:54:55.441370Z",
     "shell.execute_reply.started": "2024-09-22T14:54:51.601570Z"
    }
   },
   "outputs": [
    {
     "name": "stdout",
     "output_type": "stream",
     "text": [
      "I am thinking of a number between 1 and 10.\n"
     ]
    },
    {
     "name": "stdin",
     "output_type": "stream",
     "text": [
      "What is your guess?  4\n"
     ]
    },
    {
     "name": "stdout",
     "output_type": "stream",
     "text": [
      "You guessed the secret number, 4\n"
     ]
    }
   ],
   "source": [
    "# A program that asks the user to guess a number\n",
    "\n",
    "# Initialize the variables `guess` and `secret_number`\n",
    "guess = 0\n",
    "secret_number = str(4) # The secret number is set here by the programmer. Notice it is turned into a string so it can be easily compared with user inputs.\n",
    "\n",
    "# Ask the user to make a guess\n",
    "print('I am thinking of a number between 1 and 10.') \n",
    "\n",
    "# Test whether the user guess matches `secret_number`\n",
    "while True:\n",
    "    guess = input('What is your guess? ')\n",
    "    if guess == secret_number:\n",
    "        break\n",
    "    else:\n",
    "        continue\n",
    "        \n",
    "        \n",
    "# After loop ends, print a congratulations message with the secret number       \n",
    "print('You guessed the secret number, ' + secret_number) "
   ]
  },
  {
   "cell_type": "markdown",
   "metadata": {},
   "source": [
    "### Exception Handling with `try` and `except`\n",
    "\n",
    "When running code that may create an error, we can use `try` and `except` statements to stop a program from crashing."
   ]
  },
  {
   "cell_type": "code",
   "execution_count": 34,
   "metadata": {
    "execution": {
     "iopub.execute_input": "2024-09-22T14:56:40.662488Z",
     "iopub.status.busy": "2024-09-22T14:56:40.662187Z",
     "iopub.status.idle": "2024-09-22T14:56:44.053578Z",
     "shell.execute_reply": "2024-09-22T14:56:44.053065Z",
     "shell.execute_reply.started": "2024-09-22T14:56:40.662464Z"
    }
   },
   "outputs": [
    {
     "name": "stdin",
     "output_type": "stream",
     "text": [
      "Please enter a whole number:  5,1\n"
     ]
    },
    {
     "name": "stdout",
     "output_type": "stream",
     "text": [
      "That is not a whole number.\n"
     ]
    }
   ],
   "source": [
    "# Try running the first code block, if there's an error then run the `except` code\n",
    "\n",
    "try:\n",
    "    user_number = input('Please enter a whole number: ')\n",
    "    user_number = int(user_number)\n",
    "    print('Thank you for entering a whole number.')\n",
    "\n",
    "except:\n",
    "    print('That is not a whole number.')\n"
   ]
  },
  {
   "cell_type": "code",
   "execution_count": 45,
   "metadata": {
    "execution": {
     "iopub.execute_input": "2024-09-22T15:10:26.439643Z",
     "iopub.status.busy": "2024-09-22T15:10:26.439327Z",
     "iopub.status.idle": "2024-09-22T15:10:29.450740Z",
     "shell.execute_reply": "2024-09-22T15:10:29.449986Z",
     "shell.execute_reply.started": "2024-09-22T15:10:26.439623Z"
    },
    "jp-MarkdownHeadingCollapsed": true
   },
   "outputs": [
    {
     "name": "stdin",
     "output_type": "stream",
     "text": [
      " abc\n"
     ]
    },
    {
     "ename": "ValueError",
     "evalue": "could not convert string to float: 'abc'",
     "output_type": "error",
     "traceback": [
      "\u001b[0;31m---------------------------------------------------------------------------\u001b[0m",
      "\u001b[0;31mValueError\u001b[0m                                Traceback (most recent call last)",
      "Cell \u001b[0;32mIn[45], line 2\u001b[0m\n\u001b[1;32m      1\u001b[0m user_number \u001b[38;5;241m=\u001b[39m \u001b[38;5;28minput\u001b[39m()\n\u001b[0;32m----> 2\u001b[0m user_number \u001b[38;5;241m=\u001b[39m \u001b[38;5;28;43mfloat\u001b[39;49m\u001b[43m(\u001b[49m\u001b[43muser_number\u001b[49m\u001b[43m)\u001b[49m\n\u001b[1;32m      3\u001b[0m \u001b[38;5;28mprint\u001b[39m(user_number)\n\u001b[1;32m      4\u001b[0m \u001b[38;5;66;03m#Phyton will be able to understand a whole number string into an integer but not a float string into a integer\u001b[39;00m\n",
      "\u001b[0;31mValueError\u001b[0m: could not convert string to float: 'abc'"
     ]
    }
   ],
   "source": [
    "user_number = input()\n",
    "user_number = float(user_number)\n",
    "print(user_number)\n",
    "#Phyton will be able to understand a whole number string into an integer but not a float string into a integer"
   ]
  },
  {
   "cell_type": "markdown",
   "metadata": {},
   "source": [
    "___\n",
    "<h2 style=\"color:red; display:inline\">Coding Challenge! &lt; / &gt; </h2>\n",
    "\n",
    "**Using your knowledge of flow control statements, can you write a program that asks a user for their name, then prints out a response depending on whether they are old enough to drive? Check the end of this notebook for example solutions.**\n",
    "___"
   ]
  },
  {
   "cell_type": "code",
   "execution_count": 16,
   "metadata": {
    "execution": {
     "iopub.execute_input": "2024-09-21T16:22:43.812024Z",
     "iopub.status.busy": "2024-09-21T16:22:43.811710Z",
     "iopub.status.idle": "2024-09-21T16:22:49.389123Z",
     "shell.execute_reply": "2024-09-21T16:22:49.388676Z",
     "shell.execute_reply.started": "2024-09-21T16:22:43.811969Z"
    }
   },
   "outputs": [
    {
     "name": "stdin",
     "output_type": "stream",
     "text": [
      "What is your name? Valentina\n"
     ]
    },
    {
     "name": "stdout",
     "output_type": "stream",
     "text": [
      "What is your age?\n"
     ]
    },
    {
     "name": "stdin",
     "output_type": "stream",
     "text": [
      " 23\n"
     ]
    },
    {
     "name": "stdout",
     "output_type": "stream",
     "text": [
      "Valentina is old enough to drive!\n"
     ]
    }
   ],
   "source": [
    "# Level 1 Challenge\n",
    "\n",
    "# Ask the user for their name and store it in a variable `user_name`\n",
    "user_name = input(\"What is your name?\")\n",
    "# Ask the user for their age and store it in a variable `user_age`\n",
    "print(\"What is your age?\")\n",
    "user_age = input()\n",
    "# Write an if, elif, else statement that checks to see if the user is driving age.\n",
    "if int(user_age) >= 18:\n",
    "    print(F\"{user_name} is old enough to drive!\")\n",
    "# Ask the user for their age and store it in a variable `user_age`\n",
    "else: \n",
    "    print(F\"{user_name} is not old enough to drive!\")\n",
    "# If the user is not driving age, print out \"user_name is not old enough to drive.\""
   ]
  },
  {
   "cell_type": "code",
   "execution_count": 46,
   "metadata": {
    "execution": {
     "iopub.execute_input": "2024-09-22T15:16:45.826523Z",
     "iopub.status.busy": "2024-09-22T15:16:45.826217Z",
     "iopub.status.idle": "2024-09-22T15:17:00.556258Z",
     "shell.execute_reply": "2024-09-22T15:17:00.555688Z",
     "shell.execute_reply.started": "2024-09-22T15:16:45.826504Z"
    }
   },
   "outputs": [
    {
     "name": "stdout",
     "output_type": "stream",
     "text": [
      "What is your name?\n"
     ]
    },
    {
     "name": "stdin",
     "output_type": "stream",
     "text": [
      " 130\n"
     ]
    },
    {
     "name": "stdout",
     "output_type": "stream",
     "text": [
      "What is your age?\n"
     ]
    },
    {
     "name": "stdin",
     "output_type": "stream",
     "text": [
      " 130\n"
     ]
    },
    {
     "name": "stdout",
     "output_type": "stream",
     "text": [
      "Is 130 a human or a turtle?\n"
     ]
    }
   ],
   "source": [
    "# Level 2 Challenge\n",
    "# Improve your flow control to consider whether the user has input a realistic age\n",
    "# If the user inputs an age over 120, print \"Is `user_name` a human or a turtle?\"\n",
    "# If the user inputs an age less than 5, print \"`user_name` is not even ready for a bicycle!\"\n",
    "# If the user is driving age, print out \"user_name is old enough to drive.\"\n",
    "# If the user is not driving age, print out \"user_name is not old enough to drive.\"\n",
    "print(\"What is your name?\")\n",
    "user_name = input()\n",
    "print(\"What is your age?\")\n",
    "user_age = input()\n",
    "\n",
    "if int(user_age) > 120 :\n",
    "    print(F\"Is {user_name} a human or a turtle?\")\n",
    "elif int(user_age) < 5:\n",
    "    print(F\"{user_name} is not even ready for a bike!\")\n",
    "elif int(user_age) >= 18:\n",
    "    print(F\"{user_name} is old enough to drive!\")\n",
    "elif int(user_age) < 18 : \n",
    "    print(F\"{user_name} is not old enough to drive!\")\n"
   ]
  },
  {
   "cell_type": "code",
   "execution_count": 1,
   "metadata": {
    "execution": {
     "iopub.execute_input": "2025-05-08T14:21:36.966818Z",
     "iopub.status.busy": "2025-05-08T14:21:36.966535Z",
     "iopub.status.idle": "2025-05-08T14:21:44.968728Z",
     "shell.execute_reply": "2025-05-08T14:21:44.968246Z",
     "shell.execute_reply.started": "2025-05-08T14:21:36.966799Z"
    }
   },
   "outputs": [
    {
     "name": "stdout",
     "output_type": "stream",
     "text": [
      "What is your name?\n"
     ]
    },
    {
     "name": "stdin",
     "output_type": "stream",
     "text": [
      " Valentina\n"
     ]
    },
    {
     "name": "stdout",
     "output_type": "stream",
     "text": [
      "What is your age?\n"
     ]
    },
    {
     "name": "stdin",
     "output_type": "stream",
     "text": [
      " 27\n"
     ]
    },
    {
     "name": "stdout",
     "output_type": "stream",
     "text": [
      "Valentina is old enough to drive!\n"
     ]
    }
   ],
   "source": [
    "# Level 3 Challenge\n",
    "# A program that checks to see if a user is old enough to drive.\n",
    "# Verifies user has input a number and it is realistic.\n",
    "# Find a solution to address when a user enters text that is not a number.\n",
    "print(\"What is your name?\")\n",
    "user_name = input()\n",
    "\n",
    "while True :\n",
    "    print(\"What is your age?\")\n",
    "    user_age = input()\n",
    "    try:\n",
    "            user_age = int(user_age)\n",
    "            if int(user_age) > 120 :\n",
    "                print(F\"Is {user_name} a human or a turtle?\")\n",
    "                continue\n",
    "            elif int(user_age) < 5:\n",
    "                print(F\"{user_name} is not even ready for a bike!\")\n",
    "                continue\n",
    "            elif int(user_age) >= 18:\n",
    "                print(F\"{user_name} is old enough to drive!\")\n",
    "                break\n",
    "            elif int(user_age) < 18 : \n",
    "                print(F\"{user_name} is not old enough to drive!\")\n",
    "                break\n",
    "\n",
    "    except:\n",
    "            print('That is not a whole number.')\n",
    "            continue\n"
   ]
  },
  {
   "cell_type": "code",
   "execution_count": 61,
   "metadata": {
    "execution": {
     "iopub.execute_input": "2024-09-22T15:40:42.440187Z",
     "iopub.status.busy": "2024-09-22T15:40:42.439908Z",
     "iopub.status.idle": "2024-09-22T15:41:02.821696Z",
     "shell.execute_reply": "2024-09-22T15:41:02.821188Z",
     "shell.execute_reply.started": "2024-09-22T15:40:42.440170Z"
    }
   },
   "outputs": [
    {
     "name": "stdin",
     "output_type": "stream",
     "text": [
      "What is your name? Valentina\n",
      "What is your age? -3\n"
     ]
    },
    {
     "name": "stdout",
     "output_type": "stream",
     "text": [
      "That is not a realistic number\n"
     ]
    },
    {
     "name": "stdin",
     "output_type": "stream",
     "text": [
      "What is your age? 22\n"
     ]
    },
    {
     "name": "stdout",
     "output_type": "stream",
     "text": [
      "Valentina is old enough to drive!\n"
     ]
    }
   ],
   "source": [
    "# Level 4 Challenge\n",
    "# A program that checks to see if a user is old enough to drive.\n",
    "# It checks to see whether the age entered is a valid number. \n",
    "# It also checks to see whether the age entered is a realistic number (greater than 0 and less than 150)\n",
    "# If the user enters an age that is not a number or unrealistic, it prompts for a new age\n",
    "user_name = input(\"What is your name?\")\n",
    "\n",
    "while True: \n",
    "    user_age = input(\"What is your age?\")\n",
    "    try:\n",
    "        user_age = int(user_age)\n",
    "        if user_age < 0 or user_age > 150 :\n",
    "            print(\"That is not a realistic number\")\n",
    "            \n",
    "        elif user_age >= 18 :\n",
    "            print(f\"{user_name} is old enough to drive!\")\n",
    "            break\n",
    "        elif user_age < 18 :\n",
    "            print(f\"{user_name} is not old enough to drive :(\")\n",
    "            break\n",
    "\n",
    "    except:\n",
    "        print(\"That is not a valid number\")\n",
    "      \n",
    "  \n",
    "        "
   ]
  },
  {
   "cell_type": "markdown",
   "metadata": {},
   "source": [
    "___\n",
    "## Lesson Complete\n",
    "Congratulations! You have completed *Python Basics 2*. There are three more lessons in *Python Basics*:\n",
    "\n",
    "* *Python Basics 3*\n",
    "* *Python Basics 4*\n",
    "* *Python Basics 5*\n",
    "\n",
    "### Start Next Lesson: [Python Basics 3](./python-basics-3.ipynb)\n",
    "\n",
    "### Coding Challenge! Solutions\n",
    "\n",
    "There are often many ways to solve programming problems. Here are a few possible ways to solve the challenges, but there are certainly more!"
   ]
  },
  {
   "cell_type": "code",
   "execution_count": null,
   "metadata": {},
   "outputs": [],
   "source": [
    "# Level 1 Solution\n",
    "# A program that checks to see if a user is old enough to drive.\n",
    "\n",
    "# Ask the user for their name and store it in a variable `user_name`\n",
    "# Ask the user for their age and store it in a variable `user_age`\n",
    "# Write an if, elif, else statement that checks to see if the user is driving age.\n",
    "# If the user is driving age, print out \"user_name is old enough to drive.\"\n",
    "# If the user is not driving age, print out \"user_name is not old enough to drive.\"\n",
    "\n",
    "user_name = input('What is your name? ')\n",
    "user_age = int(input('And what is your age? '))\n",
    "\n",
    "if user_age >= 16:\n",
    "    print(f'{user_name} is old enough to drive.')\n",
    "elif user_age < 16:\n",
    "    print(f'{user_name} is not old enough to drive.')"
   ]
  },
  {
   "cell_type": "code",
   "execution_count": 17,
   "metadata": {
    "execution": {
     "iopub.execute_input": "2024-09-21T16:24:58.174860Z",
     "iopub.status.busy": "2024-09-21T16:24:58.174351Z",
     "iopub.status.idle": "2024-09-21T16:25:11.540720Z",
     "shell.execute_reply": "2024-09-21T16:25:11.540253Z",
     "shell.execute_reply.started": "2024-09-21T16:24:58.174834Z"
    }
   },
   "outputs": [
    {
     "name": "stdin",
     "output_type": "stream",
     "text": [
      "What is your name?  Valentina\n",
      "And what is your age?  7\n"
     ]
    },
    {
     "name": "stdout",
     "output_type": "stream",
     "text": [
      "Valentina is not old enough to drive.\n"
     ]
    }
   ],
   "source": [
    "# Level 2 Solution\n",
    "# A program that checks to see if a user is old enough to drive.\n",
    "# Now with improved ability to check if the age number is realistic.\n",
    "\n",
    "# Improve your flow control to consider whether the user has input a realistic age\n",
    "# If the user inputs an age over 120, print \"Is `user_name` a human or a turtle?\"\n",
    "# If the user inputs an age less than 5, print \"`user_name` is not even ready for a bicycle!\"\n",
    "\n",
    "user_name = input('What is your name? ')\n",
    "user_age = int(input('And what is your age? '))\n",
    "\n",
    "if user_age > 120:\n",
    "    print(f'Is {user_name} a human or a turtle?')\n",
    "elif user_age < 5:\n",
    "    print(f'{user_name} is not even ready for a bicycle!')\n",
    "elif user_age >= 16:\n",
    "    print(f'{user_name} is old enough to drive.')\n",
    "elif user_age < 16:\n",
    "    print(f'{user_name} is not old enough to drive.')"
   ]
  },
  {
   "cell_type": "code",
   "execution_count": null,
   "metadata": {},
   "outputs": [],
   "source": [
    "# Level 3 Solution (using continue/break)\n",
    "# A program that checks to see if a user is old enough to drive.\n",
    "# Verifies user has input a number and it is realistic.\n",
    "\n",
    "# Find a solution to address when a user enters text that is not a number.\n",
    "\n",
    "user_name = input('What is your name? ')\n",
    "\n",
    "while True:\n",
    "    user_age = input('What is your age? ')\n",
    "    try:\n",
    "        user_age = int(user_age)\n",
    "        if user_age > 120:\n",
    "            print(f'Is {user_name} a human or a turtle?')\n",
    "        elif user_age < 5:\n",
    "            print(f'{user_name} is not even ready for a bicycle!')\n",
    "        elif user_age >= 16:\n",
    "            print(f'{user_name} is old enough to drive.')\n",
    "        elif user_age < 16:\n",
    "            print(f'{user_name} is not old enough to drive.')\n",
    "        break\n",
    "    except:\n",
    "        print('Please input a number for your age.')\n",
    "        continue"
   ]
  },
  {
   "cell_type": "code",
   "execution_count": 62,
   "metadata": {
    "execution": {
     "iopub.execute_input": "2024-09-22T15:41:41.440633Z",
     "iopub.status.busy": "2024-09-22T15:41:41.440081Z",
     "iopub.status.idle": "2024-09-22T15:42:17.701108Z",
     "shell.execute_reply": "2024-09-22T15:42:17.700560Z",
     "shell.execute_reply.started": "2024-09-22T15:41:41.440614Z"
    }
   },
   "outputs": [
    {
     "name": "stdin",
     "output_type": "stream",
     "text": [
      "What is your name?  Valentina\n",
      "What is your age?  -4\n"
     ]
    },
    {
     "name": "stdout",
     "output_type": "stream",
     "text": [
      "Please input a realistic number for your age.\n"
     ]
    },
    {
     "name": "stdin",
     "output_type": "stream",
     "text": [
      "What is your age?  130\n"
     ]
    },
    {
     "name": "stdout",
     "output_type": "stream",
     "text": [
      "Please input a realistic number for your age.\n"
     ]
    },
    {
     "name": "stdin",
     "output_type": "stream",
     "text": [
      "What is your age?  18\n"
     ]
    },
    {
     "name": "stdout",
     "output_type": "stream",
     "text": [
      "Valentina is old enough to drive.\n"
     ]
    }
   ],
   "source": [
    "# Level 4 Challenge\n",
    "# A program that checks to see if a user is old enough to drive.\n",
    "# It checks to see whether the age entered is a valid number. \n",
    "# It also checks to see whether the age entered \n",
    "# is a realistic number (greater than 0 and less than 150)\n",
    "# If the user enters an age that is not a number or unrealistic, it prompts for a new age\n",
    "\n",
    "# Get user's age\n",
    "user_name = input('What is your name? ')\n",
    "\n",
    "# Check that age is a realistic number\n",
    "while True:\n",
    "    user_age = input('What is your age? ')\n",
    "    try:\n",
    "        user_age = int(user_age)\n",
    "        if user_age < 120 and user_age > 0:\n",
    "            break    \n",
    "        print('Please input a realistic number for your age.')\n",
    "        continue\n",
    "    except:\n",
    "        print('Please input an actual number for your age.')\n",
    "        continue\n",
    "\n",
    "# Respond to user's age      \n",
    "if user_age >= 16:\n",
    "    print(f'{user_name} is old enough to drive.')\n",
    "elif user_age < 16:\n",
    "    print(f'{user_name} is not old enough to drive.')\n",
    "\n",
    "    "
   ]
  },
  {
   "cell_type": "code",
   "execution_count": null,
   "metadata": {},
   "outputs": [],
   "source": []
  }
 ],
 "metadata": {
  "kernelspec": {
   "display_name": "Python 3 (ipykernel)",
   "language": "python",
   "name": "python3"
  },
  "language_info": {
   "codemirror_mode": {
    "name": "ipython",
    "version": 3
   },
   "file_extension": ".py",
   "mimetype": "text/x-python",
   "name": "python",
   "nbconvert_exporter": "python",
   "pygments_lexer": "ipython3",
   "version": "3.13.5"
  },
  "toc": {
   "base_numbering": 1,
   "nav_menu": {},
   "number_sections": true,
   "sideBar": true,
   "skip_h1_title": true,
   "title_cell": "Table of Contents",
   "title_sidebar": "Contents",
   "toc_cell": false,
   "toc_position": {},
   "toc_section_display": true,
   "toc_window_display": false
  }
 },
 "nbformat": 4,
 "nbformat_minor": 4
}
